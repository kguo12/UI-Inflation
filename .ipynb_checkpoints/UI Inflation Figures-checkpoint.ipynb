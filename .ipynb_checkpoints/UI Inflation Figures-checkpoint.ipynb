{
 "cells": [
  {
   "cell_type": "code",
   "execution_count": 14,
   "id": "9d931ccb-b1d8-4235-9804-c79b5cc90f02",
   "metadata": {
    "tags": []
   },
   "outputs": [],
   "source": [
    "import pandas as pd\n",
    "import numpy as np\n",
    "from matplotlib import pyplot as plt\n",
    "import plotly.express as px\n",
    "from plotly.io import write_html"
   ]
  },
  {
   "cell_type": "code",
   "execution_count": 37,
   "id": "e4c8da6e-ac3c-4933-8229-aa4b753e2a18",
   "metadata": {
    "tags": []
   },
   "outputs": [],
   "source": [
    "colorscale = [\n",
    "    [0, '#E9967A'],\n",
    "    [0.5, 'white'],\n",
    "    [1, '#4682B4']\n",
    "]"
   ]
  },
  {
   "cell_type": "code",
   "execution_count": 2,
   "id": "06403e3c-a76c-40a8-8f1d-a3f5d4787ece",
   "metadata": {
    "tags": []
   },
   "outputs": [
    {
     "data": {
      "text/html": [
       "<div>\n",
       "<style scoped>\n",
       "    .dataframe tbody tr th:only-of-type {\n",
       "        vertical-align: middle;\n",
       "    }\n",
       "\n",
       "    .dataframe tbody tr th {\n",
       "        vertical-align: top;\n",
       "    }\n",
       "\n",
       "    .dataframe thead th {\n",
       "        text-align: right;\n",
       "    }\n",
       "</style>\n",
       "<table border=\"1\" class=\"dataframe\">\n",
       "  <thead>\n",
       "    <tr style=\"text-align: right;\">\n",
       "      <th></th>\n",
       "      <th>Unnamed: 0</th>\n",
       "      <th>Year</th>\n",
       "      <th>State</th>\n",
       "      <th>Replacement Ratio 1</th>\n",
       "      <th>Replacement Ratio 2</th>\n",
       "      <th>Recipiency Rate</th>\n",
       "      <th>Average WBA</th>\n",
       "      <th>Minimum WBA</th>\n",
       "      <th>Maximum WBA</th>\n",
       "      <th>Average Weekly Wage</th>\n",
       "      <th>...</th>\n",
       "      <th>Real Maximum WBA (regional, 2000 base)</th>\n",
       "      <th>Real Average WBA (state, 2000 base)</th>\n",
       "      <th>Real Minimum WBA (state, 2000 base)</th>\n",
       "      <th>Real Maximum WBA (state, 2000 base)</th>\n",
       "      <th>Real Average WBA (regional, 2023 base)</th>\n",
       "      <th>Real Minimum WBA (regional, 2023 base)</th>\n",
       "      <th>Real Maximum WBA (regional, 2023 base)</th>\n",
       "      <th>Real Average WBA (state, 2017 base)</th>\n",
       "      <th>Real Minimum WBA (state, 2017 base)</th>\n",
       "      <th>Real Maximum WBA (state, 2017 base)</th>\n",
       "    </tr>\n",
       "  </thead>\n",
       "  <tbody>\n",
       "    <tr>\n",
       "      <th>0</th>\n",
       "      <td>0</td>\n",
       "      <td>2000</td>\n",
       "      <td>AK</td>\n",
       "      <td>0.308</td>\n",
       "      <td>0.281</td>\n",
       "      <td>0.608800</td>\n",
       "      <td>168.56</td>\n",
       "      <td>44.0</td>\n",
       "      <td>248.0</td>\n",
       "      <td>599.99</td>\n",
       "      <td>...</td>\n",
       "      <td>248.00</td>\n",
       "      <td>168.56</td>\n",
       "      <td>44.0</td>\n",
       "      <td>248.0</td>\n",
       "      <td>312.27</td>\n",
       "      <td>81.51</td>\n",
       "      <td>459.44</td>\n",
       "      <td>256.15</td>\n",
       "      <td>66.86</td>\n",
       "      <td>376.87</td>\n",
       "    </tr>\n",
       "    <tr>\n",
       "      <th>1</th>\n",
       "      <td>1</td>\n",
       "      <td>2000</td>\n",
       "      <td>AL</td>\n",
       "      <td>0.434</td>\n",
       "      <td>0.383</td>\n",
       "      <td>0.292086</td>\n",
       "      <td>164.13</td>\n",
       "      <td>45.0</td>\n",
       "      <td>190.0</td>\n",
       "      <td>428.77</td>\n",
       "      <td>...</td>\n",
       "      <td>190.00</td>\n",
       "      <td>164.13</td>\n",
       "      <td>45.0</td>\n",
       "      <td>190.0</td>\n",
       "      <td>290.98</td>\n",
       "      <td>79.78</td>\n",
       "      <td>336.84</td>\n",
       "      <td>239.25</td>\n",
       "      <td>65.60</td>\n",
       "      <td>276.96</td>\n",
       "    </tr>\n",
       "    <tr>\n",
       "      <th>2</th>\n",
       "      <td>2</td>\n",
       "      <td>2000</td>\n",
       "      <td>AR</td>\n",
       "      <td>0.523</td>\n",
       "      <td>0.488</td>\n",
       "      <td>0.453458</td>\n",
       "      <td>211.50</td>\n",
       "      <td>55.0</td>\n",
       "      <td>309.0</td>\n",
       "      <td>433.26</td>\n",
       "      <td>...</td>\n",
       "      <td>309.00</td>\n",
       "      <td>211.50</td>\n",
       "      <td>55.0</td>\n",
       "      <td>309.0</td>\n",
       "      <td>374.96</td>\n",
       "      <td>97.51</td>\n",
       "      <td>547.81</td>\n",
       "      <td>274.67</td>\n",
       "      <td>71.43</td>\n",
       "      <td>401.30</td>\n",
       "    </tr>\n",
       "    <tr>\n",
       "      <th>3</th>\n",
       "      <td>3</td>\n",
       "      <td>2000</td>\n",
       "      <td>AZ</td>\n",
       "      <td>0.463</td>\n",
       "      <td>0.385</td>\n",
       "      <td>0.205709</td>\n",
       "      <td>176.33</td>\n",
       "      <td>40.0</td>\n",
       "      <td>205.0</td>\n",
       "      <td>458.32</td>\n",
       "      <td>...</td>\n",
       "      <td>205.00</td>\n",
       "      <td>NaN</td>\n",
       "      <td>NaN</td>\n",
       "      <td>NaN</td>\n",
       "      <td>326.67</td>\n",
       "      <td>74.10</td>\n",
       "      <td>379.78</td>\n",
       "      <td>NaN</td>\n",
       "      <td>NaN</td>\n",
       "      <td>NaN</td>\n",
       "    </tr>\n",
       "    <tr>\n",
       "      <th>4</th>\n",
       "      <td>4</td>\n",
       "      <td>2000</td>\n",
       "      <td>CA</td>\n",
       "      <td>0.383</td>\n",
       "      <td>0.310</td>\n",
       "      <td>0.409791</td>\n",
       "      <td>163.65</td>\n",
       "      <td>40.0</td>\n",
       "      <td>230.0</td>\n",
       "      <td>528.25</td>\n",
       "      <td>...</td>\n",
       "      <td>230.00</td>\n",
       "      <td>163.65</td>\n",
       "      <td>40.0</td>\n",
       "      <td>230.0</td>\n",
       "      <td>303.18</td>\n",
       "      <td>74.10</td>\n",
       "      <td>426.10</td>\n",
       "      <td>246.90</td>\n",
       "      <td>60.35</td>\n",
       "      <td>347.01</td>\n",
       "    </tr>\n",
       "    <tr>\n",
       "      <th>...</th>\n",
       "      <td>...</td>\n",
       "      <td>...</td>\n",
       "      <td>...</td>\n",
       "      <td>...</td>\n",
       "      <td>...</td>\n",
       "      <td>...</td>\n",
       "      <td>...</td>\n",
       "      <td>...</td>\n",
       "      <td>...</td>\n",
       "      <td>...</td>\n",
       "      <td>...</td>\n",
       "      <td>...</td>\n",
       "      <td>...</td>\n",
       "      <td>...</td>\n",
       "      <td>...</td>\n",
       "      <td>...</td>\n",
       "      <td>...</td>\n",
       "      <td>...</td>\n",
       "      <td>...</td>\n",
       "      <td>...</td>\n",
       "      <td>...</td>\n",
       "    </tr>\n",
       "    <tr>\n",
       "      <th>1241</th>\n",
       "      <td>1241</td>\n",
       "      <td>2023</td>\n",
       "      <td>VT</td>\n",
       "      <td>0.531</td>\n",
       "      <td>0.476</td>\n",
       "      <td>0.405788</td>\n",
       "      <td>496.00</td>\n",
       "      <td>80.0</td>\n",
       "      <td>668.0</td>\n",
       "      <td>1042.34</td>\n",
       "      <td>...</td>\n",
       "      <td>381.91</td>\n",
       "      <td>NaN</td>\n",
       "      <td>NaN</td>\n",
       "      <td>NaN</td>\n",
       "      <td>496.00</td>\n",
       "      <td>80.00</td>\n",
       "      <td>668.00</td>\n",
       "      <td>NaN</td>\n",
       "      <td>NaN</td>\n",
       "      <td>NaN</td>\n",
       "    </tr>\n",
       "    <tr>\n",
       "      <th>1242</th>\n",
       "      <td>1242</td>\n",
       "      <td>2023</td>\n",
       "      <td>WA</td>\n",
       "      <td>0.494</td>\n",
       "      <td>0.436</td>\n",
       "      <td>0.311163</td>\n",
       "      <td>710.91</td>\n",
       "      <td>317.0</td>\n",
       "      <td>999.0</td>\n",
       "      <td>1631.39</td>\n",
       "      <td>...</td>\n",
       "      <td>539.24</td>\n",
       "      <td>NaN</td>\n",
       "      <td>NaN</td>\n",
       "      <td>NaN</td>\n",
       "      <td>710.91</td>\n",
       "      <td>317.00</td>\n",
       "      <td>999.00</td>\n",
       "      <td>NaN</td>\n",
       "      <td>NaN</td>\n",
       "      <td>NaN</td>\n",
       "    </tr>\n",
       "    <tr>\n",
       "      <th>1243</th>\n",
       "      <td>1243</td>\n",
       "      <td>2023</td>\n",
       "      <td>WI</td>\n",
       "      <td>0.374</td>\n",
       "      <td>0.325</td>\n",
       "      <td>0.287291</td>\n",
       "      <td>342.65</td>\n",
       "      <td>54.0</td>\n",
       "      <td>370.0</td>\n",
       "      <td>1053.13</td>\n",
       "      <td>...</td>\n",
       "      <td>220.23</td>\n",
       "      <td>NaN</td>\n",
       "      <td>NaN</td>\n",
       "      <td>NaN</td>\n",
       "      <td>342.65</td>\n",
       "      <td>54.00</td>\n",
       "      <td>370.00</td>\n",
       "      <td>NaN</td>\n",
       "      <td>NaN</td>\n",
       "      <td>NaN</td>\n",
       "    </tr>\n",
       "    <tr>\n",
       "      <th>1244</th>\n",
       "      <td>1244</td>\n",
       "      <td>2023</td>\n",
       "      <td>WV</td>\n",
       "      <td>0.442</td>\n",
       "      <td>0.419</td>\n",
       "      <td>0.238561</td>\n",
       "      <td>401.43</td>\n",
       "      <td>24.0</td>\n",
       "      <td>630.0</td>\n",
       "      <td>957.72</td>\n",
       "      <td>...</td>\n",
       "      <td>355.36</td>\n",
       "      <td>NaN</td>\n",
       "      <td>NaN</td>\n",
       "      <td>NaN</td>\n",
       "      <td>401.43</td>\n",
       "      <td>24.00</td>\n",
       "      <td>630.00</td>\n",
       "      <td>NaN</td>\n",
       "      <td>NaN</td>\n",
       "      <td>NaN</td>\n",
       "    </tr>\n",
       "    <tr>\n",
       "      <th>1245</th>\n",
       "      <td>1245</td>\n",
       "      <td>2023</td>\n",
       "      <td>WY</td>\n",
       "      <td>0.517</td>\n",
       "      <td>0.477</td>\n",
       "      <td>0.209775</td>\n",
       "      <td>465.03</td>\n",
       "      <td>40.0</td>\n",
       "      <td>560.0</td>\n",
       "      <td>974.50</td>\n",
       "      <td>...</td>\n",
       "      <td>302.28</td>\n",
       "      <td>NaN</td>\n",
       "      <td>NaN</td>\n",
       "      <td>NaN</td>\n",
       "      <td>465.03</td>\n",
       "      <td>40.00</td>\n",
       "      <td>560.00</td>\n",
       "      <td>NaN</td>\n",
       "      <td>NaN</td>\n",
       "      <td>NaN</td>\n",
       "    </tr>\n",
       "  </tbody>\n",
       "</table>\n",
       "<p>1246 rows × 26 columns</p>\n",
       "</div>"
      ],
      "text/plain": [
       "      Unnamed: 0  Year State  Replacement Ratio 1  Replacement Ratio 2  \\\n",
       "0              0  2000    AK                0.308                0.281   \n",
       "1              1  2000    AL                0.434                0.383   \n",
       "2              2  2000    AR                0.523                0.488   \n",
       "3              3  2000    AZ                0.463                0.385   \n",
       "4              4  2000    CA                0.383                0.310   \n",
       "...          ...   ...   ...                  ...                  ...   \n",
       "1241        1241  2023    VT                0.531                0.476   \n",
       "1242        1242  2023    WA                0.494                0.436   \n",
       "1243        1243  2023    WI                0.374                0.325   \n",
       "1244        1244  2023    WV                0.442                0.419   \n",
       "1245        1245  2023    WY                0.517                0.477   \n",
       "\n",
       "      Recipiency Rate  Average WBA  Minimum WBA  Maximum WBA  \\\n",
       "0            0.608800       168.56         44.0        248.0   \n",
       "1            0.292086       164.13         45.0        190.0   \n",
       "2            0.453458       211.50         55.0        309.0   \n",
       "3            0.205709       176.33         40.0        205.0   \n",
       "4            0.409791       163.65         40.0        230.0   \n",
       "...               ...          ...          ...          ...   \n",
       "1241         0.405788       496.00         80.0        668.0   \n",
       "1242         0.311163       710.91        317.0        999.0   \n",
       "1243         0.287291       342.65         54.0        370.0   \n",
       "1244         0.238561       401.43         24.0        630.0   \n",
       "1245         0.209775       465.03         40.0        560.0   \n",
       "\n",
       "      Average Weekly Wage  ... Real Maximum WBA (regional, 2000 base)  \\\n",
       "0                  599.99  ...                                 248.00   \n",
       "1                  428.77  ...                                 190.00   \n",
       "2                  433.26  ...                                 309.00   \n",
       "3                  458.32  ...                                 205.00   \n",
       "4                  528.25  ...                                 230.00   \n",
       "...                   ...  ...                                    ...   \n",
       "1241              1042.34  ...                                 381.91   \n",
       "1242              1631.39  ...                                 539.24   \n",
       "1243              1053.13  ...                                 220.23   \n",
       "1244               957.72  ...                                 355.36   \n",
       "1245               974.50  ...                                 302.28   \n",
       "\n",
       "      Real Average WBA (state, 2000 base)  \\\n",
       "0                                  168.56   \n",
       "1                                  164.13   \n",
       "2                                  211.50   \n",
       "3                                     NaN   \n",
       "4                                  163.65   \n",
       "...                                   ...   \n",
       "1241                                  NaN   \n",
       "1242                                  NaN   \n",
       "1243                                  NaN   \n",
       "1244                                  NaN   \n",
       "1245                                  NaN   \n",
       "\n",
       "      Real Minimum WBA (state, 2000 base) Real Maximum WBA (state, 2000 base)  \\\n",
       "0                                    44.0                               248.0   \n",
       "1                                    45.0                               190.0   \n",
       "2                                    55.0                               309.0   \n",
       "3                                     NaN                                 NaN   \n",
       "4                                    40.0                               230.0   \n",
       "...                                   ...                                 ...   \n",
       "1241                                  NaN                                 NaN   \n",
       "1242                                  NaN                                 NaN   \n",
       "1243                                  NaN                                 NaN   \n",
       "1244                                  NaN                                 NaN   \n",
       "1245                                  NaN                                 NaN   \n",
       "\n",
       "      Real Average WBA (regional, 2023 base)  \\\n",
       "0                                     312.27   \n",
       "1                                     290.98   \n",
       "2                                     374.96   \n",
       "3                                     326.67   \n",
       "4                                     303.18   \n",
       "...                                      ...   \n",
       "1241                                  496.00   \n",
       "1242                                  710.91   \n",
       "1243                                  342.65   \n",
       "1244                                  401.43   \n",
       "1245                                  465.03   \n",
       "\n",
       "      Real Minimum WBA (regional, 2023 base)  \\\n",
       "0                                      81.51   \n",
       "1                                      79.78   \n",
       "2                                      97.51   \n",
       "3                                      74.10   \n",
       "4                                      74.10   \n",
       "...                                      ...   \n",
       "1241                                   80.00   \n",
       "1242                                  317.00   \n",
       "1243                                   54.00   \n",
       "1244                                   24.00   \n",
       "1245                                   40.00   \n",
       "\n",
       "      Real Maximum WBA (regional, 2023 base)  \\\n",
       "0                                     459.44   \n",
       "1                                     336.84   \n",
       "2                                     547.81   \n",
       "3                                     379.78   \n",
       "4                                     426.10   \n",
       "...                                      ...   \n",
       "1241                                  668.00   \n",
       "1242                                  999.00   \n",
       "1243                                  370.00   \n",
       "1244                                  630.00   \n",
       "1245                                  560.00   \n",
       "\n",
       "      Real Average WBA (state, 2017 base)  \\\n",
       "0                                  256.15   \n",
       "1                                  239.25   \n",
       "2                                  274.67   \n",
       "3                                     NaN   \n",
       "4                                  246.90   \n",
       "...                                   ...   \n",
       "1241                                  NaN   \n",
       "1242                                  NaN   \n",
       "1243                                  NaN   \n",
       "1244                                  NaN   \n",
       "1245                                  NaN   \n",
       "\n",
       "      Real Minimum WBA (state, 2017 base)  Real Maximum WBA (state, 2017 base)  \n",
       "0                                   66.86                               376.87  \n",
       "1                                   65.60                               276.96  \n",
       "2                                   71.43                               401.30  \n",
       "3                                     NaN                                  NaN  \n",
       "4                                   60.35                               347.01  \n",
       "...                                   ...                                  ...  \n",
       "1241                                  NaN                                  NaN  \n",
       "1242                                  NaN                                  NaN  \n",
       "1243                                  NaN                                  NaN  \n",
       "1244                                  NaN                                  NaN  \n",
       "1245                                  NaN                                  NaN  \n",
       "\n",
       "[1246 rows x 26 columns]"
      ]
     },
     "execution_count": 2,
     "metadata": {},
     "output_type": "execute_result"
    }
   ],
   "source": [
    "master = pd.read_csv('master.csv')\n",
    "master"
   ]
  },
  {
   "cell_type": "code",
   "execution_count": 4,
   "id": "e041a197-bd63-4590-aead-070e373f7183",
   "metadata": {
    "tags": []
   },
   "outputs": [
    {
     "data": {
      "text/html": [
       "<div>\n",
       "<style scoped>\n",
       "    .dataframe tbody tr th:only-of-type {\n",
       "        vertical-align: middle;\n",
       "    }\n",
       "\n",
       "    .dataframe tbody tr th {\n",
       "        vertical-align: top;\n",
       "    }\n",
       "\n",
       "    .dataframe thead th {\n",
       "        text-align: right;\n",
       "    }\n",
       "</style>\n",
       "<table border=\"1\" class=\"dataframe\">\n",
       "  <thead>\n",
       "    <tr style=\"text-align: right;\">\n",
       "      <th></th>\n",
       "      <th>Unnamed: 0</th>\n",
       "      <th>Year</th>\n",
       "      <th>State</th>\n",
       "      <th>Replacement Ratio 1</th>\n",
       "      <th>Replacement Ratio 2</th>\n",
       "      <th>Recipiency Rate</th>\n",
       "      <th>Average WBA</th>\n",
       "      <th>Minimum WBA</th>\n",
       "      <th>Maximum WBA</th>\n",
       "      <th>Average Weekly Wage</th>\n",
       "      <th>...</th>\n",
       "      <th>Real Maximum WBA (regional, 2000 base)</th>\n",
       "      <th>Real Average WBA (state, 2000 base)</th>\n",
       "      <th>Real Minimum WBA (state, 2000 base)</th>\n",
       "      <th>Real Maximum WBA (state, 2000 base)</th>\n",
       "      <th>Real Average WBA (regional, 2023 base)</th>\n",
       "      <th>Real Minimum WBA (regional, 2023 base)</th>\n",
       "      <th>Real Maximum WBA (regional, 2023 base)</th>\n",
       "      <th>Real Average WBA (state, 2017 base)</th>\n",
       "      <th>Real Minimum WBA (state, 2017 base)</th>\n",
       "      <th>Real Maximum WBA (state, 2017 base)</th>\n",
       "    </tr>\n",
       "  </thead>\n",
       "  <tbody>\n",
       "    <tr>\n",
       "      <th>6</th>\n",
       "      <td>6</td>\n",
       "      <td>2000</td>\n",
       "      <td>CT</td>\n",
       "      <td>0.450</td>\n",
       "      <td>0.415</td>\n",
       "      <td>0.764078</td>\n",
       "      <td>253.09</td>\n",
       "      <td>15.0</td>\n",
       "      <td>362.0</td>\n",
       "      <td>609.17</td>\n",
       "      <td>...</td>\n",
       "      <td>362.00</td>\n",
       "      <td>253.09</td>\n",
       "      <td>15.00</td>\n",
       "      <td>362.00</td>\n",
       "      <td>442.68</td>\n",
       "      <td>26.24</td>\n",
       "      <td>633.17</td>\n",
       "      <td>340.28</td>\n",
       "      <td>20.17</td>\n",
       "      <td>486.70</td>\n",
       "    </tr>\n",
       "    <tr>\n",
       "      <th>58</th>\n",
       "      <td>58</td>\n",
       "      <td>2001</td>\n",
       "      <td>CT</td>\n",
       "      <td>0.449</td>\n",
       "      <td>0.413</td>\n",
       "      <td>0.756924</td>\n",
       "      <td>271.52</td>\n",
       "      <td>15.0</td>\n",
       "      <td>397.0</td>\n",
       "      <td>657.31</td>\n",
       "      <td>...</td>\n",
       "      <td>386.24</td>\n",
       "      <td>265.42</td>\n",
       "      <td>14.66</td>\n",
       "      <td>388.08</td>\n",
       "      <td>462.03</td>\n",
       "      <td>25.52</td>\n",
       "      <td>675.56</td>\n",
       "      <td>356.85</td>\n",
       "      <td>19.71</td>\n",
       "      <td>521.77</td>\n",
       "    </tr>\n",
       "    <tr>\n",
       "      <th>109</th>\n",
       "      <td>109</td>\n",
       "      <td>2002</td>\n",
       "      <td>CT</td>\n",
       "      <td>0.441</td>\n",
       "      <td>0.402</td>\n",
       "      <td>0.656872</td>\n",
       "      <td>280.45</td>\n",
       "      <td>15.0</td>\n",
       "      <td>406.0</td>\n",
       "      <td>697.57</td>\n",
       "      <td>...</td>\n",
       "      <td>387.02</td>\n",
       "      <td>267.65</td>\n",
       "      <td>14.32</td>\n",
       "      <td>387.47</td>\n",
       "      <td>467.59</td>\n",
       "      <td>25.01</td>\n",
       "      <td>676.92</td>\n",
       "      <td>359.85</td>\n",
       "      <td>19.25</td>\n",
       "      <td>520.95</td>\n",
       "    </tr>\n",
       "    <tr>\n",
       "      <th>161</th>\n",
       "      <td>161</td>\n",
       "      <td>2003</td>\n",
       "      <td>CT</td>\n",
       "      <td>0.452</td>\n",
       "      <td>0.413</td>\n",
       "      <td>0.547254</td>\n",
       "      <td>292.78</td>\n",
       "      <td>15.0</td>\n",
       "      <td>411.0</td>\n",
       "      <td>709.09</td>\n",
       "      <td>...</td>\n",
       "      <td>381.05</td>\n",
       "      <td>277.91</td>\n",
       "      <td>14.24</td>\n",
       "      <td>390.13</td>\n",
       "      <td>474.78</td>\n",
       "      <td>24.32</td>\n",
       "      <td>666.49</td>\n",
       "      <td>373.65</td>\n",
       "      <td>19.14</td>\n",
       "      <td>524.52</td>\n",
       "    </tr>\n",
       "    <tr>\n",
       "      <th>213</th>\n",
       "      <td>213</td>\n",
       "      <td>2004</td>\n",
       "      <td>CT</td>\n",
       "      <td>0.440</td>\n",
       "      <td>0.400</td>\n",
       "      <td>0.483683</td>\n",
       "      <td>281.03</td>\n",
       "      <td>15.0</td>\n",
       "      <td>429.0</td>\n",
       "      <td>701.99</td>\n",
       "      <td>...</td>\n",
       "      <td>384.43</td>\n",
       "      <td>259.05</td>\n",
       "      <td>13.83</td>\n",
       "      <td>395.45</td>\n",
       "      <td>440.48</td>\n",
       "      <td>23.51</td>\n",
       "      <td>672.40</td>\n",
       "      <td>348.29</td>\n",
       "      <td>18.59</td>\n",
       "      <td>531.67</td>\n",
       "    </tr>\n",
       "    <tr>\n",
       "      <th>265</th>\n",
       "      <td>265</td>\n",
       "      <td>2005</td>\n",
       "      <td>CT</td>\n",
       "      <td>0.389</td>\n",
       "      <td>0.364</td>\n",
       "      <td>0.458786</td>\n",
       "      <td>288.38</td>\n",
       "      <td>15.0</td>\n",
       "      <td>447.0</td>\n",
       "      <td>792.45</td>\n",
       "      <td>...</td>\n",
       "      <td>386.47</td>\n",
       "      <td>262.34</td>\n",
       "      <td>13.65</td>\n",
       "      <td>406.63</td>\n",
       "      <td>436.09</td>\n",
       "      <td>22.68</td>\n",
       "      <td>675.96</td>\n",
       "      <td>352.71</td>\n",
       "      <td>18.35</td>\n",
       "      <td>546.72</td>\n",
       "    </tr>\n",
       "    <tr>\n",
       "      <th>317</th>\n",
       "      <td>317</td>\n",
       "      <td>2006</td>\n",
       "      <td>CT</td>\n",
       "      <td>0.378</td>\n",
       "      <td>0.323</td>\n",
       "      <td>0.482801</td>\n",
       "      <td>293.12</td>\n",
       "      <td>15.0</td>\n",
       "      <td>465.0</td>\n",
       "      <td>907.62</td>\n",
       "      <td>...</td>\n",
       "      <td>388.00</td>\n",
       "      <td>259.97</td>\n",
       "      <td>13.30</td>\n",
       "      <td>412.42</td>\n",
       "      <td>427.80</td>\n",
       "      <td>21.89</td>\n",
       "      <td>678.65</td>\n",
       "      <td>349.53</td>\n",
       "      <td>17.89</td>\n",
       "      <td>554.49</td>\n",
       "    </tr>\n",
       "    <tr>\n",
       "      <th>369</th>\n",
       "      <td>369</td>\n",
       "      <td>2007</td>\n",
       "      <td>CT</td>\n",
       "      <td>0.363</td>\n",
       "      <td>0.337</td>\n",
       "      <td>0.468150</td>\n",
       "      <td>300.12</td>\n",
       "      <td>15.0</td>\n",
       "      <td>483.0</td>\n",
       "      <td>889.83</td>\n",
       "      <td>...</td>\n",
       "      <td>392.95</td>\n",
       "      <td>257.07</td>\n",
       "      <td>12.85</td>\n",
       "      <td>413.72</td>\n",
       "      <td>427.07</td>\n",
       "      <td>21.34</td>\n",
       "      <td>687.30</td>\n",
       "      <td>345.63</td>\n",
       "      <td>17.27</td>\n",
       "      <td>556.24</td>\n",
       "    </tr>\n",
       "    <tr>\n",
       "      <th>421</th>\n",
       "      <td>421</td>\n",
       "      <td>2008</td>\n",
       "      <td>CT</td>\n",
       "      <td>0.396</td>\n",
       "      <td>0.368</td>\n",
       "      <td>0.449149</td>\n",
       "      <td>310.64</td>\n",
       "      <td>15.0</td>\n",
       "      <td>501.0</td>\n",
       "      <td>844.87</td>\n",
       "      <td>...</td>\n",
       "      <td>391.96</td>\n",
       "      <td>262.20</td>\n",
       "      <td>12.66</td>\n",
       "      <td>422.88</td>\n",
       "      <td>425.08</td>\n",
       "      <td>20.53</td>\n",
       "      <td>685.58</td>\n",
       "      <td>352.53</td>\n",
       "      <td>17.02</td>\n",
       "      <td>568.56</td>\n",
       "    </tr>\n",
       "    <tr>\n",
       "      <th>473</th>\n",
       "      <td>473</td>\n",
       "      <td>2009</td>\n",
       "      <td>CT</td>\n",
       "      <td>0.431</td>\n",
       "      <td>0.397</td>\n",
       "      <td>0.532430</td>\n",
       "      <td>328.96</td>\n",
       "      <td>15.0</td>\n",
       "      <td>519.0</td>\n",
       "      <td>829.30</td>\n",
       "      <td>...</td>\n",
       "      <td>405.98</td>\n",
       "      <td>269.63</td>\n",
       "      <td>12.29</td>\n",
       "      <td>425.40</td>\n",
       "      <td>450.08</td>\n",
       "      <td>20.52</td>\n",
       "      <td>710.09</td>\n",
       "      <td>362.52</td>\n",
       "      <td>16.53</td>\n",
       "      <td>571.94</td>\n",
       "    </tr>\n",
       "    <tr>\n",
       "      <th>525</th>\n",
       "      <td>525</td>\n",
       "      <td>2010</td>\n",
       "      <td>CT</td>\n",
       "      <td>0.442</td>\n",
       "      <td>0.405</td>\n",
       "      <td>0.366432</td>\n",
       "      <td>325.44</td>\n",
       "      <td>15.0</td>\n",
       "      <td>537.0</td>\n",
       "      <td>802.64</td>\n",
       "      <td>...</td>\n",
       "      <td>411.93</td>\n",
       "      <td>271.43</td>\n",
       "      <td>12.51</td>\n",
       "      <td>447.88</td>\n",
       "      <td>436.65</td>\n",
       "      <td>20.13</td>\n",
       "      <td>720.51</td>\n",
       "      <td>364.94</td>\n",
       "      <td>16.82</td>\n",
       "      <td>602.17</td>\n",
       "    </tr>\n",
       "    <tr>\n",
       "      <th>577</th>\n",
       "      <td>577</td>\n",
       "      <td>2011</td>\n",
       "      <td>CT</td>\n",
       "      <td>0.425</td>\n",
       "      <td>0.392</td>\n",
       "      <td>0.332683</td>\n",
       "      <td>324.51</td>\n",
       "      <td>15.0</td>\n",
       "      <td>555.0</td>\n",
       "      <td>827.56</td>\n",
       "      <td>...</td>\n",
       "      <td>413.15</td>\n",
       "      <td>266.68</td>\n",
       "      <td>12.33</td>\n",
       "      <td>456.09</td>\n",
       "      <td>422.52</td>\n",
       "      <td>19.53</td>\n",
       "      <td>722.63</td>\n",
       "      <td>358.55</td>\n",
       "      <td>16.57</td>\n",
       "      <td>613.21</td>\n",
       "    </tr>\n",
       "    <tr>\n",
       "      <th>629</th>\n",
       "      <td>629</td>\n",
       "      <td>2012</td>\n",
       "      <td>CT</td>\n",
       "      <td>0.436</td>\n",
       "      <td>0.407</td>\n",
       "      <td>0.352537</td>\n",
       "      <td>329.06</td>\n",
       "      <td>15.0</td>\n",
       "      <td>573.0</td>\n",
       "      <td>809.28</td>\n",
       "      <td>...</td>\n",
       "      <td>418.38</td>\n",
       "      <td>262.35</td>\n",
       "      <td>11.96</td>\n",
       "      <td>456.84</td>\n",
       "      <td>420.25</td>\n",
       "      <td>19.16</td>\n",
       "      <td>731.79</td>\n",
       "      <td>352.73</td>\n",
       "      <td>16.08</td>\n",
       "      <td>614.22</td>\n",
       "    </tr>\n",
       "    <tr>\n",
       "      <th>681</th>\n",
       "      <td>681</td>\n",
       "      <td>2013</td>\n",
       "      <td>CT</td>\n",
       "      <td>0.443</td>\n",
       "      <td>0.430</td>\n",
       "      <td>0.343802</td>\n",
       "      <td>333.71</td>\n",
       "      <td>15.0</td>\n",
       "      <td>591.0</td>\n",
       "      <td>775.51</td>\n",
       "      <td>...</td>\n",
       "      <td>425.74</td>\n",
       "      <td>259.00</td>\n",
       "      <td>11.64</td>\n",
       "      <td>458.68</td>\n",
       "      <td>420.47</td>\n",
       "      <td>18.90</td>\n",
       "      <td>744.66</td>\n",
       "      <td>348.22</td>\n",
       "      <td>15.65</td>\n",
       "      <td>616.69</td>\n",
       "    </tr>\n",
       "    <tr>\n",
       "      <th>733</th>\n",
       "      <td>733</td>\n",
       "      <td>2014</td>\n",
       "      <td>CT</td>\n",
       "      <td>0.433</td>\n",
       "      <td>0.413</td>\n",
       "      <td>0.380718</td>\n",
       "      <td>333.18</td>\n",
       "      <td>15.0</td>\n",
       "      <td>590.0</td>\n",
       "      <td>807.61</td>\n",
       "      <td>...</td>\n",
       "      <td>419.25</td>\n",
       "      <td>255.21</td>\n",
       "      <td>11.49</td>\n",
       "      <td>451.93</td>\n",
       "      <td>414.11</td>\n",
       "      <td>18.64</td>\n",
       "      <td>733.31</td>\n",
       "      <td>343.13</td>\n",
       "      <td>15.45</td>\n",
       "      <td>607.62</td>\n",
       "    </tr>\n",
       "    <tr>\n",
       "      <th>784</th>\n",
       "      <td>784</td>\n",
       "      <td>2015</td>\n",
       "      <td>CT</td>\n",
       "      <td>0.438</td>\n",
       "      <td>0.411</td>\n",
       "      <td>0.384656</td>\n",
       "      <td>344.72</td>\n",
       "      <td>15.0</td>\n",
       "      <td>594.0</td>\n",
       "      <td>838.62</td>\n",
       "      <td>...</td>\n",
       "      <td>422.56</td>\n",
       "      <td>252.75</td>\n",
       "      <td>11.00</td>\n",
       "      <td>435.52</td>\n",
       "      <td>428.92</td>\n",
       "      <td>18.66</td>\n",
       "      <td>739.10</td>\n",
       "      <td>339.82</td>\n",
       "      <td>14.79</td>\n",
       "      <td>585.56</td>\n",
       "    </tr>\n",
       "    <tr>\n",
       "      <th>836</th>\n",
       "      <td>836</td>\n",
       "      <td>2016</td>\n",
       "      <td>CT</td>\n",
       "      <td>0.440</td>\n",
       "      <td>0.419</td>\n",
       "      <td>0.424595</td>\n",
       "      <td>359.72</td>\n",
       "      <td>15.0</td>\n",
       "      <td>598.0</td>\n",
       "      <td>859.49</td>\n",
       "      <td>...</td>\n",
       "      <td>420.96</td>\n",
       "      <td>270.58</td>\n",
       "      <td>11.28</td>\n",
       "      <td>449.82</td>\n",
       "      <td>442.91</td>\n",
       "      <td>18.47</td>\n",
       "      <td>736.29</td>\n",
       "      <td>363.80</td>\n",
       "      <td>15.17</td>\n",
       "      <td>604.78</td>\n",
       "    </tr>\n",
       "    <tr>\n",
       "      <th>888</th>\n",
       "      <td>888</td>\n",
       "      <td>2017</td>\n",
       "      <td>CT</td>\n",
       "      <td>0.437</td>\n",
       "      <td>0.394</td>\n",
       "      <td>0.444050</td>\n",
       "      <td>376.85</td>\n",
       "      <td>15.0</td>\n",
       "      <td>616.0</td>\n",
       "      <td>956.46</td>\n",
       "      <td>...</td>\n",
       "      <td>425.80</td>\n",
       "      <td>280.29</td>\n",
       "      <td>11.16</td>\n",
       "      <td>458.17</td>\n",
       "      <td>455.62</td>\n",
       "      <td>18.14</td>\n",
       "      <td>744.75</td>\n",
       "      <td>376.85</td>\n",
       "      <td>15.00</td>\n",
       "      <td>616.00</td>\n",
       "    </tr>\n",
       "    <tr>\n",
       "      <th>940</th>\n",
       "      <td>940</td>\n",
       "      <td>2018</td>\n",
       "      <td>CT</td>\n",
       "      <td>0.444</td>\n",
       "      <td>0.416</td>\n",
       "      <td>0.467024</td>\n",
       "      <td>383.47</td>\n",
       "      <td>15.0</td>\n",
       "      <td>613.0</td>\n",
       "      <td>921.44</td>\n",
       "      <td>...</td>\n",
       "      <td>414.77</td>\n",
       "      <td>NaN</td>\n",
       "      <td>NaN</td>\n",
       "      <td>NaN</td>\n",
       "      <td>453.83</td>\n",
       "      <td>17.75</td>\n",
       "      <td>725.47</td>\n",
       "      <td>NaN</td>\n",
       "      <td>NaN</td>\n",
       "      <td>NaN</td>\n",
       "    </tr>\n",
       "    <tr>\n",
       "      <th>992</th>\n",
       "      <td>992</td>\n",
       "      <td>2019</td>\n",
       "      <td>CT</td>\n",
       "      <td>0.447</td>\n",
       "      <td>0.418</td>\n",
       "      <td>0.464365</td>\n",
       "      <td>394.87</td>\n",
       "      <td>15.0</td>\n",
       "      <td>631.0</td>\n",
       "      <td>945.01</td>\n",
       "      <td>...</td>\n",
       "      <td>420.21</td>\n",
       "      <td>NaN</td>\n",
       "      <td>NaN</td>\n",
       "      <td>NaN</td>\n",
       "      <td>459.94</td>\n",
       "      <td>17.47</td>\n",
       "      <td>734.98</td>\n",
       "      <td>NaN</td>\n",
       "      <td>NaN</td>\n",
       "      <td>NaN</td>\n",
       "    </tr>\n",
       "    <tr>\n",
       "      <th>1044</th>\n",
       "      <td>1044</td>\n",
       "      <td>2020</td>\n",
       "      <td>CT</td>\n",
       "      <td>0.397</td>\n",
       "      <td>0.370</td>\n",
       "      <td>0.974171</td>\n",
       "      <td>311.75</td>\n",
       "      <td>15.0</td>\n",
       "      <td>649.0</td>\n",
       "      <td>842.75</td>\n",
       "      <td>...</td>\n",
       "      <td>426.63</td>\n",
       "      <td>NaN</td>\n",
       "      <td>NaN</td>\n",
       "      <td>NaN</td>\n",
       "      <td>358.45</td>\n",
       "      <td>17.25</td>\n",
       "      <td>746.21</td>\n",
       "      <td>NaN</td>\n",
       "      <td>NaN</td>\n",
       "      <td>NaN</td>\n",
       "    </tr>\n",
       "    <tr>\n",
       "      <th>1096</th>\n",
       "      <td>1096</td>\n",
       "      <td>2021</td>\n",
       "      <td>CT</td>\n",
       "      <td>0.397</td>\n",
       "      <td>0.360</td>\n",
       "      <td>0.420030</td>\n",
       "      <td>350.07</td>\n",
       "      <td>15.0</td>\n",
       "      <td>667.0</td>\n",
       "      <td>972.69</td>\n",
       "      <td>...</td>\n",
       "      <td>422.00</td>\n",
       "      <td>NaN</td>\n",
       "      <td>NaN</td>\n",
       "      <td>NaN</td>\n",
       "      <td>387.39</td>\n",
       "      <td>16.60</td>\n",
       "      <td>738.11</td>\n",
       "      <td>NaN</td>\n",
       "      <td>NaN</td>\n",
       "      <td>NaN</td>\n",
       "    </tr>\n",
       "    <tr>\n",
       "      <th>1148</th>\n",
       "      <td>1148</td>\n",
       "      <td>2022</td>\n",
       "      <td>CT</td>\n",
       "      <td>0.434</td>\n",
       "      <td>0.380</td>\n",
       "      <td>0.274616</td>\n",
       "      <td>427.68</td>\n",
       "      <td>15.0</td>\n",
       "      <td>685.0</td>\n",
       "      <td>1125.92</td>\n",
       "      <td>...</td>\n",
       "      <td>405.15</td>\n",
       "      <td>NaN</td>\n",
       "      <td>NaN</td>\n",
       "      <td>NaN</td>\n",
       "      <td>442.44</td>\n",
       "      <td>15.52</td>\n",
       "      <td>708.64</td>\n",
       "      <td>NaN</td>\n",
       "      <td>NaN</td>\n",
       "      <td>NaN</td>\n",
       "    </tr>\n",
       "    <tr>\n",
       "      <th>1200</th>\n",
       "      <td>1200</td>\n",
       "      <td>2023</td>\n",
       "      <td>CT</td>\n",
       "      <td>0.430</td>\n",
       "      <td>0.378</td>\n",
       "      <td>0.425142</td>\n",
       "      <td>486.09</td>\n",
       "      <td>15.0</td>\n",
       "      <td>703.0</td>\n",
       "      <td>1285.47</td>\n",
       "      <td>...</td>\n",
       "      <td>401.92</td>\n",
       "      <td>NaN</td>\n",
       "      <td>NaN</td>\n",
       "      <td>NaN</td>\n",
       "      <td>486.09</td>\n",
       "      <td>15.00</td>\n",
       "      <td>703.00</td>\n",
       "      <td>NaN</td>\n",
       "      <td>NaN</td>\n",
       "      <td>NaN</td>\n",
       "    </tr>\n",
       "  </tbody>\n",
       "</table>\n",
       "<p>24 rows × 26 columns</p>\n",
       "</div>"
      ],
      "text/plain": [
       "      Unnamed: 0  Year State  Replacement Ratio 1  Replacement Ratio 2  \\\n",
       "6              6  2000    CT                0.450                0.415   \n",
       "58            58  2001    CT                0.449                0.413   \n",
       "109          109  2002    CT                0.441                0.402   \n",
       "161          161  2003    CT                0.452                0.413   \n",
       "213          213  2004    CT                0.440                0.400   \n",
       "265          265  2005    CT                0.389                0.364   \n",
       "317          317  2006    CT                0.378                0.323   \n",
       "369          369  2007    CT                0.363                0.337   \n",
       "421          421  2008    CT                0.396                0.368   \n",
       "473          473  2009    CT                0.431                0.397   \n",
       "525          525  2010    CT                0.442                0.405   \n",
       "577          577  2011    CT                0.425                0.392   \n",
       "629          629  2012    CT                0.436                0.407   \n",
       "681          681  2013    CT                0.443                0.430   \n",
       "733          733  2014    CT                0.433                0.413   \n",
       "784          784  2015    CT                0.438                0.411   \n",
       "836          836  2016    CT                0.440                0.419   \n",
       "888          888  2017    CT                0.437                0.394   \n",
       "940          940  2018    CT                0.444                0.416   \n",
       "992          992  2019    CT                0.447                0.418   \n",
       "1044        1044  2020    CT                0.397                0.370   \n",
       "1096        1096  2021    CT                0.397                0.360   \n",
       "1148        1148  2022    CT                0.434                0.380   \n",
       "1200        1200  2023    CT                0.430                0.378   \n",
       "\n",
       "      Recipiency Rate  Average WBA  Minimum WBA  Maximum WBA  \\\n",
       "6            0.764078       253.09         15.0        362.0   \n",
       "58           0.756924       271.52         15.0        397.0   \n",
       "109          0.656872       280.45         15.0        406.0   \n",
       "161          0.547254       292.78         15.0        411.0   \n",
       "213          0.483683       281.03         15.0        429.0   \n",
       "265          0.458786       288.38         15.0        447.0   \n",
       "317          0.482801       293.12         15.0        465.0   \n",
       "369          0.468150       300.12         15.0        483.0   \n",
       "421          0.449149       310.64         15.0        501.0   \n",
       "473          0.532430       328.96         15.0        519.0   \n",
       "525          0.366432       325.44         15.0        537.0   \n",
       "577          0.332683       324.51         15.0        555.0   \n",
       "629          0.352537       329.06         15.0        573.0   \n",
       "681          0.343802       333.71         15.0        591.0   \n",
       "733          0.380718       333.18         15.0        590.0   \n",
       "784          0.384656       344.72         15.0        594.0   \n",
       "836          0.424595       359.72         15.0        598.0   \n",
       "888          0.444050       376.85         15.0        616.0   \n",
       "940          0.467024       383.47         15.0        613.0   \n",
       "992          0.464365       394.87         15.0        631.0   \n",
       "1044         0.974171       311.75         15.0        649.0   \n",
       "1096         0.420030       350.07         15.0        667.0   \n",
       "1148         0.274616       427.68         15.0        685.0   \n",
       "1200         0.425142       486.09         15.0        703.0   \n",
       "\n",
       "      Average Weekly Wage  ... Real Maximum WBA (regional, 2000 base)  \\\n",
       "6                  609.17  ...                                 362.00   \n",
       "58                 657.31  ...                                 386.24   \n",
       "109                697.57  ...                                 387.02   \n",
       "161                709.09  ...                                 381.05   \n",
       "213                701.99  ...                                 384.43   \n",
       "265                792.45  ...                                 386.47   \n",
       "317                907.62  ...                                 388.00   \n",
       "369                889.83  ...                                 392.95   \n",
       "421                844.87  ...                                 391.96   \n",
       "473                829.30  ...                                 405.98   \n",
       "525                802.64  ...                                 411.93   \n",
       "577                827.56  ...                                 413.15   \n",
       "629                809.28  ...                                 418.38   \n",
       "681                775.51  ...                                 425.74   \n",
       "733                807.61  ...                                 419.25   \n",
       "784                838.62  ...                                 422.56   \n",
       "836                859.49  ...                                 420.96   \n",
       "888                956.46  ...                                 425.80   \n",
       "940                921.44  ...                                 414.77   \n",
       "992                945.01  ...                                 420.21   \n",
       "1044               842.75  ...                                 426.63   \n",
       "1096               972.69  ...                                 422.00   \n",
       "1148              1125.92  ...                                 405.15   \n",
       "1200              1285.47  ...                                 401.92   \n",
       "\n",
       "      Real Average WBA (state, 2000 base)  \\\n",
       "6                                  253.09   \n",
       "58                                 265.42   \n",
       "109                                267.65   \n",
       "161                                277.91   \n",
       "213                                259.05   \n",
       "265                                262.34   \n",
       "317                                259.97   \n",
       "369                                257.07   \n",
       "421                                262.20   \n",
       "473                                269.63   \n",
       "525                                271.43   \n",
       "577                                266.68   \n",
       "629                                262.35   \n",
       "681                                259.00   \n",
       "733                                255.21   \n",
       "784                                252.75   \n",
       "836                                270.58   \n",
       "888                                280.29   \n",
       "940                                   NaN   \n",
       "992                                   NaN   \n",
       "1044                                  NaN   \n",
       "1096                                  NaN   \n",
       "1148                                  NaN   \n",
       "1200                                  NaN   \n",
       "\n",
       "      Real Minimum WBA (state, 2000 base) Real Maximum WBA (state, 2000 base)  \\\n",
       "6                                   15.00                              362.00   \n",
       "58                                  14.66                              388.08   \n",
       "109                                 14.32                              387.47   \n",
       "161                                 14.24                              390.13   \n",
       "213                                 13.83                              395.45   \n",
       "265                                 13.65                              406.63   \n",
       "317                                 13.30                              412.42   \n",
       "369                                 12.85                              413.72   \n",
       "421                                 12.66                              422.88   \n",
       "473                                 12.29                              425.40   \n",
       "525                                 12.51                              447.88   \n",
       "577                                 12.33                              456.09   \n",
       "629                                 11.96                              456.84   \n",
       "681                                 11.64                              458.68   \n",
       "733                                 11.49                              451.93   \n",
       "784                                 11.00                              435.52   \n",
       "836                                 11.28                              449.82   \n",
       "888                                 11.16                              458.17   \n",
       "940                                   NaN                                 NaN   \n",
       "992                                   NaN                                 NaN   \n",
       "1044                                  NaN                                 NaN   \n",
       "1096                                  NaN                                 NaN   \n",
       "1148                                  NaN                                 NaN   \n",
       "1200                                  NaN                                 NaN   \n",
       "\n",
       "      Real Average WBA (regional, 2023 base)  \\\n",
       "6                                     442.68   \n",
       "58                                    462.03   \n",
       "109                                   467.59   \n",
       "161                                   474.78   \n",
       "213                                   440.48   \n",
       "265                                   436.09   \n",
       "317                                   427.80   \n",
       "369                                   427.07   \n",
       "421                                   425.08   \n",
       "473                                   450.08   \n",
       "525                                   436.65   \n",
       "577                                   422.52   \n",
       "629                                   420.25   \n",
       "681                                   420.47   \n",
       "733                                   414.11   \n",
       "784                                   428.92   \n",
       "836                                   442.91   \n",
       "888                                   455.62   \n",
       "940                                   453.83   \n",
       "992                                   459.94   \n",
       "1044                                  358.45   \n",
       "1096                                  387.39   \n",
       "1148                                  442.44   \n",
       "1200                                  486.09   \n",
       "\n",
       "      Real Minimum WBA (regional, 2023 base)  \\\n",
       "6                                      26.24   \n",
       "58                                     25.52   \n",
       "109                                    25.01   \n",
       "161                                    24.32   \n",
       "213                                    23.51   \n",
       "265                                    22.68   \n",
       "317                                    21.89   \n",
       "369                                    21.34   \n",
       "421                                    20.53   \n",
       "473                                    20.52   \n",
       "525                                    20.13   \n",
       "577                                    19.53   \n",
       "629                                    19.16   \n",
       "681                                    18.90   \n",
       "733                                    18.64   \n",
       "784                                    18.66   \n",
       "836                                    18.47   \n",
       "888                                    18.14   \n",
       "940                                    17.75   \n",
       "992                                    17.47   \n",
       "1044                                   17.25   \n",
       "1096                                   16.60   \n",
       "1148                                   15.52   \n",
       "1200                                   15.00   \n",
       "\n",
       "      Real Maximum WBA (regional, 2023 base)  \\\n",
       "6                                     633.17   \n",
       "58                                    675.56   \n",
       "109                                   676.92   \n",
       "161                                   666.49   \n",
       "213                                   672.40   \n",
       "265                                   675.96   \n",
       "317                                   678.65   \n",
       "369                                   687.30   \n",
       "421                                   685.58   \n",
       "473                                   710.09   \n",
       "525                                   720.51   \n",
       "577                                   722.63   \n",
       "629                                   731.79   \n",
       "681                                   744.66   \n",
       "733                                   733.31   \n",
       "784                                   739.10   \n",
       "836                                   736.29   \n",
       "888                                   744.75   \n",
       "940                                   725.47   \n",
       "992                                   734.98   \n",
       "1044                                  746.21   \n",
       "1096                                  738.11   \n",
       "1148                                  708.64   \n",
       "1200                                  703.00   \n",
       "\n",
       "      Real Average WBA (state, 2017 base)  \\\n",
       "6                                  340.28   \n",
       "58                                 356.85   \n",
       "109                                359.85   \n",
       "161                                373.65   \n",
       "213                                348.29   \n",
       "265                                352.71   \n",
       "317                                349.53   \n",
       "369                                345.63   \n",
       "421                                352.53   \n",
       "473                                362.52   \n",
       "525                                364.94   \n",
       "577                                358.55   \n",
       "629                                352.73   \n",
       "681                                348.22   \n",
       "733                                343.13   \n",
       "784                                339.82   \n",
       "836                                363.80   \n",
       "888                                376.85   \n",
       "940                                   NaN   \n",
       "992                                   NaN   \n",
       "1044                                  NaN   \n",
       "1096                                  NaN   \n",
       "1148                                  NaN   \n",
       "1200                                  NaN   \n",
       "\n",
       "      Real Minimum WBA (state, 2017 base)  Real Maximum WBA (state, 2017 base)  \n",
       "6                                   20.17                               486.70  \n",
       "58                                  19.71                               521.77  \n",
       "109                                 19.25                               520.95  \n",
       "161                                 19.14                               524.52  \n",
       "213                                 18.59                               531.67  \n",
       "265                                 18.35                               546.72  \n",
       "317                                 17.89                               554.49  \n",
       "369                                 17.27                               556.24  \n",
       "421                                 17.02                               568.56  \n",
       "473                                 16.53                               571.94  \n",
       "525                                 16.82                               602.17  \n",
       "577                                 16.57                               613.21  \n",
       "629                                 16.08                               614.22  \n",
       "681                                 15.65                               616.69  \n",
       "733                                 15.45                               607.62  \n",
       "784                                 14.79                               585.56  \n",
       "836                                 15.17                               604.78  \n",
       "888                                 15.00                               616.00  \n",
       "940                                   NaN                                  NaN  \n",
       "992                                   NaN                                  NaN  \n",
       "1044                                  NaN                                  NaN  \n",
       "1096                                  NaN                                  NaN  \n",
       "1148                                  NaN                                  NaN  \n",
       "1200                                  NaN                                  NaN  \n",
       "\n",
       "[24 rows x 26 columns]"
      ]
     },
     "execution_count": 4,
     "metadata": {},
     "output_type": "execute_result"
    }
   ],
   "source": [
    "master[master['State'] == 'CT']"
   ]
  },
  {
   "cell_type": "markdown",
   "id": "024224b9-dca0-4be1-841e-2a449a1c9b5a",
   "metadata": {
    "tags": []
   },
   "source": [
    "## Figure 1a/1b: Number of Years with Increase in Nominal Min/Max WBA"
   ]
  },
  {
   "cell_type": "code",
   "execution_count": null,
   "id": "e4a9092c-c8cb-459a-82f9-7ec246b44d16",
   "metadata": {},
   "outputs": [],
   "source": []
  },
  {
   "cell_type": "code",
   "execution_count": 68,
   "id": "40191307-dd21-41a2-bbd5-13b12c4df34b",
   "metadata": {
    "tags": []
   },
   "outputs": [],
   "source": [
    "nominal_inc_maxwba = master.groupby(\"State\")[['Maximum WBA']].apply(\"nunique\")\n",
    "nominal_inc_maxwba = nominal_inc_maxwba.reset_index()\n",
    "nominal_inc_maxwba['Maximum WBA'] = nominal_inc_maxwba['Maximum WBA'] - 1\n",
    "nominal_inc_maxwba = nominal_inc_maxwba.rename(columns={'Maximum WBA': \"Number of Years\"})\n",
    "#nominal_inc_maxwba"
   ]
  },
  {
   "cell_type": "code",
   "execution_count": 62,
   "id": "515283db-ab2e-4c19-93ae-dc2ebd7c8b3c",
   "metadata": {
    "tags": []
   },
   "outputs": [
    {
     "data": {
      "application/vnd.plotly.v1+json": {
       "config": {
        "plotlyServerURL": "https://plot.ly"
       },
       "data": [
        {
         "coloraxis": "coloraxis",
         "geo": "geo",
         "hovertemplate": "State=%{location}<br>Number of Years=%{z}<extra></extra>",
         "locationmode": "USA-states",
         "locations": [
          "AK",
          "AL",
          "AR",
          "AZ",
          "CA",
          "CO",
          "CT",
          "DC",
          "DE",
          "FL",
          "GA",
          "HI",
          "IA",
          "ID",
          "IL",
          "IN",
          "KS",
          "KY",
          "LA",
          "MA",
          "MD",
          "ME",
          "MI",
          "MN",
          "MO",
          "MS",
          "MT",
          "NC",
          "ND",
          "NE",
          "NH",
          "NJ",
          "NM",
          "NV",
          "NY",
          "OH",
          "OK",
          "OR",
          "PA",
          "PR",
          "RI",
          "SC",
          "SD",
          "TN",
          "TX",
          "UT",
          "VA",
          "VT",
          "WA",
          "WI",
          "WV",
          "WY"
         ],
         "name": "",
         "type": "choropleth",
         "z": [
          1,
          7,
          10,
          2,
          4,
          22,
          23,
          5,
          3,
          0,
          7,
          21,
          23,
          21,
          20,
          6,
          19,
          9,
          4,
          22,
          6,
          23,
          1,
          21,
          4,
          4,
          23,
          13,
          22,
          19,
          3,
          23,
          22,
          22,
          6,
          21,
          23,
          22,
          15,
          2,
          17,
          6,
          23,
          1,
          20,
          22,
          8,
          18,
          17,
          7,
          10,
          21
         ]
        }
       ],
       "layout": {
        "autosize": true,
        "coloraxis": {
         "colorbar": {
          "len": 0.8,
          "thickness": 10,
          "tickfont": {
           "size": 10
          },
          "ticks": "outside",
          "title": {
           "text": "Number of Years"
          },
          "x": 0.75,
          "y": 0.5
         },
         "colorscale": [
          [
           0,
           "#E9967A"
          ],
          [
           0.5,
           "white"
          ],
          [
           1,
           "#4682B4"
          ]
         ]
        },
        "font": {
         "color": "black",
         "family": "Cambria",
         "size": 12
        },
        "geo": {
         "center": {
          "lat": 43.4446851719881,
          "lon": -92.17056104540585
         },
         "domain": {
          "x": [
           0,
           1
          ],
          "y": [
           0,
           1
          ]
         },
         "projection": {
          "scale": 2.291035795959517
         },
         "scope": "usa"
        },
        "legend": {
         "tracegroupgap": 0
        },
        "margin": {
         "t": 60
        },
        "template": {
         "data": {
          "bar": [
           {
            "error_x": {
             "color": "#2a3f5f"
            },
            "error_y": {
             "color": "#2a3f5f"
            },
            "marker": {
             "line": {
              "color": "#E5ECF6",
              "width": 0.5
             },
             "pattern": {
              "fillmode": "overlay",
              "size": 10,
              "solidity": 0.2
             }
            },
            "type": "bar"
           }
          ],
          "barpolar": [
           {
            "marker": {
             "line": {
              "color": "#E5ECF6",
              "width": 0.5
             },
             "pattern": {
              "fillmode": "overlay",
              "size": 10,
              "solidity": 0.2
             }
            },
            "type": "barpolar"
           }
          ],
          "carpet": [
           {
            "aaxis": {
             "endlinecolor": "#2a3f5f",
             "gridcolor": "white",
             "linecolor": "white",
             "minorgridcolor": "white",
             "startlinecolor": "#2a3f5f"
            },
            "baxis": {
             "endlinecolor": "#2a3f5f",
             "gridcolor": "white",
             "linecolor": "white",
             "minorgridcolor": "white",
             "startlinecolor": "#2a3f5f"
            },
            "type": "carpet"
           }
          ],
          "choropleth": [
           {
            "colorbar": {
             "outlinewidth": 0,
             "ticks": ""
            },
            "type": "choropleth"
           }
          ],
          "contour": [
           {
            "colorbar": {
             "outlinewidth": 0,
             "ticks": ""
            },
            "colorscale": [
             [
              0,
              "#0d0887"
             ],
             [
              0.1111111111111111,
              "#46039f"
             ],
             [
              0.2222222222222222,
              "#7201a8"
             ],
             [
              0.3333333333333333,
              "#9c179e"
             ],
             [
              0.4444444444444444,
              "#bd3786"
             ],
             [
              0.5555555555555556,
              "#d8576b"
             ],
             [
              0.6666666666666666,
              "#ed7953"
             ],
             [
              0.7777777777777778,
              "#fb9f3a"
             ],
             [
              0.8888888888888888,
              "#fdca26"
             ],
             [
              1,
              "#f0f921"
             ]
            ],
            "type": "contour"
           }
          ],
          "contourcarpet": [
           {
            "colorbar": {
             "outlinewidth": 0,
             "ticks": ""
            },
            "type": "contourcarpet"
           }
          ],
          "heatmap": [
           {
            "colorbar": {
             "outlinewidth": 0,
             "ticks": ""
            },
            "colorscale": [
             [
              0,
              "#0d0887"
             ],
             [
              0.1111111111111111,
              "#46039f"
             ],
             [
              0.2222222222222222,
              "#7201a8"
             ],
             [
              0.3333333333333333,
              "#9c179e"
             ],
             [
              0.4444444444444444,
              "#bd3786"
             ],
             [
              0.5555555555555556,
              "#d8576b"
             ],
             [
              0.6666666666666666,
              "#ed7953"
             ],
             [
              0.7777777777777778,
              "#fb9f3a"
             ],
             [
              0.8888888888888888,
              "#fdca26"
             ],
             [
              1,
              "#f0f921"
             ]
            ],
            "type": "heatmap"
           }
          ],
          "heatmapgl": [
           {
            "colorbar": {
             "outlinewidth": 0,
             "ticks": ""
            },
            "colorscale": [
             [
              0,
              "#0d0887"
             ],
             [
              0.1111111111111111,
              "#46039f"
             ],
             [
              0.2222222222222222,
              "#7201a8"
             ],
             [
              0.3333333333333333,
              "#9c179e"
             ],
             [
              0.4444444444444444,
              "#bd3786"
             ],
             [
              0.5555555555555556,
              "#d8576b"
             ],
             [
              0.6666666666666666,
              "#ed7953"
             ],
             [
              0.7777777777777778,
              "#fb9f3a"
             ],
             [
              0.8888888888888888,
              "#fdca26"
             ],
             [
              1,
              "#f0f921"
             ]
            ],
            "type": "heatmapgl"
           }
          ],
          "histogram": [
           {
            "marker": {
             "pattern": {
              "fillmode": "overlay",
              "size": 10,
              "solidity": 0.2
             }
            },
            "type": "histogram"
           }
          ],
          "histogram2d": [
           {
            "colorbar": {
             "outlinewidth": 0,
             "ticks": ""
            },
            "colorscale": [
             [
              0,
              "#0d0887"
             ],
             [
              0.1111111111111111,
              "#46039f"
             ],
             [
              0.2222222222222222,
              "#7201a8"
             ],
             [
              0.3333333333333333,
              "#9c179e"
             ],
             [
              0.4444444444444444,
              "#bd3786"
             ],
             [
              0.5555555555555556,
              "#d8576b"
             ],
             [
              0.6666666666666666,
              "#ed7953"
             ],
             [
              0.7777777777777778,
              "#fb9f3a"
             ],
             [
              0.8888888888888888,
              "#fdca26"
             ],
             [
              1,
              "#f0f921"
             ]
            ],
            "type": "histogram2d"
           }
          ],
          "histogram2dcontour": [
           {
            "colorbar": {
             "outlinewidth": 0,
             "ticks": ""
            },
            "colorscale": [
             [
              0,
              "#0d0887"
             ],
             [
              0.1111111111111111,
              "#46039f"
             ],
             [
              0.2222222222222222,
              "#7201a8"
             ],
             [
              0.3333333333333333,
              "#9c179e"
             ],
             [
              0.4444444444444444,
              "#bd3786"
             ],
             [
              0.5555555555555556,
              "#d8576b"
             ],
             [
              0.6666666666666666,
              "#ed7953"
             ],
             [
              0.7777777777777778,
              "#fb9f3a"
             ],
             [
              0.8888888888888888,
              "#fdca26"
             ],
             [
              1,
              "#f0f921"
             ]
            ],
            "type": "histogram2dcontour"
           }
          ],
          "mesh3d": [
           {
            "colorbar": {
             "outlinewidth": 0,
             "ticks": ""
            },
            "type": "mesh3d"
           }
          ],
          "parcoords": [
           {
            "line": {
             "colorbar": {
              "outlinewidth": 0,
              "ticks": ""
             }
            },
            "type": "parcoords"
           }
          ],
          "pie": [
           {
            "automargin": true,
            "type": "pie"
           }
          ],
          "scatter": [
           {
            "fillpattern": {
             "fillmode": "overlay",
             "size": 10,
             "solidity": 0.2
            },
            "type": "scatter"
           }
          ],
          "scatter3d": [
           {
            "line": {
             "colorbar": {
              "outlinewidth": 0,
              "ticks": ""
             }
            },
            "marker": {
             "colorbar": {
              "outlinewidth": 0,
              "ticks": ""
             }
            },
            "type": "scatter3d"
           }
          ],
          "scattercarpet": [
           {
            "marker": {
             "colorbar": {
              "outlinewidth": 0,
              "ticks": ""
             }
            },
            "type": "scattercarpet"
           }
          ],
          "scattergeo": [
           {
            "marker": {
             "colorbar": {
              "outlinewidth": 0,
              "ticks": ""
             }
            },
            "type": "scattergeo"
           }
          ],
          "scattergl": [
           {
            "marker": {
             "colorbar": {
              "outlinewidth": 0,
              "ticks": ""
             }
            },
            "type": "scattergl"
           }
          ],
          "scattermapbox": [
           {
            "marker": {
             "colorbar": {
              "outlinewidth": 0,
              "ticks": ""
             }
            },
            "type": "scattermapbox"
           }
          ],
          "scatterpolar": [
           {
            "marker": {
             "colorbar": {
              "outlinewidth": 0,
              "ticks": ""
             }
            },
            "type": "scatterpolar"
           }
          ],
          "scatterpolargl": [
           {
            "marker": {
             "colorbar": {
              "outlinewidth": 0,
              "ticks": ""
             }
            },
            "type": "scatterpolargl"
           }
          ],
          "scatterternary": [
           {
            "marker": {
             "colorbar": {
              "outlinewidth": 0,
              "ticks": ""
             }
            },
            "type": "scatterternary"
           }
          ],
          "surface": [
           {
            "colorbar": {
             "outlinewidth": 0,
             "ticks": ""
            },
            "colorscale": [
             [
              0,
              "#0d0887"
             ],
             [
              0.1111111111111111,
              "#46039f"
             ],
             [
              0.2222222222222222,
              "#7201a8"
             ],
             [
              0.3333333333333333,
              "#9c179e"
             ],
             [
              0.4444444444444444,
              "#bd3786"
             ],
             [
              0.5555555555555556,
              "#d8576b"
             ],
             [
              0.6666666666666666,
              "#ed7953"
             ],
             [
              0.7777777777777778,
              "#fb9f3a"
             ],
             [
              0.8888888888888888,
              "#fdca26"
             ],
             [
              1,
              "#f0f921"
             ]
            ],
            "type": "surface"
           }
          ],
          "table": [
           {
            "cells": {
             "fill": {
              "color": "#EBF0F8"
             },
             "line": {
              "color": "white"
             }
            },
            "header": {
             "fill": {
              "color": "#C8D4E3"
             },
             "line": {
              "color": "white"
             }
            },
            "type": "table"
           }
          ]
         },
         "layout": {
          "annotationdefaults": {
           "arrowcolor": "#2a3f5f",
           "arrowhead": 0,
           "arrowwidth": 1
          },
          "autotypenumbers": "strict",
          "coloraxis": {
           "colorbar": {
            "outlinewidth": 0,
            "ticks": ""
           }
          },
          "colorscale": {
           "diverging": [
            [
             0,
             "#8e0152"
            ],
            [
             0.1,
             "#c51b7d"
            ],
            [
             0.2,
             "#de77ae"
            ],
            [
             0.3,
             "#f1b6da"
            ],
            [
             0.4,
             "#fde0ef"
            ],
            [
             0.5,
             "#f7f7f7"
            ],
            [
             0.6,
             "#e6f5d0"
            ],
            [
             0.7,
             "#b8e186"
            ],
            [
             0.8,
             "#7fbc41"
            ],
            [
             0.9,
             "#4d9221"
            ],
            [
             1,
             "#276419"
            ]
           ],
           "sequential": [
            [
             0,
             "#0d0887"
            ],
            [
             0.1111111111111111,
             "#46039f"
            ],
            [
             0.2222222222222222,
             "#7201a8"
            ],
            [
             0.3333333333333333,
             "#9c179e"
            ],
            [
             0.4444444444444444,
             "#bd3786"
            ],
            [
             0.5555555555555556,
             "#d8576b"
            ],
            [
             0.6666666666666666,
             "#ed7953"
            ],
            [
             0.7777777777777778,
             "#fb9f3a"
            ],
            [
             0.8888888888888888,
             "#fdca26"
            ],
            [
             1,
             "#f0f921"
            ]
           ],
           "sequentialminus": [
            [
             0,
             "#0d0887"
            ],
            [
             0.1111111111111111,
             "#46039f"
            ],
            [
             0.2222222222222222,
             "#7201a8"
            ],
            [
             0.3333333333333333,
             "#9c179e"
            ],
            [
             0.4444444444444444,
             "#bd3786"
            ],
            [
             0.5555555555555556,
             "#d8576b"
            ],
            [
             0.6666666666666666,
             "#ed7953"
            ],
            [
             0.7777777777777778,
             "#fb9f3a"
            ],
            [
             0.8888888888888888,
             "#fdca26"
            ],
            [
             1,
             "#f0f921"
            ]
           ]
          },
          "colorway": [
           "#636efa",
           "#EF553B",
           "#00cc96",
           "#ab63fa",
           "#FFA15A",
           "#19d3f3",
           "#FF6692",
           "#B6E880",
           "#FF97FF",
           "#FECB52"
          ],
          "font": {
           "color": "#2a3f5f"
          },
          "geo": {
           "bgcolor": "white",
           "lakecolor": "white",
           "landcolor": "#E5ECF6",
           "showlakes": true,
           "showland": true,
           "subunitcolor": "white"
          },
          "hoverlabel": {
           "align": "left"
          },
          "hovermode": "closest",
          "mapbox": {
           "style": "light"
          },
          "paper_bgcolor": "white",
          "plot_bgcolor": "#E5ECF6",
          "polar": {
           "angularaxis": {
            "gridcolor": "white",
            "linecolor": "white",
            "ticks": ""
           },
           "bgcolor": "#E5ECF6",
           "radialaxis": {
            "gridcolor": "white",
            "linecolor": "white",
            "ticks": ""
           }
          },
          "scene": {
           "xaxis": {
            "backgroundcolor": "#E5ECF6",
            "gridcolor": "white",
            "gridwidth": 2,
            "linecolor": "white",
            "showbackground": true,
            "ticks": "",
            "zerolinecolor": "white"
           },
           "yaxis": {
            "backgroundcolor": "#E5ECF6",
            "gridcolor": "white",
            "gridwidth": 2,
            "linecolor": "white",
            "showbackground": true,
            "ticks": "",
            "zerolinecolor": "white"
           },
           "zaxis": {
            "backgroundcolor": "#E5ECF6",
            "gridcolor": "white",
            "gridwidth": 2,
            "linecolor": "white",
            "showbackground": true,
            "ticks": "",
            "zerolinecolor": "white"
           }
          },
          "shapedefaults": {
           "line": {
            "color": "#2a3f5f"
           }
          },
          "ternary": {
           "aaxis": {
            "gridcolor": "white",
            "linecolor": "white",
            "ticks": ""
           },
           "baxis": {
            "gridcolor": "white",
            "linecolor": "white",
            "ticks": ""
           },
           "bgcolor": "#E5ECF6",
           "caxis": {
            "gridcolor": "white",
            "linecolor": "white",
            "ticks": ""
           }
          },
          "title": {
           "x": 0.05
          },
          "xaxis": {
           "automargin": true,
           "gridcolor": "white",
           "linecolor": "white",
           "ticks": "",
           "title": {
            "standoff": 15
           },
           "zerolinecolor": "white",
           "zerolinewidth": 2
          },
          "yaxis": {
           "automargin": true,
           "gridcolor": "white",
           "linecolor": "white",
           "ticks": "",
           "title": {
            "standoff": 15
           },
           "zerolinecolor": "white",
           "zerolinewidth": 2
          }
         }
        },
        "title": {
         "text": "<b>Number of Years From 2000 to 2023<br>With an Increase in Nominal Maximum WBA</b>",
         "x": 0.5,
         "xanchor": "center"
        }
       }
      },
      "image/png": "[encoded data removed]",
      "text/html": [
       "<div>                            <div id=\"5056edcd-d42d-4e1b-9116-7243840c9772\" class=\"plotly-graph-div\" style=\"height:525px; width:100%;\"></div>            <script type=\"text/javascript\">                require([\"plotly\"], function(Plotly) {                    window.PLOTLYENV=window.PLOTLYENV || {};                                    if (document.getElementById(\"5056edcd-d42d-4e1b-9116-7243840c9772\")) {                    Plotly.newPlot(                        \"5056edcd-d42d-4e1b-9116-7243840c9772\",                        [{\"coloraxis\":\"coloraxis\",\"geo\":\"geo\",\"hovertemplate\":\"State=%{location}\\u003cbr\\u003eNumber of Years=%{z}\\u003cextra\\u003e\\u003c\\u002fextra\\u003e\",\"locationmode\":\"USA-states\",\"locations\":[\"AK\",\"AL\",\"AR\",\"AZ\",\"CA\",\"CO\",\"CT\",\"DC\",\"DE\",\"FL\",\"GA\",\"HI\",\"IA\",\"ID\",\"IL\",\"IN\",\"KS\",\"KY\",\"LA\",\"MA\",\"MD\",\"ME\",\"MI\",\"MN\",\"MO\",\"MS\",\"MT\",\"NC\",\"ND\",\"NE\",\"NH\",\"NJ\",\"NM\",\"NV\",\"NY\",\"OH\",\"OK\",\"OR\",\"PA\",\"PR\",\"RI\",\"SC\",\"SD\",\"TN\",\"TX\",\"UT\",\"VA\",\"VT\",\"WA\",\"WI\",\"WV\",\"WY\"],\"name\":\"\",\"z\":[1,7,10,2,4,22,23,5,3,0,7,21,23,21,20,6,19,9,4,22,6,23,1,21,4,4,23,13,22,19,3,23,22,22,6,21,23,22,15,2,17,6,23,1,20,22,8,18,17,7,10,21],\"type\":\"choropleth\"}],                        {\"template\":{\"data\":{\"histogram2dcontour\":[{\"type\":\"histogram2dcontour\",\"colorbar\":{\"outlinewidth\":0,\"ticks\":\"\"},\"colorscale\":[[0.0,\"#0d0887\"],[0.1111111111111111,\"#46039f\"],[0.2222222222222222,\"#7201a8\"],[0.3333333333333333,\"#9c179e\"],[0.4444444444444444,\"#bd3786\"],[0.5555555555555556,\"#d8576b\"],[0.6666666666666666,\"#ed7953\"],[0.7777777777777778,\"#fb9f3a\"],[0.8888888888888888,\"#fdca26\"],[1.0,\"#f0f921\"]]}],\"choropleth\":[{\"type\":\"choropleth\",\"colorbar\":{\"outlinewidth\":0,\"ticks\":\"\"}}],\"histogram2d\":[{\"type\":\"histogram2d\",\"colorbar\":{\"outlinewidth\":0,\"ticks\":\"\"},\"colorscale\":[[0.0,\"#0d0887\"],[0.1111111111111111,\"#46039f\"],[0.2222222222222222,\"#7201a8\"],[0.3333333333333333,\"#9c179e\"],[0.4444444444444444,\"#bd3786\"],[0.5555555555555556,\"#d8576b\"],[0.6666666666666666,\"#ed7953\"],[0.7777777777777778,\"#fb9f3a\"],[0.8888888888888888,\"#fdca26\"],[1.0,\"#f0f921\"]]}],\"heatmap\":[{\"type\":\"heatmap\",\"colorbar\":{\"outlinewidth\":0,\"ticks\":\"\"},\"colorscale\":[[0.0,\"#0d0887\"],[0.1111111111111111,\"#46039f\"],[0.2222222222222222,\"#7201a8\"],[0.3333333333333333,\"#9c179e\"],[0.4444444444444444,\"#bd3786\"],[0.5555555555555556,\"#d8576b\"],[0.6666666666666666,\"#ed7953\"],[0.7777777777777778,\"#fb9f3a\"],[0.8888888888888888,\"#fdca26\"],[1.0,\"#f0f921\"]]}],\"heatmapgl\":[{\"type\":\"heatmapgl\",\"colorbar\":{\"outlinewidth\":0,\"ticks\":\"\"},\"colorscale\":[[0.0,\"#0d0887\"],[0.1111111111111111,\"#46039f\"],[0.2222222222222222,\"#7201a8\"],[0.3333333333333333,\"#9c179e\"],[0.4444444444444444,\"#bd3786\"],[0.5555555555555556,\"#d8576b\"],[0.6666666666666666,\"#ed7953\"],[0.7777777777777778,\"#fb9f3a\"],[0.8888888888888888,\"#fdca26\"],[1.0,\"#f0f921\"]]}],\"contourcarpet\":[{\"type\":\"contourcarpet\",\"colorbar\":{\"outlinewidth\":0,\"ticks\":\"\"}}],\"contour\":[{\"type\":\"contour\",\"colorbar\":{\"outlinewidth\":0,\"ticks\":\"\"},\"colorscale\":[[0.0,\"#0d0887\"],[0.1111111111111111,\"#46039f\"],[0.2222222222222222,\"#7201a8\"],[0.3333333333333333,\"#9c179e\"],[0.4444444444444444,\"#bd3786\"],[0.5555555555555556,\"#d8576b\"],[0.6666666666666666,\"#ed7953\"],[0.7777777777777778,\"#fb9f3a\"],[0.8888888888888888,\"#fdca26\"],[1.0,\"#f0f921\"]]}],\"surface\":[{\"type\":\"surface\",\"colorbar\":{\"outlinewidth\":0,\"ticks\":\"\"},\"colorscale\":[[0.0,\"#0d0887\"],[0.1111111111111111,\"#46039f\"],[0.2222222222222222,\"#7201a8\"],[0.3333333333333333,\"#9c179e\"],[0.4444444444444444,\"#bd3786\"],[0.5555555555555556,\"#d8576b\"],[0.6666666666666666,\"#ed7953\"],[0.7777777777777778,\"#fb9f3a\"],[0.8888888888888888,\"#fdca26\"],[1.0,\"#f0f921\"]]}],\"mesh3d\":[{\"type\":\"mesh3d\",\"colorbar\":{\"outlinewidth\":0,\"ticks\":\"\"}}],\"scatter\":[{\"fillpattern\":{\"fillmode\":\"overlay\",\"size\":10,\"solidity\":0.2},\"type\":\"scatter\"}],\"parcoords\":[{\"type\":\"parcoords\",\"line\":{\"colorbar\":{\"outlinewidth\":0,\"ticks\":\"\"}}}],\"scatterpolargl\":[{\"type\":\"scatterpolargl\",\"marker\":{\"colorbar\":{\"outlinewidth\":0,\"ticks\":\"\"}}}],\"bar\":[{\"error_x\":{\"color\":\"#2a3f5f\"},\"error_y\":{\"color\":\"#2a3f5f\"},\"marker\":{\"line\":{\"color\":\"#E5ECF6\",\"width\":0.5},\"pattern\":{\"fillmode\":\"overlay\",\"size\":10,\"solidity\":0.2}},\"type\":\"bar\"}],\"scattergeo\":[{\"type\":\"scattergeo\",\"marker\":{\"colorbar\":{\"outlinewidth\":0,\"ticks\":\"\"}}}],\"scatterpolar\":[{\"type\":\"scatterpolar\",\"marker\":{\"colorbar\":{\"outlinewidth\":0,\"ticks\":\"\"}}}],\"histogram\":[{\"marker\":{\"pattern\":{\"fillmode\":\"overlay\",\"size\":10,\"solidity\":0.2}},\"type\":\"histogram\"}],\"scattergl\":[{\"type\":\"scattergl\",\"marker\":{\"colorbar\":{\"outlinewidth\":0,\"ticks\":\"\"}}}],\"scatter3d\":[{\"type\":\"scatter3d\",\"line\":{\"colorbar\":{\"outlinewidth\":0,\"ticks\":\"\"}},\"marker\":{\"colorbar\":{\"outlinewidth\":0,\"ticks\":\"\"}}}],\"scattermapbox\":[{\"type\":\"scattermapbox\",\"marker\":{\"colorbar\":{\"outlinewidth\":0,\"ticks\":\"\"}}}],\"scatterternary\":[{\"type\":\"scatterternary\",\"marker\":{\"colorbar\":{\"outlinewidth\":0,\"ticks\":\"\"}}}],\"scattercarpet\":[{\"type\":\"scattercarpet\",\"marker\":{\"colorbar\":{\"outlinewidth\":0,\"ticks\":\"\"}}}],\"carpet\":[{\"aaxis\":{\"endlinecolor\":\"#2a3f5f\",\"gridcolor\":\"white\",\"linecolor\":\"white\",\"minorgridcolor\":\"white\",\"startlinecolor\":\"#2a3f5f\"},\"baxis\":{\"endlinecolor\":\"#2a3f5f\",\"gridcolor\":\"white\",\"linecolor\":\"white\",\"minorgridcolor\":\"white\",\"startlinecolor\":\"#2a3f5f\"},\"type\":\"carpet\"}],\"table\":[{\"cells\":{\"fill\":{\"color\":\"#EBF0F8\"},\"line\":{\"color\":\"white\"}},\"header\":{\"fill\":{\"color\":\"#C8D4E3\"},\"line\":{\"color\":\"white\"}},\"type\":\"table\"}],\"barpolar\":[{\"marker\":{\"line\":{\"color\":\"#E5ECF6\",\"width\":0.5},\"pattern\":{\"fillmode\":\"overlay\",\"size\":10,\"solidity\":0.2}},\"type\":\"barpolar\"}],\"pie\":[{\"automargin\":true,\"type\":\"pie\"}]},\"layout\":{\"autotypenumbers\":\"strict\",\"colorway\":[\"#636efa\",\"#EF553B\",\"#00cc96\",\"#ab63fa\",\"#FFA15A\",\"#19d3f3\",\"#FF6692\",\"#B6E880\",\"#FF97FF\",\"#FECB52\"],\"font\":{\"color\":\"#2a3f5f\"},\"hovermode\":\"closest\",\"hoverlabel\":{\"align\":\"left\"},\"paper_bgcolor\":\"white\",\"plot_bgcolor\":\"#E5ECF6\",\"polar\":{\"bgcolor\":\"#E5ECF6\",\"angularaxis\":{\"gridcolor\":\"white\",\"linecolor\":\"white\",\"ticks\":\"\"},\"radialaxis\":{\"gridcolor\":\"white\",\"linecolor\":\"white\",\"ticks\":\"\"}},\"ternary\":{\"bgcolor\":\"#E5ECF6\",\"aaxis\":{\"gridcolor\":\"white\",\"linecolor\":\"white\",\"ticks\":\"\"},\"baxis\":{\"gridcolor\":\"white\",\"linecolor\":\"white\",\"ticks\":\"\"},\"caxis\":{\"gridcolor\":\"white\",\"linecolor\":\"white\",\"ticks\":\"\"}},\"coloraxis\":{\"colorbar\":{\"outlinewidth\":0,\"ticks\":\"\"}},\"colorscale\":{\"sequential\":[[0.0,\"#0d0887\"],[0.1111111111111111,\"#46039f\"],[0.2222222222222222,\"#7201a8\"],[0.3333333333333333,\"#9c179e\"],[0.4444444444444444,\"#bd3786\"],[0.5555555555555556,\"#d8576b\"],[0.6666666666666666,\"#ed7953\"],[0.7777777777777778,\"#fb9f3a\"],[0.8888888888888888,\"#fdca26\"],[1.0,\"#f0f921\"]],\"sequentialminus\":[[0.0,\"#0d0887\"],[0.1111111111111111,\"#46039f\"],[0.2222222222222222,\"#7201a8\"],[0.3333333333333333,\"#9c179e\"],[0.4444444444444444,\"#bd3786\"],[0.5555555555555556,\"#d8576b\"],[0.6666666666666666,\"#ed7953\"],[0.7777777777777778,\"#fb9f3a\"],[0.8888888888888888,\"#fdca26\"],[1.0,\"#f0f921\"]],\"diverging\":[[0,\"#8e0152\"],[0.1,\"#c51b7d\"],[0.2,\"#de77ae\"],[0.3,\"#f1b6da\"],[0.4,\"#fde0ef\"],[0.5,\"#f7f7f7\"],[0.6,\"#e6f5d0\"],[0.7,\"#b8e186\"],[0.8,\"#7fbc41\"],[0.9,\"#4d9221\"],[1,\"#276419\"]]},\"xaxis\":{\"gridcolor\":\"white\",\"linecolor\":\"white\",\"ticks\":\"\",\"title\":{\"standoff\":15},\"zerolinecolor\":\"white\",\"automargin\":true,\"zerolinewidth\":2},\"yaxis\":{\"gridcolor\":\"white\",\"linecolor\":\"white\",\"ticks\":\"\",\"title\":{\"standoff\":15},\"zerolinecolor\":\"white\",\"automargin\":true,\"zerolinewidth\":2},\"scene\":{\"xaxis\":{\"backgroundcolor\":\"#E5ECF6\",\"gridcolor\":\"white\",\"linecolor\":\"white\",\"showbackground\":true,\"ticks\":\"\",\"zerolinecolor\":\"white\",\"gridwidth\":2},\"yaxis\":{\"backgroundcolor\":\"#E5ECF6\",\"gridcolor\":\"white\",\"linecolor\":\"white\",\"showbackground\":true,\"ticks\":\"\",\"zerolinecolor\":\"white\",\"gridwidth\":2},\"zaxis\":{\"backgroundcolor\":\"#E5ECF6\",\"gridcolor\":\"white\",\"linecolor\":\"white\",\"showbackground\":true,\"ticks\":\"\",\"zerolinecolor\":\"white\",\"gridwidth\":2}},\"shapedefaults\":{\"line\":{\"color\":\"#2a3f5f\"}},\"annotationdefaults\":{\"arrowcolor\":\"#2a3f5f\",\"arrowhead\":0,\"arrowwidth\":1},\"geo\":{\"bgcolor\":\"white\",\"landcolor\":\"#E5ECF6\",\"subunitcolor\":\"white\",\"showland\":true,\"showlakes\":true,\"lakecolor\":\"white\"},\"title\":{\"x\":0.05},\"mapbox\":{\"style\":\"light\"}}},\"geo\":{\"domain\":{\"x\":[0.0,1.0],\"y\":[0.0,1.0]},\"center\":{},\"scope\":\"usa\"},\"coloraxis\":{\"colorbar\":{\"title\":{\"text\":\"Number of Years\"},\"tickfont\":{\"size\":10},\"x\":0.75,\"len\":0.8,\"thickness\":10,\"ticks\":\"outside\"},\"colorscale\":[[0,\"#E9967A\"],[0.5,\"white\"],[1,\"#4682B4\"]]},\"legend\":{\"tracegroupgap\":0},\"margin\":{\"t\":60},\"title\":{\"text\":\"\\u003cb\\u003eNumber of Years From 2000 to 2023\\u003cbr\\u003eWith an Increase in Nominal Maximum WBA\\u003c\\u002fb\\u003e\",\"x\":0.5,\"xanchor\":\"center\"},\"font\":{\"family\":\"Cambria\",\"size\":12,\"color\":\"black\"}},                        {\"responsive\": true}                    ).then(function(){\n",
       "                            \n",
       "var gd = document.getElementById('5056edcd-d42d-4e1b-9116-7243840c9772');\n",
       "var x = new MutationObserver(function (mutations, observer) {{\n",
       "        var display = window.getComputedStyle(gd).display;\n",
       "        if (!display || display === 'none') {{\n",
       "            console.log([gd, 'removed!']);\n",
       "            Plotly.purge(gd);\n",
       "            observer.disconnect();\n",
       "        }}\n",
       "}});\n",
       "\n",
       "// Listen for the removal of the full notebook cells\n",
       "var notebookContainer = gd.closest('#notebook-container');\n",
       "if (notebookContainer) {{\n",
       "    x.observe(notebookContainer, {childList: true});\n",
       "}}\n",
       "\n",
       "// Listen for the clearing of the current output cell\n",
       "var outputEl = gd.closest('.output');\n",
       "if (outputEl) {{\n",
       "    x.observe(outputEl, {childList: true});\n",
       "}}\n",
       "\n",
       "                        })                };                });            </script>        </div>"
      ]
     },
     "metadata": {},
     "output_type": "display_data"
    }
   ],
   "source": [
    "fig = px.choropleth(\n",
    "    data_frame=nominal_inc_maxwba,\n",
    "    locations='State',               \n",
    "    locationmode='USA-states',       \n",
    "    color='Number of Years',                   \n",
    "    color_continuous_scale= colorscale,\n",
    "    scope='usa',                      \n",
    ")\n",
    "\n",
    "fig.update_layout(\n",
    "    title={\n",
    "        'text': \"<b>Number of Years From 2000 to 2023<br>With an Increase in Nominal Maximum WBA</b>\",\n",
    "        'x': 0.5, \n",
    "        'xanchor': 'center'\n",
    "    },\n",
    "    font=dict(\n",
    "        family=\"Cambria\",  \n",
    "        size=12,         \n",
    "        color=\"black\",\n",
    "    ),\n",
    "    coloraxis_colorbar=dict(\n",
    "        title='Number of Years',\n",
    "        x=0.75,            \n",
    "        len=0.8,           \n",
    "        thickness=10,      \n",
    "        ticks='outside',\n",
    "        tickfont=dict(size=10),\n",
    "    )\n",
    ")\n",
    "\n",
    "fig.show()"
   ]
  },
  {
   "cell_type": "code",
   "execution_count": 63,
   "id": "a2b0a0e9-7bd2-4ee2-adac-0b98801d3bff",
   "metadata": {
    "tags": []
   },
   "outputs": [],
   "source": [
    "from plotly.io import write_html\n",
    "write_html(fig, 'fig_1a.html')"
   ]
  },
  {
   "cell_type": "code",
   "execution_count": 67,
   "id": "8385d76d-3cd0-4ad4-a468-134db04954af",
   "metadata": {
    "tags": []
   },
   "outputs": [],
   "source": [
    "nominal_inc_minwba = master.groupby(\"State\")[['Minimum WBA']].apply(\"nunique\")\n",
    "nominal_inc_minwba = nominal_inc_minwba.reset_index()\n",
    "nominal_inc_minwba['Minimum WBA'] = nominal_inc_minwba['Minimum WBA'] - 1\n",
    "nominal_inc_minwba = nominal_inc_minwba.rename(columns={'Minimum WBA': \"Number of Years\"})\n",
    "#nominal_inc_minwba"
   ]
  },
  {
   "cell_type": "code",
   "execution_count": 65,
   "id": "1a857919-d743-4059-a794-c1cb11b05128",
   "metadata": {
    "tags": []
   },
   "outputs": [
    {
     "data": {
      "application/vnd.plotly.v1+json": {
       "config": {
        "plotlyServerURL": "https://plot.ly"
       },
       "data": [
        {
         "coloraxis": "coloraxis",
         "geo": "geo",
         "hovertemplate": "State=%{location}<br>Number of Years=%{z}<extra></extra>",
         "locationmode": "USA-states",
         "locations": [
          "AK",
          "AL",
          "AR",
          "AZ",
          "CA",
          "CO",
          "CT",
          "DC",
          "DE",
          "FL",
          "GA",
          "HI",
          "IA",
          "ID",
          "IL",
          "IN",
          "KS",
          "KY",
          "LA",
          "MA",
          "MD",
          "ME",
          "MI",
          "MN",
          "MO",
          "MS",
          "MT",
          "NC",
          "ND",
          "NE",
          "NH",
          "NJ",
          "NM",
          "NV",
          "NY",
          "OH",
          "OK",
          "OR",
          "PA",
          "PR",
          "RI",
          "SC",
          "SD",
          "TN",
          "TX",
          "UT",
          "VA",
          "VT",
          "WA",
          "WI",
          "WV",
          "WY"
         ],
         "name": "",
         "type": "choropleth",
         "z": [
          1,
          0,
          12,
          10,
          0,
          0,
          0,
          0,
          0,
          0,
          4,
          0,
          22,
          3,
          0,
          1,
          19,
          0,
          2,
          12,
          1,
          22,
          10,
          7,
          4,
          0,
          22,
          9,
          0,
          2,
          1,
          10,
          21,
          0,
          7,
          20,
          0,
          21,
          2,
          2,
          12,
          1,
          0,
          0,
          21,
          13,
          3,
          16,
          22,
          6,
          0,
          16
         ]
        }
       ],
       "layout": {
        "autosize": true,
        "coloraxis": {
         "colorbar": {
          "len": 0.8,
          "thickness": 10,
          "tickfont": {
           "size": 10
          },
          "ticks": "outside",
          "title": {
           "text": "Number of Years"
          },
          "x": 0.75,
          "y": 0.5
         },
         "colorscale": [
          [
           0,
           "#E9967A"
          ],
          [
           0.5,
           "white"
          ],
          [
           1,
           "#4682B4"
          ]
         ]
        },
        "font": {
         "color": "black",
         "family": "Cambria",
         "size": 12
        },
        "geo": {
         "center": {},
         "domain": {
          "x": [
           0,
           1
          ],
          "y": [
           0,
           1
          ]
         },
         "scope": "usa"
        },
        "legend": {
         "tracegroupgap": 0
        },
        "margin": {
         "t": 60
        },
        "template": {
         "data": {
          "bar": [
           {
            "error_x": {
             "color": "#2a3f5f"
            },
            "error_y": {
             "color": "#2a3f5f"
            },
            "marker": {
             "line": {
              "color": "#E5ECF6",
              "width": 0.5
             },
             "pattern": {
              "fillmode": "overlay",
              "size": 10,
              "solidity": 0.2
             }
            },
            "type": "bar"
           }
          ],
          "barpolar": [
           {
            "marker": {
             "line": {
              "color": "#E5ECF6",
              "width": 0.5
             },
             "pattern": {
              "fillmode": "overlay",
              "size": 10,
              "solidity": 0.2
             }
            },
            "type": "barpolar"
           }
          ],
          "carpet": [
           {
            "aaxis": {
             "endlinecolor": "#2a3f5f",
             "gridcolor": "white",
             "linecolor": "white",
             "minorgridcolor": "white",
             "startlinecolor": "#2a3f5f"
            },
            "baxis": {
             "endlinecolor": "#2a3f5f",
             "gridcolor": "white",
             "linecolor": "white",
             "minorgridcolor": "white",
             "startlinecolor": "#2a3f5f"
            },
            "type": "carpet"
           }
          ],
          "choropleth": [
           {
            "colorbar": {
             "outlinewidth": 0,
             "ticks": ""
            },
            "type": "choropleth"
           }
          ],
          "contour": [
           {
            "colorbar": {
             "outlinewidth": 0,
             "ticks": ""
            },
            "colorscale": [
             [
              0,
              "#0d0887"
             ],
             [
              0.1111111111111111,
              "#46039f"
             ],
             [
              0.2222222222222222,
              "#7201a8"
             ],
             [
              0.3333333333333333,
              "#9c179e"
             ],
             [
              0.4444444444444444,
              "#bd3786"
             ],
             [
              0.5555555555555556,
              "#d8576b"
             ],
             [
              0.6666666666666666,
              "#ed7953"
             ],
             [
              0.7777777777777778,
              "#fb9f3a"
             ],
             [
              0.8888888888888888,
              "#fdca26"
             ],
             [
              1,
              "#f0f921"
             ]
            ],
            "type": "contour"
           }
          ],
          "contourcarpet": [
           {
            "colorbar": {
             "outlinewidth": 0,
             "ticks": ""
            },
            "type": "contourcarpet"
           }
          ],
          "heatmap": [
           {
            "colorbar": {
             "outlinewidth": 0,
             "ticks": ""
            },
            "colorscale": [
             [
              0,
              "#0d0887"
             ],
             [
              0.1111111111111111,
              "#46039f"
             ],
             [
              0.2222222222222222,
              "#7201a8"
             ],
             [
              0.3333333333333333,
              "#9c179e"
             ],
             [
              0.4444444444444444,
              "#bd3786"
             ],
             [
              0.5555555555555556,
              "#d8576b"
             ],
             [
              0.6666666666666666,
              "#ed7953"
             ],
             [
              0.7777777777777778,
              "#fb9f3a"
             ],
             [
              0.8888888888888888,
              "#fdca26"
             ],
             [
              1,
              "#f0f921"
             ]
            ],
            "type": "heatmap"
           }
          ],
          "heatmapgl": [
           {
            "colorbar": {
             "outlinewidth": 0,
             "ticks": ""
            },
            "colorscale": [
             [
              0,
              "#0d0887"
             ],
             [
              0.1111111111111111,
              "#46039f"
             ],
             [
              0.2222222222222222,
              "#7201a8"
             ],
             [
              0.3333333333333333,
              "#9c179e"
             ],
             [
              0.4444444444444444,
              "#bd3786"
             ],
             [
              0.5555555555555556,
              "#d8576b"
             ],
             [
              0.6666666666666666,
              "#ed7953"
             ],
             [
              0.7777777777777778,
              "#fb9f3a"
             ],
             [
              0.8888888888888888,
              "#fdca26"
             ],
             [
              1,
              "#f0f921"
             ]
            ],
            "type": "heatmapgl"
           }
          ],
          "histogram": [
           {
            "marker": {
             "pattern": {
              "fillmode": "overlay",
              "size": 10,
              "solidity": 0.2
             }
            },
            "type": "histogram"
           }
          ],
          "histogram2d": [
           {
            "colorbar": {
             "outlinewidth": 0,
             "ticks": ""
            },
            "colorscale": [
             [
              0,
              "#0d0887"
             ],
             [
              0.1111111111111111,
              "#46039f"
             ],
             [
              0.2222222222222222,
              "#7201a8"
             ],
             [
              0.3333333333333333,
              "#9c179e"
             ],
             [
              0.4444444444444444,
              "#bd3786"
             ],
             [
              0.5555555555555556,
              "#d8576b"
             ],
             [
              0.6666666666666666,
              "#ed7953"
             ],
             [
              0.7777777777777778,
              "#fb9f3a"
             ],
             [
              0.8888888888888888,
              "#fdca26"
             ],
             [
              1,
              "#f0f921"
             ]
            ],
            "type": "histogram2d"
           }
          ],
          "histogram2dcontour": [
           {
            "colorbar": {
             "outlinewidth": 0,
             "ticks": ""
            },
            "colorscale": [
             [
              0,
              "#0d0887"
             ],
             [
              0.1111111111111111,
              "#46039f"
             ],
             [
              0.2222222222222222,
              "#7201a8"
             ],
             [
              0.3333333333333333,
              "#9c179e"
             ],
             [
              0.4444444444444444,
              "#bd3786"
             ],
             [
              0.5555555555555556,
              "#d8576b"
             ],
             [
              0.6666666666666666,
              "#ed7953"
             ],
             [
              0.7777777777777778,
              "#fb9f3a"
             ],
             [
              0.8888888888888888,
              "#fdca26"
             ],
             [
              1,
              "#f0f921"
             ]
            ],
            "type": "histogram2dcontour"
           }
          ],
          "mesh3d": [
           {
            "colorbar": {
             "outlinewidth": 0,
             "ticks": ""
            },
            "type": "mesh3d"
           }
          ],
          "parcoords": [
           {
            "line": {
             "colorbar": {
              "outlinewidth": 0,
              "ticks": ""
             }
            },
            "type": "parcoords"
           }
          ],
          "pie": [
           {
            "automargin": true,
            "type": "pie"
           }
          ],
          "scatter": [
           {
            "fillpattern": {
             "fillmode": "overlay",
             "size": 10,
             "solidity": 0.2
            },
            "type": "scatter"
           }
          ],
          "scatter3d": [
           {
            "line": {
             "colorbar": {
              "outlinewidth": 0,
              "ticks": ""
             }
            },
            "marker": {
             "colorbar": {
              "outlinewidth": 0,
              "ticks": ""
             }
            },
            "type": "scatter3d"
           }
          ],
          "scattercarpet": [
           {
            "marker": {
             "colorbar": {
              "outlinewidth": 0,
              "ticks": ""
             }
            },
            "type": "scattercarpet"
           }
          ],
          "scattergeo": [
           {
            "marker": {
             "colorbar": {
              "outlinewidth": 0,
              "ticks": ""
             }
            },
            "type": "scattergeo"
           }
          ],
          "scattergl": [
           {
            "marker": {
             "colorbar": {
              "outlinewidth": 0,
              "ticks": ""
             }
            },
            "type": "scattergl"
           }
          ],
          "scattermapbox": [
           {
            "marker": {
             "colorbar": {
              "outlinewidth": 0,
              "ticks": ""
             }
            },
            "type": "scattermapbox"
           }
          ],
          "scatterpolar": [
           {
            "marker": {
             "colorbar": {
              "outlinewidth": 0,
              "ticks": ""
             }
            },
            "type": "scatterpolar"
           }
          ],
          "scatterpolargl": [
           {
            "marker": {
             "colorbar": {
              "outlinewidth": 0,
              "ticks": ""
             }
            },
            "type": "scatterpolargl"
           }
          ],
          "scatterternary": [
           {
            "marker": {
             "colorbar": {
              "outlinewidth": 0,
              "ticks": ""
             }
            },
            "type": "scatterternary"
           }
          ],
          "surface": [
           {
            "colorbar": {
             "outlinewidth": 0,
             "ticks": ""
            },
            "colorscale": [
             [
              0,
              "#0d0887"
             ],
             [
              0.1111111111111111,
              "#46039f"
             ],
             [
              0.2222222222222222,
              "#7201a8"
             ],
             [
              0.3333333333333333,
              "#9c179e"
             ],
             [
              0.4444444444444444,
              "#bd3786"
             ],
             [
              0.5555555555555556,
              "#d8576b"
             ],
             [
              0.6666666666666666,
              "#ed7953"
             ],
             [
              0.7777777777777778,
              "#fb9f3a"
             ],
             [
              0.8888888888888888,
              "#fdca26"
             ],
             [
              1,
              "#f0f921"
             ]
            ],
            "type": "surface"
           }
          ],
          "table": [
           {
            "cells": {
             "fill": {
              "color": "#EBF0F8"
             },
             "line": {
              "color": "white"
             }
            },
            "header": {
             "fill": {
              "color": "#C8D4E3"
             },
             "line": {
              "color": "white"
             }
            },
            "type": "table"
           }
          ]
         },
         "layout": {
          "annotationdefaults": {
           "arrowcolor": "#2a3f5f",
           "arrowhead": 0,
           "arrowwidth": 1
          },
          "autotypenumbers": "strict",
          "coloraxis": {
           "colorbar": {
            "outlinewidth": 0,
            "ticks": ""
           }
          },
          "colorscale": {
           "diverging": [
            [
             0,
             "#8e0152"
            ],
            [
             0.1,
             "#c51b7d"
            ],
            [
             0.2,
             "#de77ae"
            ],
            [
             0.3,
             "#f1b6da"
            ],
            [
             0.4,
             "#fde0ef"
            ],
            [
             0.5,
             "#f7f7f7"
            ],
            [
             0.6,
             "#e6f5d0"
            ],
            [
             0.7,
             "#b8e186"
            ],
            [
             0.8,
             "#7fbc41"
            ],
            [
             0.9,
             "#4d9221"
            ],
            [
             1,
             "#276419"
            ]
           ],
           "sequential": [
            [
             0,
             "#0d0887"
            ],
            [
             0.1111111111111111,
             "#46039f"
            ],
            [
             0.2222222222222222,
             "#7201a8"
            ],
            [
             0.3333333333333333,
             "#9c179e"
            ],
            [
             0.4444444444444444,
             "#bd3786"
            ],
            [
             0.5555555555555556,
             "#d8576b"
            ],
            [
             0.6666666666666666,
             "#ed7953"
            ],
            [
             0.7777777777777778,
             "#fb9f3a"
            ],
            [
             0.8888888888888888,
             "#fdca26"
            ],
            [
             1,
             "#f0f921"
            ]
           ],
           "sequentialminus": [
            [
             0,
             "#0d0887"
            ],
            [
             0.1111111111111111,
             "#46039f"
            ],
            [
             0.2222222222222222,
             "#7201a8"
            ],
            [
             0.3333333333333333,
             "#9c179e"
            ],
            [
             0.4444444444444444,
             "#bd3786"
            ],
            [
             0.5555555555555556,
             "#d8576b"
            ],
            [
             0.6666666666666666,
             "#ed7953"
            ],
            [
             0.7777777777777778,
             "#fb9f3a"
            ],
            [
             0.8888888888888888,
             "#fdca26"
            ],
            [
             1,
             "#f0f921"
            ]
           ]
          },
          "colorway": [
           "#636efa",
           "#EF553B",
           "#00cc96",
           "#ab63fa",
           "#FFA15A",
           "#19d3f3",
           "#FF6692",
           "#B6E880",
           "#FF97FF",
           "#FECB52"
          ],
          "font": {
           "color": "#2a3f5f"
          },
          "geo": {
           "bgcolor": "white",
           "lakecolor": "white",
           "landcolor": "#E5ECF6",
           "showlakes": true,
           "showland": true,
           "subunitcolor": "white"
          },
          "hoverlabel": {
           "align": "left"
          },
          "hovermode": "closest",
          "mapbox": {
           "style": "light"
          },
          "paper_bgcolor": "white",
          "plot_bgcolor": "#E5ECF6",
          "polar": {
           "angularaxis": {
            "gridcolor": "white",
            "linecolor": "white",
            "ticks": ""
           },
           "bgcolor": "#E5ECF6",
           "radialaxis": {
            "gridcolor": "white",
            "linecolor": "white",
            "ticks": ""
           }
          },
          "scene": {
           "xaxis": {
            "backgroundcolor": "#E5ECF6",
            "gridcolor": "white",
            "gridwidth": 2,
            "linecolor": "white",
            "showbackground": true,
            "ticks": "",
            "zerolinecolor": "white"
           },
           "yaxis": {
            "backgroundcolor": "#E5ECF6",
            "gridcolor": "white",
            "gridwidth": 2,
            "linecolor": "white",
            "showbackground": true,
            "ticks": "",
            "zerolinecolor": "white"
           },
           "zaxis": {
            "backgroundcolor": "#E5ECF6",
            "gridcolor": "white",
            "gridwidth": 2,
            "linecolor": "white",
            "showbackground": true,
            "ticks": "",
            "zerolinecolor": "white"
           }
          },
          "shapedefaults": {
           "line": {
            "color": "#2a3f5f"
           }
          },
          "ternary": {
           "aaxis": {
            "gridcolor": "white",
            "linecolor": "white",
            "ticks": ""
           },
           "baxis": {
            "gridcolor": "white",
            "linecolor": "white",
            "ticks": ""
           },
           "bgcolor": "#E5ECF6",
           "caxis": {
            "gridcolor": "white",
            "linecolor": "white",
            "ticks": ""
           }
          },
          "title": {
           "x": 0.05
          },
          "xaxis": {
           "automargin": true,
           "gridcolor": "white",
           "linecolor": "white",
           "ticks": "",
           "title": {
            "standoff": 15
           },
           "zerolinecolor": "white",
           "zerolinewidth": 2
          },
          "yaxis": {
           "automargin": true,
           "gridcolor": "white",
           "linecolor": "white",
           "ticks": "",
           "title": {
            "standoff": 15
           },
           "zerolinecolor": "white",
           "zerolinewidth": 2
          }
         }
        },
        "title": {
         "text": "<b>Number of Years From 2000 to 2023<br>With an Increase in Nominal Minimum WBA</b>",
         "x": 0.5,
         "xanchor": "center"
        }
       }
      },
      "image/png": "[encoded data removed]",
      "text/html": [
       "<div>                            <div id=\"d36c0827-a532-435e-aa6a-0c70d297f02d\" class=\"plotly-graph-div\" style=\"height:525px; width:100%;\"></div>            <script type=\"text/javascript\">                require([\"plotly\"], function(Plotly) {                    window.PLOTLYENV=window.PLOTLYENV || {};                                    if (document.getElementById(\"d36c0827-a532-435e-aa6a-0c70d297f02d\")) {                    Plotly.newPlot(                        \"d36c0827-a532-435e-aa6a-0c70d297f02d\",                        [{\"coloraxis\":\"coloraxis\",\"geo\":\"geo\",\"hovertemplate\":\"State=%{location}\\u003cbr\\u003eNumber of Years=%{z}\\u003cextra\\u003e\\u003c\\u002fextra\\u003e\",\"locationmode\":\"USA-states\",\"locations\":[\"AK\",\"AL\",\"AR\",\"AZ\",\"CA\",\"CO\",\"CT\",\"DC\",\"DE\",\"FL\",\"GA\",\"HI\",\"IA\",\"ID\",\"IL\",\"IN\",\"KS\",\"KY\",\"LA\",\"MA\",\"MD\",\"ME\",\"MI\",\"MN\",\"MO\",\"MS\",\"MT\",\"NC\",\"ND\",\"NE\",\"NH\",\"NJ\",\"NM\",\"NV\",\"NY\",\"OH\",\"OK\",\"OR\",\"PA\",\"PR\",\"RI\",\"SC\",\"SD\",\"TN\",\"TX\",\"UT\",\"VA\",\"VT\",\"WA\",\"WI\",\"WV\",\"WY\"],\"name\":\"\",\"z\":[1,0,12,10,0,0,0,0,0,0,4,0,22,3,0,1,19,0,2,12,1,22,10,7,4,0,22,9,0,2,1,10,21,0,7,20,0,21,2,2,12,1,0,0,21,13,3,16,22,6,0,16],\"type\":\"choropleth\"}],                        {\"template\":{\"data\":{\"histogram2dcontour\":[{\"type\":\"histogram2dcontour\",\"colorbar\":{\"outlinewidth\":0,\"ticks\":\"\"},\"colorscale\":[[0.0,\"#0d0887\"],[0.1111111111111111,\"#46039f\"],[0.2222222222222222,\"#7201a8\"],[0.3333333333333333,\"#9c179e\"],[0.4444444444444444,\"#bd3786\"],[0.5555555555555556,\"#d8576b\"],[0.6666666666666666,\"#ed7953\"],[0.7777777777777778,\"#fb9f3a\"],[0.8888888888888888,\"#fdca26\"],[1.0,\"#f0f921\"]]}],\"choropleth\":[{\"type\":\"choropleth\",\"colorbar\":{\"outlinewidth\":0,\"ticks\":\"\"}}],\"histogram2d\":[{\"type\":\"histogram2d\",\"colorbar\":{\"outlinewidth\":0,\"ticks\":\"\"},\"colorscale\":[[0.0,\"#0d0887\"],[0.1111111111111111,\"#46039f\"],[0.2222222222222222,\"#7201a8\"],[0.3333333333333333,\"#9c179e\"],[0.4444444444444444,\"#bd3786\"],[0.5555555555555556,\"#d8576b\"],[0.6666666666666666,\"#ed7953\"],[0.7777777777777778,\"#fb9f3a\"],[0.8888888888888888,\"#fdca26\"],[1.0,\"#f0f921\"]]}],\"heatmap\":[{\"type\":\"heatmap\",\"colorbar\":{\"outlinewidth\":0,\"ticks\":\"\"},\"colorscale\":[[0.0,\"#0d0887\"],[0.1111111111111111,\"#46039f\"],[0.2222222222222222,\"#7201a8\"],[0.3333333333333333,\"#9c179e\"],[0.4444444444444444,\"#bd3786\"],[0.5555555555555556,\"#d8576b\"],[0.6666666666666666,\"#ed7953\"],[0.7777777777777778,\"#fb9f3a\"],[0.8888888888888888,\"#fdca26\"],[1.0,\"#f0f921\"]]}],\"heatmapgl\":[{\"type\":\"heatmapgl\",\"colorbar\":{\"outlinewidth\":0,\"ticks\":\"\"},\"colorscale\":[[0.0,\"#0d0887\"],[0.1111111111111111,\"#46039f\"],[0.2222222222222222,\"#7201a8\"],[0.3333333333333333,\"#9c179e\"],[0.4444444444444444,\"#bd3786\"],[0.5555555555555556,\"#d8576b\"],[0.6666666666666666,\"#ed7953\"],[0.7777777777777778,\"#fb9f3a\"],[0.8888888888888888,\"#fdca26\"],[1.0,\"#f0f921\"]]}],\"contourcarpet\":[{\"type\":\"contourcarpet\",\"colorbar\":{\"outlinewidth\":0,\"ticks\":\"\"}}],\"contour\":[{\"type\":\"contour\",\"colorbar\":{\"outlinewidth\":0,\"ticks\":\"\"},\"colorscale\":[[0.0,\"#0d0887\"],[0.1111111111111111,\"#46039f\"],[0.2222222222222222,\"#7201a8\"],[0.3333333333333333,\"#9c179e\"],[0.4444444444444444,\"#bd3786\"],[0.5555555555555556,\"#d8576b\"],[0.6666666666666666,\"#ed7953\"],[0.7777777777777778,\"#fb9f3a\"],[0.8888888888888888,\"#fdca26\"],[1.0,\"#f0f921\"]]}],\"surface\":[{\"type\":\"surface\",\"colorbar\":{\"outlinewidth\":0,\"ticks\":\"\"},\"colorscale\":[[0.0,\"#0d0887\"],[0.1111111111111111,\"#46039f\"],[0.2222222222222222,\"#7201a8\"],[0.3333333333333333,\"#9c179e\"],[0.4444444444444444,\"#bd3786\"],[0.5555555555555556,\"#d8576b\"],[0.6666666666666666,\"#ed7953\"],[0.7777777777777778,\"#fb9f3a\"],[0.8888888888888888,\"#fdca26\"],[1.0,\"#f0f921\"]]}],\"mesh3d\":[{\"type\":\"mesh3d\",\"colorbar\":{\"outlinewidth\":0,\"ticks\":\"\"}}],\"scatter\":[{\"fillpattern\":{\"fillmode\":\"overlay\",\"size\":10,\"solidity\":0.2},\"type\":\"scatter\"}],\"parcoords\":[{\"type\":\"parcoords\",\"line\":{\"colorbar\":{\"outlinewidth\":0,\"ticks\":\"\"}}}],\"scatterpolargl\":[{\"type\":\"scatterpolargl\",\"marker\":{\"colorbar\":{\"outlinewidth\":0,\"ticks\":\"\"}}}],\"bar\":[{\"error_x\":{\"color\":\"#2a3f5f\"},\"error_y\":{\"color\":\"#2a3f5f\"},\"marker\":{\"line\":{\"color\":\"#E5ECF6\",\"width\":0.5},\"pattern\":{\"fillmode\":\"overlay\",\"size\":10,\"solidity\":0.2}},\"type\":\"bar\"}],\"scattergeo\":[{\"type\":\"scattergeo\",\"marker\":{\"colorbar\":{\"outlinewidth\":0,\"ticks\":\"\"}}}],\"scatterpolar\":[{\"type\":\"scatterpolar\",\"marker\":{\"colorbar\":{\"outlinewidth\":0,\"ticks\":\"\"}}}],\"histogram\":[{\"marker\":{\"pattern\":{\"fillmode\":\"overlay\",\"size\":10,\"solidity\":0.2}},\"type\":\"histogram\"}],\"scattergl\":[{\"type\":\"scattergl\",\"marker\":{\"colorbar\":{\"outlinewidth\":0,\"ticks\":\"\"}}}],\"scatter3d\":[{\"type\":\"scatter3d\",\"line\":{\"colorbar\":{\"outlinewidth\":0,\"ticks\":\"\"}},\"marker\":{\"colorbar\":{\"outlinewidth\":0,\"ticks\":\"\"}}}],\"scattermapbox\":[{\"type\":\"scattermapbox\",\"marker\":{\"colorbar\":{\"outlinewidth\":0,\"ticks\":\"\"}}}],\"scatterternary\":[{\"type\":\"scatterternary\",\"marker\":{\"colorbar\":{\"outlinewidth\":0,\"ticks\":\"\"}}}],\"scattercarpet\":[{\"type\":\"scattercarpet\",\"marker\":{\"colorbar\":{\"outlinewidth\":0,\"ticks\":\"\"}}}],\"carpet\":[{\"aaxis\":{\"endlinecolor\":\"#2a3f5f\",\"gridcolor\":\"white\",\"linecolor\":\"white\",\"minorgridcolor\":\"white\",\"startlinecolor\":\"#2a3f5f\"},\"baxis\":{\"endlinecolor\":\"#2a3f5f\",\"gridcolor\":\"white\",\"linecolor\":\"white\",\"minorgridcolor\":\"white\",\"startlinecolor\":\"#2a3f5f\"},\"type\":\"carpet\"}],\"table\":[{\"cells\":{\"fill\":{\"color\":\"#EBF0F8\"},\"line\":{\"color\":\"white\"}},\"header\":{\"fill\":{\"color\":\"#C8D4E3\"},\"line\":{\"color\":\"white\"}},\"type\":\"table\"}],\"barpolar\":[{\"marker\":{\"line\":{\"color\":\"#E5ECF6\",\"width\":0.5},\"pattern\":{\"fillmode\":\"overlay\",\"size\":10,\"solidity\":0.2}},\"type\":\"barpolar\"}],\"pie\":[{\"automargin\":true,\"type\":\"pie\"}]},\"layout\":{\"autotypenumbers\":\"strict\",\"colorway\":[\"#636efa\",\"#EF553B\",\"#00cc96\",\"#ab63fa\",\"#FFA15A\",\"#19d3f3\",\"#FF6692\",\"#B6E880\",\"#FF97FF\",\"#FECB52\"],\"font\":{\"color\":\"#2a3f5f\"},\"hovermode\":\"closest\",\"hoverlabel\":{\"align\":\"left\"},\"paper_bgcolor\":\"white\",\"plot_bgcolor\":\"#E5ECF6\",\"polar\":{\"bgcolor\":\"#E5ECF6\",\"angularaxis\":{\"gridcolor\":\"white\",\"linecolor\":\"white\",\"ticks\":\"\"},\"radialaxis\":{\"gridcolor\":\"white\",\"linecolor\":\"white\",\"ticks\":\"\"}},\"ternary\":{\"bgcolor\":\"#E5ECF6\",\"aaxis\":{\"gridcolor\":\"white\",\"linecolor\":\"white\",\"ticks\":\"\"},\"baxis\":{\"gridcolor\":\"white\",\"linecolor\":\"white\",\"ticks\":\"\"},\"caxis\":{\"gridcolor\":\"white\",\"linecolor\":\"white\",\"ticks\":\"\"}},\"coloraxis\":{\"colorbar\":{\"outlinewidth\":0,\"ticks\":\"\"}},\"colorscale\":{\"sequential\":[[0.0,\"#0d0887\"],[0.1111111111111111,\"#46039f\"],[0.2222222222222222,\"#7201a8\"],[0.3333333333333333,\"#9c179e\"],[0.4444444444444444,\"#bd3786\"],[0.5555555555555556,\"#d8576b\"],[0.6666666666666666,\"#ed7953\"],[0.7777777777777778,\"#fb9f3a\"],[0.8888888888888888,\"#fdca26\"],[1.0,\"#f0f921\"]],\"sequentialminus\":[[0.0,\"#0d0887\"],[0.1111111111111111,\"#46039f\"],[0.2222222222222222,\"#7201a8\"],[0.3333333333333333,\"#9c179e\"],[0.4444444444444444,\"#bd3786\"],[0.5555555555555556,\"#d8576b\"],[0.6666666666666666,\"#ed7953\"],[0.7777777777777778,\"#fb9f3a\"],[0.8888888888888888,\"#fdca26\"],[1.0,\"#f0f921\"]],\"diverging\":[[0,\"#8e0152\"],[0.1,\"#c51b7d\"],[0.2,\"#de77ae\"],[0.3,\"#f1b6da\"],[0.4,\"#fde0ef\"],[0.5,\"#f7f7f7\"],[0.6,\"#e6f5d0\"],[0.7,\"#b8e186\"],[0.8,\"#7fbc41\"],[0.9,\"#4d9221\"],[1,\"#276419\"]]},\"xaxis\":{\"gridcolor\":\"white\",\"linecolor\":\"white\",\"ticks\":\"\",\"title\":{\"standoff\":15},\"zerolinecolor\":\"white\",\"automargin\":true,\"zerolinewidth\":2},\"yaxis\":{\"gridcolor\":\"white\",\"linecolor\":\"white\",\"ticks\":\"\",\"title\":{\"standoff\":15},\"zerolinecolor\":\"white\",\"automargin\":true,\"zerolinewidth\":2},\"scene\":{\"xaxis\":{\"backgroundcolor\":\"#E5ECF6\",\"gridcolor\":\"white\",\"linecolor\":\"white\",\"showbackground\":true,\"ticks\":\"\",\"zerolinecolor\":\"white\",\"gridwidth\":2},\"yaxis\":{\"backgroundcolor\":\"#E5ECF6\",\"gridcolor\":\"white\",\"linecolor\":\"white\",\"showbackground\":true,\"ticks\":\"\",\"zerolinecolor\":\"white\",\"gridwidth\":2},\"zaxis\":{\"backgroundcolor\":\"#E5ECF6\",\"gridcolor\":\"white\",\"linecolor\":\"white\",\"showbackground\":true,\"ticks\":\"\",\"zerolinecolor\":\"white\",\"gridwidth\":2}},\"shapedefaults\":{\"line\":{\"color\":\"#2a3f5f\"}},\"annotationdefaults\":{\"arrowcolor\":\"#2a3f5f\",\"arrowhead\":0,\"arrowwidth\":1},\"geo\":{\"bgcolor\":\"white\",\"landcolor\":\"#E5ECF6\",\"subunitcolor\":\"white\",\"showland\":true,\"showlakes\":true,\"lakecolor\":\"white\"},\"title\":{\"x\":0.05},\"mapbox\":{\"style\":\"light\"}}},\"geo\":{\"domain\":{\"x\":[0.0,1.0],\"y\":[0.0,1.0]},\"center\":{},\"scope\":\"usa\"},\"coloraxis\":{\"colorbar\":{\"title\":{\"text\":\"Number of Years\"},\"tickfont\":{\"size\":10},\"x\":0.75,\"len\":0.8,\"thickness\":10,\"ticks\":\"outside\"},\"colorscale\":[[0,\"#E9967A\"],[0.5,\"white\"],[1,\"#4682B4\"]]},\"legend\":{\"tracegroupgap\":0},\"margin\":{\"t\":60},\"title\":{\"text\":\"\\u003cb\\u003eNumber of Years From 2000 to 2023\\u003cbr\\u003eWith an Increase in Nominal Minimum WBA\\u003c\\u002fb\\u003e\",\"x\":0.5,\"xanchor\":\"center\"},\"font\":{\"family\":\"Cambria\",\"size\":12,\"color\":\"black\"}},                        {\"responsive\": true}                    ).then(function(){\n",
       "                            \n",
       "var gd = document.getElementById('d36c0827-a532-435e-aa6a-0c70d297f02d');\n",
       "var x = new MutationObserver(function (mutations, observer) {{\n",
       "        var display = window.getComputedStyle(gd).display;\n",
       "        if (!display || display === 'none') {{\n",
       "            console.log([gd, 'removed!']);\n",
       "            Plotly.purge(gd);\n",
       "            observer.disconnect();\n",
       "        }}\n",
       "}});\n",
       "\n",
       "// Listen for the removal of the full notebook cells\n",
       "var notebookContainer = gd.closest('#notebook-container');\n",
       "if (notebookContainer) {{\n",
       "    x.observe(notebookContainer, {childList: true});\n",
       "}}\n",
       "\n",
       "// Listen for the clearing of the current output cell\n",
       "var outputEl = gd.closest('.output');\n",
       "if (outputEl) {{\n",
       "    x.observe(outputEl, {childList: true});\n",
       "}}\n",
       "\n",
       "                        })                };                });            </script>        </div>"
      ]
     },
     "metadata": {},
     "output_type": "display_data"
    }
   ],
   "source": [
    "fig = px.choropleth(\n",
    "    data_frame=nominal_inc_minwba,\n",
    "    locations='State',               \n",
    "    locationmode='USA-states',       \n",
    "    color='Number of Years',                   \n",
    "    color_continuous_scale= colorscale,\n",
    "    scope='usa',                      \n",
    ")\n",
    "\n",
    "fig.update_layout(\n",
    "    title={\n",
    "        'text': \"<b>Number of Years From 2000 to 2023<br>With an Increase in Nominal Minimum WBA</b>\",\n",
    "        'x': 0.5, \n",
    "        'xanchor': 'center'\n",
    "    },\n",
    "    font=dict(\n",
    "        family=\"Cambria\",  \n",
    "        size=12,         \n",
    "        color=\"black\",\n",
    "    ),\n",
    "    coloraxis_colorbar=dict(\n",
    "        title='Number of Years',\n",
    "        x=0.75,            \n",
    "        len=0.8,           \n",
    "        thickness=10,      \n",
    "        ticks='outside',\n",
    "        tickfont=dict(size=10),\n",
    "    )\n",
    ")\n",
    "\n",
    "fig.show()"
   ]
  },
  {
   "cell_type": "code",
   "execution_count": 66,
   "id": "24a70390-e0a5-4f6d-ab61-9fc8b15839da",
   "metadata": {
    "tags": []
   },
   "outputs": [],
   "source": [
    "write_html(fig, \"fig_1b.html\")"
   ]
  },
  {
   "cell_type": "markdown",
   "id": "1ebf3130-e3f1-4803-81f8-4a774887a6a5",
   "metadata": {},
   "source": [
    "## Figure 2: Scatter of Recipiency Rate vs. Real Average WBA (regional, 2023 base)"
   ]
  },
  {
   "cell_type": "code",
   "execution_count": null,
   "id": "a3ee3e9f-f425-457b-87b4-f4839f993d68",
   "metadata": {},
   "outputs": [],
   "source": []
  }
 ],
 "metadata": {
  "kernelspec": {
   "display_name": "Python 3 (ipykernel)",
   "language": "python",
   "name": "python3"
  },
  "language_info": {
   "codemirror_mode": {
    "name": "ipython",
    "version": 3
   },
   "file_extension": ".py",
   "mimetype": "text/x-python",
   "name": "python",
   "nbconvert_exporter": "python",
   "pygments_lexer": "ipython3",
   "version": "3.11.6"
  }
 },
 "nbformat": 4,
 "nbformat_minor": 5
}
