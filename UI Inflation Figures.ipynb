{
 "cells": [
  {
   "cell_type": "code",
   "execution_count": 85,
   "id": "9d931ccb-b1d8-4235-9804-c79b5cc90f02",
   "metadata": {
    "tags": []
   },
   "outputs": [],
   "source": [
    "import pandas as pd\n",
    "import numpy as np\n",
    "from matplotlib import pyplot as plt\n",
    "import plotly.express as px\n",
    "from plotly.io import write_html\n",
    "import plotly.graph_objects as go\n",
    "import plotly.io as pio"
   ]
  },
  {
   "cell_type": "code",
   "execution_count": 147,
   "id": "e4c8da6e-ac3c-4933-8229-aa4b753e2a18",
   "metadata": {
    "tags": []
   },
   "outputs": [],
   "source": [
    "colorscale = [\n",
    "    [0, 'rgb(244, 164, 96)'],\n",
    "    [0.5, 'white'],\n",
    "    [1, '#4682B4']\n",
    "]"
   ]
  },
  {
   "cell_type": "code",
   "execution_count": 2,
   "id": "06403e3c-a76c-40a8-8f1d-a3f5d4787ece",
   "metadata": {
    "tags": []
   },
   "outputs": [
    {
     "data": {
      "text/html": [
       "<div>\n",
       "<style scoped>\n",
       "    .dataframe tbody tr th:only-of-type {\n",
       "        vertical-align: middle;\n",
       "    }\n",
       "\n",
       "    .dataframe tbody tr th {\n",
       "        vertical-align: top;\n",
       "    }\n",
       "\n",
       "    .dataframe thead th {\n",
       "        text-align: right;\n",
       "    }\n",
       "</style>\n",
       "<table border=\"1\" class=\"dataframe\">\n",
       "  <thead>\n",
       "    <tr style=\"text-align: right;\">\n",
       "      <th></th>\n",
       "      <th>Unnamed: 0</th>\n",
       "      <th>Year</th>\n",
       "      <th>State</th>\n",
       "      <th>Replacement Ratio 1</th>\n",
       "      <th>Replacement Ratio 2</th>\n",
       "      <th>Recipiency Rate</th>\n",
       "      <th>Average WBA</th>\n",
       "      <th>Minimum WBA</th>\n",
       "      <th>Maximum WBA</th>\n",
       "      <th>Average Weekly Wage</th>\n",
       "      <th>...</th>\n",
       "      <th>Real Maximum WBA (regional, 2000 base)</th>\n",
       "      <th>Real Average WBA (state, 2000 base)</th>\n",
       "      <th>Real Minimum WBA (state, 2000 base)</th>\n",
       "      <th>Real Maximum WBA (state, 2000 base)</th>\n",
       "      <th>Real Average WBA (regional, 2023 base)</th>\n",
       "      <th>Real Minimum WBA (regional, 2023 base)</th>\n",
       "      <th>Real Maximum WBA (regional, 2023 base)</th>\n",
       "      <th>Real Average WBA (state, 2017 base)</th>\n",
       "      <th>Real Minimum WBA (state, 2017 base)</th>\n",
       "      <th>Real Maximum WBA (state, 2017 base)</th>\n",
       "    </tr>\n",
       "  </thead>\n",
       "  <tbody>\n",
       "    <tr>\n",
       "      <th>0</th>\n",
       "      <td>0</td>\n",
       "      <td>2000</td>\n",
       "      <td>AK</td>\n",
       "      <td>0.308</td>\n",
       "      <td>0.281</td>\n",
       "      <td>0.608800</td>\n",
       "      <td>168.56</td>\n",
       "      <td>44.0</td>\n",
       "      <td>248.0</td>\n",
       "      <td>599.99</td>\n",
       "      <td>...</td>\n",
       "      <td>248.00</td>\n",
       "      <td>168.56</td>\n",
       "      <td>44.0</td>\n",
       "      <td>248.0</td>\n",
       "      <td>312.27</td>\n",
       "      <td>81.51</td>\n",
       "      <td>459.44</td>\n",
       "      <td>256.15</td>\n",
       "      <td>66.86</td>\n",
       "      <td>376.87</td>\n",
       "    </tr>\n",
       "    <tr>\n",
       "      <th>1</th>\n",
       "      <td>1</td>\n",
       "      <td>2000</td>\n",
       "      <td>AL</td>\n",
       "      <td>0.434</td>\n",
       "      <td>0.383</td>\n",
       "      <td>0.292086</td>\n",
       "      <td>164.13</td>\n",
       "      <td>45.0</td>\n",
       "      <td>190.0</td>\n",
       "      <td>428.77</td>\n",
       "      <td>...</td>\n",
       "      <td>190.00</td>\n",
       "      <td>164.13</td>\n",
       "      <td>45.0</td>\n",
       "      <td>190.0</td>\n",
       "      <td>290.98</td>\n",
       "      <td>79.78</td>\n",
       "      <td>336.84</td>\n",
       "      <td>239.25</td>\n",
       "      <td>65.60</td>\n",
       "      <td>276.96</td>\n",
       "    </tr>\n",
       "    <tr>\n",
       "      <th>2</th>\n",
       "      <td>2</td>\n",
       "      <td>2000</td>\n",
       "      <td>AR</td>\n",
       "      <td>0.523</td>\n",
       "      <td>0.488</td>\n",
       "      <td>0.453458</td>\n",
       "      <td>211.50</td>\n",
       "      <td>55.0</td>\n",
       "      <td>309.0</td>\n",
       "      <td>433.26</td>\n",
       "      <td>...</td>\n",
       "      <td>309.00</td>\n",
       "      <td>211.50</td>\n",
       "      <td>55.0</td>\n",
       "      <td>309.0</td>\n",
       "      <td>374.96</td>\n",
       "      <td>97.51</td>\n",
       "      <td>547.81</td>\n",
       "      <td>274.67</td>\n",
       "      <td>71.43</td>\n",
       "      <td>401.30</td>\n",
       "    </tr>\n",
       "    <tr>\n",
       "      <th>3</th>\n",
       "      <td>3</td>\n",
       "      <td>2000</td>\n",
       "      <td>AZ</td>\n",
       "      <td>0.463</td>\n",
       "      <td>0.385</td>\n",
       "      <td>0.205709</td>\n",
       "      <td>176.33</td>\n",
       "      <td>40.0</td>\n",
       "      <td>205.0</td>\n",
       "      <td>458.32</td>\n",
       "      <td>...</td>\n",
       "      <td>205.00</td>\n",
       "      <td>NaN</td>\n",
       "      <td>NaN</td>\n",
       "      <td>NaN</td>\n",
       "      <td>326.67</td>\n",
       "      <td>74.10</td>\n",
       "      <td>379.78</td>\n",
       "      <td>NaN</td>\n",
       "      <td>NaN</td>\n",
       "      <td>NaN</td>\n",
       "    </tr>\n",
       "    <tr>\n",
       "      <th>4</th>\n",
       "      <td>4</td>\n",
       "      <td>2000</td>\n",
       "      <td>CA</td>\n",
       "      <td>0.383</td>\n",
       "      <td>0.310</td>\n",
       "      <td>0.409791</td>\n",
       "      <td>163.65</td>\n",
       "      <td>40.0</td>\n",
       "      <td>230.0</td>\n",
       "      <td>528.25</td>\n",
       "      <td>...</td>\n",
       "      <td>230.00</td>\n",
       "      <td>163.65</td>\n",
       "      <td>40.0</td>\n",
       "      <td>230.0</td>\n",
       "      <td>303.18</td>\n",
       "      <td>74.10</td>\n",
       "      <td>426.10</td>\n",
       "      <td>246.90</td>\n",
       "      <td>60.35</td>\n",
       "      <td>347.01</td>\n",
       "    </tr>\n",
       "    <tr>\n",
       "      <th>...</th>\n",
       "      <td>...</td>\n",
       "      <td>...</td>\n",
       "      <td>...</td>\n",
       "      <td>...</td>\n",
       "      <td>...</td>\n",
       "      <td>...</td>\n",
       "      <td>...</td>\n",
       "      <td>...</td>\n",
       "      <td>...</td>\n",
       "      <td>...</td>\n",
       "      <td>...</td>\n",
       "      <td>...</td>\n",
       "      <td>...</td>\n",
       "      <td>...</td>\n",
       "      <td>...</td>\n",
       "      <td>...</td>\n",
       "      <td>...</td>\n",
       "      <td>...</td>\n",
       "      <td>...</td>\n",
       "      <td>...</td>\n",
       "      <td>...</td>\n",
       "    </tr>\n",
       "    <tr>\n",
       "      <th>1241</th>\n",
       "      <td>1241</td>\n",
       "      <td>2023</td>\n",
       "      <td>VT</td>\n",
       "      <td>0.531</td>\n",
       "      <td>0.476</td>\n",
       "      <td>0.405788</td>\n",
       "      <td>496.00</td>\n",
       "      <td>80.0</td>\n",
       "      <td>668.0</td>\n",
       "      <td>1042.34</td>\n",
       "      <td>...</td>\n",
       "      <td>381.91</td>\n",
       "      <td>NaN</td>\n",
       "      <td>NaN</td>\n",
       "      <td>NaN</td>\n",
       "      <td>496.00</td>\n",
       "      <td>80.00</td>\n",
       "      <td>668.00</td>\n",
       "      <td>NaN</td>\n",
       "      <td>NaN</td>\n",
       "      <td>NaN</td>\n",
       "    </tr>\n",
       "    <tr>\n",
       "      <th>1242</th>\n",
       "      <td>1242</td>\n",
       "      <td>2023</td>\n",
       "      <td>WA</td>\n",
       "      <td>0.494</td>\n",
       "      <td>0.436</td>\n",
       "      <td>0.311163</td>\n",
       "      <td>710.91</td>\n",
       "      <td>317.0</td>\n",
       "      <td>999.0</td>\n",
       "      <td>1631.39</td>\n",
       "      <td>...</td>\n",
       "      <td>539.24</td>\n",
       "      <td>NaN</td>\n",
       "      <td>NaN</td>\n",
       "      <td>NaN</td>\n",
       "      <td>710.91</td>\n",
       "      <td>317.00</td>\n",
       "      <td>999.00</td>\n",
       "      <td>NaN</td>\n",
       "      <td>NaN</td>\n",
       "      <td>NaN</td>\n",
       "    </tr>\n",
       "    <tr>\n",
       "      <th>1243</th>\n",
       "      <td>1243</td>\n",
       "      <td>2023</td>\n",
       "      <td>WI</td>\n",
       "      <td>0.374</td>\n",
       "      <td>0.325</td>\n",
       "      <td>0.287291</td>\n",
       "      <td>342.65</td>\n",
       "      <td>54.0</td>\n",
       "      <td>370.0</td>\n",
       "      <td>1053.13</td>\n",
       "      <td>...</td>\n",
       "      <td>220.23</td>\n",
       "      <td>NaN</td>\n",
       "      <td>NaN</td>\n",
       "      <td>NaN</td>\n",
       "      <td>342.65</td>\n",
       "      <td>54.00</td>\n",
       "      <td>370.00</td>\n",
       "      <td>NaN</td>\n",
       "      <td>NaN</td>\n",
       "      <td>NaN</td>\n",
       "    </tr>\n",
       "    <tr>\n",
       "      <th>1244</th>\n",
       "      <td>1244</td>\n",
       "      <td>2023</td>\n",
       "      <td>WV</td>\n",
       "      <td>0.442</td>\n",
       "      <td>0.419</td>\n",
       "      <td>0.238561</td>\n",
       "      <td>401.43</td>\n",
       "      <td>24.0</td>\n",
       "      <td>630.0</td>\n",
       "      <td>957.72</td>\n",
       "      <td>...</td>\n",
       "      <td>355.36</td>\n",
       "      <td>NaN</td>\n",
       "      <td>NaN</td>\n",
       "      <td>NaN</td>\n",
       "      <td>401.43</td>\n",
       "      <td>24.00</td>\n",
       "      <td>630.00</td>\n",
       "      <td>NaN</td>\n",
       "      <td>NaN</td>\n",
       "      <td>NaN</td>\n",
       "    </tr>\n",
       "    <tr>\n",
       "      <th>1245</th>\n",
       "      <td>1245</td>\n",
       "      <td>2023</td>\n",
       "      <td>WY</td>\n",
       "      <td>0.517</td>\n",
       "      <td>0.477</td>\n",
       "      <td>0.209775</td>\n",
       "      <td>465.03</td>\n",
       "      <td>40.0</td>\n",
       "      <td>560.0</td>\n",
       "      <td>974.50</td>\n",
       "      <td>...</td>\n",
       "      <td>302.28</td>\n",
       "      <td>NaN</td>\n",
       "      <td>NaN</td>\n",
       "      <td>NaN</td>\n",
       "      <td>465.03</td>\n",
       "      <td>40.00</td>\n",
       "      <td>560.00</td>\n",
       "      <td>NaN</td>\n",
       "      <td>NaN</td>\n",
       "      <td>NaN</td>\n",
       "    </tr>\n",
       "  </tbody>\n",
       "</table>\n",
       "<p>1246 rows × 26 columns</p>\n",
       "</div>"
      ],
      "text/plain": [
       "      Unnamed: 0  Year State  Replacement Ratio 1  Replacement Ratio 2  \\\n",
       "0              0  2000    AK                0.308                0.281   \n",
       "1              1  2000    AL                0.434                0.383   \n",
       "2              2  2000    AR                0.523                0.488   \n",
       "3              3  2000    AZ                0.463                0.385   \n",
       "4              4  2000    CA                0.383                0.310   \n",
       "...          ...   ...   ...                  ...                  ...   \n",
       "1241        1241  2023    VT                0.531                0.476   \n",
       "1242        1242  2023    WA                0.494                0.436   \n",
       "1243        1243  2023    WI                0.374                0.325   \n",
       "1244        1244  2023    WV                0.442                0.419   \n",
       "1245        1245  2023    WY                0.517                0.477   \n",
       "\n",
       "      Recipiency Rate  Average WBA  Minimum WBA  Maximum WBA  \\\n",
       "0            0.608800       168.56         44.0        248.0   \n",
       "1            0.292086       164.13         45.0        190.0   \n",
       "2            0.453458       211.50         55.0        309.0   \n",
       "3            0.205709       176.33         40.0        205.0   \n",
       "4            0.409791       163.65         40.0        230.0   \n",
       "...               ...          ...          ...          ...   \n",
       "1241         0.405788       496.00         80.0        668.0   \n",
       "1242         0.311163       710.91        317.0        999.0   \n",
       "1243         0.287291       342.65         54.0        370.0   \n",
       "1244         0.238561       401.43         24.0        630.0   \n",
       "1245         0.209775       465.03         40.0        560.0   \n",
       "\n",
       "      Average Weekly Wage  ... Real Maximum WBA (regional, 2000 base)  \\\n",
       "0                  599.99  ...                                 248.00   \n",
       "1                  428.77  ...                                 190.00   \n",
       "2                  433.26  ...                                 309.00   \n",
       "3                  458.32  ...                                 205.00   \n",
       "4                  528.25  ...                                 230.00   \n",
       "...                   ...  ...                                    ...   \n",
       "1241              1042.34  ...                                 381.91   \n",
       "1242              1631.39  ...                                 539.24   \n",
       "1243              1053.13  ...                                 220.23   \n",
       "1244               957.72  ...                                 355.36   \n",
       "1245               974.50  ...                                 302.28   \n",
       "\n",
       "      Real Average WBA (state, 2000 base)  \\\n",
       "0                                  168.56   \n",
       "1                                  164.13   \n",
       "2                                  211.50   \n",
       "3                                     NaN   \n",
       "4                                  163.65   \n",
       "...                                   ...   \n",
       "1241                                  NaN   \n",
       "1242                                  NaN   \n",
       "1243                                  NaN   \n",
       "1244                                  NaN   \n",
       "1245                                  NaN   \n",
       "\n",
       "      Real Minimum WBA (state, 2000 base) Real Maximum WBA (state, 2000 base)  \\\n",
       "0                                    44.0                               248.0   \n",
       "1                                    45.0                               190.0   \n",
       "2                                    55.0                               309.0   \n",
       "3                                     NaN                                 NaN   \n",
       "4                                    40.0                               230.0   \n",
       "...                                   ...                                 ...   \n",
       "1241                                  NaN                                 NaN   \n",
       "1242                                  NaN                                 NaN   \n",
       "1243                                  NaN                                 NaN   \n",
       "1244                                  NaN                                 NaN   \n",
       "1245                                  NaN                                 NaN   \n",
       "\n",
       "      Real Average WBA (regional, 2023 base)  \\\n",
       "0                                     312.27   \n",
       "1                                     290.98   \n",
       "2                                     374.96   \n",
       "3                                     326.67   \n",
       "4                                     303.18   \n",
       "...                                      ...   \n",
       "1241                                  496.00   \n",
       "1242                                  710.91   \n",
       "1243                                  342.65   \n",
       "1244                                  401.43   \n",
       "1245                                  465.03   \n",
       "\n",
       "      Real Minimum WBA (regional, 2023 base)  \\\n",
       "0                                      81.51   \n",
       "1                                      79.78   \n",
       "2                                      97.51   \n",
       "3                                      74.10   \n",
       "4                                      74.10   \n",
       "...                                      ...   \n",
       "1241                                   80.00   \n",
       "1242                                  317.00   \n",
       "1243                                   54.00   \n",
       "1244                                   24.00   \n",
       "1245                                   40.00   \n",
       "\n",
       "      Real Maximum WBA (regional, 2023 base)  \\\n",
       "0                                     459.44   \n",
       "1                                     336.84   \n",
       "2                                     547.81   \n",
       "3                                     379.78   \n",
       "4                                     426.10   \n",
       "...                                      ...   \n",
       "1241                                  668.00   \n",
       "1242                                  999.00   \n",
       "1243                                  370.00   \n",
       "1244                                  630.00   \n",
       "1245                                  560.00   \n",
       "\n",
       "      Real Average WBA (state, 2017 base)  \\\n",
       "0                                  256.15   \n",
       "1                                  239.25   \n",
       "2                                  274.67   \n",
       "3                                     NaN   \n",
       "4                                  246.90   \n",
       "...                                   ...   \n",
       "1241                                  NaN   \n",
       "1242                                  NaN   \n",
       "1243                                  NaN   \n",
       "1244                                  NaN   \n",
       "1245                                  NaN   \n",
       "\n",
       "      Real Minimum WBA (state, 2017 base)  Real Maximum WBA (state, 2017 base)  \n",
       "0                                   66.86                               376.87  \n",
       "1                                   65.60                               276.96  \n",
       "2                                   71.43                               401.30  \n",
       "3                                     NaN                                  NaN  \n",
       "4                                   60.35                               347.01  \n",
       "...                                   ...                                  ...  \n",
       "1241                                  NaN                                  NaN  \n",
       "1242                                  NaN                                  NaN  \n",
       "1243                                  NaN                                  NaN  \n",
       "1244                                  NaN                                  NaN  \n",
       "1245                                  NaN                                  NaN  \n",
       "\n",
       "[1246 rows x 26 columns]"
      ]
     },
     "execution_count": 2,
     "metadata": {},
     "output_type": "execute_result"
    }
   ],
   "source": [
    "master = pd.read_csv('master.csv')\n",
    "master"
   ]
  },
  {
   "cell_type": "code",
   "execution_count": 4,
   "id": "e041a197-bd63-4590-aead-070e373f7183",
   "metadata": {
    "tags": []
   },
   "outputs": [
    {
     "data": {
      "text/html": [
       "<div>\n",
       "<style scoped>\n",
       "    .dataframe tbody tr th:only-of-type {\n",
       "        vertical-align: middle;\n",
       "    }\n",
       "\n",
       "    .dataframe tbody tr th {\n",
       "        vertical-align: top;\n",
       "    }\n",
       "\n",
       "    .dataframe thead th {\n",
       "        text-align: right;\n",
       "    }\n",
       "</style>\n",
       "<table border=\"1\" class=\"dataframe\">\n",
       "  <thead>\n",
       "    <tr style=\"text-align: right;\">\n",
       "      <th></th>\n",
       "      <th>Unnamed: 0</th>\n",
       "      <th>Year</th>\n",
       "      <th>State</th>\n",
       "      <th>Replacement Ratio 1</th>\n",
       "      <th>Replacement Ratio 2</th>\n",
       "      <th>Recipiency Rate</th>\n",
       "      <th>Average WBA</th>\n",
       "      <th>Minimum WBA</th>\n",
       "      <th>Maximum WBA</th>\n",
       "      <th>Average Weekly Wage</th>\n",
       "      <th>...</th>\n",
       "      <th>Real Maximum WBA (regional, 2000 base)</th>\n",
       "      <th>Real Average WBA (state, 2000 base)</th>\n",
       "      <th>Real Minimum WBA (state, 2000 base)</th>\n",
       "      <th>Real Maximum WBA (state, 2000 base)</th>\n",
       "      <th>Real Average WBA (regional, 2023 base)</th>\n",
       "      <th>Real Minimum WBA (regional, 2023 base)</th>\n",
       "      <th>Real Maximum WBA (regional, 2023 base)</th>\n",
       "      <th>Real Average WBA (state, 2017 base)</th>\n",
       "      <th>Real Minimum WBA (state, 2017 base)</th>\n",
       "      <th>Real Maximum WBA (state, 2017 base)</th>\n",
       "    </tr>\n",
       "  </thead>\n",
       "  <tbody>\n",
       "    <tr>\n",
       "      <th>6</th>\n",
       "      <td>6</td>\n",
       "      <td>2000</td>\n",
       "      <td>CT</td>\n",
       "      <td>0.450</td>\n",
       "      <td>0.415</td>\n",
       "      <td>0.764078</td>\n",
       "      <td>253.09</td>\n",
       "      <td>15.0</td>\n",
       "      <td>362.0</td>\n",
       "      <td>609.17</td>\n",
       "      <td>...</td>\n",
       "      <td>362.00</td>\n",
       "      <td>253.09</td>\n",
       "      <td>15.00</td>\n",
       "      <td>362.00</td>\n",
       "      <td>442.68</td>\n",
       "      <td>26.24</td>\n",
       "      <td>633.17</td>\n",
       "      <td>340.28</td>\n",
       "      <td>20.17</td>\n",
       "      <td>486.70</td>\n",
       "    </tr>\n",
       "    <tr>\n",
       "      <th>58</th>\n",
       "      <td>58</td>\n",
       "      <td>2001</td>\n",
       "      <td>CT</td>\n",
       "      <td>0.449</td>\n",
       "      <td>0.413</td>\n",
       "      <td>0.756924</td>\n",
       "      <td>271.52</td>\n",
       "      <td>15.0</td>\n",
       "      <td>397.0</td>\n",
       "      <td>657.31</td>\n",
       "      <td>...</td>\n",
       "      <td>386.24</td>\n",
       "      <td>265.42</td>\n",
       "      <td>14.66</td>\n",
       "      <td>388.08</td>\n",
       "      <td>462.03</td>\n",
       "      <td>25.52</td>\n",
       "      <td>675.56</td>\n",
       "      <td>356.85</td>\n",
       "      <td>19.71</td>\n",
       "      <td>521.77</td>\n",
       "    </tr>\n",
       "    <tr>\n",
       "      <th>109</th>\n",
       "      <td>109</td>\n",
       "      <td>2002</td>\n",
       "      <td>CT</td>\n",
       "      <td>0.441</td>\n",
       "      <td>0.402</td>\n",
       "      <td>0.656872</td>\n",
       "      <td>280.45</td>\n",
       "      <td>15.0</td>\n",
       "      <td>406.0</td>\n",
       "      <td>697.57</td>\n",
       "      <td>...</td>\n",
       "      <td>387.02</td>\n",
       "      <td>267.65</td>\n",
       "      <td>14.32</td>\n",
       "      <td>387.47</td>\n",
       "      <td>467.59</td>\n",
       "      <td>25.01</td>\n",
       "      <td>676.92</td>\n",
       "      <td>359.85</td>\n",
       "      <td>19.25</td>\n",
       "      <td>520.95</td>\n",
       "    </tr>\n",
       "    <tr>\n",
       "      <th>161</th>\n",
       "      <td>161</td>\n",
       "      <td>2003</td>\n",
       "      <td>CT</td>\n",
       "      <td>0.452</td>\n",
       "      <td>0.413</td>\n",
       "      <td>0.547254</td>\n",
       "      <td>292.78</td>\n",
       "      <td>15.0</td>\n",
       "      <td>411.0</td>\n",
       "      <td>709.09</td>\n",
       "      <td>...</td>\n",
       "      <td>381.05</td>\n",
       "      <td>277.91</td>\n",
       "      <td>14.24</td>\n",
       "      <td>390.13</td>\n",
       "      <td>474.78</td>\n",
       "      <td>24.32</td>\n",
       "      <td>666.49</td>\n",
       "      <td>373.65</td>\n",
       "      <td>19.14</td>\n",
       "      <td>524.52</td>\n",
       "    </tr>\n",
       "    <tr>\n",
       "      <th>213</th>\n",
       "      <td>213</td>\n",
       "      <td>2004</td>\n",
       "      <td>CT</td>\n",
       "      <td>0.440</td>\n",
       "      <td>0.400</td>\n",
       "      <td>0.483683</td>\n",
       "      <td>281.03</td>\n",
       "      <td>15.0</td>\n",
       "      <td>429.0</td>\n",
       "      <td>701.99</td>\n",
       "      <td>...</td>\n",
       "      <td>384.43</td>\n",
       "      <td>259.05</td>\n",
       "      <td>13.83</td>\n",
       "      <td>395.45</td>\n",
       "      <td>440.48</td>\n",
       "      <td>23.51</td>\n",
       "      <td>672.40</td>\n",
       "      <td>348.29</td>\n",
       "      <td>18.59</td>\n",
       "      <td>531.67</td>\n",
       "    </tr>\n",
       "    <tr>\n",
       "      <th>265</th>\n",
       "      <td>265</td>\n",
       "      <td>2005</td>\n",
       "      <td>CT</td>\n",
       "      <td>0.389</td>\n",
       "      <td>0.364</td>\n",
       "      <td>0.458786</td>\n",
       "      <td>288.38</td>\n",
       "      <td>15.0</td>\n",
       "      <td>447.0</td>\n",
       "      <td>792.45</td>\n",
       "      <td>...</td>\n",
       "      <td>386.47</td>\n",
       "      <td>262.34</td>\n",
       "      <td>13.65</td>\n",
       "      <td>406.63</td>\n",
       "      <td>436.09</td>\n",
       "      <td>22.68</td>\n",
       "      <td>675.96</td>\n",
       "      <td>352.71</td>\n",
       "      <td>18.35</td>\n",
       "      <td>546.72</td>\n",
       "    </tr>\n",
       "    <tr>\n",
       "      <th>317</th>\n",
       "      <td>317</td>\n",
       "      <td>2006</td>\n",
       "      <td>CT</td>\n",
       "      <td>0.378</td>\n",
       "      <td>0.323</td>\n",
       "      <td>0.482801</td>\n",
       "      <td>293.12</td>\n",
       "      <td>15.0</td>\n",
       "      <td>465.0</td>\n",
       "      <td>907.62</td>\n",
       "      <td>...</td>\n",
       "      <td>388.00</td>\n",
       "      <td>259.97</td>\n",
       "      <td>13.30</td>\n",
       "      <td>412.42</td>\n",
       "      <td>427.80</td>\n",
       "      <td>21.89</td>\n",
       "      <td>678.65</td>\n",
       "      <td>349.53</td>\n",
       "      <td>17.89</td>\n",
       "      <td>554.49</td>\n",
       "    </tr>\n",
       "    <tr>\n",
       "      <th>369</th>\n",
       "      <td>369</td>\n",
       "      <td>2007</td>\n",
       "      <td>CT</td>\n",
       "      <td>0.363</td>\n",
       "      <td>0.337</td>\n",
       "      <td>0.468150</td>\n",
       "      <td>300.12</td>\n",
       "      <td>15.0</td>\n",
       "      <td>483.0</td>\n",
       "      <td>889.83</td>\n",
       "      <td>...</td>\n",
       "      <td>392.95</td>\n",
       "      <td>257.07</td>\n",
       "      <td>12.85</td>\n",
       "      <td>413.72</td>\n",
       "      <td>427.07</td>\n",
       "      <td>21.34</td>\n",
       "      <td>687.30</td>\n",
       "      <td>345.63</td>\n",
       "      <td>17.27</td>\n",
       "      <td>556.24</td>\n",
       "    </tr>\n",
       "    <tr>\n",
       "      <th>421</th>\n",
       "      <td>421</td>\n",
       "      <td>2008</td>\n",
       "      <td>CT</td>\n",
       "      <td>0.396</td>\n",
       "      <td>0.368</td>\n",
       "      <td>0.449149</td>\n",
       "      <td>310.64</td>\n",
       "      <td>15.0</td>\n",
       "      <td>501.0</td>\n",
       "      <td>844.87</td>\n",
       "      <td>...</td>\n",
       "      <td>391.96</td>\n",
       "      <td>262.20</td>\n",
       "      <td>12.66</td>\n",
       "      <td>422.88</td>\n",
       "      <td>425.08</td>\n",
       "      <td>20.53</td>\n",
       "      <td>685.58</td>\n",
       "      <td>352.53</td>\n",
       "      <td>17.02</td>\n",
       "      <td>568.56</td>\n",
       "    </tr>\n",
       "    <tr>\n",
       "      <th>473</th>\n",
       "      <td>473</td>\n",
       "      <td>2009</td>\n",
       "      <td>CT</td>\n",
       "      <td>0.431</td>\n",
       "      <td>0.397</td>\n",
       "      <td>0.532430</td>\n",
       "      <td>328.96</td>\n",
       "      <td>15.0</td>\n",
       "      <td>519.0</td>\n",
       "      <td>829.30</td>\n",
       "      <td>...</td>\n",
       "      <td>405.98</td>\n",
       "      <td>269.63</td>\n",
       "      <td>12.29</td>\n",
       "      <td>425.40</td>\n",
       "      <td>450.08</td>\n",
       "      <td>20.52</td>\n",
       "      <td>710.09</td>\n",
       "      <td>362.52</td>\n",
       "      <td>16.53</td>\n",
       "      <td>571.94</td>\n",
       "    </tr>\n",
       "    <tr>\n",
       "      <th>525</th>\n",
       "      <td>525</td>\n",
       "      <td>2010</td>\n",
       "      <td>CT</td>\n",
       "      <td>0.442</td>\n",
       "      <td>0.405</td>\n",
       "      <td>0.366432</td>\n",
       "      <td>325.44</td>\n",
       "      <td>15.0</td>\n",
       "      <td>537.0</td>\n",
       "      <td>802.64</td>\n",
       "      <td>...</td>\n",
       "      <td>411.93</td>\n",
       "      <td>271.43</td>\n",
       "      <td>12.51</td>\n",
       "      <td>447.88</td>\n",
       "      <td>436.65</td>\n",
       "      <td>20.13</td>\n",
       "      <td>720.51</td>\n",
       "      <td>364.94</td>\n",
       "      <td>16.82</td>\n",
       "      <td>602.17</td>\n",
       "    </tr>\n",
       "    <tr>\n",
       "      <th>577</th>\n",
       "      <td>577</td>\n",
       "      <td>2011</td>\n",
       "      <td>CT</td>\n",
       "      <td>0.425</td>\n",
       "      <td>0.392</td>\n",
       "      <td>0.332683</td>\n",
       "      <td>324.51</td>\n",
       "      <td>15.0</td>\n",
       "      <td>555.0</td>\n",
       "      <td>827.56</td>\n",
       "      <td>...</td>\n",
       "      <td>413.15</td>\n",
       "      <td>266.68</td>\n",
       "      <td>12.33</td>\n",
       "      <td>456.09</td>\n",
       "      <td>422.52</td>\n",
       "      <td>19.53</td>\n",
       "      <td>722.63</td>\n",
       "      <td>358.55</td>\n",
       "      <td>16.57</td>\n",
       "      <td>613.21</td>\n",
       "    </tr>\n",
       "    <tr>\n",
       "      <th>629</th>\n",
       "      <td>629</td>\n",
       "      <td>2012</td>\n",
       "      <td>CT</td>\n",
       "      <td>0.436</td>\n",
       "      <td>0.407</td>\n",
       "      <td>0.352537</td>\n",
       "      <td>329.06</td>\n",
       "      <td>15.0</td>\n",
       "      <td>573.0</td>\n",
       "      <td>809.28</td>\n",
       "      <td>...</td>\n",
       "      <td>418.38</td>\n",
       "      <td>262.35</td>\n",
       "      <td>11.96</td>\n",
       "      <td>456.84</td>\n",
       "      <td>420.25</td>\n",
       "      <td>19.16</td>\n",
       "      <td>731.79</td>\n",
       "      <td>352.73</td>\n",
       "      <td>16.08</td>\n",
       "      <td>614.22</td>\n",
       "    </tr>\n",
       "    <tr>\n",
       "      <th>681</th>\n",
       "      <td>681</td>\n",
       "      <td>2013</td>\n",
       "      <td>CT</td>\n",
       "      <td>0.443</td>\n",
       "      <td>0.430</td>\n",
       "      <td>0.343802</td>\n",
       "      <td>333.71</td>\n",
       "      <td>15.0</td>\n",
       "      <td>591.0</td>\n",
       "      <td>775.51</td>\n",
       "      <td>...</td>\n",
       "      <td>425.74</td>\n",
       "      <td>259.00</td>\n",
       "      <td>11.64</td>\n",
       "      <td>458.68</td>\n",
       "      <td>420.47</td>\n",
       "      <td>18.90</td>\n",
       "      <td>744.66</td>\n",
       "      <td>348.22</td>\n",
       "      <td>15.65</td>\n",
       "      <td>616.69</td>\n",
       "    </tr>\n",
       "    <tr>\n",
       "      <th>733</th>\n",
       "      <td>733</td>\n",
       "      <td>2014</td>\n",
       "      <td>CT</td>\n",
       "      <td>0.433</td>\n",
       "      <td>0.413</td>\n",
       "      <td>0.380718</td>\n",
       "      <td>333.18</td>\n",
       "      <td>15.0</td>\n",
       "      <td>590.0</td>\n",
       "      <td>807.61</td>\n",
       "      <td>...</td>\n",
       "      <td>419.25</td>\n",
       "      <td>255.21</td>\n",
       "      <td>11.49</td>\n",
       "      <td>451.93</td>\n",
       "      <td>414.11</td>\n",
       "      <td>18.64</td>\n",
       "      <td>733.31</td>\n",
       "      <td>343.13</td>\n",
       "      <td>15.45</td>\n",
       "      <td>607.62</td>\n",
       "    </tr>\n",
       "    <tr>\n",
       "      <th>784</th>\n",
       "      <td>784</td>\n",
       "      <td>2015</td>\n",
       "      <td>CT</td>\n",
       "      <td>0.438</td>\n",
       "      <td>0.411</td>\n",
       "      <td>0.384656</td>\n",
       "      <td>344.72</td>\n",
       "      <td>15.0</td>\n",
       "      <td>594.0</td>\n",
       "      <td>838.62</td>\n",
       "      <td>...</td>\n",
       "      <td>422.56</td>\n",
       "      <td>252.75</td>\n",
       "      <td>11.00</td>\n",
       "      <td>435.52</td>\n",
       "      <td>428.92</td>\n",
       "      <td>18.66</td>\n",
       "      <td>739.10</td>\n",
       "      <td>339.82</td>\n",
       "      <td>14.79</td>\n",
       "      <td>585.56</td>\n",
       "    </tr>\n",
       "    <tr>\n",
       "      <th>836</th>\n",
       "      <td>836</td>\n",
       "      <td>2016</td>\n",
       "      <td>CT</td>\n",
       "      <td>0.440</td>\n",
       "      <td>0.419</td>\n",
       "      <td>0.424595</td>\n",
       "      <td>359.72</td>\n",
       "      <td>15.0</td>\n",
       "      <td>598.0</td>\n",
       "      <td>859.49</td>\n",
       "      <td>...</td>\n",
       "      <td>420.96</td>\n",
       "      <td>270.58</td>\n",
       "      <td>11.28</td>\n",
       "      <td>449.82</td>\n",
       "      <td>442.91</td>\n",
       "      <td>18.47</td>\n",
       "      <td>736.29</td>\n",
       "      <td>363.80</td>\n",
       "      <td>15.17</td>\n",
       "      <td>604.78</td>\n",
       "    </tr>\n",
       "    <tr>\n",
       "      <th>888</th>\n",
       "      <td>888</td>\n",
       "      <td>2017</td>\n",
       "      <td>CT</td>\n",
       "      <td>0.437</td>\n",
       "      <td>0.394</td>\n",
       "      <td>0.444050</td>\n",
       "      <td>376.85</td>\n",
       "      <td>15.0</td>\n",
       "      <td>616.0</td>\n",
       "      <td>956.46</td>\n",
       "      <td>...</td>\n",
       "      <td>425.80</td>\n",
       "      <td>280.29</td>\n",
       "      <td>11.16</td>\n",
       "      <td>458.17</td>\n",
       "      <td>455.62</td>\n",
       "      <td>18.14</td>\n",
       "      <td>744.75</td>\n",
       "      <td>376.85</td>\n",
       "      <td>15.00</td>\n",
       "      <td>616.00</td>\n",
       "    </tr>\n",
       "    <tr>\n",
       "      <th>940</th>\n",
       "      <td>940</td>\n",
       "      <td>2018</td>\n",
       "      <td>CT</td>\n",
       "      <td>0.444</td>\n",
       "      <td>0.416</td>\n",
       "      <td>0.467024</td>\n",
       "      <td>383.47</td>\n",
       "      <td>15.0</td>\n",
       "      <td>613.0</td>\n",
       "      <td>921.44</td>\n",
       "      <td>...</td>\n",
       "      <td>414.77</td>\n",
       "      <td>NaN</td>\n",
       "      <td>NaN</td>\n",
       "      <td>NaN</td>\n",
       "      <td>453.83</td>\n",
       "      <td>17.75</td>\n",
       "      <td>725.47</td>\n",
       "      <td>NaN</td>\n",
       "      <td>NaN</td>\n",
       "      <td>NaN</td>\n",
       "    </tr>\n",
       "    <tr>\n",
       "      <th>992</th>\n",
       "      <td>992</td>\n",
       "      <td>2019</td>\n",
       "      <td>CT</td>\n",
       "      <td>0.447</td>\n",
       "      <td>0.418</td>\n",
       "      <td>0.464365</td>\n",
       "      <td>394.87</td>\n",
       "      <td>15.0</td>\n",
       "      <td>631.0</td>\n",
       "      <td>945.01</td>\n",
       "      <td>...</td>\n",
       "      <td>420.21</td>\n",
       "      <td>NaN</td>\n",
       "      <td>NaN</td>\n",
       "      <td>NaN</td>\n",
       "      <td>459.94</td>\n",
       "      <td>17.47</td>\n",
       "      <td>734.98</td>\n",
       "      <td>NaN</td>\n",
       "      <td>NaN</td>\n",
       "      <td>NaN</td>\n",
       "    </tr>\n",
       "    <tr>\n",
       "      <th>1044</th>\n",
       "      <td>1044</td>\n",
       "      <td>2020</td>\n",
       "      <td>CT</td>\n",
       "      <td>0.397</td>\n",
       "      <td>0.370</td>\n",
       "      <td>0.974171</td>\n",
       "      <td>311.75</td>\n",
       "      <td>15.0</td>\n",
       "      <td>649.0</td>\n",
       "      <td>842.75</td>\n",
       "      <td>...</td>\n",
       "      <td>426.63</td>\n",
       "      <td>NaN</td>\n",
       "      <td>NaN</td>\n",
       "      <td>NaN</td>\n",
       "      <td>358.45</td>\n",
       "      <td>17.25</td>\n",
       "      <td>746.21</td>\n",
       "      <td>NaN</td>\n",
       "      <td>NaN</td>\n",
       "      <td>NaN</td>\n",
       "    </tr>\n",
       "    <tr>\n",
       "      <th>1096</th>\n",
       "      <td>1096</td>\n",
       "      <td>2021</td>\n",
       "      <td>CT</td>\n",
       "      <td>0.397</td>\n",
       "      <td>0.360</td>\n",
       "      <td>0.420030</td>\n",
       "      <td>350.07</td>\n",
       "      <td>15.0</td>\n",
       "      <td>667.0</td>\n",
       "      <td>972.69</td>\n",
       "      <td>...</td>\n",
       "      <td>422.00</td>\n",
       "      <td>NaN</td>\n",
       "      <td>NaN</td>\n",
       "      <td>NaN</td>\n",
       "      <td>387.39</td>\n",
       "      <td>16.60</td>\n",
       "      <td>738.11</td>\n",
       "      <td>NaN</td>\n",
       "      <td>NaN</td>\n",
       "      <td>NaN</td>\n",
       "    </tr>\n",
       "    <tr>\n",
       "      <th>1148</th>\n",
       "      <td>1148</td>\n",
       "      <td>2022</td>\n",
       "      <td>CT</td>\n",
       "      <td>0.434</td>\n",
       "      <td>0.380</td>\n",
       "      <td>0.274616</td>\n",
       "      <td>427.68</td>\n",
       "      <td>15.0</td>\n",
       "      <td>685.0</td>\n",
       "      <td>1125.92</td>\n",
       "      <td>...</td>\n",
       "      <td>405.15</td>\n",
       "      <td>NaN</td>\n",
       "      <td>NaN</td>\n",
       "      <td>NaN</td>\n",
       "      <td>442.44</td>\n",
       "      <td>15.52</td>\n",
       "      <td>708.64</td>\n",
       "      <td>NaN</td>\n",
       "      <td>NaN</td>\n",
       "      <td>NaN</td>\n",
       "    </tr>\n",
       "    <tr>\n",
       "      <th>1200</th>\n",
       "      <td>1200</td>\n",
       "      <td>2023</td>\n",
       "      <td>CT</td>\n",
       "      <td>0.430</td>\n",
       "      <td>0.378</td>\n",
       "      <td>0.425142</td>\n",
       "      <td>486.09</td>\n",
       "      <td>15.0</td>\n",
       "      <td>703.0</td>\n",
       "      <td>1285.47</td>\n",
       "      <td>...</td>\n",
       "      <td>401.92</td>\n",
       "      <td>NaN</td>\n",
       "      <td>NaN</td>\n",
       "      <td>NaN</td>\n",
       "      <td>486.09</td>\n",
       "      <td>15.00</td>\n",
       "      <td>703.00</td>\n",
       "      <td>NaN</td>\n",
       "      <td>NaN</td>\n",
       "      <td>NaN</td>\n",
       "    </tr>\n",
       "  </tbody>\n",
       "</table>\n",
       "<p>24 rows × 26 columns</p>\n",
       "</div>"
      ],
      "text/plain": [
       "      Unnamed: 0  Year State  Replacement Ratio 1  Replacement Ratio 2  \\\n",
       "6              6  2000    CT                0.450                0.415   \n",
       "58            58  2001    CT                0.449                0.413   \n",
       "109          109  2002    CT                0.441                0.402   \n",
       "161          161  2003    CT                0.452                0.413   \n",
       "213          213  2004    CT                0.440                0.400   \n",
       "265          265  2005    CT                0.389                0.364   \n",
       "317          317  2006    CT                0.378                0.323   \n",
       "369          369  2007    CT                0.363                0.337   \n",
       "421          421  2008    CT                0.396                0.368   \n",
       "473          473  2009    CT                0.431                0.397   \n",
       "525          525  2010    CT                0.442                0.405   \n",
       "577          577  2011    CT                0.425                0.392   \n",
       "629          629  2012    CT                0.436                0.407   \n",
       "681          681  2013    CT                0.443                0.430   \n",
       "733          733  2014    CT                0.433                0.413   \n",
       "784          784  2015    CT                0.438                0.411   \n",
       "836          836  2016    CT                0.440                0.419   \n",
       "888          888  2017    CT                0.437                0.394   \n",
       "940          940  2018    CT                0.444                0.416   \n",
       "992          992  2019    CT                0.447                0.418   \n",
       "1044        1044  2020    CT                0.397                0.370   \n",
       "1096        1096  2021    CT                0.397                0.360   \n",
       "1148        1148  2022    CT                0.434                0.380   \n",
       "1200        1200  2023    CT                0.430                0.378   \n",
       "\n",
       "      Recipiency Rate  Average WBA  Minimum WBA  Maximum WBA  \\\n",
       "6            0.764078       253.09         15.0        362.0   \n",
       "58           0.756924       271.52         15.0        397.0   \n",
       "109          0.656872       280.45         15.0        406.0   \n",
       "161          0.547254       292.78         15.0        411.0   \n",
       "213          0.483683       281.03         15.0        429.0   \n",
       "265          0.458786       288.38         15.0        447.0   \n",
       "317          0.482801       293.12         15.0        465.0   \n",
       "369          0.468150       300.12         15.0        483.0   \n",
       "421          0.449149       310.64         15.0        501.0   \n",
       "473          0.532430       328.96         15.0        519.0   \n",
       "525          0.366432       325.44         15.0        537.0   \n",
       "577          0.332683       324.51         15.0        555.0   \n",
       "629          0.352537       329.06         15.0        573.0   \n",
       "681          0.343802       333.71         15.0        591.0   \n",
       "733          0.380718       333.18         15.0        590.0   \n",
       "784          0.384656       344.72         15.0        594.0   \n",
       "836          0.424595       359.72         15.0        598.0   \n",
       "888          0.444050       376.85         15.0        616.0   \n",
       "940          0.467024       383.47         15.0        613.0   \n",
       "992          0.464365       394.87         15.0        631.0   \n",
       "1044         0.974171       311.75         15.0        649.0   \n",
       "1096         0.420030       350.07         15.0        667.0   \n",
       "1148         0.274616       427.68         15.0        685.0   \n",
       "1200         0.425142       486.09         15.0        703.0   \n",
       "\n",
       "      Average Weekly Wage  ... Real Maximum WBA (regional, 2000 base)  \\\n",
       "6                  609.17  ...                                 362.00   \n",
       "58                 657.31  ...                                 386.24   \n",
       "109                697.57  ...                                 387.02   \n",
       "161                709.09  ...                                 381.05   \n",
       "213                701.99  ...                                 384.43   \n",
       "265                792.45  ...                                 386.47   \n",
       "317                907.62  ...                                 388.00   \n",
       "369                889.83  ...                                 392.95   \n",
       "421                844.87  ...                                 391.96   \n",
       "473                829.30  ...                                 405.98   \n",
       "525                802.64  ...                                 411.93   \n",
       "577                827.56  ...                                 413.15   \n",
       "629                809.28  ...                                 418.38   \n",
       "681                775.51  ...                                 425.74   \n",
       "733                807.61  ...                                 419.25   \n",
       "784                838.62  ...                                 422.56   \n",
       "836                859.49  ...                                 420.96   \n",
       "888                956.46  ...                                 425.80   \n",
       "940                921.44  ...                                 414.77   \n",
       "992                945.01  ...                                 420.21   \n",
       "1044               842.75  ...                                 426.63   \n",
       "1096               972.69  ...                                 422.00   \n",
       "1148              1125.92  ...                                 405.15   \n",
       "1200              1285.47  ...                                 401.92   \n",
       "\n",
       "      Real Average WBA (state, 2000 base)  \\\n",
       "6                                  253.09   \n",
       "58                                 265.42   \n",
       "109                                267.65   \n",
       "161                                277.91   \n",
       "213                                259.05   \n",
       "265                                262.34   \n",
       "317                                259.97   \n",
       "369                                257.07   \n",
       "421                                262.20   \n",
       "473                                269.63   \n",
       "525                                271.43   \n",
       "577                                266.68   \n",
       "629                                262.35   \n",
       "681                                259.00   \n",
       "733                                255.21   \n",
       "784                                252.75   \n",
       "836                                270.58   \n",
       "888                                280.29   \n",
       "940                                   NaN   \n",
       "992                                   NaN   \n",
       "1044                                  NaN   \n",
       "1096                                  NaN   \n",
       "1148                                  NaN   \n",
       "1200                                  NaN   \n",
       "\n",
       "      Real Minimum WBA (state, 2000 base) Real Maximum WBA (state, 2000 base)  \\\n",
       "6                                   15.00                              362.00   \n",
       "58                                  14.66                              388.08   \n",
       "109                                 14.32                              387.47   \n",
       "161                                 14.24                              390.13   \n",
       "213                                 13.83                              395.45   \n",
       "265                                 13.65                              406.63   \n",
       "317                                 13.30                              412.42   \n",
       "369                                 12.85                              413.72   \n",
       "421                                 12.66                              422.88   \n",
       "473                                 12.29                              425.40   \n",
       "525                                 12.51                              447.88   \n",
       "577                                 12.33                              456.09   \n",
       "629                                 11.96                              456.84   \n",
       "681                                 11.64                              458.68   \n",
       "733                                 11.49                              451.93   \n",
       "784                                 11.00                              435.52   \n",
       "836                                 11.28                              449.82   \n",
       "888                                 11.16                              458.17   \n",
       "940                                   NaN                                 NaN   \n",
       "992                                   NaN                                 NaN   \n",
       "1044                                  NaN                                 NaN   \n",
       "1096                                  NaN                                 NaN   \n",
       "1148                                  NaN                                 NaN   \n",
       "1200                                  NaN                                 NaN   \n",
       "\n",
       "      Real Average WBA (regional, 2023 base)  \\\n",
       "6                                     442.68   \n",
       "58                                    462.03   \n",
       "109                                   467.59   \n",
       "161                                   474.78   \n",
       "213                                   440.48   \n",
       "265                                   436.09   \n",
       "317                                   427.80   \n",
       "369                                   427.07   \n",
       "421                                   425.08   \n",
       "473                                   450.08   \n",
       "525                                   436.65   \n",
       "577                                   422.52   \n",
       "629                                   420.25   \n",
       "681                                   420.47   \n",
       "733                                   414.11   \n",
       "784                                   428.92   \n",
       "836                                   442.91   \n",
       "888                                   455.62   \n",
       "940                                   453.83   \n",
       "992                                   459.94   \n",
       "1044                                  358.45   \n",
       "1096                                  387.39   \n",
       "1148                                  442.44   \n",
       "1200                                  486.09   \n",
       "\n",
       "      Real Minimum WBA (regional, 2023 base)  \\\n",
       "6                                      26.24   \n",
       "58                                     25.52   \n",
       "109                                    25.01   \n",
       "161                                    24.32   \n",
       "213                                    23.51   \n",
       "265                                    22.68   \n",
       "317                                    21.89   \n",
       "369                                    21.34   \n",
       "421                                    20.53   \n",
       "473                                    20.52   \n",
       "525                                    20.13   \n",
       "577                                    19.53   \n",
       "629                                    19.16   \n",
       "681                                    18.90   \n",
       "733                                    18.64   \n",
       "784                                    18.66   \n",
       "836                                    18.47   \n",
       "888                                    18.14   \n",
       "940                                    17.75   \n",
       "992                                    17.47   \n",
       "1044                                   17.25   \n",
       "1096                                   16.60   \n",
       "1148                                   15.52   \n",
       "1200                                   15.00   \n",
       "\n",
       "      Real Maximum WBA (regional, 2023 base)  \\\n",
       "6                                     633.17   \n",
       "58                                    675.56   \n",
       "109                                   676.92   \n",
       "161                                   666.49   \n",
       "213                                   672.40   \n",
       "265                                   675.96   \n",
       "317                                   678.65   \n",
       "369                                   687.30   \n",
       "421                                   685.58   \n",
       "473                                   710.09   \n",
       "525                                   720.51   \n",
       "577                                   722.63   \n",
       "629                                   731.79   \n",
       "681                                   744.66   \n",
       "733                                   733.31   \n",
       "784                                   739.10   \n",
       "836                                   736.29   \n",
       "888                                   744.75   \n",
       "940                                   725.47   \n",
       "992                                   734.98   \n",
       "1044                                  746.21   \n",
       "1096                                  738.11   \n",
       "1148                                  708.64   \n",
       "1200                                  703.00   \n",
       "\n",
       "      Real Average WBA (state, 2017 base)  \\\n",
       "6                                  340.28   \n",
       "58                                 356.85   \n",
       "109                                359.85   \n",
       "161                                373.65   \n",
       "213                                348.29   \n",
       "265                                352.71   \n",
       "317                                349.53   \n",
       "369                                345.63   \n",
       "421                                352.53   \n",
       "473                                362.52   \n",
       "525                                364.94   \n",
       "577                                358.55   \n",
       "629                                352.73   \n",
       "681                                348.22   \n",
       "733                                343.13   \n",
       "784                                339.82   \n",
       "836                                363.80   \n",
       "888                                376.85   \n",
       "940                                   NaN   \n",
       "992                                   NaN   \n",
       "1044                                  NaN   \n",
       "1096                                  NaN   \n",
       "1148                                  NaN   \n",
       "1200                                  NaN   \n",
       "\n",
       "      Real Minimum WBA (state, 2017 base)  Real Maximum WBA (state, 2017 base)  \n",
       "6                                   20.17                               486.70  \n",
       "58                                  19.71                               521.77  \n",
       "109                                 19.25                               520.95  \n",
       "161                                 19.14                               524.52  \n",
       "213                                 18.59                               531.67  \n",
       "265                                 18.35                               546.72  \n",
       "317                                 17.89                               554.49  \n",
       "369                                 17.27                               556.24  \n",
       "421                                 17.02                               568.56  \n",
       "473                                 16.53                               571.94  \n",
       "525                                 16.82                               602.17  \n",
       "577                                 16.57                               613.21  \n",
       "629                                 16.08                               614.22  \n",
       "681                                 15.65                               616.69  \n",
       "733                                 15.45                               607.62  \n",
       "784                                 14.79                               585.56  \n",
       "836                                 15.17                               604.78  \n",
       "888                                 15.00                               616.00  \n",
       "940                                   NaN                                  NaN  \n",
       "992                                   NaN                                  NaN  \n",
       "1044                                  NaN                                  NaN  \n",
       "1096                                  NaN                                  NaN  \n",
       "1148                                  NaN                                  NaN  \n",
       "1200                                  NaN                                  NaN  \n",
       "\n",
       "[24 rows x 26 columns]"
      ]
     },
     "execution_count": 4,
     "metadata": {},
     "output_type": "execute_result"
    }
   ],
   "source": [
    "master[master['State'] == 'CT']"
   ]
  },
  {
   "cell_type": "markdown",
   "id": "024224b9-dca0-4be1-841e-2a449a1c9b5a",
   "metadata": {
    "tags": []
   },
   "source": [
    "## Figure 1a/1b: Number of Years with Increase in Nominal Min/Max WBA"
   ]
  },
  {
   "cell_type": "code",
   "execution_count": null,
   "id": "e4a9092c-c8cb-459a-82f9-7ec246b44d16",
   "metadata": {},
   "outputs": [],
   "source": []
  },
  {
   "cell_type": "code",
   "execution_count": 68,
   "id": "40191307-dd21-41a2-bbd5-13b12c4df34b",
   "metadata": {
    "tags": []
   },
   "outputs": [],
   "source": [
    "nominal_inc_maxwba = master.groupby(\"State\")[['Maximum WBA']].apply(\"nunique\")\n",
    "nominal_inc_maxwba = nominal_inc_maxwba.reset_index()\n",
    "nominal_inc_maxwba['Maximum WBA'] = nominal_inc_maxwba['Maximum WBA'] - 1\n",
    "nominal_inc_maxwba = nominal_inc_maxwba.rename(columns={'Maximum WBA': \"Number of Years\"})\n",
    "#nominal_inc_maxwba"
   ]
  },
  {
   "cell_type": "code",
   "execution_count": 151,
   "id": "515283db-ab2e-4c19-93ae-dc2ebd7c8b3c",
   "metadata": {
    "tags": []
   },
   "outputs": [
    {
     "data": {
      "application/vnd.plotly.v1+json": {
       "config": {
        "plotlyServerURL": "https://plot.ly"
       },
       "data": [
        {
         "coloraxis": "coloraxis",
         "geo": "geo",
         "hovertemplate": "State=%{location}<br>Number of Years=%{z}<extra></extra>",
         "locationmode": "USA-states",
         "locations": [
          "AK",
          "AL",
          "AR",
          "AZ",
          "CA",
          "CO",
          "CT",
          "DC",
          "DE",
          "FL",
          "GA",
          "HI",
          "IA",
          "ID",
          "IL",
          "IN",
          "KS",
          "KY",
          "LA",
          "MA",
          "MD",
          "ME",
          "MI",
          "MN",
          "MO",
          "MS",
          "MT",
          "NC",
          "ND",
          "NE",
          "NH",
          "NJ",
          "NM",
          "NV",
          "NY",
          "OH",
          "OK",
          "OR",
          "PA",
          "PR",
          "RI",
          "SC",
          "SD",
          "TN",
          "TX",
          "UT",
          "VA",
          "VT",
          "WA",
          "WI",
          "WV",
          "WY"
         ],
         "name": "",
         "type": "choropleth",
         "z": [
          1,
          7,
          10,
          2,
          4,
          22,
          23,
          5,
          3,
          0,
          7,
          21,
          23,
          21,
          20,
          6,
          19,
          9,
          4,
          22,
          6,
          23,
          1,
          21,
          4,
          4,
          23,
          13,
          22,
          19,
          3,
          23,
          22,
          22,
          6,
          21,
          23,
          22,
          15,
          2,
          17,
          6,
          23,
          1,
          20,
          22,
          8,
          18,
          17,
          7,
          10,
          21
         ]
        }
       ],
       "layout": {
        "autosize": true,
        "coloraxis": {
         "colorbar": {
          "len": 0.8,
          "thickness": 10,
          "tickfont": {
           "size": 10
          },
          "ticks": "outside",
          "title": {
           "text": "Number of Years"
          },
          "x": 0.75,
          "y": 0.5
         },
         "colorscale": [
          [
           0,
           "rgb(244, 164, 96)"
          ],
          [
           0.5,
           "white"
          ],
          [
           1,
           "#4682B4"
          ]
         ]
        },
        "font": {
         "color": "black",
         "family": "Cambria",
         "size": 12
        },
        "geo": {
         "center": {
          "lat": 38.68859896775346,
          "lon": -98.190903525072
         },
         "domain": {
          "x": [
           0,
           1
          ],
          "y": [
           0,
           1
          ]
         },
         "projection": {
          "scale": 0.9421312739048098
         },
         "scope": "usa"
        },
        "legend": {
         "tracegroupgap": 0
        },
        "margin": {
         "t": 60
        },
        "template": {
         "data": {
          "bar": [
           {
            "error_x": {
             "color": "#2a3f5f"
            },
            "error_y": {
             "color": "#2a3f5f"
            },
            "marker": {
             "line": {
              "color": "white",
              "width": 0.5
             },
             "pattern": {
              "fillmode": "overlay",
              "size": 10,
              "solidity": 0.2
             }
            },
            "type": "bar"
           }
          ],
          "barpolar": [
           {
            "marker": {
             "line": {
              "color": "white",
              "width": 0.5
             },
             "pattern": {
              "fillmode": "overlay",
              "size": 10,
              "solidity": 0.2
             }
            },
            "type": "barpolar"
           }
          ],
          "carpet": [
           {
            "aaxis": {
             "endlinecolor": "#2a3f5f",
             "gridcolor": "#C8D4E3",
             "linecolor": "#C8D4E3",
             "minorgridcolor": "#C8D4E3",
             "startlinecolor": "#2a3f5f"
            },
            "baxis": {
             "endlinecolor": "#2a3f5f",
             "gridcolor": "#C8D4E3",
             "linecolor": "#C8D4E3",
             "minorgridcolor": "#C8D4E3",
             "startlinecolor": "#2a3f5f"
            },
            "type": "carpet"
           }
          ],
          "choropleth": [
           {
            "colorbar": {
             "outlinewidth": 0,
             "ticks": ""
            },
            "type": "choropleth"
           }
          ],
          "contour": [
           {
            "colorbar": {
             "outlinewidth": 0,
             "ticks": ""
            },
            "colorscale": [
             [
              0,
              "#0d0887"
             ],
             [
              0.1111111111111111,
              "#46039f"
             ],
             [
              0.2222222222222222,
              "#7201a8"
             ],
             [
              0.3333333333333333,
              "#9c179e"
             ],
             [
              0.4444444444444444,
              "#bd3786"
             ],
             [
              0.5555555555555556,
              "#d8576b"
             ],
             [
              0.6666666666666666,
              "#ed7953"
             ],
             [
              0.7777777777777778,
              "#fb9f3a"
             ],
             [
              0.8888888888888888,
              "#fdca26"
             ],
             [
              1,
              "#f0f921"
             ]
            ],
            "type": "contour"
           }
          ],
          "contourcarpet": [
           {
            "colorbar": {
             "outlinewidth": 0,
             "ticks": ""
            },
            "type": "contourcarpet"
           }
          ],
          "heatmap": [
           {
            "colorbar": {
             "outlinewidth": 0,
             "ticks": ""
            },
            "colorscale": [
             [
              0,
              "#0d0887"
             ],
             [
              0.1111111111111111,
              "#46039f"
             ],
             [
              0.2222222222222222,
              "#7201a8"
             ],
             [
              0.3333333333333333,
              "#9c179e"
             ],
             [
              0.4444444444444444,
              "#bd3786"
             ],
             [
              0.5555555555555556,
              "#d8576b"
             ],
             [
              0.6666666666666666,
              "#ed7953"
             ],
             [
              0.7777777777777778,
              "#fb9f3a"
             ],
             [
              0.8888888888888888,
              "#fdca26"
             ],
             [
              1,
              "#f0f921"
             ]
            ],
            "type": "heatmap"
           }
          ],
          "heatmapgl": [
           {
            "colorbar": {
             "outlinewidth": 0,
             "ticks": ""
            },
            "colorscale": [
             [
              0,
              "#0d0887"
             ],
             [
              0.1111111111111111,
              "#46039f"
             ],
             [
              0.2222222222222222,
              "#7201a8"
             ],
             [
              0.3333333333333333,
              "#9c179e"
             ],
             [
              0.4444444444444444,
              "#bd3786"
             ],
             [
              0.5555555555555556,
              "#d8576b"
             ],
             [
              0.6666666666666666,
              "#ed7953"
             ],
             [
              0.7777777777777778,
              "#fb9f3a"
             ],
             [
              0.8888888888888888,
              "#fdca26"
             ],
             [
              1,
              "#f0f921"
             ]
            ],
            "type": "heatmapgl"
           }
          ],
          "histogram": [
           {
            "marker": {
             "pattern": {
              "fillmode": "overlay",
              "size": 10,
              "solidity": 0.2
             }
            },
            "type": "histogram"
           }
          ],
          "histogram2d": [
           {
            "colorbar": {
             "outlinewidth": 0,
             "ticks": ""
            },
            "colorscale": [
             [
              0,
              "#0d0887"
             ],
             [
              0.1111111111111111,
              "#46039f"
             ],
             [
              0.2222222222222222,
              "#7201a8"
             ],
             [
              0.3333333333333333,
              "#9c179e"
             ],
             [
              0.4444444444444444,
              "#bd3786"
             ],
             [
              0.5555555555555556,
              "#d8576b"
             ],
             [
              0.6666666666666666,
              "#ed7953"
             ],
             [
              0.7777777777777778,
              "#fb9f3a"
             ],
             [
              0.8888888888888888,
              "#fdca26"
             ],
             [
              1,
              "#f0f921"
             ]
            ],
            "type": "histogram2d"
           }
          ],
          "histogram2dcontour": [
           {
            "colorbar": {
             "outlinewidth": 0,
             "ticks": ""
            },
            "colorscale": [
             [
              0,
              "#0d0887"
             ],
             [
              0.1111111111111111,
              "#46039f"
             ],
             [
              0.2222222222222222,
              "#7201a8"
             ],
             [
              0.3333333333333333,
              "#9c179e"
             ],
             [
              0.4444444444444444,
              "#bd3786"
             ],
             [
              0.5555555555555556,
              "#d8576b"
             ],
             [
              0.6666666666666666,
              "#ed7953"
             ],
             [
              0.7777777777777778,
              "#fb9f3a"
             ],
             [
              0.8888888888888888,
              "#fdca26"
             ],
             [
              1,
              "#f0f921"
             ]
            ],
            "type": "histogram2dcontour"
           }
          ],
          "mesh3d": [
           {
            "colorbar": {
             "outlinewidth": 0,
             "ticks": ""
            },
            "type": "mesh3d"
           }
          ],
          "parcoords": [
           {
            "line": {
             "colorbar": {
              "outlinewidth": 0,
              "ticks": ""
             }
            },
            "type": "parcoords"
           }
          ],
          "pie": [
           {
            "automargin": true,
            "type": "pie"
           }
          ],
          "scatter": [
           {
            "fillpattern": {
             "fillmode": "overlay",
             "size": 10,
             "solidity": 0.2
            },
            "type": "scatter"
           }
          ],
          "scatter3d": [
           {
            "line": {
             "colorbar": {
              "outlinewidth": 0,
              "ticks": ""
             }
            },
            "marker": {
             "colorbar": {
              "outlinewidth": 0,
              "ticks": ""
             }
            },
            "type": "scatter3d"
           }
          ],
          "scattercarpet": [
           {
            "marker": {
             "colorbar": {
              "outlinewidth": 0,
              "ticks": ""
             }
            },
            "type": "scattercarpet"
           }
          ],
          "scattergeo": [
           {
            "marker": {
             "colorbar": {
              "outlinewidth": 0,
              "ticks": ""
             }
            },
            "type": "scattergeo"
           }
          ],
          "scattergl": [
           {
            "marker": {
             "colorbar": {
              "outlinewidth": 0,
              "ticks": ""
             }
            },
            "type": "scattergl"
           }
          ],
          "scattermapbox": [
           {
            "marker": {
             "colorbar": {
              "outlinewidth": 0,
              "ticks": ""
             }
            },
            "type": "scattermapbox"
           }
          ],
          "scatterpolar": [
           {
            "marker": {
             "colorbar": {
              "outlinewidth": 0,
              "ticks": ""
             }
            },
            "type": "scatterpolar"
           }
          ],
          "scatterpolargl": [
           {
            "marker": {
             "colorbar": {
              "outlinewidth": 0,
              "ticks": ""
             }
            },
            "type": "scatterpolargl"
           }
          ],
          "scatterternary": [
           {
            "marker": {
             "colorbar": {
              "outlinewidth": 0,
              "ticks": ""
             }
            },
            "type": "scatterternary"
           }
          ],
          "surface": [
           {
            "colorbar": {
             "outlinewidth": 0,
             "ticks": ""
            },
            "colorscale": [
             [
              0,
              "#0d0887"
             ],
             [
              0.1111111111111111,
              "#46039f"
             ],
             [
              0.2222222222222222,
              "#7201a8"
             ],
             [
              0.3333333333333333,
              "#9c179e"
             ],
             [
              0.4444444444444444,
              "#bd3786"
             ],
             [
              0.5555555555555556,
              "#d8576b"
             ],
             [
              0.6666666666666666,
              "#ed7953"
             ],
             [
              0.7777777777777778,
              "#fb9f3a"
             ],
             [
              0.8888888888888888,
              "#fdca26"
             ],
             [
              1,
              "#f0f921"
             ]
            ],
            "type": "surface"
           }
          ],
          "table": [
           {
            "cells": {
             "fill": {
              "color": "#EBF0F8"
             },
             "line": {
              "color": "white"
             }
            },
            "header": {
             "fill": {
              "color": "#C8D4E3"
             },
             "line": {
              "color": "white"
             }
            },
            "type": "table"
           }
          ]
         },
         "layout": {
          "annotationdefaults": {
           "arrowcolor": "#2a3f5f",
           "arrowhead": 0,
           "arrowwidth": 1
          },
          "autotypenumbers": "strict",
          "coloraxis": {
           "colorbar": {
            "outlinewidth": 0,
            "ticks": ""
           }
          },
          "colorscale": {
           "diverging": [
            [
             0,
             "#8e0152"
            ],
            [
             0.1,
             "#c51b7d"
            ],
            [
             0.2,
             "#de77ae"
            ],
            [
             0.3,
             "#f1b6da"
            ],
            [
             0.4,
             "#fde0ef"
            ],
            [
             0.5,
             "#f7f7f7"
            ],
            [
             0.6,
             "#e6f5d0"
            ],
            [
             0.7,
             "#b8e186"
            ],
            [
             0.8,
             "#7fbc41"
            ],
            [
             0.9,
             "#4d9221"
            ],
            [
             1,
             "#276419"
            ]
           ],
           "sequential": [
            [
             0,
             "#0d0887"
            ],
            [
             0.1111111111111111,
             "#46039f"
            ],
            [
             0.2222222222222222,
             "#7201a8"
            ],
            [
             0.3333333333333333,
             "#9c179e"
            ],
            [
             0.4444444444444444,
             "#bd3786"
            ],
            [
             0.5555555555555556,
             "#d8576b"
            ],
            [
             0.6666666666666666,
             "#ed7953"
            ],
            [
             0.7777777777777778,
             "#fb9f3a"
            ],
            [
             0.8888888888888888,
             "#fdca26"
            ],
            [
             1,
             "#f0f921"
            ]
           ],
           "sequentialminus": [
            [
             0,
             "#0d0887"
            ],
            [
             0.1111111111111111,
             "#46039f"
            ],
            [
             0.2222222222222222,
             "#7201a8"
            ],
            [
             0.3333333333333333,
             "#9c179e"
            ],
            [
             0.4444444444444444,
             "#bd3786"
            ],
            [
             0.5555555555555556,
             "#d8576b"
            ],
            [
             0.6666666666666666,
             "#ed7953"
            ],
            [
             0.7777777777777778,
             "#fb9f3a"
            ],
            [
             0.8888888888888888,
             "#fdca26"
            ],
            [
             1,
             "#f0f921"
            ]
           ]
          },
          "colorway": [
           "#636efa",
           "#EF553B",
           "#00cc96",
           "#ab63fa",
           "#FFA15A",
           "#19d3f3",
           "#FF6692",
           "#B6E880",
           "#FF97FF",
           "#FECB52"
          ],
          "font": {
           "color": "#2a3f5f"
          },
          "geo": {
           "bgcolor": "white",
           "lakecolor": "white",
           "landcolor": "white",
           "showlakes": true,
           "showland": true,
           "subunitcolor": "#C8D4E3"
          },
          "hoverlabel": {
           "align": "left"
          },
          "hovermode": "closest",
          "mapbox": {
           "style": "light"
          },
          "paper_bgcolor": "white",
          "plot_bgcolor": "white",
          "polar": {
           "angularaxis": {
            "gridcolor": "#EBF0F8",
            "linecolor": "#EBF0F8",
            "ticks": ""
           },
           "bgcolor": "white",
           "radialaxis": {
            "gridcolor": "#EBF0F8",
            "linecolor": "#EBF0F8",
            "ticks": ""
           }
          },
          "scene": {
           "xaxis": {
            "backgroundcolor": "white",
            "gridcolor": "#DFE8F3",
            "gridwidth": 2,
            "linecolor": "#EBF0F8",
            "showbackground": true,
            "ticks": "",
            "zerolinecolor": "#EBF0F8"
           },
           "yaxis": {
            "backgroundcolor": "white",
            "gridcolor": "#DFE8F3",
            "gridwidth": 2,
            "linecolor": "#EBF0F8",
            "showbackground": true,
            "ticks": "",
            "zerolinecolor": "#EBF0F8"
           },
           "zaxis": {
            "backgroundcolor": "white",
            "gridcolor": "#DFE8F3",
            "gridwidth": 2,
            "linecolor": "#EBF0F8",
            "showbackground": true,
            "ticks": "",
            "zerolinecolor": "#EBF0F8"
           }
          },
          "shapedefaults": {
           "line": {
            "color": "#2a3f5f"
           }
          },
          "ternary": {
           "aaxis": {
            "gridcolor": "#DFE8F3",
            "linecolor": "#A2B1C6",
            "ticks": ""
           },
           "baxis": {
            "gridcolor": "#DFE8F3",
            "linecolor": "#A2B1C6",
            "ticks": ""
           },
           "bgcolor": "white",
           "caxis": {
            "gridcolor": "#DFE8F3",
            "linecolor": "#A2B1C6",
            "ticks": ""
           }
          },
          "title": {
           "x": 0.05
          },
          "xaxis": {
           "automargin": true,
           "gridcolor": "#EBF0F8",
           "linecolor": "#EBF0F8",
           "ticks": "",
           "title": {
            "standoff": 15
           },
           "zerolinecolor": "#EBF0F8",
           "zerolinewidth": 2
          },
          "yaxis": {
           "automargin": true,
           "gridcolor": "#EBF0F8",
           "linecolor": "#EBF0F8",
           "ticks": "",
           "title": {
            "standoff": 15
           },
           "zerolinecolor": "#EBF0F8",
           "zerolinewidth": 2
          }
         }
        },
        "title": {
         "text": "<b>Number of Years From 2000 to 2023<br>With an Increase in Nominal Maximum WBA</b>",
         "x": 0.5,
         "xanchor": "center"
        }
       }
      },
      "image/png": "[encoded data removed]",
      "text/html": [
       "<div>                            <div id=\"4aa05a2d-49a5-4b26-9176-125866f075d8\" class=\"plotly-graph-div\" style=\"height:525px; width:100%;\"></div>            <script type=\"text/javascript\">                require([\"plotly\"], function(Plotly) {                    window.PLOTLYENV=window.PLOTLYENV || {};                                    if (document.getElementById(\"4aa05a2d-49a5-4b26-9176-125866f075d8\")) {                    Plotly.newPlot(                        \"4aa05a2d-49a5-4b26-9176-125866f075d8\",                        [{\"coloraxis\":\"coloraxis\",\"geo\":\"geo\",\"hovertemplate\":\"State=%{location}\\u003cbr\\u003eNumber of Years=%{z}\\u003cextra\\u003e\\u003c\\u002fextra\\u003e\",\"locationmode\":\"USA-states\",\"locations\":[\"AK\",\"AL\",\"AR\",\"AZ\",\"CA\",\"CO\",\"CT\",\"DC\",\"DE\",\"FL\",\"GA\",\"HI\",\"IA\",\"ID\",\"IL\",\"IN\",\"KS\",\"KY\",\"LA\",\"MA\",\"MD\",\"ME\",\"MI\",\"MN\",\"MO\",\"MS\",\"MT\",\"NC\",\"ND\",\"NE\",\"NH\",\"NJ\",\"NM\",\"NV\",\"NY\",\"OH\",\"OK\",\"OR\",\"PA\",\"PR\",\"RI\",\"SC\",\"SD\",\"TN\",\"TX\",\"UT\",\"VA\",\"VT\",\"WA\",\"WI\",\"WV\",\"WY\"],\"name\":\"\",\"z\":[1,7,10,2,4,22,23,5,3,0,7,21,23,21,20,6,19,9,4,22,6,23,1,21,4,4,23,13,22,19,3,23,22,22,6,21,23,22,15,2,17,6,23,1,20,22,8,18,17,7,10,21],\"type\":\"choropleth\"}],                        {\"template\":{\"data\":{\"histogram2dcontour\":[{\"type\":\"histogram2dcontour\",\"colorbar\":{\"outlinewidth\":0,\"ticks\":\"\"},\"colorscale\":[[0.0,\"#0d0887\"],[0.1111111111111111,\"#46039f\"],[0.2222222222222222,\"#7201a8\"],[0.3333333333333333,\"#9c179e\"],[0.4444444444444444,\"#bd3786\"],[0.5555555555555556,\"#d8576b\"],[0.6666666666666666,\"#ed7953\"],[0.7777777777777778,\"#fb9f3a\"],[0.8888888888888888,\"#fdca26\"],[1.0,\"#f0f921\"]]}],\"choropleth\":[{\"type\":\"choropleth\",\"colorbar\":{\"outlinewidth\":0,\"ticks\":\"\"}}],\"histogram2d\":[{\"type\":\"histogram2d\",\"colorbar\":{\"outlinewidth\":0,\"ticks\":\"\"},\"colorscale\":[[0.0,\"#0d0887\"],[0.1111111111111111,\"#46039f\"],[0.2222222222222222,\"#7201a8\"],[0.3333333333333333,\"#9c179e\"],[0.4444444444444444,\"#bd3786\"],[0.5555555555555556,\"#d8576b\"],[0.6666666666666666,\"#ed7953\"],[0.7777777777777778,\"#fb9f3a\"],[0.8888888888888888,\"#fdca26\"],[1.0,\"#f0f921\"]]}],\"heatmap\":[{\"type\":\"heatmap\",\"colorbar\":{\"outlinewidth\":0,\"ticks\":\"\"},\"colorscale\":[[0.0,\"#0d0887\"],[0.1111111111111111,\"#46039f\"],[0.2222222222222222,\"#7201a8\"],[0.3333333333333333,\"#9c179e\"],[0.4444444444444444,\"#bd3786\"],[0.5555555555555556,\"#d8576b\"],[0.6666666666666666,\"#ed7953\"],[0.7777777777777778,\"#fb9f3a\"],[0.8888888888888888,\"#fdca26\"],[1.0,\"#f0f921\"]]}],\"heatmapgl\":[{\"type\":\"heatmapgl\",\"colorbar\":{\"outlinewidth\":0,\"ticks\":\"\"},\"colorscale\":[[0.0,\"#0d0887\"],[0.1111111111111111,\"#46039f\"],[0.2222222222222222,\"#7201a8\"],[0.3333333333333333,\"#9c179e\"],[0.4444444444444444,\"#bd3786\"],[0.5555555555555556,\"#d8576b\"],[0.6666666666666666,\"#ed7953\"],[0.7777777777777778,\"#fb9f3a\"],[0.8888888888888888,\"#fdca26\"],[1.0,\"#f0f921\"]]}],\"contourcarpet\":[{\"type\":\"contourcarpet\",\"colorbar\":{\"outlinewidth\":0,\"ticks\":\"\"}}],\"contour\":[{\"type\":\"contour\",\"colorbar\":{\"outlinewidth\":0,\"ticks\":\"\"},\"colorscale\":[[0.0,\"#0d0887\"],[0.1111111111111111,\"#46039f\"],[0.2222222222222222,\"#7201a8\"],[0.3333333333333333,\"#9c179e\"],[0.4444444444444444,\"#bd3786\"],[0.5555555555555556,\"#d8576b\"],[0.6666666666666666,\"#ed7953\"],[0.7777777777777778,\"#fb9f3a\"],[0.8888888888888888,\"#fdca26\"],[1.0,\"#f0f921\"]]}],\"surface\":[{\"type\":\"surface\",\"colorbar\":{\"outlinewidth\":0,\"ticks\":\"\"},\"colorscale\":[[0.0,\"#0d0887\"],[0.1111111111111111,\"#46039f\"],[0.2222222222222222,\"#7201a8\"],[0.3333333333333333,\"#9c179e\"],[0.4444444444444444,\"#bd3786\"],[0.5555555555555556,\"#d8576b\"],[0.6666666666666666,\"#ed7953\"],[0.7777777777777778,\"#fb9f3a\"],[0.8888888888888888,\"#fdca26\"],[1.0,\"#f0f921\"]]}],\"mesh3d\":[{\"type\":\"mesh3d\",\"colorbar\":{\"outlinewidth\":0,\"ticks\":\"\"}}],\"scatter\":[{\"fillpattern\":{\"fillmode\":\"overlay\",\"size\":10,\"solidity\":0.2},\"type\":\"scatter\"}],\"parcoords\":[{\"type\":\"parcoords\",\"line\":{\"colorbar\":{\"outlinewidth\":0,\"ticks\":\"\"}}}],\"scatterpolargl\":[{\"type\":\"scatterpolargl\",\"marker\":{\"colorbar\":{\"outlinewidth\":0,\"ticks\":\"\"}}}],\"bar\":[{\"error_x\":{\"color\":\"#2a3f5f\"},\"error_y\":{\"color\":\"#2a3f5f\"},\"marker\":{\"line\":{\"color\":\"white\",\"width\":0.5},\"pattern\":{\"fillmode\":\"overlay\",\"size\":10,\"solidity\":0.2}},\"type\":\"bar\"}],\"scattergeo\":[{\"type\":\"scattergeo\",\"marker\":{\"colorbar\":{\"outlinewidth\":0,\"ticks\":\"\"}}}],\"scatterpolar\":[{\"type\":\"scatterpolar\",\"marker\":{\"colorbar\":{\"outlinewidth\":0,\"ticks\":\"\"}}}],\"histogram\":[{\"marker\":{\"pattern\":{\"fillmode\":\"overlay\",\"size\":10,\"solidity\":0.2}},\"type\":\"histogram\"}],\"scattergl\":[{\"type\":\"scattergl\",\"marker\":{\"colorbar\":{\"outlinewidth\":0,\"ticks\":\"\"}}}],\"scatter3d\":[{\"type\":\"scatter3d\",\"line\":{\"colorbar\":{\"outlinewidth\":0,\"ticks\":\"\"}},\"marker\":{\"colorbar\":{\"outlinewidth\":0,\"ticks\":\"\"}}}],\"scattermapbox\":[{\"type\":\"scattermapbox\",\"marker\":{\"colorbar\":{\"outlinewidth\":0,\"ticks\":\"\"}}}],\"scatterternary\":[{\"type\":\"scatterternary\",\"marker\":{\"colorbar\":{\"outlinewidth\":0,\"ticks\":\"\"}}}],\"scattercarpet\":[{\"type\":\"scattercarpet\",\"marker\":{\"colorbar\":{\"outlinewidth\":0,\"ticks\":\"\"}}}],\"carpet\":[{\"aaxis\":{\"endlinecolor\":\"#2a3f5f\",\"gridcolor\":\"#C8D4E3\",\"linecolor\":\"#C8D4E3\",\"minorgridcolor\":\"#C8D4E3\",\"startlinecolor\":\"#2a3f5f\"},\"baxis\":{\"endlinecolor\":\"#2a3f5f\",\"gridcolor\":\"#C8D4E3\",\"linecolor\":\"#C8D4E3\",\"minorgridcolor\":\"#C8D4E3\",\"startlinecolor\":\"#2a3f5f\"},\"type\":\"carpet\"}],\"table\":[{\"cells\":{\"fill\":{\"color\":\"#EBF0F8\"},\"line\":{\"color\":\"white\"}},\"header\":{\"fill\":{\"color\":\"#C8D4E3\"},\"line\":{\"color\":\"white\"}},\"type\":\"table\"}],\"barpolar\":[{\"marker\":{\"line\":{\"color\":\"white\",\"width\":0.5},\"pattern\":{\"fillmode\":\"overlay\",\"size\":10,\"solidity\":0.2}},\"type\":\"barpolar\"}],\"pie\":[{\"automargin\":true,\"type\":\"pie\"}]},\"layout\":{\"autotypenumbers\":\"strict\",\"colorway\":[\"#636efa\",\"#EF553B\",\"#00cc96\",\"#ab63fa\",\"#FFA15A\",\"#19d3f3\",\"#FF6692\",\"#B6E880\",\"#FF97FF\",\"#FECB52\"],\"font\":{\"color\":\"#2a3f5f\"},\"hovermode\":\"closest\",\"hoverlabel\":{\"align\":\"left\"},\"paper_bgcolor\":\"white\",\"plot_bgcolor\":\"white\",\"polar\":{\"bgcolor\":\"white\",\"angularaxis\":{\"gridcolor\":\"#EBF0F8\",\"linecolor\":\"#EBF0F8\",\"ticks\":\"\"},\"radialaxis\":{\"gridcolor\":\"#EBF0F8\",\"linecolor\":\"#EBF0F8\",\"ticks\":\"\"}},\"ternary\":{\"bgcolor\":\"white\",\"aaxis\":{\"gridcolor\":\"#DFE8F3\",\"linecolor\":\"#A2B1C6\",\"ticks\":\"\"},\"baxis\":{\"gridcolor\":\"#DFE8F3\",\"linecolor\":\"#A2B1C6\",\"ticks\":\"\"},\"caxis\":{\"gridcolor\":\"#DFE8F3\",\"linecolor\":\"#A2B1C6\",\"ticks\":\"\"}},\"coloraxis\":{\"colorbar\":{\"outlinewidth\":0,\"ticks\":\"\"}},\"colorscale\":{\"sequential\":[[0.0,\"#0d0887\"],[0.1111111111111111,\"#46039f\"],[0.2222222222222222,\"#7201a8\"],[0.3333333333333333,\"#9c179e\"],[0.4444444444444444,\"#bd3786\"],[0.5555555555555556,\"#d8576b\"],[0.6666666666666666,\"#ed7953\"],[0.7777777777777778,\"#fb9f3a\"],[0.8888888888888888,\"#fdca26\"],[1.0,\"#f0f921\"]],\"sequentialminus\":[[0.0,\"#0d0887\"],[0.1111111111111111,\"#46039f\"],[0.2222222222222222,\"#7201a8\"],[0.3333333333333333,\"#9c179e\"],[0.4444444444444444,\"#bd3786\"],[0.5555555555555556,\"#d8576b\"],[0.6666666666666666,\"#ed7953\"],[0.7777777777777778,\"#fb9f3a\"],[0.8888888888888888,\"#fdca26\"],[1.0,\"#f0f921\"]],\"diverging\":[[0,\"#8e0152\"],[0.1,\"#c51b7d\"],[0.2,\"#de77ae\"],[0.3,\"#f1b6da\"],[0.4,\"#fde0ef\"],[0.5,\"#f7f7f7\"],[0.6,\"#e6f5d0\"],[0.7,\"#b8e186\"],[0.8,\"#7fbc41\"],[0.9,\"#4d9221\"],[1,\"#276419\"]]},\"xaxis\":{\"gridcolor\":\"#EBF0F8\",\"linecolor\":\"#EBF0F8\",\"ticks\":\"\",\"title\":{\"standoff\":15},\"zerolinecolor\":\"#EBF0F8\",\"automargin\":true,\"zerolinewidth\":2},\"yaxis\":{\"gridcolor\":\"#EBF0F8\",\"linecolor\":\"#EBF0F8\",\"ticks\":\"\",\"title\":{\"standoff\":15},\"zerolinecolor\":\"#EBF0F8\",\"automargin\":true,\"zerolinewidth\":2},\"scene\":{\"xaxis\":{\"backgroundcolor\":\"white\",\"gridcolor\":\"#DFE8F3\",\"linecolor\":\"#EBF0F8\",\"showbackground\":true,\"ticks\":\"\",\"zerolinecolor\":\"#EBF0F8\",\"gridwidth\":2},\"yaxis\":{\"backgroundcolor\":\"white\",\"gridcolor\":\"#DFE8F3\",\"linecolor\":\"#EBF0F8\",\"showbackground\":true,\"ticks\":\"\",\"zerolinecolor\":\"#EBF0F8\",\"gridwidth\":2},\"zaxis\":{\"backgroundcolor\":\"white\",\"gridcolor\":\"#DFE8F3\",\"linecolor\":\"#EBF0F8\",\"showbackground\":true,\"ticks\":\"\",\"zerolinecolor\":\"#EBF0F8\",\"gridwidth\":2}},\"shapedefaults\":{\"line\":{\"color\":\"#2a3f5f\"}},\"annotationdefaults\":{\"arrowcolor\":\"#2a3f5f\",\"arrowhead\":0,\"arrowwidth\":1},\"geo\":{\"bgcolor\":\"white\",\"landcolor\":\"white\",\"subunitcolor\":\"#C8D4E3\",\"showland\":true,\"showlakes\":true,\"lakecolor\":\"white\"},\"title\":{\"x\":0.05},\"mapbox\":{\"style\":\"light\"}}},\"geo\":{\"domain\":{\"x\":[0.0,1.0],\"y\":[0.0,1.0]},\"center\":{},\"scope\":\"usa\"},\"coloraxis\":{\"colorbar\":{\"title\":{\"text\":\"Number of Years\"},\"tickfont\":{\"size\":10},\"x\":0.75,\"len\":0.8,\"thickness\":10,\"ticks\":\"outside\"},\"colorscale\":[[0,\"rgb(244, 164, 96)\"],[0.5,\"white\"],[1,\"#4682B4\"]]},\"legend\":{\"tracegroupgap\":0},\"margin\":{\"t\":60},\"title\":{\"text\":\"\\u003cb\\u003eNumber of Years From 2000 to 2023\\u003cbr\\u003eWith an Increase in Nominal Maximum WBA\\u003c\\u002fb\\u003e\",\"x\":0.5,\"xanchor\":\"center\"},\"font\":{\"family\":\"Cambria\",\"size\":12,\"color\":\"black\"}},                        {\"responsive\": true}                    ).then(function(){\n",
       "                            \n",
       "var gd = document.getElementById('4aa05a2d-49a5-4b26-9176-125866f075d8');\n",
       "var x = new MutationObserver(function (mutations, observer) {{\n",
       "        var display = window.getComputedStyle(gd).display;\n",
       "        if (!display || display === 'none') {{\n",
       "            console.log([gd, 'removed!']);\n",
       "            Plotly.purge(gd);\n",
       "            observer.disconnect();\n",
       "        }}\n",
       "}});\n",
       "\n",
       "// Listen for the removal of the full notebook cells\n",
       "var notebookContainer = gd.closest('#notebook-container');\n",
       "if (notebookContainer) {{\n",
       "    x.observe(notebookContainer, {childList: true});\n",
       "}}\n",
       "\n",
       "// Listen for the clearing of the current output cell\n",
       "var outputEl = gd.closest('.output');\n",
       "if (outputEl) {{\n",
       "    x.observe(outputEl, {childList: true});\n",
       "}}\n",
       "\n",
       "                        })                };                });            </script>        </div>"
      ]
     },
     "metadata": {},
     "output_type": "display_data"
    }
   ],
   "source": [
    "fig = px.choropleth(\n",
    "    data_frame=nominal_inc_maxwba,\n",
    "    locations='State',               \n",
    "    locationmode='USA-states',       \n",
    "    color='Number of Years',                   \n",
    "    color_continuous_scale= colorscale,\n",
    "    scope='usa',                      \n",
    ")\n",
    "\n",
    "fig.update_layout(\n",
    "    title={\n",
    "        'text': \"<b>Number of Years From 2000 to 2023<br>With an Increase in Nominal Maximum WBA</b>\",\n",
    "        'x': 0.5, \n",
    "        'xanchor': 'center'\n",
    "    },\n",
    "    font=dict(\n",
    "        family=\"Cambria\",  \n",
    "        size=12,         \n",
    "        color=\"black\",\n",
    "    ),\n",
    "    coloraxis_colorbar=dict(\n",
    "        title='Number of Years',\n",
    "        x=0.75,            \n",
    "        len=0.8,           \n",
    "        thickness=10,      \n",
    "        ticks='outside',\n",
    "        tickfont=dict(size=10),\n",
    "    )\n",
    ")\n",
    "\n",
    "fig.show()"
   ]
  },
  {
   "cell_type": "code",
   "execution_count": 152,
   "id": "a2b0a0e9-7bd2-4ee2-adac-0b98801d3bff",
   "metadata": {
    "tags": []
   },
   "outputs": [],
   "source": [
    "write_html(fig, 'fig_1a.html')"
   ]
  },
  {
   "cell_type": "code",
   "execution_count": 67,
   "id": "8385d76d-3cd0-4ad4-a468-134db04954af",
   "metadata": {
    "tags": []
   },
   "outputs": [],
   "source": [
    "nominal_inc_minwba = master.groupby(\"State\")[['Minimum WBA']].apply(\"nunique\")\n",
    "nominal_inc_minwba = nominal_inc_minwba.reset_index()\n",
    "nominal_inc_minwba['Minimum WBA'] = nominal_inc_minwba['Minimum WBA'] - 1\n",
    "nominal_inc_minwba = nominal_inc_minwba.rename(columns={'Minimum WBA': \"Number of Years\"})\n",
    "#nominal_inc_minwba"
   ]
  },
  {
   "cell_type": "code",
   "execution_count": 149,
   "id": "1a857919-d743-4059-a794-c1cb11b05128",
   "metadata": {
    "tags": []
   },
   "outputs": [
    {
     "data": {
      "application/vnd.plotly.v1+json": {
       "config": {
        "plotlyServerURL": "https://plot.ly"
       },
       "data": [
        {
         "coloraxis": "coloraxis",
         "geo": "geo",
         "hovertemplate": "State=%{location}<br>Number of Years=%{z}<extra></extra>",
         "locationmode": "USA-states",
         "locations": [
          "AK",
          "AL",
          "AR",
          "AZ",
          "CA",
          "CO",
          "CT",
          "DC",
          "DE",
          "FL",
          "GA",
          "HI",
          "IA",
          "ID",
          "IL",
          "IN",
          "KS",
          "KY",
          "LA",
          "MA",
          "MD",
          "ME",
          "MI",
          "MN",
          "MO",
          "MS",
          "MT",
          "NC",
          "ND",
          "NE",
          "NH",
          "NJ",
          "NM",
          "NV",
          "NY",
          "OH",
          "OK",
          "OR",
          "PA",
          "PR",
          "RI",
          "SC",
          "SD",
          "TN",
          "TX",
          "UT",
          "VA",
          "VT",
          "WA",
          "WI",
          "WV",
          "WY"
         ],
         "name": "",
         "type": "choropleth",
         "z": [
          1,
          0,
          12,
          10,
          0,
          0,
          0,
          0,
          0,
          0,
          4,
          0,
          22,
          3,
          0,
          1,
          19,
          0,
          2,
          12,
          1,
          22,
          10,
          7,
          4,
          0,
          22,
          9,
          0,
          2,
          1,
          10,
          21,
          0,
          7,
          20,
          0,
          21,
          2,
          2,
          12,
          1,
          0,
          0,
          21,
          13,
          3,
          16,
          22,
          6,
          0,
          16
         ]
        }
       ],
       "layout": {
        "autosize": true,
        "coloraxis": {
         "colorbar": {
          "len": 0.8,
          "thickness": 10,
          "tickfont": {
           "size": 10
          },
          "ticks": "outside",
          "title": {
           "text": "Number of Years"
          },
          "x": 0.75,
          "y": 0.5
         },
         "colorscale": [
          [
           0,
           "rgb(244, 164, 96)"
          ],
          [
           0.5,
           "white"
          ],
          [
           1,
           "#4682B4"
          ]
         ]
        },
        "font": {
         "color": "black",
         "family": "Cambria",
         "size": 12
        },
        "geo": {
         "center": {
          "lat": 39.755625986981315,
          "lon": -91.09225748588797
         },
         "domain": {
          "x": [
           0,
           1
          ],
          "y": [
           0,
           1
          ]
         },
         "projection": {
          "scale": 1.7950201013345237
         },
         "scope": "usa"
        },
        "legend": {
         "tracegroupgap": 0
        },
        "margin": {
         "t": 60
        },
        "template": {
         "data": {
          "bar": [
           {
            "error_x": {
             "color": "#2a3f5f"
            },
            "error_y": {
             "color": "#2a3f5f"
            },
            "marker": {
             "line": {
              "color": "white",
              "width": 0.5
             },
             "pattern": {
              "fillmode": "overlay",
              "size": 10,
              "solidity": 0.2
             }
            },
            "type": "bar"
           }
          ],
          "barpolar": [
           {
            "marker": {
             "line": {
              "color": "white",
              "width": 0.5
             },
             "pattern": {
              "fillmode": "overlay",
              "size": 10,
              "solidity": 0.2
             }
            },
            "type": "barpolar"
           }
          ],
          "carpet": [
           {
            "aaxis": {
             "endlinecolor": "#2a3f5f",
             "gridcolor": "#C8D4E3",
             "linecolor": "#C8D4E3",
             "minorgridcolor": "#C8D4E3",
             "startlinecolor": "#2a3f5f"
            },
            "baxis": {
             "endlinecolor": "#2a3f5f",
             "gridcolor": "#C8D4E3",
             "linecolor": "#C8D4E3",
             "minorgridcolor": "#C8D4E3",
             "startlinecolor": "#2a3f5f"
            },
            "type": "carpet"
           }
          ],
          "choropleth": [
           {
            "colorbar": {
             "outlinewidth": 0,
             "ticks": ""
            },
            "type": "choropleth"
           }
          ],
          "contour": [
           {
            "colorbar": {
             "outlinewidth": 0,
             "ticks": ""
            },
            "colorscale": [
             [
              0,
              "#0d0887"
             ],
             [
              0.1111111111111111,
              "#46039f"
             ],
             [
              0.2222222222222222,
              "#7201a8"
             ],
             [
              0.3333333333333333,
              "#9c179e"
             ],
             [
              0.4444444444444444,
              "#bd3786"
             ],
             [
              0.5555555555555556,
              "#d8576b"
             ],
             [
              0.6666666666666666,
              "#ed7953"
             ],
             [
              0.7777777777777778,
              "#fb9f3a"
             ],
             [
              0.8888888888888888,
              "#fdca26"
             ],
             [
              1,
              "#f0f921"
             ]
            ],
            "type": "contour"
           }
          ],
          "contourcarpet": [
           {
            "colorbar": {
             "outlinewidth": 0,
             "ticks": ""
            },
            "type": "contourcarpet"
           }
          ],
          "heatmap": [
           {
            "colorbar": {
             "outlinewidth": 0,
             "ticks": ""
            },
            "colorscale": [
             [
              0,
              "#0d0887"
             ],
             [
              0.1111111111111111,
              "#46039f"
             ],
             [
              0.2222222222222222,
              "#7201a8"
             ],
             [
              0.3333333333333333,
              "#9c179e"
             ],
             [
              0.4444444444444444,
              "#bd3786"
             ],
             [
              0.5555555555555556,
              "#d8576b"
             ],
             [
              0.6666666666666666,
              "#ed7953"
             ],
             [
              0.7777777777777778,
              "#fb9f3a"
             ],
             [
              0.8888888888888888,
              "#fdca26"
             ],
             [
              1,
              "#f0f921"
             ]
            ],
            "type": "heatmap"
           }
          ],
          "heatmapgl": [
           {
            "colorbar": {
             "outlinewidth": 0,
             "ticks": ""
            },
            "colorscale": [
             [
              0,
              "#0d0887"
             ],
             [
              0.1111111111111111,
              "#46039f"
             ],
             [
              0.2222222222222222,
              "#7201a8"
             ],
             [
              0.3333333333333333,
              "#9c179e"
             ],
             [
              0.4444444444444444,
              "#bd3786"
             ],
             [
              0.5555555555555556,
              "#d8576b"
             ],
             [
              0.6666666666666666,
              "#ed7953"
             ],
             [
              0.7777777777777778,
              "#fb9f3a"
             ],
             [
              0.8888888888888888,
              "#fdca26"
             ],
             [
              1,
              "#f0f921"
             ]
            ],
            "type": "heatmapgl"
           }
          ],
          "histogram": [
           {
            "marker": {
             "pattern": {
              "fillmode": "overlay",
              "size": 10,
              "solidity": 0.2
             }
            },
            "type": "histogram"
           }
          ],
          "histogram2d": [
           {
            "colorbar": {
             "outlinewidth": 0,
             "ticks": ""
            },
            "colorscale": [
             [
              0,
              "#0d0887"
             ],
             [
              0.1111111111111111,
              "#46039f"
             ],
             [
              0.2222222222222222,
              "#7201a8"
             ],
             [
              0.3333333333333333,
              "#9c179e"
             ],
             [
              0.4444444444444444,
              "#bd3786"
             ],
             [
              0.5555555555555556,
              "#d8576b"
             ],
             [
              0.6666666666666666,
              "#ed7953"
             ],
             [
              0.7777777777777778,
              "#fb9f3a"
             ],
             [
              0.8888888888888888,
              "#fdca26"
             ],
             [
              1,
              "#f0f921"
             ]
            ],
            "type": "histogram2d"
           }
          ],
          "histogram2dcontour": [
           {
            "colorbar": {
             "outlinewidth": 0,
             "ticks": ""
            },
            "colorscale": [
             [
              0,
              "#0d0887"
             ],
             [
              0.1111111111111111,
              "#46039f"
             ],
             [
              0.2222222222222222,
              "#7201a8"
             ],
             [
              0.3333333333333333,
              "#9c179e"
             ],
             [
              0.4444444444444444,
              "#bd3786"
             ],
             [
              0.5555555555555556,
              "#d8576b"
             ],
             [
              0.6666666666666666,
              "#ed7953"
             ],
             [
              0.7777777777777778,
              "#fb9f3a"
             ],
             [
              0.8888888888888888,
              "#fdca26"
             ],
             [
              1,
              "#f0f921"
             ]
            ],
            "type": "histogram2dcontour"
           }
          ],
          "mesh3d": [
           {
            "colorbar": {
             "outlinewidth": 0,
             "ticks": ""
            },
            "type": "mesh3d"
           }
          ],
          "parcoords": [
           {
            "line": {
             "colorbar": {
              "outlinewidth": 0,
              "ticks": ""
             }
            },
            "type": "parcoords"
           }
          ],
          "pie": [
           {
            "automargin": true,
            "type": "pie"
           }
          ],
          "scatter": [
           {
            "fillpattern": {
             "fillmode": "overlay",
             "size": 10,
             "solidity": 0.2
            },
            "type": "scatter"
           }
          ],
          "scatter3d": [
           {
            "line": {
             "colorbar": {
              "outlinewidth": 0,
              "ticks": ""
             }
            },
            "marker": {
             "colorbar": {
              "outlinewidth": 0,
              "ticks": ""
             }
            },
            "type": "scatter3d"
           }
          ],
          "scattercarpet": [
           {
            "marker": {
             "colorbar": {
              "outlinewidth": 0,
              "ticks": ""
             }
            },
            "type": "scattercarpet"
           }
          ],
          "scattergeo": [
           {
            "marker": {
             "colorbar": {
              "outlinewidth": 0,
              "ticks": ""
             }
            },
            "type": "scattergeo"
           }
          ],
          "scattergl": [
           {
            "marker": {
             "colorbar": {
              "outlinewidth": 0,
              "ticks": ""
             }
            },
            "type": "scattergl"
           }
          ],
          "scattermapbox": [
           {
            "marker": {
             "colorbar": {
              "outlinewidth": 0,
              "ticks": ""
             }
            },
            "type": "scattermapbox"
           }
          ],
          "scatterpolar": [
           {
            "marker": {
             "colorbar": {
              "outlinewidth": 0,
              "ticks": ""
             }
            },
            "type": "scatterpolar"
           }
          ],
          "scatterpolargl": [
           {
            "marker": {
             "colorbar": {
              "outlinewidth": 0,
              "ticks": ""
             }
            },
            "type": "scatterpolargl"
           }
          ],
          "scatterternary": [
           {
            "marker": {
             "colorbar": {
              "outlinewidth": 0,
              "ticks": ""
             }
            },
            "type": "scatterternary"
           }
          ],
          "surface": [
           {
            "colorbar": {
             "outlinewidth": 0,
             "ticks": ""
            },
            "colorscale": [
             [
              0,
              "#0d0887"
             ],
             [
              0.1111111111111111,
              "#46039f"
             ],
             [
              0.2222222222222222,
              "#7201a8"
             ],
             [
              0.3333333333333333,
              "#9c179e"
             ],
             [
              0.4444444444444444,
              "#bd3786"
             ],
             [
              0.5555555555555556,
              "#d8576b"
             ],
             [
              0.6666666666666666,
              "#ed7953"
             ],
             [
              0.7777777777777778,
              "#fb9f3a"
             ],
             [
              0.8888888888888888,
              "#fdca26"
             ],
             [
              1,
              "#f0f921"
             ]
            ],
            "type": "surface"
           }
          ],
          "table": [
           {
            "cells": {
             "fill": {
              "color": "#EBF0F8"
             },
             "line": {
              "color": "white"
             }
            },
            "header": {
             "fill": {
              "color": "#C8D4E3"
             },
             "line": {
              "color": "white"
             }
            },
            "type": "table"
           }
          ]
         },
         "layout": {
          "annotationdefaults": {
           "arrowcolor": "#2a3f5f",
           "arrowhead": 0,
           "arrowwidth": 1
          },
          "autotypenumbers": "strict",
          "coloraxis": {
           "colorbar": {
            "outlinewidth": 0,
            "ticks": ""
           }
          },
          "colorscale": {
           "diverging": [
            [
             0,
             "#8e0152"
            ],
            [
             0.1,
             "#c51b7d"
            ],
            [
             0.2,
             "#de77ae"
            ],
            [
             0.3,
             "#f1b6da"
            ],
            [
             0.4,
             "#fde0ef"
            ],
            [
             0.5,
             "#f7f7f7"
            ],
            [
             0.6,
             "#e6f5d0"
            ],
            [
             0.7,
             "#b8e186"
            ],
            [
             0.8,
             "#7fbc41"
            ],
            [
             0.9,
             "#4d9221"
            ],
            [
             1,
             "#276419"
            ]
           ],
           "sequential": [
            [
             0,
             "#0d0887"
            ],
            [
             0.1111111111111111,
             "#46039f"
            ],
            [
             0.2222222222222222,
             "#7201a8"
            ],
            [
             0.3333333333333333,
             "#9c179e"
            ],
            [
             0.4444444444444444,
             "#bd3786"
            ],
            [
             0.5555555555555556,
             "#d8576b"
            ],
            [
             0.6666666666666666,
             "#ed7953"
            ],
            [
             0.7777777777777778,
             "#fb9f3a"
            ],
            [
             0.8888888888888888,
             "#fdca26"
            ],
            [
             1,
             "#f0f921"
            ]
           ],
           "sequentialminus": [
            [
             0,
             "#0d0887"
            ],
            [
             0.1111111111111111,
             "#46039f"
            ],
            [
             0.2222222222222222,
             "#7201a8"
            ],
            [
             0.3333333333333333,
             "#9c179e"
            ],
            [
             0.4444444444444444,
             "#bd3786"
            ],
            [
             0.5555555555555556,
             "#d8576b"
            ],
            [
             0.6666666666666666,
             "#ed7953"
            ],
            [
             0.7777777777777778,
             "#fb9f3a"
            ],
            [
             0.8888888888888888,
             "#fdca26"
            ],
            [
             1,
             "#f0f921"
            ]
           ]
          },
          "colorway": [
           "#636efa",
           "#EF553B",
           "#00cc96",
           "#ab63fa",
           "#FFA15A",
           "#19d3f3",
           "#FF6692",
           "#B6E880",
           "#FF97FF",
           "#FECB52"
          ],
          "font": {
           "color": "#2a3f5f"
          },
          "geo": {
           "bgcolor": "white",
           "lakecolor": "white",
           "landcolor": "white",
           "showlakes": true,
           "showland": true,
           "subunitcolor": "#C8D4E3"
          },
          "hoverlabel": {
           "align": "left"
          },
          "hovermode": "closest",
          "mapbox": {
           "style": "light"
          },
          "paper_bgcolor": "white",
          "plot_bgcolor": "white",
          "polar": {
           "angularaxis": {
            "gridcolor": "#EBF0F8",
            "linecolor": "#EBF0F8",
            "ticks": ""
           },
           "bgcolor": "white",
           "radialaxis": {
            "gridcolor": "#EBF0F8",
            "linecolor": "#EBF0F8",
            "ticks": ""
           }
          },
          "scene": {
           "xaxis": {
            "backgroundcolor": "white",
            "gridcolor": "#DFE8F3",
            "gridwidth": 2,
            "linecolor": "#EBF0F8",
            "showbackground": true,
            "ticks": "",
            "zerolinecolor": "#EBF0F8"
           },
           "yaxis": {
            "backgroundcolor": "white",
            "gridcolor": "#DFE8F3",
            "gridwidth": 2,
            "linecolor": "#EBF0F8",
            "showbackground": true,
            "ticks": "",
            "zerolinecolor": "#EBF0F8"
           },
           "zaxis": {
            "backgroundcolor": "white",
            "gridcolor": "#DFE8F3",
            "gridwidth": 2,
            "linecolor": "#EBF0F8",
            "showbackground": true,
            "ticks": "",
            "zerolinecolor": "#EBF0F8"
           }
          },
          "shapedefaults": {
           "line": {
            "color": "#2a3f5f"
           }
          },
          "ternary": {
           "aaxis": {
            "gridcolor": "#DFE8F3",
            "linecolor": "#A2B1C6",
            "ticks": ""
           },
           "baxis": {
            "gridcolor": "#DFE8F3",
            "linecolor": "#A2B1C6",
            "ticks": ""
           },
           "bgcolor": "white",
           "caxis": {
            "gridcolor": "#DFE8F3",
            "linecolor": "#A2B1C6",
            "ticks": ""
           }
          },
          "title": {
           "x": 0.05
          },
          "xaxis": {
           "automargin": true,
           "gridcolor": "#EBF0F8",
           "linecolor": "#EBF0F8",
           "ticks": "",
           "title": {
            "standoff": 15
           },
           "zerolinecolor": "#EBF0F8",
           "zerolinewidth": 2
          },
          "yaxis": {
           "automargin": true,
           "gridcolor": "#EBF0F8",
           "linecolor": "#EBF0F8",
           "ticks": "",
           "title": {
            "standoff": 15
           },
           "zerolinecolor": "#EBF0F8",
           "zerolinewidth": 2
          }
         }
        },
        "title": {
         "text": "<b>Number of Years From 2000 to 2023<br>With an Increase in Nominal Minimum WBA</b>",
         "x": 0.5,
         "xanchor": "center"
        }
       }
      },
      "image/png": "[encoded data removed]",
      "text/html": [
       "<div>                            <div id=\"6e20ad6e-3d38-42ff-bda5-8f3a5b831706\" class=\"plotly-graph-div\" style=\"height:525px; width:100%;\"></div>            <script type=\"text/javascript\">                require([\"plotly\"], function(Plotly) {                    window.PLOTLYENV=window.PLOTLYENV || {};                                    if (document.getElementById(\"6e20ad6e-3d38-42ff-bda5-8f3a5b831706\")) {                    Plotly.newPlot(                        \"6e20ad6e-3d38-42ff-bda5-8f3a5b831706\",                        [{\"coloraxis\":\"coloraxis\",\"geo\":\"geo\",\"hovertemplate\":\"State=%{location}\\u003cbr\\u003eNumber of Years=%{z}\\u003cextra\\u003e\\u003c\\u002fextra\\u003e\",\"locationmode\":\"USA-states\",\"locations\":[\"AK\",\"AL\",\"AR\",\"AZ\",\"CA\",\"CO\",\"CT\",\"DC\",\"DE\",\"FL\",\"GA\",\"HI\",\"IA\",\"ID\",\"IL\",\"IN\",\"KS\",\"KY\",\"LA\",\"MA\",\"MD\",\"ME\",\"MI\",\"MN\",\"MO\",\"MS\",\"MT\",\"NC\",\"ND\",\"NE\",\"NH\",\"NJ\",\"NM\",\"NV\",\"NY\",\"OH\",\"OK\",\"OR\",\"PA\",\"PR\",\"RI\",\"SC\",\"SD\",\"TN\",\"TX\",\"UT\",\"VA\",\"VT\",\"WA\",\"WI\",\"WV\",\"WY\"],\"name\":\"\",\"z\":[1,0,12,10,0,0,0,0,0,0,4,0,22,3,0,1,19,0,2,12,1,22,10,7,4,0,22,9,0,2,1,10,21,0,7,20,0,21,2,2,12,1,0,0,21,13,3,16,22,6,0,16],\"type\":\"choropleth\"}],                        {\"template\":{\"data\":{\"histogram2dcontour\":[{\"type\":\"histogram2dcontour\",\"colorbar\":{\"outlinewidth\":0,\"ticks\":\"\"},\"colorscale\":[[0.0,\"#0d0887\"],[0.1111111111111111,\"#46039f\"],[0.2222222222222222,\"#7201a8\"],[0.3333333333333333,\"#9c179e\"],[0.4444444444444444,\"#bd3786\"],[0.5555555555555556,\"#d8576b\"],[0.6666666666666666,\"#ed7953\"],[0.7777777777777778,\"#fb9f3a\"],[0.8888888888888888,\"#fdca26\"],[1.0,\"#f0f921\"]]}],\"choropleth\":[{\"type\":\"choropleth\",\"colorbar\":{\"outlinewidth\":0,\"ticks\":\"\"}}],\"histogram2d\":[{\"type\":\"histogram2d\",\"colorbar\":{\"outlinewidth\":0,\"ticks\":\"\"},\"colorscale\":[[0.0,\"#0d0887\"],[0.1111111111111111,\"#46039f\"],[0.2222222222222222,\"#7201a8\"],[0.3333333333333333,\"#9c179e\"],[0.4444444444444444,\"#bd3786\"],[0.5555555555555556,\"#d8576b\"],[0.6666666666666666,\"#ed7953\"],[0.7777777777777778,\"#fb9f3a\"],[0.8888888888888888,\"#fdca26\"],[1.0,\"#f0f921\"]]}],\"heatmap\":[{\"type\":\"heatmap\",\"colorbar\":{\"outlinewidth\":0,\"ticks\":\"\"},\"colorscale\":[[0.0,\"#0d0887\"],[0.1111111111111111,\"#46039f\"],[0.2222222222222222,\"#7201a8\"],[0.3333333333333333,\"#9c179e\"],[0.4444444444444444,\"#bd3786\"],[0.5555555555555556,\"#d8576b\"],[0.6666666666666666,\"#ed7953\"],[0.7777777777777778,\"#fb9f3a\"],[0.8888888888888888,\"#fdca26\"],[1.0,\"#f0f921\"]]}],\"heatmapgl\":[{\"type\":\"heatmapgl\",\"colorbar\":{\"outlinewidth\":0,\"ticks\":\"\"},\"colorscale\":[[0.0,\"#0d0887\"],[0.1111111111111111,\"#46039f\"],[0.2222222222222222,\"#7201a8\"],[0.3333333333333333,\"#9c179e\"],[0.4444444444444444,\"#bd3786\"],[0.5555555555555556,\"#d8576b\"],[0.6666666666666666,\"#ed7953\"],[0.7777777777777778,\"#fb9f3a\"],[0.8888888888888888,\"#fdca26\"],[1.0,\"#f0f921\"]]}],\"contourcarpet\":[{\"type\":\"contourcarpet\",\"colorbar\":{\"outlinewidth\":0,\"ticks\":\"\"}}],\"contour\":[{\"type\":\"contour\",\"colorbar\":{\"outlinewidth\":0,\"ticks\":\"\"},\"colorscale\":[[0.0,\"#0d0887\"],[0.1111111111111111,\"#46039f\"],[0.2222222222222222,\"#7201a8\"],[0.3333333333333333,\"#9c179e\"],[0.4444444444444444,\"#bd3786\"],[0.5555555555555556,\"#d8576b\"],[0.6666666666666666,\"#ed7953\"],[0.7777777777777778,\"#fb9f3a\"],[0.8888888888888888,\"#fdca26\"],[1.0,\"#f0f921\"]]}],\"surface\":[{\"type\":\"surface\",\"colorbar\":{\"outlinewidth\":0,\"ticks\":\"\"},\"colorscale\":[[0.0,\"#0d0887\"],[0.1111111111111111,\"#46039f\"],[0.2222222222222222,\"#7201a8\"],[0.3333333333333333,\"#9c179e\"],[0.4444444444444444,\"#bd3786\"],[0.5555555555555556,\"#d8576b\"],[0.6666666666666666,\"#ed7953\"],[0.7777777777777778,\"#fb9f3a\"],[0.8888888888888888,\"#fdca26\"],[1.0,\"#f0f921\"]]}],\"mesh3d\":[{\"type\":\"mesh3d\",\"colorbar\":{\"outlinewidth\":0,\"ticks\":\"\"}}],\"scatter\":[{\"fillpattern\":{\"fillmode\":\"overlay\",\"size\":10,\"solidity\":0.2},\"type\":\"scatter\"}],\"parcoords\":[{\"type\":\"parcoords\",\"line\":{\"colorbar\":{\"outlinewidth\":0,\"ticks\":\"\"}}}],\"scatterpolargl\":[{\"type\":\"scatterpolargl\",\"marker\":{\"colorbar\":{\"outlinewidth\":0,\"ticks\":\"\"}}}],\"bar\":[{\"error_x\":{\"color\":\"#2a3f5f\"},\"error_y\":{\"color\":\"#2a3f5f\"},\"marker\":{\"line\":{\"color\":\"white\",\"width\":0.5},\"pattern\":{\"fillmode\":\"overlay\",\"size\":10,\"solidity\":0.2}},\"type\":\"bar\"}],\"scattergeo\":[{\"type\":\"scattergeo\",\"marker\":{\"colorbar\":{\"outlinewidth\":0,\"ticks\":\"\"}}}],\"scatterpolar\":[{\"type\":\"scatterpolar\",\"marker\":{\"colorbar\":{\"outlinewidth\":0,\"ticks\":\"\"}}}],\"histogram\":[{\"marker\":{\"pattern\":{\"fillmode\":\"overlay\",\"size\":10,\"solidity\":0.2}},\"type\":\"histogram\"}],\"scattergl\":[{\"type\":\"scattergl\",\"marker\":{\"colorbar\":{\"outlinewidth\":0,\"ticks\":\"\"}}}],\"scatter3d\":[{\"type\":\"scatter3d\",\"line\":{\"colorbar\":{\"outlinewidth\":0,\"ticks\":\"\"}},\"marker\":{\"colorbar\":{\"outlinewidth\":0,\"ticks\":\"\"}}}],\"scattermapbox\":[{\"type\":\"scattermapbox\",\"marker\":{\"colorbar\":{\"outlinewidth\":0,\"ticks\":\"\"}}}],\"scatterternary\":[{\"type\":\"scatterternary\",\"marker\":{\"colorbar\":{\"outlinewidth\":0,\"ticks\":\"\"}}}],\"scattercarpet\":[{\"type\":\"scattercarpet\",\"marker\":{\"colorbar\":{\"outlinewidth\":0,\"ticks\":\"\"}}}],\"carpet\":[{\"aaxis\":{\"endlinecolor\":\"#2a3f5f\",\"gridcolor\":\"#C8D4E3\",\"linecolor\":\"#C8D4E3\",\"minorgridcolor\":\"#C8D4E3\",\"startlinecolor\":\"#2a3f5f\"},\"baxis\":{\"endlinecolor\":\"#2a3f5f\",\"gridcolor\":\"#C8D4E3\",\"linecolor\":\"#C8D4E3\",\"minorgridcolor\":\"#C8D4E3\",\"startlinecolor\":\"#2a3f5f\"},\"type\":\"carpet\"}],\"table\":[{\"cells\":{\"fill\":{\"color\":\"#EBF0F8\"},\"line\":{\"color\":\"white\"}},\"header\":{\"fill\":{\"color\":\"#C8D4E3\"},\"line\":{\"color\":\"white\"}},\"type\":\"table\"}],\"barpolar\":[{\"marker\":{\"line\":{\"color\":\"white\",\"width\":0.5},\"pattern\":{\"fillmode\":\"overlay\",\"size\":10,\"solidity\":0.2}},\"type\":\"barpolar\"}],\"pie\":[{\"automargin\":true,\"type\":\"pie\"}]},\"layout\":{\"autotypenumbers\":\"strict\",\"colorway\":[\"#636efa\",\"#EF553B\",\"#00cc96\",\"#ab63fa\",\"#FFA15A\",\"#19d3f3\",\"#FF6692\",\"#B6E880\",\"#FF97FF\",\"#FECB52\"],\"font\":{\"color\":\"#2a3f5f\"},\"hovermode\":\"closest\",\"hoverlabel\":{\"align\":\"left\"},\"paper_bgcolor\":\"white\",\"plot_bgcolor\":\"white\",\"polar\":{\"bgcolor\":\"white\",\"angularaxis\":{\"gridcolor\":\"#EBF0F8\",\"linecolor\":\"#EBF0F8\",\"ticks\":\"\"},\"radialaxis\":{\"gridcolor\":\"#EBF0F8\",\"linecolor\":\"#EBF0F8\",\"ticks\":\"\"}},\"ternary\":{\"bgcolor\":\"white\",\"aaxis\":{\"gridcolor\":\"#DFE8F3\",\"linecolor\":\"#A2B1C6\",\"ticks\":\"\"},\"baxis\":{\"gridcolor\":\"#DFE8F3\",\"linecolor\":\"#A2B1C6\",\"ticks\":\"\"},\"caxis\":{\"gridcolor\":\"#DFE8F3\",\"linecolor\":\"#A2B1C6\",\"ticks\":\"\"}},\"coloraxis\":{\"colorbar\":{\"outlinewidth\":0,\"ticks\":\"\"}},\"colorscale\":{\"sequential\":[[0.0,\"#0d0887\"],[0.1111111111111111,\"#46039f\"],[0.2222222222222222,\"#7201a8\"],[0.3333333333333333,\"#9c179e\"],[0.4444444444444444,\"#bd3786\"],[0.5555555555555556,\"#d8576b\"],[0.6666666666666666,\"#ed7953\"],[0.7777777777777778,\"#fb9f3a\"],[0.8888888888888888,\"#fdca26\"],[1.0,\"#f0f921\"]],\"sequentialminus\":[[0.0,\"#0d0887\"],[0.1111111111111111,\"#46039f\"],[0.2222222222222222,\"#7201a8\"],[0.3333333333333333,\"#9c179e\"],[0.4444444444444444,\"#bd3786\"],[0.5555555555555556,\"#d8576b\"],[0.6666666666666666,\"#ed7953\"],[0.7777777777777778,\"#fb9f3a\"],[0.8888888888888888,\"#fdca26\"],[1.0,\"#f0f921\"]],\"diverging\":[[0,\"#8e0152\"],[0.1,\"#c51b7d\"],[0.2,\"#de77ae\"],[0.3,\"#f1b6da\"],[0.4,\"#fde0ef\"],[0.5,\"#f7f7f7\"],[0.6,\"#e6f5d0\"],[0.7,\"#b8e186\"],[0.8,\"#7fbc41\"],[0.9,\"#4d9221\"],[1,\"#276419\"]]},\"xaxis\":{\"gridcolor\":\"#EBF0F8\",\"linecolor\":\"#EBF0F8\",\"ticks\":\"\",\"title\":{\"standoff\":15},\"zerolinecolor\":\"#EBF0F8\",\"automargin\":true,\"zerolinewidth\":2},\"yaxis\":{\"gridcolor\":\"#EBF0F8\",\"linecolor\":\"#EBF0F8\",\"ticks\":\"\",\"title\":{\"standoff\":15},\"zerolinecolor\":\"#EBF0F8\",\"automargin\":true,\"zerolinewidth\":2},\"scene\":{\"xaxis\":{\"backgroundcolor\":\"white\",\"gridcolor\":\"#DFE8F3\",\"linecolor\":\"#EBF0F8\",\"showbackground\":true,\"ticks\":\"\",\"zerolinecolor\":\"#EBF0F8\",\"gridwidth\":2},\"yaxis\":{\"backgroundcolor\":\"white\",\"gridcolor\":\"#DFE8F3\",\"linecolor\":\"#EBF0F8\",\"showbackground\":true,\"ticks\":\"\",\"zerolinecolor\":\"#EBF0F8\",\"gridwidth\":2},\"zaxis\":{\"backgroundcolor\":\"white\",\"gridcolor\":\"#DFE8F3\",\"linecolor\":\"#EBF0F8\",\"showbackground\":true,\"ticks\":\"\",\"zerolinecolor\":\"#EBF0F8\",\"gridwidth\":2}},\"shapedefaults\":{\"line\":{\"color\":\"#2a3f5f\"}},\"annotationdefaults\":{\"arrowcolor\":\"#2a3f5f\",\"arrowhead\":0,\"arrowwidth\":1},\"geo\":{\"bgcolor\":\"white\",\"landcolor\":\"white\",\"subunitcolor\":\"#C8D4E3\",\"showland\":true,\"showlakes\":true,\"lakecolor\":\"white\"},\"title\":{\"x\":0.05},\"mapbox\":{\"style\":\"light\"}}},\"geo\":{\"domain\":{\"x\":[0.0,1.0],\"y\":[0.0,1.0]},\"center\":{},\"scope\":\"usa\"},\"coloraxis\":{\"colorbar\":{\"title\":{\"text\":\"Number of Years\"},\"tickfont\":{\"size\":10},\"x\":0.75,\"len\":0.8,\"thickness\":10,\"ticks\":\"outside\"},\"colorscale\":[[0,\"rgb(244, 164, 96)\"],[0.5,\"white\"],[1,\"#4682B4\"]]},\"legend\":{\"tracegroupgap\":0},\"margin\":{\"t\":60},\"title\":{\"text\":\"\\u003cb\\u003eNumber of Years From 2000 to 2023\\u003cbr\\u003eWith an Increase in Nominal Minimum WBA\\u003c\\u002fb\\u003e\",\"x\":0.5,\"xanchor\":\"center\"},\"font\":{\"family\":\"Cambria\",\"size\":12,\"color\":\"black\"}},                        {\"responsive\": true}                    ).then(function(){\n",
       "                            \n",
       "var gd = document.getElementById('6e20ad6e-3d38-42ff-bda5-8f3a5b831706');\n",
       "var x = new MutationObserver(function (mutations, observer) {{\n",
       "        var display = window.getComputedStyle(gd).display;\n",
       "        if (!display || display === 'none') {{\n",
       "            console.log([gd, 'removed!']);\n",
       "            Plotly.purge(gd);\n",
       "            observer.disconnect();\n",
       "        }}\n",
       "}});\n",
       "\n",
       "// Listen for the removal of the full notebook cells\n",
       "var notebookContainer = gd.closest('#notebook-container');\n",
       "if (notebookContainer) {{\n",
       "    x.observe(notebookContainer, {childList: true});\n",
       "}}\n",
       "\n",
       "// Listen for the clearing of the current output cell\n",
       "var outputEl = gd.closest('.output');\n",
       "if (outputEl) {{\n",
       "    x.observe(outputEl, {childList: true});\n",
       "}}\n",
       "\n",
       "                        })                };                });            </script>        </div>"
      ]
     },
     "metadata": {},
     "output_type": "display_data"
    }
   ],
   "source": [
    "fig = px.choropleth(\n",
    "    data_frame=nominal_inc_minwba,\n",
    "    locations='State',               \n",
    "    locationmode='USA-states',       \n",
    "    color='Number of Years',                   \n",
    "    color_continuous_scale= colorscale,\n",
    "    scope='usa',                      \n",
    ")\n",
    "\n",
    "fig.update_layout(\n",
    "    title={\n",
    "        'text': \"<b>Number of Years From 2000 to 2023<br>With an Increase in Nominal Minimum WBA</b>\",\n",
    "        'x': 0.5, \n",
    "        'xanchor': 'center'\n",
    "    },\n",
    "    font=dict(\n",
    "        family=\"Cambria\",  \n",
    "        size=12,         \n",
    "        color=\"black\",\n",
    "    ),\n",
    "    coloraxis_colorbar=dict(\n",
    "        title='Number of Years',\n",
    "        x=0.75,            \n",
    "        len=0.8,           \n",
    "        thickness=10,      \n",
    "        ticks='outside',\n",
    "        tickfont=dict(size=10),\n",
    "    )\n",
    ")\n",
    "\n",
    "fig.show()"
   ]
  },
  {
   "cell_type": "code",
   "execution_count": 150,
   "id": "24a70390-e0a5-4f6d-ab61-9fc8b15839da",
   "metadata": {
    "tags": []
   },
   "outputs": [],
   "source": [
    "write_html(fig, \"fig_1b.html\")"
   ]
  },
  {
   "cell_type": "markdown",
   "id": "d298f0aa-3621-46bc-9f93-00f58ea713fd",
   "metadata": {},
   "source": [
    "## Figure 2: Trends in Average and Max Real WBA over 2000-2023 in California, state/region-adjusted"
   ]
  },
  {
   "cell_type": "code",
   "execution_count": 75,
   "id": "5ec21c63-678c-4bd6-9fea-499576bdf648",
   "metadata": {
    "tags": []
   },
   "outputs": [
    {
     "data": {
      "text/plain": [
       "Index(['Unnamed: 0', 'Year', 'State', 'Replacement Ratio 1',\n",
       "       'Replacement Ratio 2', 'Recipiency Rate', 'Average WBA', 'Minimum WBA',\n",
       "       'Maximum WBA', 'Average Weekly Wage', 'Region', 'Annual Regional CPI-U',\n",
       "       'Annualized State Inflation Rate', 'MET',\n",
       "       'Real Average WBA (regional, 2000 base)',\n",
       "       'Real Minimum WBA (regional, 2000 base)',\n",
       "       'Real Maximum WBA (regional, 2000 base)',\n",
       "       'Real Average WBA (state, 2000 base)',\n",
       "       'Real Minimum WBA (state, 2000 base)',\n",
       "       'Real Maximum WBA (state, 2000 base)',\n",
       "       'Real Average WBA (regional, 2023 base)',\n",
       "       'Real Minimum WBA (regional, 2023 base)',\n",
       "       'Real Maximum WBA (regional, 2023 base)',\n",
       "       'Real Average WBA (state, 2017 base)',\n",
       "       'Real Minimum WBA (state, 2017 base)',\n",
       "       'Real Maximum WBA (state, 2017 base)'],\n",
       "      dtype='object')"
      ]
     },
     "execution_count": 75,
     "metadata": {},
     "output_type": "execute_result"
    }
   ],
   "source": [
    "master.columns"
   ]
  },
  {
   "cell_type": "code",
   "execution_count": 100,
   "id": "c285d63d-5707-4d6a-8421-1713a153c6e7",
   "metadata": {
    "tags": []
   },
   "outputs": [
    {
     "data": {
      "text/html": [
       "<div>\n",
       "<style scoped>\n",
       "    .dataframe tbody tr th:only-of-type {\n",
       "        vertical-align: middle;\n",
       "    }\n",
       "\n",
       "    .dataframe tbody tr th {\n",
       "        vertical-align: top;\n",
       "    }\n",
       "\n",
       "    .dataframe thead th {\n",
       "        text-align: right;\n",
       "    }\n",
       "</style>\n",
       "<table border=\"1\" class=\"dataframe\">\n",
       "  <thead>\n",
       "    <tr style=\"text-align: right;\">\n",
       "      <th></th>\n",
       "      <th>Year</th>\n",
       "      <th>Average WBA</th>\n",
       "      <th>Real Average WBA (state, 2017 base)</th>\n",
       "      <th>Real Maximum WBA (state, 2017 base)</th>\n",
       "      <th>Real Average WBA (regional, 2023 base)</th>\n",
       "      <th>Real Maximum WBA (regional, 2023 base)</th>\n",
       "    </tr>\n",
       "  </thead>\n",
       "  <tbody>\n",
       "    <tr>\n",
       "      <th>4</th>\n",
       "      <td>2000</td>\n",
       "      <td>163.65</td>\n",
       "      <td>246.90</td>\n",
       "      <td>347.01</td>\n",
       "      <td>303.18</td>\n",
       "      <td>426.10</td>\n",
       "    </tr>\n",
       "    <tr>\n",
       "      <th>56</th>\n",
       "      <td>2001</td>\n",
       "      <td>176.15</td>\n",
       "      <td>256.86</td>\n",
       "      <td>335.39</td>\n",
       "      <td>314.81</td>\n",
       "      <td>411.05</td>\n",
       "    </tr>\n",
       "    <tr>\n",
       "      <th>107</th>\n",
       "      <td>2002</td>\n",
       "      <td>225.21</td>\n",
       "      <td>317.19</td>\n",
       "      <td>464.77</td>\n",
       "      <td>394.86</td>\n",
       "      <td>578.59</td>\n",
       "    </tr>\n",
       "    <tr>\n",
       "      <th>159</th>\n",
       "      <td>2003</td>\n",
       "      <td>255.88</td>\n",
       "      <td>350.14</td>\n",
       "      <td>506.29</td>\n",
       "      <td>439.36</td>\n",
       "      <td>635.31</td>\n",
       "    </tr>\n",
       "    <tr>\n",
       "      <th>211</th>\n",
       "      <td>2004</td>\n",
       "      <td>266.72</td>\n",
       "      <td>355.05</td>\n",
       "      <td>545.78</td>\n",
       "      <td>447.53</td>\n",
       "      <td>687.94</td>\n",
       "    </tr>\n",
       "    <tr>\n",
       "      <th>263</th>\n",
       "      <td>2005</td>\n",
       "      <td>288.56</td>\n",
       "      <td>377.34</td>\n",
       "      <td>588.45</td>\n",
       "      <td>469.81</td>\n",
       "      <td>732.66</td>\n",
       "    </tr>\n",
       "    <tr>\n",
       "      <th>315</th>\n",
       "      <td>2006</td>\n",
       "      <td>296.48</td>\n",
       "      <td>374.46</td>\n",
       "      <td>568.36</td>\n",
       "      <td>466.75</td>\n",
       "      <td>708.44</td>\n",
       "    </tr>\n",
       "    <tr>\n",
       "      <th>367</th>\n",
       "      <td>2007</td>\n",
       "      <td>308.70</td>\n",
       "      <td>375.65</td>\n",
       "      <td>547.59</td>\n",
       "      <td>471.03</td>\n",
       "      <td>686.64</td>\n",
       "    </tr>\n",
       "    <tr>\n",
       "      <th>419</th>\n",
       "      <td>2008</td>\n",
       "      <td>315.07</td>\n",
       "      <td>375.34</td>\n",
       "      <td>536.08</td>\n",
       "      <td>464.52</td>\n",
       "      <td>663.46</td>\n",
       "    </tr>\n",
       "    <tr>\n",
       "      <th>471</th>\n",
       "      <td>2009</td>\n",
       "      <td>326.24</td>\n",
       "      <td>377.02</td>\n",
       "      <td>520.05</td>\n",
       "      <td>482.80</td>\n",
       "      <td>665.95</td>\n",
       "    </tr>\n",
       "    <tr>\n",
       "      <th>523</th>\n",
       "      <td>2010</td>\n",
       "      <td>314.46</td>\n",
       "      <td>359.89</td>\n",
       "      <td>515.00</td>\n",
       "      <td>460.36</td>\n",
       "      <td>658.79</td>\n",
       "    </tr>\n",
       "    <tr>\n",
       "      <th>575</th>\n",
       "      <td>2011</td>\n",
       "      <td>307.98</td>\n",
       "      <td>342.63</td>\n",
       "      <td>500.63</td>\n",
       "      <td>438.42</td>\n",
       "      <td>640.59</td>\n",
       "    </tr>\n",
       "    <tr>\n",
       "      <th>627</th>\n",
       "      <td>2012</td>\n",
       "      <td>305.81</td>\n",
       "      <td>330.87</td>\n",
       "      <td>486.88</td>\n",
       "      <td>426.17</td>\n",
       "      <td>627.11</td>\n",
       "    </tr>\n",
       "    <tr>\n",
       "      <th>679</th>\n",
       "      <td>2013</td>\n",
       "      <td>313.13</td>\n",
       "      <td>334.34</td>\n",
       "      <td>480.48</td>\n",
       "      <td>429.99</td>\n",
       "      <td>617.94</td>\n",
       "    </tr>\n",
       "    <tr>\n",
       "      <th>731</th>\n",
       "      <td>2014</td>\n",
       "      <td>312.81</td>\n",
       "      <td>329.60</td>\n",
       "      <td>474.16</td>\n",
       "      <td>421.70</td>\n",
       "      <td>606.65</td>\n",
       "    </tr>\n",
       "    <tr>\n",
       "      <th>782</th>\n",
       "      <td>2015</td>\n",
       "      <td>319.07</td>\n",
       "      <td>330.65</td>\n",
       "      <td>466.33</td>\n",
       "      <td>425.18</td>\n",
       "      <td>599.66</td>\n",
       "    </tr>\n",
       "    <tr>\n",
       "      <th>834</th>\n",
       "      <td>2016</td>\n",
       "      <td>328.90</td>\n",
       "      <td>336.55</td>\n",
       "      <td>460.46</td>\n",
       "      <td>429.98</td>\n",
       "      <td>588.30</td>\n",
       "    </tr>\n",
       "    <tr>\n",
       "      <th>886</th>\n",
       "      <td>2017</td>\n",
       "      <td>333.93</td>\n",
       "      <td>333.93</td>\n",
       "      <td>450.00</td>\n",
       "      <td>424.51</td>\n",
       "      <td>572.06</td>\n",
       "    </tr>\n",
       "    <tr>\n",
       "      <th>938</th>\n",
       "      <td>2018</td>\n",
       "      <td>344.30</td>\n",
       "      <td>NaN</td>\n",
       "      <td>NaN</td>\n",
       "      <td>423.52</td>\n",
       "      <td>553.54</td>\n",
       "    </tr>\n",
       "    <tr>\n",
       "      <th>990</th>\n",
       "      <td>2019</td>\n",
       "      <td>345.43</td>\n",
       "      <td>NaN</td>\n",
       "      <td>NaN</td>\n",
       "      <td>413.77</td>\n",
       "      <td>539.02</td>\n",
       "    </tr>\n",
       "    <tr>\n",
       "      <th>1042</th>\n",
       "      <td>2020</td>\n",
       "      <td>307.50</td>\n",
       "      <td>NaN</td>\n",
       "      <td>NaN</td>\n",
       "      <td>362.03</td>\n",
       "      <td>529.80</td>\n",
       "    </tr>\n",
       "    <tr>\n",
       "      <th>1094</th>\n",
       "      <td>2021</td>\n",
       "      <td>331.40</td>\n",
       "      <td>NaN</td>\n",
       "      <td>NaN</td>\n",
       "      <td>373.29</td>\n",
       "      <td>506.88</td>\n",
       "    </tr>\n",
       "    <tr>\n",
       "      <th>1146</th>\n",
       "      <td>2022</td>\n",
       "      <td>366.83</td>\n",
       "      <td>NaN</td>\n",
       "      <td>NaN</td>\n",
       "      <td>382.57</td>\n",
       "      <td>469.31</td>\n",
       "    </tr>\n",
       "    <tr>\n",
       "      <th>1198</th>\n",
       "      <td>2023</td>\n",
       "      <td>384.56</td>\n",
       "      <td>NaN</td>\n",
       "      <td>NaN</td>\n",
       "      <td>384.56</td>\n",
       "      <td>450.00</td>\n",
       "    </tr>\n",
       "  </tbody>\n",
       "</table>\n",
       "</div>"
      ],
      "text/plain": [
       "      Year  Average WBA  Real Average WBA (state, 2017 base)  \\\n",
       "4     2000       163.65                               246.90   \n",
       "56    2001       176.15                               256.86   \n",
       "107   2002       225.21                               317.19   \n",
       "159   2003       255.88                               350.14   \n",
       "211   2004       266.72                               355.05   \n",
       "263   2005       288.56                               377.34   \n",
       "315   2006       296.48                               374.46   \n",
       "367   2007       308.70                               375.65   \n",
       "419   2008       315.07                               375.34   \n",
       "471   2009       326.24                               377.02   \n",
       "523   2010       314.46                               359.89   \n",
       "575   2011       307.98                               342.63   \n",
       "627   2012       305.81                               330.87   \n",
       "679   2013       313.13                               334.34   \n",
       "731   2014       312.81                               329.60   \n",
       "782   2015       319.07                               330.65   \n",
       "834   2016       328.90                               336.55   \n",
       "886   2017       333.93                               333.93   \n",
       "938   2018       344.30                                  NaN   \n",
       "990   2019       345.43                                  NaN   \n",
       "1042  2020       307.50                                  NaN   \n",
       "1094  2021       331.40                                  NaN   \n",
       "1146  2022       366.83                                  NaN   \n",
       "1198  2023       384.56                                  NaN   \n",
       "\n",
       "      Real Maximum WBA (state, 2017 base)  \\\n",
       "4                                  347.01   \n",
       "56                                 335.39   \n",
       "107                                464.77   \n",
       "159                                506.29   \n",
       "211                                545.78   \n",
       "263                                588.45   \n",
       "315                                568.36   \n",
       "367                                547.59   \n",
       "419                                536.08   \n",
       "471                                520.05   \n",
       "523                                515.00   \n",
       "575                                500.63   \n",
       "627                                486.88   \n",
       "679                                480.48   \n",
       "731                                474.16   \n",
       "782                                466.33   \n",
       "834                                460.46   \n",
       "886                                450.00   \n",
       "938                                   NaN   \n",
       "990                                   NaN   \n",
       "1042                                  NaN   \n",
       "1094                                  NaN   \n",
       "1146                                  NaN   \n",
       "1198                                  NaN   \n",
       "\n",
       "      Real Average WBA (regional, 2023 base)  \\\n",
       "4                                     303.18   \n",
       "56                                    314.81   \n",
       "107                                   394.86   \n",
       "159                                   439.36   \n",
       "211                                   447.53   \n",
       "263                                   469.81   \n",
       "315                                   466.75   \n",
       "367                                   471.03   \n",
       "419                                   464.52   \n",
       "471                                   482.80   \n",
       "523                                   460.36   \n",
       "575                                   438.42   \n",
       "627                                   426.17   \n",
       "679                                   429.99   \n",
       "731                                   421.70   \n",
       "782                                   425.18   \n",
       "834                                   429.98   \n",
       "886                                   424.51   \n",
       "938                                   423.52   \n",
       "990                                   413.77   \n",
       "1042                                  362.03   \n",
       "1094                                  373.29   \n",
       "1146                                  382.57   \n",
       "1198                                  384.56   \n",
       "\n",
       "      Real Maximum WBA (regional, 2023 base)  \n",
       "4                                     426.10  \n",
       "56                                    411.05  \n",
       "107                                   578.59  \n",
       "159                                   635.31  \n",
       "211                                   687.94  \n",
       "263                                   732.66  \n",
       "315                                   708.44  \n",
       "367                                   686.64  \n",
       "419                                   663.46  \n",
       "471                                   665.95  \n",
       "523                                   658.79  \n",
       "575                                   640.59  \n",
       "627                                   627.11  \n",
       "679                                   617.94  \n",
       "731                                   606.65  \n",
       "782                                   599.66  \n",
       "834                                   588.30  \n",
       "886                                   572.06  \n",
       "938                                   553.54  \n",
       "990                                   539.02  \n",
       "1042                                  529.80  \n",
       "1094                                  506.88  \n",
       "1146                                  469.31  \n",
       "1198                                  450.00  "
      ]
     },
     "execution_count": 100,
     "metadata": {},
     "output_type": "execute_result"
    }
   ],
   "source": [
    "ca_realwba_trend = master[master['State'] == \"CA\"][['Year', 'Average WBA', \n",
    "                                                    'Real Average WBA (state, 2017 base)', \n",
    "                                                    'Real Maximum WBA (state, 2017 base)', \n",
    "                                                    'Real Average WBA (regional, 2023 base)', \n",
    "                                                    'Real Maximum WBA (regional, 2023 base)']]\n",
    "ca_realwba_trend"
   ]
  },
  {
   "cell_type": "code",
   "execution_count": 143,
   "id": "e884525a-4143-463f-94a0-69135f9cdd73",
   "metadata": {
    "tags": []
   },
   "outputs": [
    {
     "data": {
      "application/vnd.plotly.v1+json": {
       "config": {
        "plotlyServerURL": "https://plot.ly"
       },
       "data": [
        {
         "hovertemplate": "Year=%{x}<br>Real Maximum WBA (state, 2017 base)=%{y}<extra></extra>",
         "legendgroup": "",
         "line": {
          "color": "rgba(50,50,100,0.5)",
          "dash": "solid"
         },
         "marker": {
          "symbol": "circle"
         },
         "mode": "lines",
         "name": "Maximum WBA",
         "orientation": "v",
         "showlegend": true,
         "type": "scatter",
         "x": [
          2000,
          2001,
          2002,
          2003,
          2004,
          2005,
          2006,
          2007,
          2008,
          2009,
          2010,
          2011,
          2012,
          2013,
          2014,
          2015,
          2016,
          2017
         ],
         "xaxis": "x",
         "y": [
          347.01,
          335.39,
          464.77,
          506.29,
          545.78,
          588.45,
          568.36,
          547.59,
          536.08,
          520.05,
          515,
          500.63,
          486.88,
          480.48,
          474.16,
          466.33,
          460.46,
          450
         ],
         "yaxis": "y"
        },
        {
         "hovertemplate": "Year=%{x}<br>Real Maximum WBA (state, 2017 base)=%{y}<extra></extra>",
         "legendgroup": "",
         "marker": {
          "color": "rgb(50,50,100)",
          "symbol": "circle"
         },
         "mode": "markers",
         "name": "",
         "orientation": "v",
         "showlegend": false,
         "type": "scatter",
         "x": [
          2000,
          2001,
          2002,
          2003,
          2004,
          2005,
          2006,
          2007,
          2008,
          2009,
          2010,
          2011,
          2012,
          2013,
          2014,
          2015,
          2016,
          2017
         ],
         "xaxis": "x",
         "y": [
          347.01,
          335.39,
          464.77,
          506.29,
          545.78,
          588.45,
          568.36,
          547.59,
          536.08,
          520.05,
          515,
          500.63,
          486.88,
          480.48,
          474.16,
          466.33,
          460.46,
          450
         ],
         "yaxis": "y"
        },
        {
         "hovertemplate": "Year=%{x}<br>Real Average WBA (state, 2017 base)=%{y}<extra></extra>",
         "legendgroup": "",
         "line": {
          "color": "rgba(255, 165, 0,0.5)",
          "dash": "solid"
         },
         "marker": {
          "symbol": "circle"
         },
         "mode": "lines",
         "name": "Average WBA",
         "orientation": "v",
         "showlegend": true,
         "type": "scatter",
         "x": [
          2000,
          2001,
          2002,
          2003,
          2004,
          2005,
          2006,
          2007,
          2008,
          2009,
          2010,
          2011,
          2012,
          2013,
          2014,
          2015,
          2016,
          2017
         ],
         "xaxis": "x",
         "y": [
          246.9,
          256.86,
          317.19,
          350.14,
          355.05,
          377.34,
          374.46,
          375.65,
          375.34,
          377.02,
          359.89,
          342.63,
          330.87,
          334.34,
          329.6,
          330.65,
          336.55,
          333.93
         ],
         "yaxis": "y"
        },
        {
         "hovertemplate": "Year=%{x}<br>Real Average WBA (state, 2017 base)=%{y}<extra></extra>",
         "legendgroup": "",
         "marker": {
          "color": "orange",
          "symbol": "circle"
         },
         "mode": "markers",
         "name": "",
         "orientation": "v",
         "showlegend": false,
         "type": "scatter",
         "x": [
          2000,
          2001,
          2002,
          2003,
          2004,
          2005,
          2006,
          2007,
          2008,
          2009,
          2010,
          2011,
          2012,
          2013,
          2014,
          2015,
          2016,
          2017
         ],
         "xaxis": "x",
         "y": [
          246.9,
          256.86,
          317.19,
          350.14,
          355.05,
          377.34,
          374.46,
          375.65,
          375.34,
          377.02,
          359.89,
          342.63,
          330.87,
          334.34,
          329.6,
          330.65,
          336.55,
          333.93
         ],
         "yaxis": "y"
        }
       ],
       "layout": {
        "autosize": true,
        "font": {
         "color": "black",
         "family": "Cambria",
         "size": 14
        },
        "legend": {
         "orientation": "v",
         "x": 0.9,
         "xanchor": "center",
         "y": 1.3
        },
        "shapes": [
         {
          "fillcolor": "lightgray",
          "layer": "below",
          "line": {
           "width": 0
          },
          "opacity": 0.2,
          "type": "rect",
          "x0": 2005,
          "x1": 2017,
          "xref": "x",
          "y0": 0,
          "y1": 1,
          "yref": "paper"
         }
        ],
        "template": {
         "data": {
          "bar": [
           {
            "error_x": {
             "color": "#2a3f5f"
            },
            "error_y": {
             "color": "#2a3f5f"
            },
            "marker": {
             "line": {
              "color": "white",
              "width": 0.5
             },
             "pattern": {
              "fillmode": "overlay",
              "size": 10,
              "solidity": 0.2
             }
            },
            "type": "bar"
           }
          ],
          "barpolar": [
           {
            "marker": {
             "line": {
              "color": "white",
              "width": 0.5
             },
             "pattern": {
              "fillmode": "overlay",
              "size": 10,
              "solidity": 0.2
             }
            },
            "type": "barpolar"
           }
          ],
          "carpet": [
           {
            "aaxis": {
             "endlinecolor": "#2a3f5f",
             "gridcolor": "#C8D4E3",
             "linecolor": "#C8D4E3",
             "minorgridcolor": "#C8D4E3",
             "startlinecolor": "#2a3f5f"
            },
            "baxis": {
             "endlinecolor": "#2a3f5f",
             "gridcolor": "#C8D4E3",
             "linecolor": "#C8D4E3",
             "minorgridcolor": "#C8D4E3",
             "startlinecolor": "#2a3f5f"
            },
            "type": "carpet"
           }
          ],
          "choropleth": [
           {
            "colorbar": {
             "outlinewidth": 0,
             "ticks": ""
            },
            "type": "choropleth"
           }
          ],
          "contour": [
           {
            "colorbar": {
             "outlinewidth": 0,
             "ticks": ""
            },
            "colorscale": [
             [
              0,
              "#0d0887"
             ],
             [
              0.1111111111111111,
              "#46039f"
             ],
             [
              0.2222222222222222,
              "#7201a8"
             ],
             [
              0.3333333333333333,
              "#9c179e"
             ],
             [
              0.4444444444444444,
              "#bd3786"
             ],
             [
              0.5555555555555556,
              "#d8576b"
             ],
             [
              0.6666666666666666,
              "#ed7953"
             ],
             [
              0.7777777777777778,
              "#fb9f3a"
             ],
             [
              0.8888888888888888,
              "#fdca26"
             ],
             [
              1,
              "#f0f921"
             ]
            ],
            "type": "contour"
           }
          ],
          "contourcarpet": [
           {
            "colorbar": {
             "outlinewidth": 0,
             "ticks": ""
            },
            "type": "contourcarpet"
           }
          ],
          "heatmap": [
           {
            "colorbar": {
             "outlinewidth": 0,
             "ticks": ""
            },
            "colorscale": [
             [
              0,
              "#0d0887"
             ],
             [
              0.1111111111111111,
              "#46039f"
             ],
             [
              0.2222222222222222,
              "#7201a8"
             ],
             [
              0.3333333333333333,
              "#9c179e"
             ],
             [
              0.4444444444444444,
              "#bd3786"
             ],
             [
              0.5555555555555556,
              "#d8576b"
             ],
             [
              0.6666666666666666,
              "#ed7953"
             ],
             [
              0.7777777777777778,
              "#fb9f3a"
             ],
             [
              0.8888888888888888,
              "#fdca26"
             ],
             [
              1,
              "#f0f921"
             ]
            ],
            "type": "heatmap"
           }
          ],
          "heatmapgl": [
           {
            "colorbar": {
             "outlinewidth": 0,
             "ticks": ""
            },
            "colorscale": [
             [
              0,
              "#0d0887"
             ],
             [
              0.1111111111111111,
              "#46039f"
             ],
             [
              0.2222222222222222,
              "#7201a8"
             ],
             [
              0.3333333333333333,
              "#9c179e"
             ],
             [
              0.4444444444444444,
              "#bd3786"
             ],
             [
              0.5555555555555556,
              "#d8576b"
             ],
             [
              0.6666666666666666,
              "#ed7953"
             ],
             [
              0.7777777777777778,
              "#fb9f3a"
             ],
             [
              0.8888888888888888,
              "#fdca26"
             ],
             [
              1,
              "#f0f921"
             ]
            ],
            "type": "heatmapgl"
           }
          ],
          "histogram": [
           {
            "marker": {
             "pattern": {
              "fillmode": "overlay",
              "size": 10,
              "solidity": 0.2
             }
            },
            "type": "histogram"
           }
          ],
          "histogram2d": [
           {
            "colorbar": {
             "outlinewidth": 0,
             "ticks": ""
            },
            "colorscale": [
             [
              0,
              "#0d0887"
             ],
             [
              0.1111111111111111,
              "#46039f"
             ],
             [
              0.2222222222222222,
              "#7201a8"
             ],
             [
              0.3333333333333333,
              "#9c179e"
             ],
             [
              0.4444444444444444,
              "#bd3786"
             ],
             [
              0.5555555555555556,
              "#d8576b"
             ],
             [
              0.6666666666666666,
              "#ed7953"
             ],
             [
              0.7777777777777778,
              "#fb9f3a"
             ],
             [
              0.8888888888888888,
              "#fdca26"
             ],
             [
              1,
              "#f0f921"
             ]
            ],
            "type": "histogram2d"
           }
          ],
          "histogram2dcontour": [
           {
            "colorbar": {
             "outlinewidth": 0,
             "ticks": ""
            },
            "colorscale": [
             [
              0,
              "#0d0887"
             ],
             [
              0.1111111111111111,
              "#46039f"
             ],
             [
              0.2222222222222222,
              "#7201a8"
             ],
             [
              0.3333333333333333,
              "#9c179e"
             ],
             [
              0.4444444444444444,
              "#bd3786"
             ],
             [
              0.5555555555555556,
              "#d8576b"
             ],
             [
              0.6666666666666666,
              "#ed7953"
             ],
             [
              0.7777777777777778,
              "#fb9f3a"
             ],
             [
              0.8888888888888888,
              "#fdca26"
             ],
             [
              1,
              "#f0f921"
             ]
            ],
            "type": "histogram2dcontour"
           }
          ],
          "mesh3d": [
           {
            "colorbar": {
             "outlinewidth": 0,
             "ticks": ""
            },
            "type": "mesh3d"
           }
          ],
          "parcoords": [
           {
            "line": {
             "colorbar": {
              "outlinewidth": 0,
              "ticks": ""
             }
            },
            "type": "parcoords"
           }
          ],
          "pie": [
           {
            "automargin": true,
            "type": "pie"
           }
          ],
          "scatter": [
           {
            "fillpattern": {
             "fillmode": "overlay",
             "size": 10,
             "solidity": 0.2
            },
            "type": "scatter"
           }
          ],
          "scatter3d": [
           {
            "line": {
             "colorbar": {
              "outlinewidth": 0,
              "ticks": ""
             }
            },
            "marker": {
             "colorbar": {
              "outlinewidth": 0,
              "ticks": ""
             }
            },
            "type": "scatter3d"
           }
          ],
          "scattercarpet": [
           {
            "marker": {
             "colorbar": {
              "outlinewidth": 0,
              "ticks": ""
             }
            },
            "type": "scattercarpet"
           }
          ],
          "scattergeo": [
           {
            "marker": {
             "colorbar": {
              "outlinewidth": 0,
              "ticks": ""
             }
            },
            "type": "scattergeo"
           }
          ],
          "scattergl": [
           {
            "marker": {
             "colorbar": {
              "outlinewidth": 0,
              "ticks": ""
             }
            },
            "type": "scattergl"
           }
          ],
          "scattermapbox": [
           {
            "marker": {
             "colorbar": {
              "outlinewidth": 0,
              "ticks": ""
             }
            },
            "type": "scattermapbox"
           }
          ],
          "scatterpolar": [
           {
            "marker": {
             "colorbar": {
              "outlinewidth": 0,
              "ticks": ""
             }
            },
            "type": "scatterpolar"
           }
          ],
          "scatterpolargl": [
           {
            "marker": {
             "colorbar": {
              "outlinewidth": 0,
              "ticks": ""
             }
            },
            "type": "scatterpolargl"
           }
          ],
          "scatterternary": [
           {
            "marker": {
             "colorbar": {
              "outlinewidth": 0,
              "ticks": ""
             }
            },
            "type": "scatterternary"
           }
          ],
          "surface": [
           {
            "colorbar": {
             "outlinewidth": 0,
             "ticks": ""
            },
            "colorscale": [
             [
              0,
              "#0d0887"
             ],
             [
              0.1111111111111111,
              "#46039f"
             ],
             [
              0.2222222222222222,
              "#7201a8"
             ],
             [
              0.3333333333333333,
              "#9c179e"
             ],
             [
              0.4444444444444444,
              "#bd3786"
             ],
             [
              0.5555555555555556,
              "#d8576b"
             ],
             [
              0.6666666666666666,
              "#ed7953"
             ],
             [
              0.7777777777777778,
              "#fb9f3a"
             ],
             [
              0.8888888888888888,
              "#fdca26"
             ],
             [
              1,
              "#f0f921"
             ]
            ],
            "type": "surface"
           }
          ],
          "table": [
           {
            "cells": {
             "fill": {
              "color": "#EBF0F8"
             },
             "line": {
              "color": "white"
             }
            },
            "header": {
             "fill": {
              "color": "#C8D4E3"
             },
             "line": {
              "color": "white"
             }
            },
            "type": "table"
           }
          ]
         },
         "layout": {
          "annotationdefaults": {
           "arrowcolor": "#2a3f5f",
           "arrowhead": 0,
           "arrowwidth": 1
          },
          "autotypenumbers": "strict",
          "coloraxis": {
           "colorbar": {
            "outlinewidth": 0,
            "ticks": ""
           }
          },
          "colorscale": {
           "diverging": [
            [
             0,
             "#8e0152"
            ],
            [
             0.1,
             "#c51b7d"
            ],
            [
             0.2,
             "#de77ae"
            ],
            [
             0.3,
             "#f1b6da"
            ],
            [
             0.4,
             "#fde0ef"
            ],
            [
             0.5,
             "#f7f7f7"
            ],
            [
             0.6,
             "#e6f5d0"
            ],
            [
             0.7,
             "#b8e186"
            ],
            [
             0.8,
             "#7fbc41"
            ],
            [
             0.9,
             "#4d9221"
            ],
            [
             1,
             "#276419"
            ]
           ],
           "sequential": [
            [
             0,
             "#0d0887"
            ],
            [
             0.1111111111111111,
             "#46039f"
            ],
            [
             0.2222222222222222,
             "#7201a8"
            ],
            [
             0.3333333333333333,
             "#9c179e"
            ],
            [
             0.4444444444444444,
             "#bd3786"
            ],
            [
             0.5555555555555556,
             "#d8576b"
            ],
            [
             0.6666666666666666,
             "#ed7953"
            ],
            [
             0.7777777777777778,
             "#fb9f3a"
            ],
            [
             0.8888888888888888,
             "#fdca26"
            ],
            [
             1,
             "#f0f921"
            ]
           ],
           "sequentialminus": [
            [
             0,
             "#0d0887"
            ],
            [
             0.1111111111111111,
             "#46039f"
            ],
            [
             0.2222222222222222,
             "#7201a8"
            ],
            [
             0.3333333333333333,
             "#9c179e"
            ],
            [
             0.4444444444444444,
             "#bd3786"
            ],
            [
             0.5555555555555556,
             "#d8576b"
            ],
            [
             0.6666666666666666,
             "#ed7953"
            ],
            [
             0.7777777777777778,
             "#fb9f3a"
            ],
            [
             0.8888888888888888,
             "#fdca26"
            ],
            [
             1,
             "#f0f921"
            ]
           ]
          },
          "colorway": [
           "#636efa",
           "#EF553B",
           "#00cc96",
           "#ab63fa",
           "#FFA15A",
           "#19d3f3",
           "#FF6692",
           "#B6E880",
           "#FF97FF",
           "#FECB52"
          ],
          "font": {
           "color": "#2a3f5f"
          },
          "geo": {
           "bgcolor": "white",
           "lakecolor": "white",
           "landcolor": "white",
           "showlakes": true,
           "showland": true,
           "subunitcolor": "#C8D4E3"
          },
          "hoverlabel": {
           "align": "left"
          },
          "hovermode": "closest",
          "mapbox": {
           "style": "light"
          },
          "paper_bgcolor": "white",
          "plot_bgcolor": "white",
          "polar": {
           "angularaxis": {
            "gridcolor": "#EBF0F8",
            "linecolor": "#EBF0F8",
            "ticks": ""
           },
           "bgcolor": "white",
           "radialaxis": {
            "gridcolor": "#EBF0F8",
            "linecolor": "#EBF0F8",
            "ticks": ""
           }
          },
          "scene": {
           "xaxis": {
            "backgroundcolor": "white",
            "gridcolor": "#DFE8F3",
            "gridwidth": 2,
            "linecolor": "#EBF0F8",
            "showbackground": true,
            "ticks": "",
            "zerolinecolor": "#EBF0F8"
           },
           "yaxis": {
            "backgroundcolor": "white",
            "gridcolor": "#DFE8F3",
            "gridwidth": 2,
            "linecolor": "#EBF0F8",
            "showbackground": true,
            "ticks": "",
            "zerolinecolor": "#EBF0F8"
           },
           "zaxis": {
            "backgroundcolor": "white",
            "gridcolor": "#DFE8F3",
            "gridwidth": 2,
            "linecolor": "#EBF0F8",
            "showbackground": true,
            "ticks": "",
            "zerolinecolor": "#EBF0F8"
           }
          },
          "shapedefaults": {
           "line": {
            "color": "#2a3f5f"
           }
          },
          "ternary": {
           "aaxis": {
            "gridcolor": "#DFE8F3",
            "linecolor": "#A2B1C6",
            "ticks": ""
           },
           "baxis": {
            "gridcolor": "#DFE8F3",
            "linecolor": "#A2B1C6",
            "ticks": ""
           },
           "bgcolor": "white",
           "caxis": {
            "gridcolor": "#DFE8F3",
            "linecolor": "#A2B1C6",
            "ticks": ""
           }
          },
          "title": {
           "x": 0.05
          },
          "xaxis": {
           "automargin": true,
           "gridcolor": "#EBF0F8",
           "linecolor": "#EBF0F8",
           "ticks": "",
           "title": {
            "standoff": 15
           },
           "zerolinecolor": "#EBF0F8",
           "zerolinewidth": 2
          },
          "yaxis": {
           "automargin": true,
           "gridcolor": "#EBF0F8",
           "linecolor": "#EBF0F8",
           "ticks": "",
           "title": {
            "standoff": 15
           },
           "zerolinecolor": "#EBF0F8",
           "zerolinewidth": 2
          }
         }
        },
        "title": {
         "text": "Real Average and Maximum WBA from 2000 to 2017 <br>in <b>California (state-level, base 2017)</b>"
        },
        "xaxis": {
         "autorange": true,
         "dtick": 2,
         "range": [
          1998.9507104795737,
          2018.0492895204263
         ],
         "tick0": 2000,
         "tickmode": "linear",
         "title": {
          "text": "Year"
         },
         "type": "linear"
        },
        "yaxis": {
         "autorange": true,
         "dtick": 50,
         "range": [
          218.7138349514563,
          616.6361650485437
         ],
         "tick0": 200,
         "title": {
          "text": "Real WBA in 2017 USD"
         },
         "type": "linear"
        }
       }
      },
      "image/png": "[encoded data removed]",
      "text/html": [
       "<div>                            <div id=\"613094df-4693-41ab-b852-d1de62bfac2d\" class=\"plotly-graph-div\" style=\"height:525px; width:100%;\"></div>            <script type=\"text/javascript\">                require([\"plotly\"], function(Plotly) {                    window.PLOTLYENV=window.PLOTLYENV || {};                                    if (document.getElementById(\"613094df-4693-41ab-b852-d1de62bfac2d\")) {                    Plotly.newPlot(                        \"613094df-4693-41ab-b852-d1de62bfac2d\",                        [{\"hovertemplate\":\"Year=%{x}\\u003cbr\\u003eReal Maximum WBA (state, 2017 base)=%{y}\\u003cextra\\u003e\\u003c\\u002fextra\\u003e\",\"legendgroup\":\"\",\"line\":{\"color\":\"rgba(50,50,100,0.5)\",\"dash\":\"solid\"},\"marker\":{\"symbol\":\"circle\"},\"mode\":\"lines\",\"name\":\"Maximum WBA\",\"orientation\":\"v\",\"showlegend\":true,\"x\":[2000,2001,2002,2003,2004,2005,2006,2007,2008,2009,2010,2011,2012,2013,2014,2015,2016,2017],\"xaxis\":\"x\",\"y\":[347.01,335.39,464.77,506.29,545.78,588.45,568.36,547.59,536.08,520.05,515.0,500.63,486.88,480.48,474.16,466.33,460.46,450.0],\"yaxis\":\"y\",\"type\":\"scatter\"},{\"hovertemplate\":\"Year=%{x}\\u003cbr\\u003eReal Maximum WBA (state, 2017 base)=%{y}\\u003cextra\\u003e\\u003c\\u002fextra\\u003e\",\"legendgroup\":\"\",\"marker\":{\"color\":\"rgb(50,50,100)\",\"symbol\":\"circle\"},\"mode\":\"markers\",\"name\":\"\",\"orientation\":\"v\",\"showlegend\":false,\"x\":[2000,2001,2002,2003,2004,2005,2006,2007,2008,2009,2010,2011,2012,2013,2014,2015,2016,2017],\"xaxis\":\"x\",\"y\":[347.01,335.39,464.77,506.29,545.78,588.45,568.36,547.59,536.08,520.05,515.0,500.63,486.88,480.48,474.16,466.33,460.46,450.0],\"yaxis\":\"y\",\"type\":\"scatter\"},{\"hovertemplate\":\"Year=%{x}\\u003cbr\\u003eReal Average WBA (state, 2017 base)=%{y}\\u003cextra\\u003e\\u003c\\u002fextra\\u003e\",\"legendgroup\":\"\",\"line\":{\"color\":\"rgba(255, 165, 0,0.5)\",\"dash\":\"solid\"},\"marker\":{\"symbol\":\"circle\"},\"mode\":\"lines\",\"name\":\"Average WBA\",\"orientation\":\"v\",\"showlegend\":true,\"x\":[2000,2001,2002,2003,2004,2005,2006,2007,2008,2009,2010,2011,2012,2013,2014,2015,2016,2017],\"xaxis\":\"x\",\"y\":[246.9,256.86,317.19,350.14,355.05,377.34,374.46,375.65,375.34,377.02,359.89,342.63,330.87,334.34,329.6,330.65,336.55,333.93],\"yaxis\":\"y\",\"type\":\"scatter\"},{\"hovertemplate\":\"Year=%{x}\\u003cbr\\u003eReal Average WBA (state, 2017 base)=%{y}\\u003cextra\\u003e\\u003c\\u002fextra\\u003e\",\"legendgroup\":\"\",\"marker\":{\"color\":\"orange\",\"symbol\":\"circle\"},\"mode\":\"markers\",\"name\":\"\",\"orientation\":\"v\",\"showlegend\":false,\"x\":[2000,2001,2002,2003,2004,2005,2006,2007,2008,2009,2010,2011,2012,2013,2014,2015,2016,2017],\"xaxis\":\"x\",\"y\":[246.9,256.86,317.19,350.14,355.05,377.34,374.46,375.65,375.34,377.02,359.89,342.63,330.87,334.34,329.6,330.65,336.55,333.93],\"yaxis\":\"y\",\"type\":\"scatter\"}],                        {\"template\":{\"data\":{\"histogram2dcontour\":[{\"type\":\"histogram2dcontour\",\"colorbar\":{\"outlinewidth\":0,\"ticks\":\"\"},\"colorscale\":[[0.0,\"#0d0887\"],[0.1111111111111111,\"#46039f\"],[0.2222222222222222,\"#7201a8\"],[0.3333333333333333,\"#9c179e\"],[0.4444444444444444,\"#bd3786\"],[0.5555555555555556,\"#d8576b\"],[0.6666666666666666,\"#ed7953\"],[0.7777777777777778,\"#fb9f3a\"],[0.8888888888888888,\"#fdca26\"],[1.0,\"#f0f921\"]]}],\"choropleth\":[{\"type\":\"choropleth\",\"colorbar\":{\"outlinewidth\":0,\"ticks\":\"\"}}],\"histogram2d\":[{\"type\":\"histogram2d\",\"colorbar\":{\"outlinewidth\":0,\"ticks\":\"\"},\"colorscale\":[[0.0,\"#0d0887\"],[0.1111111111111111,\"#46039f\"],[0.2222222222222222,\"#7201a8\"],[0.3333333333333333,\"#9c179e\"],[0.4444444444444444,\"#bd3786\"],[0.5555555555555556,\"#d8576b\"],[0.6666666666666666,\"#ed7953\"],[0.7777777777777778,\"#fb9f3a\"],[0.8888888888888888,\"#fdca26\"],[1.0,\"#f0f921\"]]}],\"heatmap\":[{\"type\":\"heatmap\",\"colorbar\":{\"outlinewidth\":0,\"ticks\":\"\"},\"colorscale\":[[0.0,\"#0d0887\"],[0.1111111111111111,\"#46039f\"],[0.2222222222222222,\"#7201a8\"],[0.3333333333333333,\"#9c179e\"],[0.4444444444444444,\"#bd3786\"],[0.5555555555555556,\"#d8576b\"],[0.6666666666666666,\"#ed7953\"],[0.7777777777777778,\"#fb9f3a\"],[0.8888888888888888,\"#fdca26\"],[1.0,\"#f0f921\"]]}],\"heatmapgl\":[{\"type\":\"heatmapgl\",\"colorbar\":{\"outlinewidth\":0,\"ticks\":\"\"},\"colorscale\":[[0.0,\"#0d0887\"],[0.1111111111111111,\"#46039f\"],[0.2222222222222222,\"#7201a8\"],[0.3333333333333333,\"#9c179e\"],[0.4444444444444444,\"#bd3786\"],[0.5555555555555556,\"#d8576b\"],[0.6666666666666666,\"#ed7953\"],[0.7777777777777778,\"#fb9f3a\"],[0.8888888888888888,\"#fdca26\"],[1.0,\"#f0f921\"]]}],\"contourcarpet\":[{\"type\":\"contourcarpet\",\"colorbar\":{\"outlinewidth\":0,\"ticks\":\"\"}}],\"contour\":[{\"type\":\"contour\",\"colorbar\":{\"outlinewidth\":0,\"ticks\":\"\"},\"colorscale\":[[0.0,\"#0d0887\"],[0.1111111111111111,\"#46039f\"],[0.2222222222222222,\"#7201a8\"],[0.3333333333333333,\"#9c179e\"],[0.4444444444444444,\"#bd3786\"],[0.5555555555555556,\"#d8576b\"],[0.6666666666666666,\"#ed7953\"],[0.7777777777777778,\"#fb9f3a\"],[0.8888888888888888,\"#fdca26\"],[1.0,\"#f0f921\"]]}],\"surface\":[{\"type\":\"surface\",\"colorbar\":{\"outlinewidth\":0,\"ticks\":\"\"},\"colorscale\":[[0.0,\"#0d0887\"],[0.1111111111111111,\"#46039f\"],[0.2222222222222222,\"#7201a8\"],[0.3333333333333333,\"#9c179e\"],[0.4444444444444444,\"#bd3786\"],[0.5555555555555556,\"#d8576b\"],[0.6666666666666666,\"#ed7953\"],[0.7777777777777778,\"#fb9f3a\"],[0.8888888888888888,\"#fdca26\"],[1.0,\"#f0f921\"]]}],\"mesh3d\":[{\"type\":\"mesh3d\",\"colorbar\":{\"outlinewidth\":0,\"ticks\":\"\"}}],\"scatter\":[{\"fillpattern\":{\"fillmode\":\"overlay\",\"size\":10,\"solidity\":0.2},\"type\":\"scatter\"}],\"parcoords\":[{\"type\":\"parcoords\",\"line\":{\"colorbar\":{\"outlinewidth\":0,\"ticks\":\"\"}}}],\"scatterpolargl\":[{\"type\":\"scatterpolargl\",\"marker\":{\"colorbar\":{\"outlinewidth\":0,\"ticks\":\"\"}}}],\"bar\":[{\"error_x\":{\"color\":\"#2a3f5f\"},\"error_y\":{\"color\":\"#2a3f5f\"},\"marker\":{\"line\":{\"color\":\"white\",\"width\":0.5},\"pattern\":{\"fillmode\":\"overlay\",\"size\":10,\"solidity\":0.2}},\"type\":\"bar\"}],\"scattergeo\":[{\"type\":\"scattergeo\",\"marker\":{\"colorbar\":{\"outlinewidth\":0,\"ticks\":\"\"}}}],\"scatterpolar\":[{\"type\":\"scatterpolar\",\"marker\":{\"colorbar\":{\"outlinewidth\":0,\"ticks\":\"\"}}}],\"histogram\":[{\"marker\":{\"pattern\":{\"fillmode\":\"overlay\",\"size\":10,\"solidity\":0.2}},\"type\":\"histogram\"}],\"scattergl\":[{\"type\":\"scattergl\",\"marker\":{\"colorbar\":{\"outlinewidth\":0,\"ticks\":\"\"}}}],\"scatter3d\":[{\"type\":\"scatter3d\",\"line\":{\"colorbar\":{\"outlinewidth\":0,\"ticks\":\"\"}},\"marker\":{\"colorbar\":{\"outlinewidth\":0,\"ticks\":\"\"}}}],\"scattermapbox\":[{\"type\":\"scattermapbox\",\"marker\":{\"colorbar\":{\"outlinewidth\":0,\"ticks\":\"\"}}}],\"scatterternary\":[{\"type\":\"scatterternary\",\"marker\":{\"colorbar\":{\"outlinewidth\":0,\"ticks\":\"\"}}}],\"scattercarpet\":[{\"type\":\"scattercarpet\",\"marker\":{\"colorbar\":{\"outlinewidth\":0,\"ticks\":\"\"}}}],\"carpet\":[{\"aaxis\":{\"endlinecolor\":\"#2a3f5f\",\"gridcolor\":\"#C8D4E3\",\"linecolor\":\"#C8D4E3\",\"minorgridcolor\":\"#C8D4E3\",\"startlinecolor\":\"#2a3f5f\"},\"baxis\":{\"endlinecolor\":\"#2a3f5f\",\"gridcolor\":\"#C8D4E3\",\"linecolor\":\"#C8D4E3\",\"minorgridcolor\":\"#C8D4E3\",\"startlinecolor\":\"#2a3f5f\"},\"type\":\"carpet\"}],\"table\":[{\"cells\":{\"fill\":{\"color\":\"#EBF0F8\"},\"line\":{\"color\":\"white\"}},\"header\":{\"fill\":{\"color\":\"#C8D4E3\"},\"line\":{\"color\":\"white\"}},\"type\":\"table\"}],\"barpolar\":[{\"marker\":{\"line\":{\"color\":\"white\",\"width\":0.5},\"pattern\":{\"fillmode\":\"overlay\",\"size\":10,\"solidity\":0.2}},\"type\":\"barpolar\"}],\"pie\":[{\"automargin\":true,\"type\":\"pie\"}]},\"layout\":{\"autotypenumbers\":\"strict\",\"colorway\":[\"#636efa\",\"#EF553B\",\"#00cc96\",\"#ab63fa\",\"#FFA15A\",\"#19d3f3\",\"#FF6692\",\"#B6E880\",\"#FF97FF\",\"#FECB52\"],\"font\":{\"color\":\"#2a3f5f\"},\"hovermode\":\"closest\",\"hoverlabel\":{\"align\":\"left\"},\"paper_bgcolor\":\"white\",\"plot_bgcolor\":\"white\",\"polar\":{\"bgcolor\":\"white\",\"angularaxis\":{\"gridcolor\":\"#EBF0F8\",\"linecolor\":\"#EBF0F8\",\"ticks\":\"\"},\"radialaxis\":{\"gridcolor\":\"#EBF0F8\",\"linecolor\":\"#EBF0F8\",\"ticks\":\"\"}},\"ternary\":{\"bgcolor\":\"white\",\"aaxis\":{\"gridcolor\":\"#DFE8F3\",\"linecolor\":\"#A2B1C6\",\"ticks\":\"\"},\"baxis\":{\"gridcolor\":\"#DFE8F3\",\"linecolor\":\"#A2B1C6\",\"ticks\":\"\"},\"caxis\":{\"gridcolor\":\"#DFE8F3\",\"linecolor\":\"#A2B1C6\",\"ticks\":\"\"}},\"coloraxis\":{\"colorbar\":{\"outlinewidth\":0,\"ticks\":\"\"}},\"colorscale\":{\"sequential\":[[0.0,\"#0d0887\"],[0.1111111111111111,\"#46039f\"],[0.2222222222222222,\"#7201a8\"],[0.3333333333333333,\"#9c179e\"],[0.4444444444444444,\"#bd3786\"],[0.5555555555555556,\"#d8576b\"],[0.6666666666666666,\"#ed7953\"],[0.7777777777777778,\"#fb9f3a\"],[0.8888888888888888,\"#fdca26\"],[1.0,\"#f0f921\"]],\"sequentialminus\":[[0.0,\"#0d0887\"],[0.1111111111111111,\"#46039f\"],[0.2222222222222222,\"#7201a8\"],[0.3333333333333333,\"#9c179e\"],[0.4444444444444444,\"#bd3786\"],[0.5555555555555556,\"#d8576b\"],[0.6666666666666666,\"#ed7953\"],[0.7777777777777778,\"#fb9f3a\"],[0.8888888888888888,\"#fdca26\"],[1.0,\"#f0f921\"]],\"diverging\":[[0,\"#8e0152\"],[0.1,\"#c51b7d\"],[0.2,\"#de77ae\"],[0.3,\"#f1b6da\"],[0.4,\"#fde0ef\"],[0.5,\"#f7f7f7\"],[0.6,\"#e6f5d0\"],[0.7,\"#b8e186\"],[0.8,\"#7fbc41\"],[0.9,\"#4d9221\"],[1,\"#276419\"]]},\"xaxis\":{\"gridcolor\":\"#EBF0F8\",\"linecolor\":\"#EBF0F8\",\"ticks\":\"\",\"title\":{\"standoff\":15},\"zerolinecolor\":\"#EBF0F8\",\"automargin\":true,\"zerolinewidth\":2},\"yaxis\":{\"gridcolor\":\"#EBF0F8\",\"linecolor\":\"#EBF0F8\",\"ticks\":\"\",\"title\":{\"standoff\":15},\"zerolinecolor\":\"#EBF0F8\",\"automargin\":true,\"zerolinewidth\":2},\"scene\":{\"xaxis\":{\"backgroundcolor\":\"white\",\"gridcolor\":\"#DFE8F3\",\"linecolor\":\"#EBF0F8\",\"showbackground\":true,\"ticks\":\"\",\"zerolinecolor\":\"#EBF0F8\",\"gridwidth\":2},\"yaxis\":{\"backgroundcolor\":\"white\",\"gridcolor\":\"#DFE8F3\",\"linecolor\":\"#EBF0F8\",\"showbackground\":true,\"ticks\":\"\",\"zerolinecolor\":\"#EBF0F8\",\"gridwidth\":2},\"zaxis\":{\"backgroundcolor\":\"white\",\"gridcolor\":\"#DFE8F3\",\"linecolor\":\"#EBF0F8\",\"showbackground\":true,\"ticks\":\"\",\"zerolinecolor\":\"#EBF0F8\",\"gridwidth\":2}},\"shapedefaults\":{\"line\":{\"color\":\"#2a3f5f\"}},\"annotationdefaults\":{\"arrowcolor\":\"#2a3f5f\",\"arrowhead\":0,\"arrowwidth\":1},\"geo\":{\"bgcolor\":\"white\",\"landcolor\":\"white\",\"subunitcolor\":\"#C8D4E3\",\"showland\":true,\"showlakes\":true,\"lakecolor\":\"white\"},\"title\":{\"x\":0.05},\"mapbox\":{\"style\":\"light\"}}},\"title\":{\"text\":\"Real Average and Maximum WBA from 2000 to 2017 \\u003cbr\\u003ein \\u003cb\\u003eCalifornia (state-level, base 2017)\\u003c\\u002fb\\u003e\"},\"font\":{\"family\":\"Cambria\",\"size\":14,\"color\":\"black\"},\"xaxis\":{\"title\":{\"text\":\"Year\"},\"tickmode\":\"linear\",\"tick0\":2000,\"dtick\":2},\"yaxis\":{\"title\":{\"text\":\"Real WBA in 2017 USD\"},\"tick0\":200,\"dtick\":50},\"legend\":{\"orientation\":\"v\",\"x\":0.9,\"xanchor\":\"center\",\"y\":1.3},\"shapes\":[{\"fillcolor\":\"lightgray\",\"layer\":\"below\",\"line\":{\"width\":0},\"opacity\":0.2,\"type\":\"rect\",\"x0\":2005,\"x1\":2017,\"xref\":\"x\",\"y0\":0,\"y1\":1,\"yref\":\"paper\"}]},                        {\"responsive\": true}                    ).then(function(){\n",
       "                            \n",
       "var gd = document.getElementById('613094df-4693-41ab-b852-d1de62bfac2d');\n",
       "var x = new MutationObserver(function (mutations, observer) {{\n",
       "        var display = window.getComputedStyle(gd).display;\n",
       "        if (!display || display === 'none') {{\n",
       "            console.log([gd, 'removed!']);\n",
       "            Plotly.purge(gd);\n",
       "            observer.disconnect();\n",
       "        }}\n",
       "}});\n",
       "\n",
       "// Listen for the removal of the full notebook cells\n",
       "var notebookContainer = gd.closest('#notebook-container');\n",
       "if (notebookContainer) {{\n",
       "    x.observe(notebookContainer, {childList: true});\n",
       "}}\n",
       "\n",
       "// Listen for the clearing of the current output cell\n",
       "var outputEl = gd.closest('.output');\n",
       "if (outputEl) {{\n",
       "    x.observe(outputEl, {childList: true});\n",
       "}}\n",
       "\n",
       "                        })                };                });            </script>        </div>"
      ]
     },
     "metadata": {},
     "output_type": "display_data"
    }
   ],
   "source": [
    "pio.templates.default = 'plotly_white'\n",
    "\n",
    "fig1 = px.line(data_frame = ca_realwba_trend[:18], \n",
    "             x = \"Year\", \n",
    "             y = \"Real Average WBA (state, 2017 base)\",\n",
    "            title=\"Line with Legend Label\")\n",
    "fig1.update_traces(line=dict(color = 'rgba(255, 165, 0,0.5)'), name=\"Average WBA\", showlegend=True)\n",
    "\n",
    "fig2 = px.scatter(data_frame = ca_realwba_trend[:18], \n",
    "                x = \"Year\", \n",
    "                y = \"Real Average WBA (state, 2017 base)\",\n",
    "                color_discrete_sequence=[\"orange\"])\n",
    "\n",
    "fig3 = px.line(data_frame = ca_realwba_trend[:18], \n",
    "             x = \"Year\", \n",
    "             y = \"Real Maximum WBA (state, 2017 base)\")\n",
    "fig3.update_traces(line=dict(color = 'rgba(50,50,100,0.5)'), name=\"Maximum WBA\", showlegend=True)\n",
    "\n",
    "fig4= px.scatter(data_frame = ca_realwba_trend[:18], \n",
    "                x = \"Year\", \n",
    "                y = \"Real Maximum WBA (state, 2017 base)\",\n",
    "                color_discrete_sequence=[\"rgb(50,50,100)\"])\n",
    "\n",
    "fig1 = go.Figure(data=fig3.data + fig4.data + fig1.data + fig2.data)\n",
    "fig1.update_layout(title_text=\"Real Average and Maximum WBA from 2000 to 2017 <br>in <b>California (state-level, base 2017)</b>\",\n",
    "                   xaxis_title=\"Year\", yaxis_title=\"Real WBA in 2017 USD\",\n",
    "                   font=dict(\n",
    "                        family=\"Cambria\",  \n",
    "                        size=14,         \n",
    "                        color=\"black\",\n",
    "                    ),\n",
    "                   xaxis=dict(\n",
    "                        tickmode='linear',   \n",
    "                        tick0=2000,          \n",
    "                        dtick=2              \n",
    "                    ),\n",
    "                   yaxis=dict(\n",
    "                        tick0=200,          \n",
    "                        dtick=50 \n",
    "                    ),\n",
    "                   legend=dict(\n",
    "                        orientation=\"v\",     \n",
    "                        x=0.9,\n",
    "                        xanchor=\"center\",\n",
    "                        y=1.3\n",
    "                    )\n",
    "                  )\n",
    "fig1.add_shape(\n",
    "    type=\"rect\",\n",
    "    x0=2005, x1=2017,  \n",
    "    y0=0, y1=1,         \n",
    "    xref=\"x\",\n",
    "    yref=\"paper\",     \n",
    "    fillcolor=\"lightgray\",\n",
    "    opacity=0.2,\n",
    "    layer=\"below\",    \n",
    "    line_width=0\n",
    ")"
   ]
  },
  {
   "cell_type": "code",
   "execution_count": 144,
   "id": "824629d8-aab8-44e5-b6e4-721e9ca65690",
   "metadata": {
    "tags": []
   },
   "outputs": [],
   "source": [
    "write_html(fig1, \"fig_2a.html\")"
   ]
  },
  {
   "cell_type": "code",
   "execution_count": 145,
   "id": "15840125-d660-4e1d-af02-0db2f0f21d9e",
   "metadata": {
    "tags": []
   },
   "outputs": [
    {
     "data": {
      "application/vnd.plotly.v1+json": {
       "config": {
        "plotlyServerURL": "https://plot.ly"
       },
       "data": [
        {
         "hovertemplate": "Year=%{x}<br>Real Maximum WBA (regional, 2023 base)=%{y}<extra></extra>",
         "legendgroup": "",
         "line": {
          "color": "rgba(50,50,100,0.5)",
          "dash": "solid"
         },
         "marker": {
          "symbol": "circle"
         },
         "mode": "lines",
         "name": "Maximum WBA",
         "orientation": "v",
         "showlegend": true,
         "type": "scatter",
         "x": [
          2000,
          2001,
          2002,
          2003,
          2004,
          2005,
          2006,
          2007,
          2008,
          2009,
          2010,
          2011,
          2012,
          2013,
          2014,
          2015,
          2016,
          2017,
          2018,
          2019,
          2020,
          2021,
          2022,
          2023
         ],
         "xaxis": "x",
         "y": [
          426.1,
          411.05,
          578.59,
          635.31,
          687.94,
          732.66,
          708.44,
          686.64,
          663.46,
          665.95,
          658.79,
          640.59,
          627.11,
          617.94,
          606.65,
          599.66,
          588.3,
          572.06,
          553.54,
          539.02,
          529.8,
          506.88,
          469.31,
          450
         ],
         "yaxis": "y"
        },
        {
         "hovertemplate": "Year=%{x}<br>Real Maximum WBA (regional, 2023 base)=%{y}<extra></extra>",
         "legendgroup": "",
         "marker": {
          "color": "rgb(50,50,100)",
          "symbol": "circle"
         },
         "mode": "markers",
         "name": "",
         "orientation": "v",
         "showlegend": false,
         "type": "scatter",
         "x": [
          2000,
          2001,
          2002,
          2003,
          2004,
          2005,
          2006,
          2007,
          2008,
          2009,
          2010,
          2011,
          2012,
          2013,
          2014,
          2015,
          2016,
          2017,
          2018,
          2019,
          2020,
          2021,
          2022,
          2023
         ],
         "xaxis": "x",
         "y": [
          426.1,
          411.05,
          578.59,
          635.31,
          687.94,
          732.66,
          708.44,
          686.64,
          663.46,
          665.95,
          658.79,
          640.59,
          627.11,
          617.94,
          606.65,
          599.66,
          588.3,
          572.06,
          553.54,
          539.02,
          529.8,
          506.88,
          469.31,
          450
         ],
         "yaxis": "y"
        },
        {
         "hovertemplate": "Year=%{x}<br>Real Average WBA (regional, 2023 base)=%{y}<extra></extra>",
         "legendgroup": "",
         "line": {
          "color": "rgba(255, 165, 0,0.5)",
          "dash": "solid"
         },
         "marker": {
          "symbol": "circle"
         },
         "mode": "lines",
         "name": "Average WBA",
         "orientation": "v",
         "showlegend": true,
         "type": "scatter",
         "x": [
          2000,
          2001,
          2002,
          2003,
          2004,
          2005,
          2006,
          2007,
          2008,
          2009,
          2010,
          2011,
          2012,
          2013,
          2014,
          2015,
          2016,
          2017,
          2018,
          2019,
          2020,
          2021,
          2022,
          2023
         ],
         "xaxis": "x",
         "y": [
          303.18,
          314.81,
          394.86,
          439.36,
          447.53,
          469.81,
          466.75,
          471.03,
          464.52,
          482.8,
          460.36,
          438.42,
          426.17,
          429.99,
          421.7,
          425.18,
          429.98,
          424.51,
          423.52,
          413.77,
          362.03,
          373.29,
          382.57,
          384.56
         ],
         "yaxis": "y"
        },
        {
         "hovertemplate": "Year=%{x}<br>Real Average WBA (regional, 2023 base)=%{y}<extra></extra>",
         "legendgroup": "",
         "marker": {
          "color": "orange",
          "symbol": "circle"
         },
         "mode": "markers",
         "name": "",
         "orientation": "v",
         "showlegend": false,
         "type": "scatter",
         "x": [
          2000,
          2001,
          2002,
          2003,
          2004,
          2005,
          2006,
          2007,
          2008,
          2009,
          2010,
          2011,
          2012,
          2013,
          2014,
          2015,
          2016,
          2017,
          2018,
          2019,
          2020,
          2021,
          2022,
          2023
         ],
         "xaxis": "x",
         "y": [
          303.18,
          314.81,
          394.86,
          439.36,
          447.53,
          469.81,
          466.75,
          471.03,
          464.52,
          482.8,
          460.36,
          438.42,
          426.17,
          429.99,
          421.7,
          425.18,
          429.98,
          424.51,
          423.52,
          413.77,
          362.03,
          373.29,
          382.57,
          384.56
         ],
         "yaxis": "y"
        }
       ],
       "layout": {
        "autosize": true,
        "font": {
         "color": "black",
         "family": "Cambria",
         "size": 14
        },
        "legend": {
         "orientation": "v",
         "x": 0.9,
         "xanchor": "center",
         "y": 1.3
        },
        "shapes": [
         {
          "fillcolor": "gray",
          "layer": "below",
          "line": {
           "width": 0
          },
          "opacity": 0.2,
          "type": "rect",
          "x0": 2019,
          "x1": 2023,
          "xref": "x",
          "y0": 0,
          "y1": 1,
          "yref": "paper"
         },
         {
          "fillcolor": "lightgray",
          "layer": "below",
          "line": {
           "width": 0
          },
          "opacity": 0.2,
          "type": "rect",
          "x0": 2005,
          "x1": 2019,
          "xref": "x",
          "y0": 0,
          "y1": 1,
          "yref": "paper"
         }
        ],
        "template": {
         "data": {
          "bar": [
           {
            "error_x": {
             "color": "#2a3f5f"
            },
            "error_y": {
             "color": "#2a3f5f"
            },
            "marker": {
             "line": {
              "color": "white",
              "width": 0.5
             },
             "pattern": {
              "fillmode": "overlay",
              "size": 10,
              "solidity": 0.2
             }
            },
            "type": "bar"
           }
          ],
          "barpolar": [
           {
            "marker": {
             "line": {
              "color": "white",
              "width": 0.5
             },
             "pattern": {
              "fillmode": "overlay",
              "size": 10,
              "solidity": 0.2
             }
            },
            "type": "barpolar"
           }
          ],
          "carpet": [
           {
            "aaxis": {
             "endlinecolor": "#2a3f5f",
             "gridcolor": "#C8D4E3",
             "linecolor": "#C8D4E3",
             "minorgridcolor": "#C8D4E3",
             "startlinecolor": "#2a3f5f"
            },
            "baxis": {
             "endlinecolor": "#2a3f5f",
             "gridcolor": "#C8D4E3",
             "linecolor": "#C8D4E3",
             "minorgridcolor": "#C8D4E3",
             "startlinecolor": "#2a3f5f"
            },
            "type": "carpet"
           }
          ],
          "choropleth": [
           {
            "colorbar": {
             "outlinewidth": 0,
             "ticks": ""
            },
            "type": "choropleth"
           }
          ],
          "contour": [
           {
            "colorbar": {
             "outlinewidth": 0,
             "ticks": ""
            },
            "colorscale": [
             [
              0,
              "#0d0887"
             ],
             [
              0.1111111111111111,
              "#46039f"
             ],
             [
              0.2222222222222222,
              "#7201a8"
             ],
             [
              0.3333333333333333,
              "#9c179e"
             ],
             [
              0.4444444444444444,
              "#bd3786"
             ],
             [
              0.5555555555555556,
              "#d8576b"
             ],
             [
              0.6666666666666666,
              "#ed7953"
             ],
             [
              0.7777777777777778,
              "#fb9f3a"
             ],
             [
              0.8888888888888888,
              "#fdca26"
             ],
             [
              1,
              "#f0f921"
             ]
            ],
            "type": "contour"
           }
          ],
          "contourcarpet": [
           {
            "colorbar": {
             "outlinewidth": 0,
             "ticks": ""
            },
            "type": "contourcarpet"
           }
          ],
          "heatmap": [
           {
            "colorbar": {
             "outlinewidth": 0,
             "ticks": ""
            },
            "colorscale": [
             [
              0,
              "#0d0887"
             ],
             [
              0.1111111111111111,
              "#46039f"
             ],
             [
              0.2222222222222222,
              "#7201a8"
             ],
             [
              0.3333333333333333,
              "#9c179e"
             ],
             [
              0.4444444444444444,
              "#bd3786"
             ],
             [
              0.5555555555555556,
              "#d8576b"
             ],
             [
              0.6666666666666666,
              "#ed7953"
             ],
             [
              0.7777777777777778,
              "#fb9f3a"
             ],
             [
              0.8888888888888888,
              "#fdca26"
             ],
             [
              1,
              "#f0f921"
             ]
            ],
            "type": "heatmap"
           }
          ],
          "heatmapgl": [
           {
            "colorbar": {
             "outlinewidth": 0,
             "ticks": ""
            },
            "colorscale": [
             [
              0,
              "#0d0887"
             ],
             [
              0.1111111111111111,
              "#46039f"
             ],
             [
              0.2222222222222222,
              "#7201a8"
             ],
             [
              0.3333333333333333,
              "#9c179e"
             ],
             [
              0.4444444444444444,
              "#bd3786"
             ],
             [
              0.5555555555555556,
              "#d8576b"
             ],
             [
              0.6666666666666666,
              "#ed7953"
             ],
             [
              0.7777777777777778,
              "#fb9f3a"
             ],
             [
              0.8888888888888888,
              "#fdca26"
             ],
             [
              1,
              "#f0f921"
             ]
            ],
            "type": "heatmapgl"
           }
          ],
          "histogram": [
           {
            "marker": {
             "pattern": {
              "fillmode": "overlay",
              "size": 10,
              "solidity": 0.2
             }
            },
            "type": "histogram"
           }
          ],
          "histogram2d": [
           {
            "colorbar": {
             "outlinewidth": 0,
             "ticks": ""
            },
            "colorscale": [
             [
              0,
              "#0d0887"
             ],
             [
              0.1111111111111111,
              "#46039f"
             ],
             [
              0.2222222222222222,
              "#7201a8"
             ],
             [
              0.3333333333333333,
              "#9c179e"
             ],
             [
              0.4444444444444444,
              "#bd3786"
             ],
             [
              0.5555555555555556,
              "#d8576b"
             ],
             [
              0.6666666666666666,
              "#ed7953"
             ],
             [
              0.7777777777777778,
              "#fb9f3a"
             ],
             [
              0.8888888888888888,
              "#fdca26"
             ],
             [
              1,
              "#f0f921"
             ]
            ],
            "type": "histogram2d"
           }
          ],
          "histogram2dcontour": [
           {
            "colorbar": {
             "outlinewidth": 0,
             "ticks": ""
            },
            "colorscale": [
             [
              0,
              "#0d0887"
             ],
             [
              0.1111111111111111,
              "#46039f"
             ],
             [
              0.2222222222222222,
              "#7201a8"
             ],
             [
              0.3333333333333333,
              "#9c179e"
             ],
             [
              0.4444444444444444,
              "#bd3786"
             ],
             [
              0.5555555555555556,
              "#d8576b"
             ],
             [
              0.6666666666666666,
              "#ed7953"
             ],
             [
              0.7777777777777778,
              "#fb9f3a"
             ],
             [
              0.8888888888888888,
              "#fdca26"
             ],
             [
              1,
              "#f0f921"
             ]
            ],
            "type": "histogram2dcontour"
           }
          ],
          "mesh3d": [
           {
            "colorbar": {
             "outlinewidth": 0,
             "ticks": ""
            },
            "type": "mesh3d"
           }
          ],
          "parcoords": [
           {
            "line": {
             "colorbar": {
              "outlinewidth": 0,
              "ticks": ""
             }
            },
            "type": "parcoords"
           }
          ],
          "pie": [
           {
            "automargin": true,
            "type": "pie"
           }
          ],
          "scatter": [
           {
            "fillpattern": {
             "fillmode": "overlay",
             "size": 10,
             "solidity": 0.2
            },
            "type": "scatter"
           }
          ],
          "scatter3d": [
           {
            "line": {
             "colorbar": {
              "outlinewidth": 0,
              "ticks": ""
             }
            },
            "marker": {
             "colorbar": {
              "outlinewidth": 0,
              "ticks": ""
             }
            },
            "type": "scatter3d"
           }
          ],
          "scattercarpet": [
           {
            "marker": {
             "colorbar": {
              "outlinewidth": 0,
              "ticks": ""
             }
            },
            "type": "scattercarpet"
           }
          ],
          "scattergeo": [
           {
            "marker": {
             "colorbar": {
              "outlinewidth": 0,
              "ticks": ""
             }
            },
            "type": "scattergeo"
           }
          ],
          "scattergl": [
           {
            "marker": {
             "colorbar": {
              "outlinewidth": 0,
              "ticks": ""
             }
            },
            "type": "scattergl"
           }
          ],
          "scattermapbox": [
           {
            "marker": {
             "colorbar": {
              "outlinewidth": 0,
              "ticks": ""
             }
            },
            "type": "scattermapbox"
           }
          ],
          "scatterpolar": [
           {
            "marker": {
             "colorbar": {
              "outlinewidth": 0,
              "ticks": ""
             }
            },
            "type": "scatterpolar"
           }
          ],
          "scatterpolargl": [
           {
            "marker": {
             "colorbar": {
              "outlinewidth": 0,
              "ticks": ""
             }
            },
            "type": "scatterpolargl"
           }
          ],
          "scatterternary": [
           {
            "marker": {
             "colorbar": {
              "outlinewidth": 0,
              "ticks": ""
             }
            },
            "type": "scatterternary"
           }
          ],
          "surface": [
           {
            "colorbar": {
             "outlinewidth": 0,
             "ticks": ""
            },
            "colorscale": [
             [
              0,
              "#0d0887"
             ],
             [
              0.1111111111111111,
              "#46039f"
             ],
             [
              0.2222222222222222,
              "#7201a8"
             ],
             [
              0.3333333333333333,
              "#9c179e"
             ],
             [
              0.4444444444444444,
              "#bd3786"
             ],
             [
              0.5555555555555556,
              "#d8576b"
             ],
             [
              0.6666666666666666,
              "#ed7953"
             ],
             [
              0.7777777777777778,
              "#fb9f3a"
             ],
             [
              0.8888888888888888,
              "#fdca26"
             ],
             [
              1,
              "#f0f921"
             ]
            ],
            "type": "surface"
           }
          ],
          "table": [
           {
            "cells": {
             "fill": {
              "color": "#EBF0F8"
             },
             "line": {
              "color": "white"
             }
            },
            "header": {
             "fill": {
              "color": "#C8D4E3"
             },
             "line": {
              "color": "white"
             }
            },
            "type": "table"
           }
          ]
         },
         "layout": {
          "annotationdefaults": {
           "arrowcolor": "#2a3f5f",
           "arrowhead": 0,
           "arrowwidth": 1
          },
          "autotypenumbers": "strict",
          "coloraxis": {
           "colorbar": {
            "outlinewidth": 0,
            "ticks": ""
           }
          },
          "colorscale": {
           "diverging": [
            [
             0,
             "#8e0152"
            ],
            [
             0.1,
             "#c51b7d"
            ],
            [
             0.2,
             "#de77ae"
            ],
            [
             0.3,
             "#f1b6da"
            ],
            [
             0.4,
             "#fde0ef"
            ],
            [
             0.5,
             "#f7f7f7"
            ],
            [
             0.6,
             "#e6f5d0"
            ],
            [
             0.7,
             "#b8e186"
            ],
            [
             0.8,
             "#7fbc41"
            ],
            [
             0.9,
             "#4d9221"
            ],
            [
             1,
             "#276419"
            ]
           ],
           "sequential": [
            [
             0,
             "#0d0887"
            ],
            [
             0.1111111111111111,
             "#46039f"
            ],
            [
             0.2222222222222222,
             "#7201a8"
            ],
            [
             0.3333333333333333,
             "#9c179e"
            ],
            [
             0.4444444444444444,
             "#bd3786"
            ],
            [
             0.5555555555555556,
             "#d8576b"
            ],
            [
             0.6666666666666666,
             "#ed7953"
            ],
            [
             0.7777777777777778,
             "#fb9f3a"
            ],
            [
             0.8888888888888888,
             "#fdca26"
            ],
            [
             1,
             "#f0f921"
            ]
           ],
           "sequentialminus": [
            [
             0,
             "#0d0887"
            ],
            [
             0.1111111111111111,
             "#46039f"
            ],
            [
             0.2222222222222222,
             "#7201a8"
            ],
            [
             0.3333333333333333,
             "#9c179e"
            ],
            [
             0.4444444444444444,
             "#bd3786"
            ],
            [
             0.5555555555555556,
             "#d8576b"
            ],
            [
             0.6666666666666666,
             "#ed7953"
            ],
            [
             0.7777777777777778,
             "#fb9f3a"
            ],
            [
             0.8888888888888888,
             "#fdca26"
            ],
            [
             1,
             "#f0f921"
            ]
           ]
          },
          "colorway": [
           "#636efa",
           "#EF553B",
           "#00cc96",
           "#ab63fa",
           "#FFA15A",
           "#19d3f3",
           "#FF6692",
           "#B6E880",
           "#FF97FF",
           "#FECB52"
          ],
          "font": {
           "color": "#2a3f5f"
          },
          "geo": {
           "bgcolor": "white",
           "lakecolor": "white",
           "landcolor": "white",
           "showlakes": true,
           "showland": true,
           "subunitcolor": "#C8D4E3"
          },
          "hoverlabel": {
           "align": "left"
          },
          "hovermode": "closest",
          "mapbox": {
           "style": "light"
          },
          "paper_bgcolor": "white",
          "plot_bgcolor": "white",
          "polar": {
           "angularaxis": {
            "gridcolor": "#EBF0F8",
            "linecolor": "#EBF0F8",
            "ticks": ""
           },
           "bgcolor": "white",
           "radialaxis": {
            "gridcolor": "#EBF0F8",
            "linecolor": "#EBF0F8",
            "ticks": ""
           }
          },
          "scene": {
           "xaxis": {
            "backgroundcolor": "white",
            "gridcolor": "#DFE8F3",
            "gridwidth": 2,
            "linecolor": "#EBF0F8",
            "showbackground": true,
            "ticks": "",
            "zerolinecolor": "#EBF0F8"
           },
           "yaxis": {
            "backgroundcolor": "white",
            "gridcolor": "#DFE8F3",
            "gridwidth": 2,
            "linecolor": "#EBF0F8",
            "showbackground": true,
            "ticks": "",
            "zerolinecolor": "#EBF0F8"
           },
           "zaxis": {
            "backgroundcolor": "white",
            "gridcolor": "#DFE8F3",
            "gridwidth": 2,
            "linecolor": "#EBF0F8",
            "showbackground": true,
            "ticks": "",
            "zerolinecolor": "#EBF0F8"
           }
          },
          "shapedefaults": {
           "line": {
            "color": "#2a3f5f"
           }
          },
          "ternary": {
           "aaxis": {
            "gridcolor": "#DFE8F3",
            "linecolor": "#A2B1C6",
            "ticks": ""
           },
           "baxis": {
            "gridcolor": "#DFE8F3",
            "linecolor": "#A2B1C6",
            "ticks": ""
           },
           "bgcolor": "white",
           "caxis": {
            "gridcolor": "#DFE8F3",
            "linecolor": "#A2B1C6",
            "ticks": ""
           }
          },
          "title": {
           "x": 0.05
          },
          "xaxis": {
           "automargin": true,
           "gridcolor": "#EBF0F8",
           "linecolor": "#EBF0F8",
           "ticks": "",
           "title": {
            "standoff": 15
           },
           "zerolinecolor": "#EBF0F8",
           "zerolinewidth": 2
          },
          "yaxis": {
           "automargin": true,
           "gridcolor": "#EBF0F8",
           "linecolor": "#EBF0F8",
           "ticks": "",
           "title": {
            "standoff": 15
           },
           "zerolinecolor": "#EBF0F8",
           "zerolinewidth": 2
          }
         }
        },
        "title": {
         "text": "Real Average and Maximum WBA from 2000 to 2023 <br>in <b>California (region-adjusted, base 2023)</b>"
        },
        "xaxis": {
         "autorange": true,
         "dtick": 2,
         "range": [
          1998.5803730017763,
          2024.4196269982237
         ],
         "tick0": 2000,
         "tickmode": "linear",
         "title": {
          "text": "Year"
         },
         "type": "linear"
        },
        "yaxis": {
         "autorange": true,
         "dtick": 50,
         "range": [
          267.73747572815535,
          768.1025242718447
         ],
         "tick0": 200,
         "title": {
          "text": "Real WBA in 2023 USD"
         },
         "type": "linear"
        }
       }
      },
      "image/png": "[encoded data removed]",
      "text/html": [
       "<div>                            <div id=\"54b34588-0765-4cdc-9fd9-15dc181bdd2f\" class=\"plotly-graph-div\" style=\"height:525px; width:100%;\"></div>            <script type=\"text/javascript\">                require([\"plotly\"], function(Plotly) {                    window.PLOTLYENV=window.PLOTLYENV || {};                                    if (document.getElementById(\"54b34588-0765-4cdc-9fd9-15dc181bdd2f\")) {                    Plotly.newPlot(                        \"54b34588-0765-4cdc-9fd9-15dc181bdd2f\",                        [{\"hovertemplate\":\"Year=%{x}\\u003cbr\\u003eReal Maximum WBA (regional, 2023 base)=%{y}\\u003cextra\\u003e\\u003c\\u002fextra\\u003e\",\"legendgroup\":\"\",\"line\":{\"color\":\"rgba(50,50,100,0.5)\",\"dash\":\"solid\"},\"marker\":{\"symbol\":\"circle\"},\"mode\":\"lines\",\"name\":\"Maximum WBA\",\"orientation\":\"v\",\"showlegend\":true,\"x\":[2000,2001,2002,2003,2004,2005,2006,2007,2008,2009,2010,2011,2012,2013,2014,2015,2016,2017,2018,2019,2020,2021,2022,2023],\"xaxis\":\"x\",\"y\":[426.1,411.05,578.59,635.31,687.94,732.66,708.44,686.64,663.46,665.95,658.79,640.59,627.11,617.94,606.65,599.66,588.3,572.06,553.54,539.02,529.8,506.88,469.31,450.0],\"yaxis\":\"y\",\"type\":\"scatter\"},{\"hovertemplate\":\"Year=%{x}\\u003cbr\\u003eReal Maximum WBA (regional, 2023 base)=%{y}\\u003cextra\\u003e\\u003c\\u002fextra\\u003e\",\"legendgroup\":\"\",\"marker\":{\"color\":\"rgb(50,50,100)\",\"symbol\":\"circle\"},\"mode\":\"markers\",\"name\":\"\",\"orientation\":\"v\",\"showlegend\":false,\"x\":[2000,2001,2002,2003,2004,2005,2006,2007,2008,2009,2010,2011,2012,2013,2014,2015,2016,2017,2018,2019,2020,2021,2022,2023],\"xaxis\":\"x\",\"y\":[426.1,411.05,578.59,635.31,687.94,732.66,708.44,686.64,663.46,665.95,658.79,640.59,627.11,617.94,606.65,599.66,588.3,572.06,553.54,539.02,529.8,506.88,469.31,450.0],\"yaxis\":\"y\",\"type\":\"scatter\"},{\"hovertemplate\":\"Year=%{x}\\u003cbr\\u003eReal Average WBA (regional, 2023 base)=%{y}\\u003cextra\\u003e\\u003c\\u002fextra\\u003e\",\"legendgroup\":\"\",\"line\":{\"color\":\"rgba(255, 165, 0,0.5)\",\"dash\":\"solid\"},\"marker\":{\"symbol\":\"circle\"},\"mode\":\"lines\",\"name\":\"Average WBA\",\"orientation\":\"v\",\"showlegend\":true,\"x\":[2000,2001,2002,2003,2004,2005,2006,2007,2008,2009,2010,2011,2012,2013,2014,2015,2016,2017,2018,2019,2020,2021,2022,2023],\"xaxis\":\"x\",\"y\":[303.18,314.81,394.86,439.36,447.53,469.81,466.75,471.03,464.52,482.8,460.36,438.42,426.17,429.99,421.7,425.18,429.98,424.51,423.52,413.77,362.03,373.29,382.57,384.56],\"yaxis\":\"y\",\"type\":\"scatter\"},{\"hovertemplate\":\"Year=%{x}\\u003cbr\\u003eReal Average WBA (regional, 2023 base)=%{y}\\u003cextra\\u003e\\u003c\\u002fextra\\u003e\",\"legendgroup\":\"\",\"marker\":{\"color\":\"orange\",\"symbol\":\"circle\"},\"mode\":\"markers\",\"name\":\"\",\"orientation\":\"v\",\"showlegend\":false,\"x\":[2000,2001,2002,2003,2004,2005,2006,2007,2008,2009,2010,2011,2012,2013,2014,2015,2016,2017,2018,2019,2020,2021,2022,2023],\"xaxis\":\"x\",\"y\":[303.18,314.81,394.86,439.36,447.53,469.81,466.75,471.03,464.52,482.8,460.36,438.42,426.17,429.99,421.7,425.18,429.98,424.51,423.52,413.77,362.03,373.29,382.57,384.56],\"yaxis\":\"y\",\"type\":\"scatter\"}],                        {\"template\":{\"data\":{\"histogram2dcontour\":[{\"type\":\"histogram2dcontour\",\"colorbar\":{\"outlinewidth\":0,\"ticks\":\"\"},\"colorscale\":[[0.0,\"#0d0887\"],[0.1111111111111111,\"#46039f\"],[0.2222222222222222,\"#7201a8\"],[0.3333333333333333,\"#9c179e\"],[0.4444444444444444,\"#bd3786\"],[0.5555555555555556,\"#d8576b\"],[0.6666666666666666,\"#ed7953\"],[0.7777777777777778,\"#fb9f3a\"],[0.8888888888888888,\"#fdca26\"],[1.0,\"#f0f921\"]]}],\"choropleth\":[{\"type\":\"choropleth\",\"colorbar\":{\"outlinewidth\":0,\"ticks\":\"\"}}],\"histogram2d\":[{\"type\":\"histogram2d\",\"colorbar\":{\"outlinewidth\":0,\"ticks\":\"\"},\"colorscale\":[[0.0,\"#0d0887\"],[0.1111111111111111,\"#46039f\"],[0.2222222222222222,\"#7201a8\"],[0.3333333333333333,\"#9c179e\"],[0.4444444444444444,\"#bd3786\"],[0.5555555555555556,\"#d8576b\"],[0.6666666666666666,\"#ed7953\"],[0.7777777777777778,\"#fb9f3a\"],[0.8888888888888888,\"#fdca26\"],[1.0,\"#f0f921\"]]}],\"heatmap\":[{\"type\":\"heatmap\",\"colorbar\":{\"outlinewidth\":0,\"ticks\":\"\"},\"colorscale\":[[0.0,\"#0d0887\"],[0.1111111111111111,\"#46039f\"],[0.2222222222222222,\"#7201a8\"],[0.3333333333333333,\"#9c179e\"],[0.4444444444444444,\"#bd3786\"],[0.5555555555555556,\"#d8576b\"],[0.6666666666666666,\"#ed7953\"],[0.7777777777777778,\"#fb9f3a\"],[0.8888888888888888,\"#fdca26\"],[1.0,\"#f0f921\"]]}],\"heatmapgl\":[{\"type\":\"heatmapgl\",\"colorbar\":{\"outlinewidth\":0,\"ticks\":\"\"},\"colorscale\":[[0.0,\"#0d0887\"],[0.1111111111111111,\"#46039f\"],[0.2222222222222222,\"#7201a8\"],[0.3333333333333333,\"#9c179e\"],[0.4444444444444444,\"#bd3786\"],[0.5555555555555556,\"#d8576b\"],[0.6666666666666666,\"#ed7953\"],[0.7777777777777778,\"#fb9f3a\"],[0.8888888888888888,\"#fdca26\"],[1.0,\"#f0f921\"]]}],\"contourcarpet\":[{\"type\":\"contourcarpet\",\"colorbar\":{\"outlinewidth\":0,\"ticks\":\"\"}}],\"contour\":[{\"type\":\"contour\",\"colorbar\":{\"outlinewidth\":0,\"ticks\":\"\"},\"colorscale\":[[0.0,\"#0d0887\"],[0.1111111111111111,\"#46039f\"],[0.2222222222222222,\"#7201a8\"],[0.3333333333333333,\"#9c179e\"],[0.4444444444444444,\"#bd3786\"],[0.5555555555555556,\"#d8576b\"],[0.6666666666666666,\"#ed7953\"],[0.7777777777777778,\"#fb9f3a\"],[0.8888888888888888,\"#fdca26\"],[1.0,\"#f0f921\"]]}],\"surface\":[{\"type\":\"surface\",\"colorbar\":{\"outlinewidth\":0,\"ticks\":\"\"},\"colorscale\":[[0.0,\"#0d0887\"],[0.1111111111111111,\"#46039f\"],[0.2222222222222222,\"#7201a8\"],[0.3333333333333333,\"#9c179e\"],[0.4444444444444444,\"#bd3786\"],[0.5555555555555556,\"#d8576b\"],[0.6666666666666666,\"#ed7953\"],[0.7777777777777778,\"#fb9f3a\"],[0.8888888888888888,\"#fdca26\"],[1.0,\"#f0f921\"]]}],\"mesh3d\":[{\"type\":\"mesh3d\",\"colorbar\":{\"outlinewidth\":0,\"ticks\":\"\"}}],\"scatter\":[{\"fillpattern\":{\"fillmode\":\"overlay\",\"size\":10,\"solidity\":0.2},\"type\":\"scatter\"}],\"parcoords\":[{\"type\":\"parcoords\",\"line\":{\"colorbar\":{\"outlinewidth\":0,\"ticks\":\"\"}}}],\"scatterpolargl\":[{\"type\":\"scatterpolargl\",\"marker\":{\"colorbar\":{\"outlinewidth\":0,\"ticks\":\"\"}}}],\"bar\":[{\"error_x\":{\"color\":\"#2a3f5f\"},\"error_y\":{\"color\":\"#2a3f5f\"},\"marker\":{\"line\":{\"color\":\"white\",\"width\":0.5},\"pattern\":{\"fillmode\":\"overlay\",\"size\":10,\"solidity\":0.2}},\"type\":\"bar\"}],\"scattergeo\":[{\"type\":\"scattergeo\",\"marker\":{\"colorbar\":{\"outlinewidth\":0,\"ticks\":\"\"}}}],\"scatterpolar\":[{\"type\":\"scatterpolar\",\"marker\":{\"colorbar\":{\"outlinewidth\":0,\"ticks\":\"\"}}}],\"histogram\":[{\"marker\":{\"pattern\":{\"fillmode\":\"overlay\",\"size\":10,\"solidity\":0.2}},\"type\":\"histogram\"}],\"scattergl\":[{\"type\":\"scattergl\",\"marker\":{\"colorbar\":{\"outlinewidth\":0,\"ticks\":\"\"}}}],\"scatter3d\":[{\"type\":\"scatter3d\",\"line\":{\"colorbar\":{\"outlinewidth\":0,\"ticks\":\"\"}},\"marker\":{\"colorbar\":{\"outlinewidth\":0,\"ticks\":\"\"}}}],\"scattermapbox\":[{\"type\":\"scattermapbox\",\"marker\":{\"colorbar\":{\"outlinewidth\":0,\"ticks\":\"\"}}}],\"scatterternary\":[{\"type\":\"scatterternary\",\"marker\":{\"colorbar\":{\"outlinewidth\":0,\"ticks\":\"\"}}}],\"scattercarpet\":[{\"type\":\"scattercarpet\",\"marker\":{\"colorbar\":{\"outlinewidth\":0,\"ticks\":\"\"}}}],\"carpet\":[{\"aaxis\":{\"endlinecolor\":\"#2a3f5f\",\"gridcolor\":\"#C8D4E3\",\"linecolor\":\"#C8D4E3\",\"minorgridcolor\":\"#C8D4E3\",\"startlinecolor\":\"#2a3f5f\"},\"baxis\":{\"endlinecolor\":\"#2a3f5f\",\"gridcolor\":\"#C8D4E3\",\"linecolor\":\"#C8D4E3\",\"minorgridcolor\":\"#C8D4E3\",\"startlinecolor\":\"#2a3f5f\"},\"type\":\"carpet\"}],\"table\":[{\"cells\":{\"fill\":{\"color\":\"#EBF0F8\"},\"line\":{\"color\":\"white\"}},\"header\":{\"fill\":{\"color\":\"#C8D4E3\"},\"line\":{\"color\":\"white\"}},\"type\":\"table\"}],\"barpolar\":[{\"marker\":{\"line\":{\"color\":\"white\",\"width\":0.5},\"pattern\":{\"fillmode\":\"overlay\",\"size\":10,\"solidity\":0.2}},\"type\":\"barpolar\"}],\"pie\":[{\"automargin\":true,\"type\":\"pie\"}]},\"layout\":{\"autotypenumbers\":\"strict\",\"colorway\":[\"#636efa\",\"#EF553B\",\"#00cc96\",\"#ab63fa\",\"#FFA15A\",\"#19d3f3\",\"#FF6692\",\"#B6E880\",\"#FF97FF\",\"#FECB52\"],\"font\":{\"color\":\"#2a3f5f\"},\"hovermode\":\"closest\",\"hoverlabel\":{\"align\":\"left\"},\"paper_bgcolor\":\"white\",\"plot_bgcolor\":\"white\",\"polar\":{\"bgcolor\":\"white\",\"angularaxis\":{\"gridcolor\":\"#EBF0F8\",\"linecolor\":\"#EBF0F8\",\"ticks\":\"\"},\"radialaxis\":{\"gridcolor\":\"#EBF0F8\",\"linecolor\":\"#EBF0F8\",\"ticks\":\"\"}},\"ternary\":{\"bgcolor\":\"white\",\"aaxis\":{\"gridcolor\":\"#DFE8F3\",\"linecolor\":\"#A2B1C6\",\"ticks\":\"\"},\"baxis\":{\"gridcolor\":\"#DFE8F3\",\"linecolor\":\"#A2B1C6\",\"ticks\":\"\"},\"caxis\":{\"gridcolor\":\"#DFE8F3\",\"linecolor\":\"#A2B1C6\",\"ticks\":\"\"}},\"coloraxis\":{\"colorbar\":{\"outlinewidth\":0,\"ticks\":\"\"}},\"colorscale\":{\"sequential\":[[0.0,\"#0d0887\"],[0.1111111111111111,\"#46039f\"],[0.2222222222222222,\"#7201a8\"],[0.3333333333333333,\"#9c179e\"],[0.4444444444444444,\"#bd3786\"],[0.5555555555555556,\"#d8576b\"],[0.6666666666666666,\"#ed7953\"],[0.7777777777777778,\"#fb9f3a\"],[0.8888888888888888,\"#fdca26\"],[1.0,\"#f0f921\"]],\"sequentialminus\":[[0.0,\"#0d0887\"],[0.1111111111111111,\"#46039f\"],[0.2222222222222222,\"#7201a8\"],[0.3333333333333333,\"#9c179e\"],[0.4444444444444444,\"#bd3786\"],[0.5555555555555556,\"#d8576b\"],[0.6666666666666666,\"#ed7953\"],[0.7777777777777778,\"#fb9f3a\"],[0.8888888888888888,\"#fdca26\"],[1.0,\"#f0f921\"]],\"diverging\":[[0,\"#8e0152\"],[0.1,\"#c51b7d\"],[0.2,\"#de77ae\"],[0.3,\"#f1b6da\"],[0.4,\"#fde0ef\"],[0.5,\"#f7f7f7\"],[0.6,\"#e6f5d0\"],[0.7,\"#b8e186\"],[0.8,\"#7fbc41\"],[0.9,\"#4d9221\"],[1,\"#276419\"]]},\"xaxis\":{\"gridcolor\":\"#EBF0F8\",\"linecolor\":\"#EBF0F8\",\"ticks\":\"\",\"title\":{\"standoff\":15},\"zerolinecolor\":\"#EBF0F8\",\"automargin\":true,\"zerolinewidth\":2},\"yaxis\":{\"gridcolor\":\"#EBF0F8\",\"linecolor\":\"#EBF0F8\",\"ticks\":\"\",\"title\":{\"standoff\":15},\"zerolinecolor\":\"#EBF0F8\",\"automargin\":true,\"zerolinewidth\":2},\"scene\":{\"xaxis\":{\"backgroundcolor\":\"white\",\"gridcolor\":\"#DFE8F3\",\"linecolor\":\"#EBF0F8\",\"showbackground\":true,\"ticks\":\"\",\"zerolinecolor\":\"#EBF0F8\",\"gridwidth\":2},\"yaxis\":{\"backgroundcolor\":\"white\",\"gridcolor\":\"#DFE8F3\",\"linecolor\":\"#EBF0F8\",\"showbackground\":true,\"ticks\":\"\",\"zerolinecolor\":\"#EBF0F8\",\"gridwidth\":2},\"zaxis\":{\"backgroundcolor\":\"white\",\"gridcolor\":\"#DFE8F3\",\"linecolor\":\"#EBF0F8\",\"showbackground\":true,\"ticks\":\"\",\"zerolinecolor\":\"#EBF0F8\",\"gridwidth\":2}},\"shapedefaults\":{\"line\":{\"color\":\"#2a3f5f\"}},\"annotationdefaults\":{\"arrowcolor\":\"#2a3f5f\",\"arrowhead\":0,\"arrowwidth\":1},\"geo\":{\"bgcolor\":\"white\",\"landcolor\":\"white\",\"subunitcolor\":\"#C8D4E3\",\"showland\":true,\"showlakes\":true,\"lakecolor\":\"white\"},\"title\":{\"x\":0.05},\"mapbox\":{\"style\":\"light\"}}},\"title\":{\"text\":\"Real Average and Maximum WBA from 2000 to 2023 \\u003cbr\\u003ein \\u003cb\\u003eCalifornia (region-adjusted, base 2023)\\u003c\\u002fb\\u003e\"},\"font\":{\"family\":\"Cambria\",\"size\":14,\"color\":\"black\"},\"xaxis\":{\"title\":{\"text\":\"Year\"},\"tickmode\":\"linear\",\"tick0\":2000,\"dtick\":2},\"yaxis\":{\"title\":{\"text\":\"Real WBA in 2023 USD\"},\"tick0\":200,\"dtick\":50},\"legend\":{\"orientation\":\"v\",\"x\":0.9,\"xanchor\":\"center\",\"y\":1.3},\"shapes\":[{\"fillcolor\":\"gray\",\"layer\":\"below\",\"line\":{\"width\":0},\"opacity\":0.2,\"type\":\"rect\",\"x0\":2019,\"x1\":2023,\"xref\":\"x\",\"y0\":0,\"y1\":1,\"yref\":\"paper\"},{\"fillcolor\":\"lightgray\",\"layer\":\"below\",\"line\":{\"width\":0},\"opacity\":0.2,\"type\":\"rect\",\"x0\":2005,\"x1\":2019,\"xref\":\"x\",\"y0\":0,\"y1\":1,\"yref\":\"paper\"}]},                        {\"responsive\": true}                    ).then(function(){\n",
       "                            \n",
       "var gd = document.getElementById('54b34588-0765-4cdc-9fd9-15dc181bdd2f');\n",
       "var x = new MutationObserver(function (mutations, observer) {{\n",
       "        var display = window.getComputedStyle(gd).display;\n",
       "        if (!display || display === 'none') {{\n",
       "            console.log([gd, 'removed!']);\n",
       "            Plotly.purge(gd);\n",
       "            observer.disconnect();\n",
       "        }}\n",
       "}});\n",
       "\n",
       "// Listen for the removal of the full notebook cells\n",
       "var notebookContainer = gd.closest('#notebook-container');\n",
       "if (notebookContainer) {{\n",
       "    x.observe(notebookContainer, {childList: true});\n",
       "}}\n",
       "\n",
       "// Listen for the clearing of the current output cell\n",
       "var outputEl = gd.closest('.output');\n",
       "if (outputEl) {{\n",
       "    x.observe(outputEl, {childList: true});\n",
       "}}\n",
       "\n",
       "                        })                };                });            </script>        </div>"
      ]
     },
     "metadata": {},
     "output_type": "display_data"
    }
   ],
   "source": [
    "pio.templates.default = 'plotly_white'\n",
    "\n",
    "fig1 = px.line(data_frame = ca_realwba_trend, \n",
    "             x = \"Year\", \n",
    "             y = \"Real Average WBA (regional, 2023 base)\",\n",
    "            title=\"Line with Legend Label\")\n",
    "fig1.update_traces(line=dict(color = 'rgba(255, 165, 0,0.5)'), name=\"Average WBA\", showlegend=True)\n",
    "\n",
    "fig2 = px.scatter(data_frame = ca_realwba_trend, \n",
    "                x = \"Year\", \n",
    "                y = \"Real Average WBA (regional, 2023 base)\",\n",
    "                color_discrete_sequence=[\"orange\"])\n",
    "\n",
    "fig3 = px.line(data_frame = ca_realwba_trend, \n",
    "             x = \"Year\", \n",
    "             y = \"Real Maximum WBA (regional, 2023 base)\")\n",
    "fig3.update_traces(line=dict(color = 'rgba(50,50,100,0.5)'), name=\"Maximum WBA\", showlegend=True)\n",
    "\n",
    "fig4= px.scatter(data_frame = ca_realwba_trend, \n",
    "                x = \"Year\", \n",
    "                y = \"Real Maximum WBA (regional, 2023 base)\",\n",
    "                color_discrete_sequence=[\"rgb(50,50,100)\"])\n",
    "\n",
    "fig1 = go.Figure(data=fig3.data + fig4.data + fig1.data + fig2.data)\n",
    "fig1.update_layout(title_text=\"Real Average and Maximum WBA from 2000 to 2023 <br>in <b>California (region-adjusted, base 2023)</b>\",\n",
    "                   xaxis_title=\"Year\", yaxis_title=\"Real WBA in 2023 USD\",\n",
    "                   font=dict(\n",
    "                        family=\"Cambria\",  \n",
    "                        size=14,         \n",
    "                        color=\"black\",\n",
    "                    ),\n",
    "                   xaxis=dict(\n",
    "                        tickmode='linear',   \n",
    "                        tick0=2000,          \n",
    "                        dtick=2              \n",
    "                    ),\n",
    "                   yaxis=dict(\n",
    "                        tick0=200,          \n",
    "                        dtick=50 \n",
    "                    ),\n",
    "                   legend=dict(\n",
    "                        orientation=\"v\",     \n",
    "                        x=0.9,\n",
    "                        xanchor=\"center\",\n",
    "                        y=1.3\n",
    "                    )\n",
    "                  )\n",
    "fig1.add_shape(\n",
    "    type=\"rect\",\n",
    "    x0=2019, x1=2023,  \n",
    "    y0=0, y1=1,         \n",
    "    xref=\"x\",\n",
    "    yref=\"paper\",     \n",
    "    fillcolor=\"gray\",\n",
    "    opacity=0.2,\n",
    "    layer=\"below\",    \n",
    "    line_width=0\n",
    ")\n",
    "fig1.add_shape(\n",
    "    type=\"rect\",\n",
    "    x0=2005, x1=2019,  \n",
    "    y0=0, y1=1,         \n",
    "    xref=\"x\",\n",
    "    yref=\"paper\",     \n",
    "    fillcolor=\"lightgray\",\n",
    "    opacity=0.2,\n",
    "    layer=\"below\",    \n",
    "    line_width=0\n",
    ")\n",
    "\n",
    "fig1.show()"
   ]
  },
  {
   "cell_type": "code",
   "execution_count": 146,
   "id": "5cb34a03-a78c-46f8-b5f5-dc4ea3981a41",
   "metadata": {
    "tags": []
   },
   "outputs": [],
   "source": [
    "write_html(fig1, \"fig_2b.html\")"
   ]
  },
  {
   "cell_type": "markdown",
   "id": "1ebf3130-e3f1-4803-81f8-4a774887a6a5",
   "metadata": {},
   "source": [
    "## Figure 3 (scatter): Changes in Recipiency rate vs. changes in real WBA from 2005-2023"
   ]
  },
  {
   "cell_type": "code",
   "execution_count": 69,
   "id": "ecaf1d2d-33da-4964-bbdf-e52f6c7e0393",
   "metadata": {
    "tags": []
   },
   "outputs": [
    {
     "data": {
      "text/plain": [
       "Index(['Unnamed: 0', 'Year', 'State', 'Replacement Ratio 1',\n",
       "       'Replacement Ratio 2', 'Recipiency Rate', 'Average WBA', 'Minimum WBA',\n",
       "       'Maximum WBA', 'Average Weekly Wage', 'Region', 'Annual Regional CPI-U',\n",
       "       'Annualized State Inflation Rate', 'MET',\n",
       "       'Real Average WBA (regional, 2000 base)',\n",
       "       'Real Minimum WBA (regional, 2000 base)',\n",
       "       'Real Maximum WBA (regional, 2000 base)',\n",
       "       'Real Average WBA (state, 2000 base)',\n",
       "       'Real Minimum WBA (state, 2000 base)',\n",
       "       'Real Maximum WBA (state, 2000 base)',\n",
       "       'Real Average WBA (regional, 2023 base)',\n",
       "       'Real Minimum WBA (regional, 2023 base)',\n",
       "       'Real Maximum WBA (regional, 2023 base)',\n",
       "       'Real Average WBA (state, 2017 base)',\n",
       "       'Real Minimum WBA (state, 2017 base)',\n",
       "       'Real Maximum WBA (state, 2017 base)'],\n",
       "      dtype='object')"
      ]
     },
     "execution_count": 69,
     "metadata": {},
     "output_type": "execute_result"
    }
   ],
   "source": [
    "master.columns"
   ]
  },
  {
   "cell_type": "code",
   "execution_count": 162,
   "id": "46e4e6c4-3845-4b43-a79b-273b95075040",
   "metadata": {
    "tags": []
   },
   "outputs": [
    {
     "data": {
      "text/html": [
       "<div>\n",
       "<style scoped>\n",
       "    .dataframe tbody tr th:only-of-type {\n",
       "        vertical-align: middle;\n",
       "    }\n",
       "\n",
       "    .dataframe tbody tr th {\n",
       "        vertical-align: top;\n",
       "    }\n",
       "\n",
       "    .dataframe thead th {\n",
       "        text-align: right;\n",
       "    }\n",
       "</style>\n",
       "<table border=\"1\" class=\"dataframe\">\n",
       "  <thead>\n",
       "    <tr style=\"text-align: right;\">\n",
       "      <th></th>\n",
       "      <th>Year</th>\n",
       "      <th>State</th>\n",
       "      <th>Replacement Ratio 1</th>\n",
       "      <th>Recipiency Rate</th>\n",
       "    </tr>\n",
       "  </thead>\n",
       "  <tbody>\n",
       "    <tr>\n",
       "      <th>1194</th>\n",
       "      <td>2023</td>\n",
       "      <td>AK</td>\n",
       "      <td>0.296</td>\n",
       "      <td>0.257529</td>\n",
       "    </tr>\n",
       "    <tr>\n",
       "      <th>1195</th>\n",
       "      <td>2023</td>\n",
       "      <td>AL</td>\n",
       "      <td>0.348</td>\n",
       "      <td>0.162106</td>\n",
       "    </tr>\n",
       "    <tr>\n",
       "      <th>1196</th>\n",
       "      <td>2023</td>\n",
       "      <td>AR</td>\n",
       "      <td>0.390</td>\n",
       "      <td>0.209623</td>\n",
       "    </tr>\n",
       "    <tr>\n",
       "      <th>1197</th>\n",
       "      <td>2023</td>\n",
       "      <td>AZ</td>\n",
       "      <td>0.366</td>\n",
       "      <td>0.181181</td>\n",
       "    </tr>\n",
       "    <tr>\n",
       "      <th>1198</th>\n",
       "      <td>2023</td>\n",
       "      <td>CA</td>\n",
       "      <td>0.372</td>\n",
       "      <td>0.423568</td>\n",
       "    </tr>\n",
       "    <tr>\n",
       "      <th>1199</th>\n",
       "      <td>2023</td>\n",
       "      <td>CO</td>\n",
       "      <td>0.500</td>\n",
       "      <td>0.271559</td>\n",
       "    </tr>\n",
       "    <tr>\n",
       "      <th>1200</th>\n",
       "      <td>2023</td>\n",
       "      <td>CT</td>\n",
       "      <td>0.430</td>\n",
       "      <td>0.425142</td>\n",
       "    </tr>\n",
       "    <tr>\n",
       "      <th>1201</th>\n",
       "      <td>2023</td>\n",
       "      <td>DC</td>\n",
       "      <td>0.343</td>\n",
       "      <td>0.247393</td>\n",
       "    </tr>\n",
       "    <tr>\n",
       "      <th>1202</th>\n",
       "      <td>2023</td>\n",
       "      <td>DE</td>\n",
       "      <td>0.443</td>\n",
       "      <td>0.227704</td>\n",
       "    </tr>\n",
       "    <tr>\n",
       "      <th>1203</th>\n",
       "      <td>2023</td>\n",
       "      <td>FL</td>\n",
       "      <td>0.330</td>\n",
       "      <td>0.116100</td>\n",
       "    </tr>\n",
       "    <tr>\n",
       "      <th>1204</th>\n",
       "      <td>2023</td>\n",
       "      <td>GA</td>\n",
       "      <td>0.370</td>\n",
       "      <td>0.189445</td>\n",
       "    </tr>\n",
       "    <tr>\n",
       "      <th>1205</th>\n",
       "      <td>2023</td>\n",
       "      <td>HI</td>\n",
       "      <td>0.610</td>\n",
       "      <td>0.406938</td>\n",
       "    </tr>\n",
       "    <tr>\n",
       "      <th>1206</th>\n",
       "      <td>2023</td>\n",
       "      <td>IA</td>\n",
       "      <td>0.533</td>\n",
       "      <td>0.224403</td>\n",
       "    </tr>\n",
       "    <tr>\n",
       "      <th>1207</th>\n",
       "      <td>2023</td>\n",
       "      <td>ID</td>\n",
       "      <td>0.484</td>\n",
       "      <td>0.207987</td>\n",
       "    </tr>\n",
       "    <tr>\n",
       "      <th>1208</th>\n",
       "      <td>2023</td>\n",
       "      <td>IL</td>\n",
       "      <td>0.398</td>\n",
       "      <td>0.305554</td>\n",
       "    </tr>\n",
       "    <tr>\n",
       "      <th>1209</th>\n",
       "      <td>2023</td>\n",
       "      <td>IN</td>\n",
       "      <td>0.398</td>\n",
       "      <td>0.197712</td>\n",
       "    </tr>\n",
       "    <tr>\n",
       "      <th>1210</th>\n",
       "      <td>2023</td>\n",
       "      <td>KS</td>\n",
       "      <td>0.517</td>\n",
       "      <td>0.147507</td>\n",
       "    </tr>\n",
       "    <tr>\n",
       "      <th>1211</th>\n",
       "      <td>2023</td>\n",
       "      <td>KY</td>\n",
       "      <td>0.494</td>\n",
       "      <td>0.097575</td>\n",
       "    </tr>\n",
       "    <tr>\n",
       "      <th>1212</th>\n",
       "      <td>2023</td>\n",
       "      <td>LA</td>\n",
       "      <td>0.347</td>\n",
       "      <td>0.160085</td>\n",
       "    </tr>\n",
       "    <tr>\n",
       "      <th>1213</th>\n",
       "      <td>2023</td>\n",
       "      <td>MA</td>\n",
       "      <td>0.480</td>\n",
       "      <td>0.513048</td>\n",
       "    </tr>\n",
       "    <tr>\n",
       "      <th>1214</th>\n",
       "      <td>2023</td>\n",
       "      <td>MD</td>\n",
       "      <td>0.412</td>\n",
       "      <td>0.294370</td>\n",
       "    </tr>\n",
       "    <tr>\n",
       "      <th>1215</th>\n",
       "      <td>2023</td>\n",
       "      <td>ME</td>\n",
       "      <td>0.498</td>\n",
       "      <td>0.301272</td>\n",
       "    </tr>\n",
       "    <tr>\n",
       "      <th>1216</th>\n",
       "      <td>2023</td>\n",
       "      <td>MI</td>\n",
       "      <td>0.400</td>\n",
       "      <td>0.246517</td>\n",
       "    </tr>\n",
       "    <tr>\n",
       "      <th>1217</th>\n",
       "      <td>2023</td>\n",
       "      <td>MN</td>\n",
       "      <td>0.477</td>\n",
       "      <td>0.552887</td>\n",
       "    </tr>\n",
       "    <tr>\n",
       "      <th>1218</th>\n",
       "      <td>2023</td>\n",
       "      <td>MO</td>\n",
       "      <td>0.344</td>\n",
       "      <td>0.185687</td>\n",
       "    </tr>\n",
       "    <tr>\n",
       "      <th>1219</th>\n",
       "      <td>2023</td>\n",
       "      <td>MS</td>\n",
       "      <td>0.339</td>\n",
       "      <td>0.171867</td>\n",
       "    </tr>\n",
       "    <tr>\n",
       "      <th>1220</th>\n",
       "      <td>2023</td>\n",
       "      <td>MT</td>\n",
       "      <td>0.489</td>\n",
       "      <td>0.356368</td>\n",
       "    </tr>\n",
       "    <tr>\n",
       "      <th>1221</th>\n",
       "      <td>2023</td>\n",
       "      <td>NC</td>\n",
       "      <td>0.336</td>\n",
       "      <td>0.113736</td>\n",
       "    </tr>\n",
       "    <tr>\n",
       "      <th>1222</th>\n",
       "      <td>2023</td>\n",
       "      <td>ND</td>\n",
       "      <td>0.500</td>\n",
       "      <td>0.305445</td>\n",
       "    </tr>\n",
       "    <tr>\n",
       "      <th>1223</th>\n",
       "      <td>2023</td>\n",
       "      <td>NE</td>\n",
       "      <td>0.470</td>\n",
       "      <td>0.177409</td>\n",
       "    </tr>\n",
       "    <tr>\n",
       "      <th>1224</th>\n",
       "      <td>2023</td>\n",
       "      <td>NH</td>\n",
       "      <td>0.342</td>\n",
       "      <td>0.155014</td>\n",
       "    </tr>\n",
       "    <tr>\n",
       "      <th>1225</th>\n",
       "      <td>2023</td>\n",
       "      <td>NJ</td>\n",
       "      <td>0.532</td>\n",
       "      <td>0.482111</td>\n",
       "    </tr>\n",
       "    <tr>\n",
       "      <th>1226</th>\n",
       "      <td>2023</td>\n",
       "      <td>NM</td>\n",
       "      <td>0.484</td>\n",
       "      <td>0.263761</td>\n",
       "    </tr>\n",
       "    <tr>\n",
       "      <th>1227</th>\n",
       "      <td>2023</td>\n",
       "      <td>NV</td>\n",
       "      <td>0.512</td>\n",
       "      <td>0.248539</td>\n",
       "    </tr>\n",
       "    <tr>\n",
       "      <th>1228</th>\n",
       "      <td>2023</td>\n",
       "      <td>NY</td>\n",
       "      <td>0.385</td>\n",
       "      <td>0.408651</td>\n",
       "    </tr>\n",
       "    <tr>\n",
       "      <th>1229</th>\n",
       "      <td>2023</td>\n",
       "      <td>OH</td>\n",
       "      <td>0.434</td>\n",
       "      <td>0.210022</td>\n",
       "    </tr>\n",
       "    <tr>\n",
       "      <th>1230</th>\n",
       "      <td>2023</td>\n",
       "      <td>OK</td>\n",
       "      <td>0.487</td>\n",
       "      <td>0.165205</td>\n",
       "    </tr>\n",
       "    <tr>\n",
       "      <th>1231</th>\n",
       "      <td>2023</td>\n",
       "      <td>OR</td>\n",
       "      <td>0.484</td>\n",
       "      <td>0.377204</td>\n",
       "    </tr>\n",
       "    <tr>\n",
       "      <th>1232</th>\n",
       "      <td>2023</td>\n",
       "      <td>PA</td>\n",
       "      <td>0.490</td>\n",
       "      <td>0.366166</td>\n",
       "    </tr>\n",
       "    <tr>\n",
       "      <th>1233</th>\n",
       "      <td>2023</td>\n",
       "      <td>PR</td>\n",
       "      <td>0.478</td>\n",
       "      <td>0.229086</td>\n",
       "    </tr>\n",
       "    <tr>\n",
       "      <th>1234</th>\n",
       "      <td>2023</td>\n",
       "      <td>RI</td>\n",
       "      <td>0.440</td>\n",
       "      <td>0.515284</td>\n",
       "    </tr>\n",
       "    <tr>\n",
       "      <th>1235</th>\n",
       "      <td>2023</td>\n",
       "      <td>SC</td>\n",
       "      <td>0.373</td>\n",
       "      <td>0.187923</td>\n",
       "    </tr>\n",
       "    <tr>\n",
       "      <th>1236</th>\n",
       "      <td>2023</td>\n",
       "      <td>SD</td>\n",
       "      <td>0.482</td>\n",
       "      <td>0.170646</td>\n",
       "    </tr>\n",
       "    <tr>\n",
       "      <th>1237</th>\n",
       "      <td>2023</td>\n",
       "      <td>TN</td>\n",
       "      <td>0.310</td>\n",
       "      <td>0.138961</td>\n",
       "    </tr>\n",
       "    <tr>\n",
       "      <th>1238</th>\n",
       "      <td>2023</td>\n",
       "      <td>TX</td>\n",
       "      <td>0.491</td>\n",
       "      <td>0.216301</td>\n",
       "    </tr>\n",
       "    <tr>\n",
       "      <th>1239</th>\n",
       "      <td>2023</td>\n",
       "      <td>UT</td>\n",
       "      <td>0.490</td>\n",
       "      <td>0.244257</td>\n",
       "    </tr>\n",
       "    <tr>\n",
       "      <th>1240</th>\n",
       "      <td>2023</td>\n",
       "      <td>VA</td>\n",
       "      <td>0.363</td>\n",
       "      <td>0.132646</td>\n",
       "    </tr>\n",
       "    <tr>\n",
       "      <th>1241</th>\n",
       "      <td>2023</td>\n",
       "      <td>VT</td>\n",
       "      <td>0.531</td>\n",
       "      <td>0.405788</td>\n",
       "    </tr>\n",
       "    <tr>\n",
       "      <th>1242</th>\n",
       "      <td>2023</td>\n",
       "      <td>WA</td>\n",
       "      <td>0.494</td>\n",
       "      <td>0.311163</td>\n",
       "    </tr>\n",
       "    <tr>\n",
       "      <th>1243</th>\n",
       "      <td>2023</td>\n",
       "      <td>WI</td>\n",
       "      <td>0.374</td>\n",
       "      <td>0.287291</td>\n",
       "    </tr>\n",
       "    <tr>\n",
       "      <th>1244</th>\n",
       "      <td>2023</td>\n",
       "      <td>WV</td>\n",
       "      <td>0.442</td>\n",
       "      <td>0.238561</td>\n",
       "    </tr>\n",
       "    <tr>\n",
       "      <th>1245</th>\n",
       "      <td>2023</td>\n",
       "      <td>WY</td>\n",
       "      <td>0.517</td>\n",
       "      <td>0.209775</td>\n",
       "    </tr>\n",
       "  </tbody>\n",
       "</table>\n",
       "</div>"
      ],
      "text/plain": [
       "      Year State  Replacement Ratio 1  Recipiency Rate\n",
       "1194  2023    AK                0.296         0.257529\n",
       "1195  2023    AL                0.348         0.162106\n",
       "1196  2023    AR                0.390         0.209623\n",
       "1197  2023    AZ                0.366         0.181181\n",
       "1198  2023    CA                0.372         0.423568\n",
       "1199  2023    CO                0.500         0.271559\n",
       "1200  2023    CT                0.430         0.425142\n",
       "1201  2023    DC                0.343         0.247393\n",
       "1202  2023    DE                0.443         0.227704\n",
       "1203  2023    FL                0.330         0.116100\n",
       "1204  2023    GA                0.370         0.189445\n",
       "1205  2023    HI                0.610         0.406938\n",
       "1206  2023    IA                0.533         0.224403\n",
       "1207  2023    ID                0.484         0.207987\n",
       "1208  2023    IL                0.398         0.305554\n",
       "1209  2023    IN                0.398         0.197712\n",
       "1210  2023    KS                0.517         0.147507\n",
       "1211  2023    KY                0.494         0.097575\n",
       "1212  2023    LA                0.347         0.160085\n",
       "1213  2023    MA                0.480         0.513048\n",
       "1214  2023    MD                0.412         0.294370\n",
       "1215  2023    ME                0.498         0.301272\n",
       "1216  2023    MI                0.400         0.246517\n",
       "1217  2023    MN                0.477         0.552887\n",
       "1218  2023    MO                0.344         0.185687\n",
       "1219  2023    MS                0.339         0.171867\n",
       "1220  2023    MT                0.489         0.356368\n",
       "1221  2023    NC                0.336         0.113736\n",
       "1222  2023    ND                0.500         0.305445\n",
       "1223  2023    NE                0.470         0.177409\n",
       "1224  2023    NH                0.342         0.155014\n",
       "1225  2023    NJ                0.532         0.482111\n",
       "1226  2023    NM                0.484         0.263761\n",
       "1227  2023    NV                0.512         0.248539\n",
       "1228  2023    NY                0.385         0.408651\n",
       "1229  2023    OH                0.434         0.210022\n",
       "1230  2023    OK                0.487         0.165205\n",
       "1231  2023    OR                0.484         0.377204\n",
       "1232  2023    PA                0.490         0.366166\n",
       "1233  2023    PR                0.478         0.229086\n",
       "1234  2023    RI                0.440         0.515284\n",
       "1235  2023    SC                0.373         0.187923\n",
       "1236  2023    SD                0.482         0.170646\n",
       "1237  2023    TN                0.310         0.138961\n",
       "1238  2023    TX                0.491         0.216301\n",
       "1239  2023    UT                0.490         0.244257\n",
       "1240  2023    VA                0.363         0.132646\n",
       "1241  2023    VT                0.531         0.405788\n",
       "1242  2023    WA                0.494         0.311163\n",
       "1243  2023    WI                0.374         0.287291\n",
       "1244  2023    WV                0.442         0.238561\n",
       "1245  2023    WY                0.517         0.209775"
      ]
     },
     "execution_count": 162,
     "metadata": {},
     "output_type": "execute_result"
    }
   ],
   "source": [
    "rec_repl = master[['Year', 'State', 'Replacement Ratio 1', 'Recipiency Rate']]\n",
    "rec_repl = rec_repl[(rec_repl['Year'] >= 2023)]\n",
    "rec_repl"
   ]
  },
  {
   "cell_type": "code",
   "execution_count": 167,
   "id": "41815074-af9a-4767-87a9-313306f61b42",
   "metadata": {
    "tags": []
   },
   "outputs": [
    {
     "data": {
      "application/vnd.plotly.v1+json": {
       "config": {
        "plotlyServerURL": "https://plot.ly"
       },
       "data": [
        {
         "customdata": [
          [
           "AK"
          ],
          [
           "AL"
          ],
          [
           "AR"
          ],
          [
           "AZ"
          ],
          [
           "CA"
          ],
          [
           "CO"
          ],
          [
           "CT"
          ],
          [
           "DC"
          ],
          [
           "DE"
          ],
          [
           "FL"
          ],
          [
           "GA"
          ],
          [
           "HI"
          ],
          [
           "IA"
          ],
          [
           "ID"
          ],
          [
           "IL"
          ],
          [
           "IN"
          ],
          [
           "KS"
          ],
          [
           "KY"
          ],
          [
           "LA"
          ],
          [
           "MA"
          ],
          [
           "MD"
          ],
          [
           "ME"
          ],
          [
           "MI"
          ],
          [
           "MN"
          ],
          [
           "MO"
          ],
          [
           "MS"
          ],
          [
           "MT"
          ],
          [
           "NC"
          ],
          [
           "ND"
          ],
          [
           "NE"
          ],
          [
           "NH"
          ],
          [
           "NJ"
          ],
          [
           "NM"
          ],
          [
           "NV"
          ],
          [
           "NY"
          ],
          [
           "OH"
          ],
          [
           "OK"
          ],
          [
           "OR"
          ],
          [
           "PA"
          ],
          [
           "PR"
          ],
          [
           "RI"
          ],
          [
           "SC"
          ],
          [
           "SD"
          ],
          [
           "TN"
          ],
          [
           "TX"
          ],
          [
           "UT"
          ],
          [
           "VA"
          ],
          [
           "VT"
          ],
          [
           "WA"
          ],
          [
           "WI"
          ],
          [
           "WV"
          ],
          [
           "WY"
          ]
         ],
         "hovertemplate": "Replacement Ratio 1=%{x}<br>Recipiency Rate=%{y}<br>State=%{customdata[0]}<extra></extra>",
         "legendgroup": "",
         "marker": {
          "color": "#636efa",
          "symbol": "circle"
         },
         "mode": "markers",
         "name": "",
         "orientation": "v",
         "showlegend": false,
         "type": "scatter",
         "x": [
          0.296,
          0.348,
          0.39,
          0.366,
          0.372,
          0.5,
          0.43,
          0.343,
          0.443,
          0.33,
          0.37,
          0.61,
          0.533,
          0.484,
          0.398,
          0.398,
          0.517,
          0.494,
          0.347,
          0.48,
          0.412,
          0.498,
          0.4,
          0.477,
          0.344,
          0.339,
          0.489,
          0.336,
          0.5,
          0.47,
          0.342,
          0.532,
          0.484,
          0.512,
          0.385,
          0.434,
          0.487,
          0.484,
          0.49,
          0.478,
          0.44,
          0.373,
          0.482,
          0.31,
          0.491,
          0.49,
          0.363,
          0.531,
          0.494,
          0.374,
          0.442,
          0.517
         ],
         "xaxis": "x",
         "y": [
          0.25752923948659,
          0.16210600732159,
          0.20962315528437,
          0.18118094005813,
          0.4235679889213,
          0.27155905557038,
          0.42514165481209,
          0.24739332133091,
          0.22770352778857,
          0.11610048131653,
          0.18944505176572,
          0.40693757605572,
          0.22440258284942,
          0.20798658228967,
          0.30555431054552,
          0.19771153187605,
          0.14750693614766,
          0.097575256283041,
          0.16008499231876,
          0.51304773515204,
          0.29437003375761,
          0.30127152242365,
          0.24651651297538,
          0.55288703200763,
          0.18568680767517,
          0.17186748962066,
          0.35636816054959,
          0.11373596610024,
          0.30544531512995,
          0.17740860754393,
          0.15501435193426,
          0.48211088897557,
          0.26376097161896,
          0.24853935473963,
          0.40865145769532,
          0.21002240571024,
          0.16520451337306,
          0.37720415668878,
          0.36616635082676,
          0.22908648382616,
          0.51528415060516,
          0.18792345826592,
          0.17064642919526,
          0.13896056199153,
          0.21630053153701,
          0.24425713825883,
          0.13264553484314,
          0.4057876226322,
          0.31116331373749,
          0.28729058154534,
          0.23856081560381,
          0.20977543697187
         ],
         "yaxis": "y"
        },
        {
         "hovertemplate": "<b>OLS trendline</b><br>Recipiency Rate = 0.594603 * Replacement Ratio 1 + 0.00336341<br>R<sup>2</sup>=0.147730<br><br>Replacement Ratio 1=%{x}<br>Recipiency Rate=%{y} <b>(trend)</b><extra></extra>",
         "legendgroup": "",
         "marker": {
          "color": "#636efa",
          "symbol": "circle"
         },
         "mode": "lines",
         "name": "",
         "showlegend": false,
         "type": "scatter",
         "x": [
          0.296,
          0.31,
          0.33,
          0.336,
          0.339,
          0.342,
          0.343,
          0.344,
          0.347,
          0.348,
          0.363,
          0.366,
          0.37,
          0.372,
          0.373,
          0.374,
          0.385,
          0.39,
          0.398,
          0.398,
          0.4,
          0.412,
          0.43,
          0.434,
          0.44,
          0.442,
          0.443,
          0.47,
          0.477,
          0.478,
          0.48,
          0.482,
          0.484,
          0.484,
          0.484,
          0.487,
          0.489,
          0.49,
          0.49,
          0.491,
          0.494,
          0.494,
          0.498,
          0.5,
          0.5,
          0.512,
          0.517,
          0.517,
          0.531,
          0.532,
          0.533,
          0.61
         ],
         "xaxis": "x",
         "y": [
          0.1793660457289575,
          0.18769049455172138,
          0.1995825642985269,
          0.20315018522256856,
          0.20493399568458937,
          0.2067178061466102,
          0.20731240963395048,
          0.20790701312129073,
          0.20969082358331154,
          0.21028542707065181,
          0.21920447938075596,
          0.2209882898427768,
          0.22336670379213788,
          0.22455591076681844,
          0.22515051425415872,
          0.225745117741499,
          0.23228575610224203,
          0.23525877353894342,
          0.24001560143766562,
          0.24001560143766562,
          0.24120480841234618,
          0.24834005026042946,
          0.25904291303255444,
          0.2614213269819155,
          0.2649889479059572,
          0.26617815488063773,
          0.26677275836797804,
          0.2828270525261654,
          0.28698927693754733,
          0.28758388042488764,
          0.2887730873995682,
          0.28996229437424875,
          0.2911515013489293,
          0.2911515013489293,
          0.2911515013489293,
          0.2929353118109501,
          0.2941245187856307,
          0.2947191222729709,
          0.2947191222729709,
          0.29531372576031123,
          0.29709753622233204,
          0.29709753622233204,
          0.29947595017169315,
          0.3006651571463737,
          0.3006651571463737,
          0.307800398994457,
          0.3107734164311584,
          0.3107734164311584,
          0.31909786525392225,
          0.31969246874126256,
          0.3202870722286028,
          0.366071540753804
         ],
         "yaxis": "y"
        }
       ],
       "layout": {
        "height": 300,
        "legend": {
         "tracegroupgap": 0
        },
        "margin": {
         "b": 0,
         "l": 0,
         "r": 0,
         "t": 0
        },
        "template": {
         "data": {
          "bar": [
           {
            "error_x": {
             "color": "#2a3f5f"
            },
            "error_y": {
             "color": "#2a3f5f"
            },
            "marker": {
             "line": {
              "color": "white",
              "width": 0.5
             },
             "pattern": {
              "fillmode": "overlay",
              "size": 10,
              "solidity": 0.2
             }
            },
            "type": "bar"
           }
          ],
          "barpolar": [
           {
            "marker": {
             "line": {
              "color": "white",
              "width": 0.5
             },
             "pattern": {
              "fillmode": "overlay",
              "size": 10,
              "solidity": 0.2
             }
            },
            "type": "barpolar"
           }
          ],
          "carpet": [
           {
            "aaxis": {
             "endlinecolor": "#2a3f5f",
             "gridcolor": "#C8D4E3",
             "linecolor": "#C8D4E3",
             "minorgridcolor": "#C8D4E3",
             "startlinecolor": "#2a3f5f"
            },
            "baxis": {
             "endlinecolor": "#2a3f5f",
             "gridcolor": "#C8D4E3",
             "linecolor": "#C8D4E3",
             "minorgridcolor": "#C8D4E3",
             "startlinecolor": "#2a3f5f"
            },
            "type": "carpet"
           }
          ],
          "choropleth": [
           {
            "colorbar": {
             "outlinewidth": 0,
             "ticks": ""
            },
            "type": "choropleth"
           }
          ],
          "contour": [
           {
            "colorbar": {
             "outlinewidth": 0,
             "ticks": ""
            },
            "colorscale": [
             [
              0,
              "#0d0887"
             ],
             [
              0.1111111111111111,
              "#46039f"
             ],
             [
              0.2222222222222222,
              "#7201a8"
             ],
             [
              0.3333333333333333,
              "#9c179e"
             ],
             [
              0.4444444444444444,
              "#bd3786"
             ],
             [
              0.5555555555555556,
              "#d8576b"
             ],
             [
              0.6666666666666666,
              "#ed7953"
             ],
             [
              0.7777777777777778,
              "#fb9f3a"
             ],
             [
              0.8888888888888888,
              "#fdca26"
             ],
             [
              1,
              "#f0f921"
             ]
            ],
            "type": "contour"
           }
          ],
          "contourcarpet": [
           {
            "colorbar": {
             "outlinewidth": 0,
             "ticks": ""
            },
            "type": "contourcarpet"
           }
          ],
          "heatmap": [
           {
            "colorbar": {
             "outlinewidth": 0,
             "ticks": ""
            },
            "colorscale": [
             [
              0,
              "#0d0887"
             ],
             [
              0.1111111111111111,
              "#46039f"
             ],
             [
              0.2222222222222222,
              "#7201a8"
             ],
             [
              0.3333333333333333,
              "#9c179e"
             ],
             [
              0.4444444444444444,
              "#bd3786"
             ],
             [
              0.5555555555555556,
              "#d8576b"
             ],
             [
              0.6666666666666666,
              "#ed7953"
             ],
             [
              0.7777777777777778,
              "#fb9f3a"
             ],
             [
              0.8888888888888888,
              "#fdca26"
             ],
             [
              1,
              "#f0f921"
             ]
            ],
            "type": "heatmap"
           }
          ],
          "heatmapgl": [
           {
            "colorbar": {
             "outlinewidth": 0,
             "ticks": ""
            },
            "colorscale": [
             [
              0,
              "#0d0887"
             ],
             [
              0.1111111111111111,
              "#46039f"
             ],
             [
              0.2222222222222222,
              "#7201a8"
             ],
             [
              0.3333333333333333,
              "#9c179e"
             ],
             [
              0.4444444444444444,
              "#bd3786"
             ],
             [
              0.5555555555555556,
              "#d8576b"
             ],
             [
              0.6666666666666666,
              "#ed7953"
             ],
             [
              0.7777777777777778,
              "#fb9f3a"
             ],
             [
              0.8888888888888888,
              "#fdca26"
             ],
             [
              1,
              "#f0f921"
             ]
            ],
            "type": "heatmapgl"
           }
          ],
          "histogram": [
           {
            "marker": {
             "pattern": {
              "fillmode": "overlay",
              "size": 10,
              "solidity": 0.2
             }
            },
            "type": "histogram"
           }
          ],
          "histogram2d": [
           {
            "colorbar": {
             "outlinewidth": 0,
             "ticks": ""
            },
            "colorscale": [
             [
              0,
              "#0d0887"
             ],
             [
              0.1111111111111111,
              "#46039f"
             ],
             [
              0.2222222222222222,
              "#7201a8"
             ],
             [
              0.3333333333333333,
              "#9c179e"
             ],
             [
              0.4444444444444444,
              "#bd3786"
             ],
             [
              0.5555555555555556,
              "#d8576b"
             ],
             [
              0.6666666666666666,
              "#ed7953"
             ],
             [
              0.7777777777777778,
              "#fb9f3a"
             ],
             [
              0.8888888888888888,
              "#fdca26"
             ],
             [
              1,
              "#f0f921"
             ]
            ],
            "type": "histogram2d"
           }
          ],
          "histogram2dcontour": [
           {
            "colorbar": {
             "outlinewidth": 0,
             "ticks": ""
            },
            "colorscale": [
             [
              0,
              "#0d0887"
             ],
             [
              0.1111111111111111,
              "#46039f"
             ],
             [
              0.2222222222222222,
              "#7201a8"
             ],
             [
              0.3333333333333333,
              "#9c179e"
             ],
             [
              0.4444444444444444,
              "#bd3786"
             ],
             [
              0.5555555555555556,
              "#d8576b"
             ],
             [
              0.6666666666666666,
              "#ed7953"
             ],
             [
              0.7777777777777778,
              "#fb9f3a"
             ],
             [
              0.8888888888888888,
              "#fdca26"
             ],
             [
              1,
              "#f0f921"
             ]
            ],
            "type": "histogram2dcontour"
           }
          ],
          "mesh3d": [
           {
            "colorbar": {
             "outlinewidth": 0,
             "ticks": ""
            },
            "type": "mesh3d"
           }
          ],
          "parcoords": [
           {
            "line": {
             "colorbar": {
              "outlinewidth": 0,
              "ticks": ""
             }
            },
            "type": "parcoords"
           }
          ],
          "pie": [
           {
            "automargin": true,
            "type": "pie"
           }
          ],
          "scatter": [
           {
            "fillpattern": {
             "fillmode": "overlay",
             "size": 10,
             "solidity": 0.2
            },
            "type": "scatter"
           }
          ],
          "scatter3d": [
           {
            "line": {
             "colorbar": {
              "outlinewidth": 0,
              "ticks": ""
             }
            },
            "marker": {
             "colorbar": {
              "outlinewidth": 0,
              "ticks": ""
             }
            },
            "type": "scatter3d"
           }
          ],
          "scattercarpet": [
           {
            "marker": {
             "colorbar": {
              "outlinewidth": 0,
              "ticks": ""
             }
            },
            "type": "scattercarpet"
           }
          ],
          "scattergeo": [
           {
            "marker": {
             "colorbar": {
              "outlinewidth": 0,
              "ticks": ""
             }
            },
            "type": "scattergeo"
           }
          ],
          "scattergl": [
           {
            "marker": {
             "colorbar": {
              "outlinewidth": 0,
              "ticks": ""
             }
            },
            "type": "scattergl"
           }
          ],
          "scattermapbox": [
           {
            "marker": {
             "colorbar": {
              "outlinewidth": 0,
              "ticks": ""
             }
            },
            "type": "scattermapbox"
           }
          ],
          "scatterpolar": [
           {
            "marker": {
             "colorbar": {
              "outlinewidth": 0,
              "ticks": ""
             }
            },
            "type": "scatterpolar"
           }
          ],
          "scatterpolargl": [
           {
            "marker": {
             "colorbar": {
              "outlinewidth": 0,
              "ticks": ""
             }
            },
            "type": "scatterpolargl"
           }
          ],
          "scatterternary": [
           {
            "marker": {
             "colorbar": {
              "outlinewidth": 0,
              "ticks": ""
             }
            },
            "type": "scatterternary"
           }
          ],
          "surface": [
           {
            "colorbar": {
             "outlinewidth": 0,
             "ticks": ""
            },
            "colorscale": [
             [
              0,
              "#0d0887"
             ],
             [
              0.1111111111111111,
              "#46039f"
             ],
             [
              0.2222222222222222,
              "#7201a8"
             ],
             [
              0.3333333333333333,
              "#9c179e"
             ],
             [
              0.4444444444444444,
              "#bd3786"
             ],
             [
              0.5555555555555556,
              "#d8576b"
             ],
             [
              0.6666666666666666,
              "#ed7953"
             ],
             [
              0.7777777777777778,
              "#fb9f3a"
             ],
             [
              0.8888888888888888,
              "#fdca26"
             ],
             [
              1,
              "#f0f921"
             ]
            ],
            "type": "surface"
           }
          ],
          "table": [
           {
            "cells": {
             "fill": {
              "color": "#EBF0F8"
             },
             "line": {
              "color": "white"
             }
            },
            "header": {
             "fill": {
              "color": "#C8D4E3"
             },
             "line": {
              "color": "white"
             }
            },
            "type": "table"
           }
          ]
         },
         "layout": {
          "annotationdefaults": {
           "arrowcolor": "#2a3f5f",
           "arrowhead": 0,
           "arrowwidth": 1
          },
          "autotypenumbers": "strict",
          "coloraxis": {
           "colorbar": {
            "outlinewidth": 0,
            "ticks": ""
           }
          },
          "colorscale": {
           "diverging": [
            [
             0,
             "#8e0152"
            ],
            [
             0.1,
             "#c51b7d"
            ],
            [
             0.2,
             "#de77ae"
            ],
            [
             0.3,
             "#f1b6da"
            ],
            [
             0.4,
             "#fde0ef"
            ],
            [
             0.5,
             "#f7f7f7"
            ],
            [
             0.6,
             "#e6f5d0"
            ],
            [
             0.7,
             "#b8e186"
            ],
            [
             0.8,
             "#7fbc41"
            ],
            [
             0.9,
             "#4d9221"
            ],
            [
             1,
             "#276419"
            ]
           ],
           "sequential": [
            [
             0,
             "#0d0887"
            ],
            [
             0.1111111111111111,
             "#46039f"
            ],
            [
             0.2222222222222222,
             "#7201a8"
            ],
            [
             0.3333333333333333,
             "#9c179e"
            ],
            [
             0.4444444444444444,
             "#bd3786"
            ],
            [
             0.5555555555555556,
             "#d8576b"
            ],
            [
             0.6666666666666666,
             "#ed7953"
            ],
            [
             0.7777777777777778,
             "#fb9f3a"
            ],
            [
             0.8888888888888888,
             "#fdca26"
            ],
            [
             1,
             "#f0f921"
            ]
           ],
           "sequentialminus": [
            [
             0,
             "#0d0887"
            ],
            [
             0.1111111111111111,
             "#46039f"
            ],
            [
             0.2222222222222222,
             "#7201a8"
            ],
            [
             0.3333333333333333,
             "#9c179e"
            ],
            [
             0.4444444444444444,
             "#bd3786"
            ],
            [
             0.5555555555555556,
             "#d8576b"
            ],
            [
             0.6666666666666666,
             "#ed7953"
            ],
            [
             0.7777777777777778,
             "#fb9f3a"
            ],
            [
             0.8888888888888888,
             "#fdca26"
            ],
            [
             1,
             "#f0f921"
            ]
           ]
          },
          "colorway": [
           "#636efa",
           "#EF553B",
           "#00cc96",
           "#ab63fa",
           "#FFA15A",
           "#19d3f3",
           "#FF6692",
           "#B6E880",
           "#FF97FF",
           "#FECB52"
          ],
          "font": {
           "color": "#2a3f5f"
          },
          "geo": {
           "bgcolor": "white",
           "lakecolor": "white",
           "landcolor": "white",
           "showlakes": true,
           "showland": true,
           "subunitcolor": "#C8D4E3"
          },
          "hoverlabel": {
           "align": "left"
          },
          "hovermode": "closest",
          "mapbox": {
           "style": "light"
          },
          "paper_bgcolor": "white",
          "plot_bgcolor": "white",
          "polar": {
           "angularaxis": {
            "gridcolor": "#EBF0F8",
            "linecolor": "#EBF0F8",
            "ticks": ""
           },
           "bgcolor": "white",
           "radialaxis": {
            "gridcolor": "#EBF0F8",
            "linecolor": "#EBF0F8",
            "ticks": ""
           }
          },
          "scene": {
           "xaxis": {
            "backgroundcolor": "white",
            "gridcolor": "#DFE8F3",
            "gridwidth": 2,
            "linecolor": "#EBF0F8",
            "showbackground": true,
            "ticks": "",
            "zerolinecolor": "#EBF0F8"
           },
           "yaxis": {
            "backgroundcolor": "white",
            "gridcolor": "#DFE8F3",
            "gridwidth": 2,
            "linecolor": "#EBF0F8",
            "showbackground": true,
            "ticks": "",
            "zerolinecolor": "#EBF0F8"
           },
           "zaxis": {
            "backgroundcolor": "white",
            "gridcolor": "#DFE8F3",
            "gridwidth": 2,
            "linecolor": "#EBF0F8",
            "showbackground": true,
            "ticks": "",
            "zerolinecolor": "#EBF0F8"
           }
          },
          "shapedefaults": {
           "line": {
            "color": "#2a3f5f"
           }
          },
          "ternary": {
           "aaxis": {
            "gridcolor": "#DFE8F3",
            "linecolor": "#A2B1C6",
            "ticks": ""
           },
           "baxis": {
            "gridcolor": "#DFE8F3",
            "linecolor": "#A2B1C6",
            "ticks": ""
           },
           "bgcolor": "white",
           "caxis": {
            "gridcolor": "#DFE8F3",
            "linecolor": "#A2B1C6",
            "ticks": ""
           }
          },
          "title": {
           "x": 0.05
          },
          "xaxis": {
           "automargin": true,
           "gridcolor": "#EBF0F8",
           "linecolor": "#EBF0F8",
           "ticks": "",
           "title": {
            "standoff": 15
           },
           "zerolinecolor": "#EBF0F8",
           "zerolinewidth": 2
          },
          "yaxis": {
           "automargin": true,
           "gridcolor": "#EBF0F8",
           "linecolor": "#EBF0F8",
           "ticks": "",
           "title": {
            "standoff": 15
           },
           "zerolinecolor": "#EBF0F8",
           "zerolinewidth": 2
          }
         }
        },
        "width": 500,
        "xaxis": {
         "anchor": "y",
         "autorange": true,
         "domain": [
          0,
          1
         ],
         "range": [
          0.2753009950248756,
          0.6306990049751243
         ],
         "title": {
          "text": "Replacement Ratio 1"
         },
         "type": "linear"
        },
        "yaxis": {
         "anchor": "x",
         "autorange": true,
         "domain": [
          0,
          1
         ],
         "range": [
          0.06387088281406655,
          0.5865914054766045
         ],
         "title": {
          "text": "Recipiency Rate"
         },
         "type": "linear"
        }
       }
      },
      "image/png": "[encoded data removed]",
      "text/html": [
       "<div>                            <div id=\"7c5e25b9-578f-41e3-84f0-5084ac3d8ba5\" class=\"plotly-graph-div\" style=\"height:300px; width:500px;\"></div>            <script type=\"text/javascript\">                require([\"plotly\"], function(Plotly) {                    window.PLOTLYENV=window.PLOTLYENV || {};                                    if (document.getElementById(\"7c5e25b9-578f-41e3-84f0-5084ac3d8ba5\")) {                    Plotly.newPlot(                        \"7c5e25b9-578f-41e3-84f0-5084ac3d8ba5\",                        [{\"customdata\":[[\"AK\"],[\"AL\"],[\"AR\"],[\"AZ\"],[\"CA\"],[\"CO\"],[\"CT\"],[\"DC\"],[\"DE\"],[\"FL\"],[\"GA\"],[\"HI\"],[\"IA\"],[\"ID\"],[\"IL\"],[\"IN\"],[\"KS\"],[\"KY\"],[\"LA\"],[\"MA\"],[\"MD\"],[\"ME\"],[\"MI\"],[\"MN\"],[\"MO\"],[\"MS\"],[\"MT\"],[\"NC\"],[\"ND\"],[\"NE\"],[\"NH\"],[\"NJ\"],[\"NM\"],[\"NV\"],[\"NY\"],[\"OH\"],[\"OK\"],[\"OR\"],[\"PA\"],[\"PR\"],[\"RI\"],[\"SC\"],[\"SD\"],[\"TN\"],[\"TX\"],[\"UT\"],[\"VA\"],[\"VT\"],[\"WA\"],[\"WI\"],[\"WV\"],[\"WY\"]],\"hovertemplate\":\"Replacement Ratio 1=%{x}\\u003cbr\\u003eRecipiency Rate=%{y}\\u003cbr\\u003eState=%{customdata[0]}\\u003cextra\\u003e\\u003c\\u002fextra\\u003e\",\"legendgroup\":\"\",\"marker\":{\"color\":\"#636efa\",\"symbol\":\"circle\"},\"mode\":\"markers\",\"name\":\"\",\"orientation\":\"v\",\"showlegend\":false,\"x\":[0.296,0.348,0.39,0.366,0.372,0.5,0.43,0.343,0.443,0.33,0.37,0.61,0.533,0.484,0.398,0.398,0.517,0.494,0.347,0.48,0.412,0.498,0.4,0.477,0.344,0.339,0.489,0.336,0.5,0.47,0.342,0.532,0.484,0.512,0.385,0.434,0.487,0.484,0.49,0.478,0.44,0.373,0.482,0.31,0.491,0.49,0.363,0.531,0.494,0.374,0.442,0.517],\"xaxis\":\"x\",\"y\":[0.25752923948659,0.16210600732159,0.20962315528437,0.18118094005813,0.4235679889213,0.27155905557038,0.42514165481209,0.24739332133091,0.22770352778857,0.11610048131653,0.18944505176572,0.40693757605572,0.22440258284942,0.20798658228967,0.30555431054552,0.19771153187605,0.14750693614766,0.097575256283041,0.16008499231876,0.51304773515204,0.29437003375761,0.30127152242365,0.24651651297538,0.55288703200763,0.18568680767517,0.17186748962066,0.35636816054959,0.11373596610024,0.30544531512995,0.17740860754393,0.15501435193426,0.48211088897557,0.26376097161896,0.24853935473963,0.40865145769532,0.21002240571024,0.16520451337306,0.37720415668878,0.36616635082676,0.22908648382616,0.51528415060516,0.18792345826592,0.17064642919526,0.13896056199153,0.21630053153701,0.24425713825883,0.13264553484314,0.4057876226322,0.31116331373749,0.28729058154534,0.23856081560381,0.20977543697187],\"yaxis\":\"y\",\"type\":\"scatter\"},{\"hovertemplate\":\"\\u003cb\\u003eOLS trendline\\u003c\\u002fb\\u003e\\u003cbr\\u003eRecipiency Rate = 0.594603 * Replacement Ratio 1 + 0.00336341\\u003cbr\\u003eR\\u003csup\\u003e2\\u003c\\u002fsup\\u003e=0.147730\\u003cbr\\u003e\\u003cbr\\u003eReplacement Ratio 1=%{x}\\u003cbr\\u003eRecipiency Rate=%{y} \\u003cb\\u003e(trend)\\u003c\\u002fb\\u003e\\u003cextra\\u003e\\u003c\\u002fextra\\u003e\",\"legendgroup\":\"\",\"marker\":{\"color\":\"#636efa\",\"symbol\":\"circle\"},\"mode\":\"lines\",\"name\":\"\",\"showlegend\":false,\"x\":[0.296,0.31,0.33,0.336,0.339,0.342,0.343,0.344,0.347,0.348,0.363,0.366,0.37,0.372,0.373,0.374,0.385,0.39,0.398,0.398,0.4,0.412,0.43,0.434,0.44,0.442,0.443,0.47,0.477,0.478,0.48,0.482,0.484,0.484,0.484,0.487,0.489,0.49,0.49,0.491,0.494,0.494,0.498,0.5,0.5,0.512,0.517,0.517,0.531,0.532,0.533,0.61],\"xaxis\":\"x\",\"y\":[0.1793660457289575,0.18769049455172138,0.1995825642985269,0.20315018522256856,0.20493399568458937,0.2067178061466102,0.20731240963395048,0.20790701312129073,0.20969082358331154,0.21028542707065181,0.21920447938075596,0.2209882898427768,0.22336670379213788,0.22455591076681844,0.22515051425415872,0.225745117741499,0.23228575610224203,0.23525877353894342,0.24001560143766562,0.24001560143766562,0.24120480841234618,0.24834005026042946,0.25904291303255444,0.2614213269819155,0.2649889479059572,0.26617815488063773,0.26677275836797804,0.2828270525261654,0.28698927693754733,0.28758388042488764,0.2887730873995682,0.28996229437424875,0.2911515013489293,0.2911515013489293,0.2911515013489293,0.2929353118109501,0.2941245187856307,0.2947191222729709,0.2947191222729709,0.29531372576031123,0.29709753622233204,0.29709753622233204,0.29947595017169315,0.3006651571463737,0.3006651571463737,0.307800398994457,0.3107734164311584,0.3107734164311584,0.31909786525392225,0.31969246874126256,0.3202870722286028,0.366071540753804],\"yaxis\":\"y\",\"type\":\"scatter\"}],                        {\"template\":{\"data\":{\"histogram2dcontour\":[{\"type\":\"histogram2dcontour\",\"colorbar\":{\"outlinewidth\":0,\"ticks\":\"\"},\"colorscale\":[[0.0,\"#0d0887\"],[0.1111111111111111,\"#46039f\"],[0.2222222222222222,\"#7201a8\"],[0.3333333333333333,\"#9c179e\"],[0.4444444444444444,\"#bd3786\"],[0.5555555555555556,\"#d8576b\"],[0.6666666666666666,\"#ed7953\"],[0.7777777777777778,\"#fb9f3a\"],[0.8888888888888888,\"#fdca26\"],[1.0,\"#f0f921\"]]}],\"choropleth\":[{\"type\":\"choropleth\",\"colorbar\":{\"outlinewidth\":0,\"ticks\":\"\"}}],\"histogram2d\":[{\"type\":\"histogram2d\",\"colorbar\":{\"outlinewidth\":0,\"ticks\":\"\"},\"colorscale\":[[0.0,\"#0d0887\"],[0.1111111111111111,\"#46039f\"],[0.2222222222222222,\"#7201a8\"],[0.3333333333333333,\"#9c179e\"],[0.4444444444444444,\"#bd3786\"],[0.5555555555555556,\"#d8576b\"],[0.6666666666666666,\"#ed7953\"],[0.7777777777777778,\"#fb9f3a\"],[0.8888888888888888,\"#fdca26\"],[1.0,\"#f0f921\"]]}],\"heatmap\":[{\"type\":\"heatmap\",\"colorbar\":{\"outlinewidth\":0,\"ticks\":\"\"},\"colorscale\":[[0.0,\"#0d0887\"],[0.1111111111111111,\"#46039f\"],[0.2222222222222222,\"#7201a8\"],[0.3333333333333333,\"#9c179e\"],[0.4444444444444444,\"#bd3786\"],[0.5555555555555556,\"#d8576b\"],[0.6666666666666666,\"#ed7953\"],[0.7777777777777778,\"#fb9f3a\"],[0.8888888888888888,\"#fdca26\"],[1.0,\"#f0f921\"]]}],\"heatmapgl\":[{\"type\":\"heatmapgl\",\"colorbar\":{\"outlinewidth\":0,\"ticks\":\"\"},\"colorscale\":[[0.0,\"#0d0887\"],[0.1111111111111111,\"#46039f\"],[0.2222222222222222,\"#7201a8\"],[0.3333333333333333,\"#9c179e\"],[0.4444444444444444,\"#bd3786\"],[0.5555555555555556,\"#d8576b\"],[0.6666666666666666,\"#ed7953\"],[0.7777777777777778,\"#fb9f3a\"],[0.8888888888888888,\"#fdca26\"],[1.0,\"#f0f921\"]]}],\"contourcarpet\":[{\"type\":\"contourcarpet\",\"colorbar\":{\"outlinewidth\":0,\"ticks\":\"\"}}],\"contour\":[{\"type\":\"contour\",\"colorbar\":{\"outlinewidth\":0,\"ticks\":\"\"},\"colorscale\":[[0.0,\"#0d0887\"],[0.1111111111111111,\"#46039f\"],[0.2222222222222222,\"#7201a8\"],[0.3333333333333333,\"#9c179e\"],[0.4444444444444444,\"#bd3786\"],[0.5555555555555556,\"#d8576b\"],[0.6666666666666666,\"#ed7953\"],[0.7777777777777778,\"#fb9f3a\"],[0.8888888888888888,\"#fdca26\"],[1.0,\"#f0f921\"]]}],\"surface\":[{\"type\":\"surface\",\"colorbar\":{\"outlinewidth\":0,\"ticks\":\"\"},\"colorscale\":[[0.0,\"#0d0887\"],[0.1111111111111111,\"#46039f\"],[0.2222222222222222,\"#7201a8\"],[0.3333333333333333,\"#9c179e\"],[0.4444444444444444,\"#bd3786\"],[0.5555555555555556,\"#d8576b\"],[0.6666666666666666,\"#ed7953\"],[0.7777777777777778,\"#fb9f3a\"],[0.8888888888888888,\"#fdca26\"],[1.0,\"#f0f921\"]]}],\"mesh3d\":[{\"type\":\"mesh3d\",\"colorbar\":{\"outlinewidth\":0,\"ticks\":\"\"}}],\"scatter\":[{\"fillpattern\":{\"fillmode\":\"overlay\",\"size\":10,\"solidity\":0.2},\"type\":\"scatter\"}],\"parcoords\":[{\"type\":\"parcoords\",\"line\":{\"colorbar\":{\"outlinewidth\":0,\"ticks\":\"\"}}}],\"scatterpolargl\":[{\"type\":\"scatterpolargl\",\"marker\":{\"colorbar\":{\"outlinewidth\":0,\"ticks\":\"\"}}}],\"bar\":[{\"error_x\":{\"color\":\"#2a3f5f\"},\"error_y\":{\"color\":\"#2a3f5f\"},\"marker\":{\"line\":{\"color\":\"white\",\"width\":0.5},\"pattern\":{\"fillmode\":\"overlay\",\"size\":10,\"solidity\":0.2}},\"type\":\"bar\"}],\"scattergeo\":[{\"type\":\"scattergeo\",\"marker\":{\"colorbar\":{\"outlinewidth\":0,\"ticks\":\"\"}}}],\"scatterpolar\":[{\"type\":\"scatterpolar\",\"marker\":{\"colorbar\":{\"outlinewidth\":0,\"ticks\":\"\"}}}],\"histogram\":[{\"marker\":{\"pattern\":{\"fillmode\":\"overlay\",\"size\":10,\"solidity\":0.2}},\"type\":\"histogram\"}],\"scattergl\":[{\"type\":\"scattergl\",\"marker\":{\"colorbar\":{\"outlinewidth\":0,\"ticks\":\"\"}}}],\"scatter3d\":[{\"type\":\"scatter3d\",\"line\":{\"colorbar\":{\"outlinewidth\":0,\"ticks\":\"\"}},\"marker\":{\"colorbar\":{\"outlinewidth\":0,\"ticks\":\"\"}}}],\"scattermapbox\":[{\"type\":\"scattermapbox\",\"marker\":{\"colorbar\":{\"outlinewidth\":0,\"ticks\":\"\"}}}],\"scatterternary\":[{\"type\":\"scatterternary\",\"marker\":{\"colorbar\":{\"outlinewidth\":0,\"ticks\":\"\"}}}],\"scattercarpet\":[{\"type\":\"scattercarpet\",\"marker\":{\"colorbar\":{\"outlinewidth\":0,\"ticks\":\"\"}}}],\"carpet\":[{\"aaxis\":{\"endlinecolor\":\"#2a3f5f\",\"gridcolor\":\"#C8D4E3\",\"linecolor\":\"#C8D4E3\",\"minorgridcolor\":\"#C8D4E3\",\"startlinecolor\":\"#2a3f5f\"},\"baxis\":{\"endlinecolor\":\"#2a3f5f\",\"gridcolor\":\"#C8D4E3\",\"linecolor\":\"#C8D4E3\",\"minorgridcolor\":\"#C8D4E3\",\"startlinecolor\":\"#2a3f5f\"},\"type\":\"carpet\"}],\"table\":[{\"cells\":{\"fill\":{\"color\":\"#EBF0F8\"},\"line\":{\"color\":\"white\"}},\"header\":{\"fill\":{\"color\":\"#C8D4E3\"},\"line\":{\"color\":\"white\"}},\"type\":\"table\"}],\"barpolar\":[{\"marker\":{\"line\":{\"color\":\"white\",\"width\":0.5},\"pattern\":{\"fillmode\":\"overlay\",\"size\":10,\"solidity\":0.2}},\"type\":\"barpolar\"}],\"pie\":[{\"automargin\":true,\"type\":\"pie\"}]},\"layout\":{\"autotypenumbers\":\"strict\",\"colorway\":[\"#636efa\",\"#EF553B\",\"#00cc96\",\"#ab63fa\",\"#FFA15A\",\"#19d3f3\",\"#FF6692\",\"#B6E880\",\"#FF97FF\",\"#FECB52\"],\"font\":{\"color\":\"#2a3f5f\"},\"hovermode\":\"closest\",\"hoverlabel\":{\"align\":\"left\"},\"paper_bgcolor\":\"white\",\"plot_bgcolor\":\"white\",\"polar\":{\"bgcolor\":\"white\",\"angularaxis\":{\"gridcolor\":\"#EBF0F8\",\"linecolor\":\"#EBF0F8\",\"ticks\":\"\"},\"radialaxis\":{\"gridcolor\":\"#EBF0F8\",\"linecolor\":\"#EBF0F8\",\"ticks\":\"\"}},\"ternary\":{\"bgcolor\":\"white\",\"aaxis\":{\"gridcolor\":\"#DFE8F3\",\"linecolor\":\"#A2B1C6\",\"ticks\":\"\"},\"baxis\":{\"gridcolor\":\"#DFE8F3\",\"linecolor\":\"#A2B1C6\",\"ticks\":\"\"},\"caxis\":{\"gridcolor\":\"#DFE8F3\",\"linecolor\":\"#A2B1C6\",\"ticks\":\"\"}},\"coloraxis\":{\"colorbar\":{\"outlinewidth\":0,\"ticks\":\"\"}},\"colorscale\":{\"sequential\":[[0.0,\"#0d0887\"],[0.1111111111111111,\"#46039f\"],[0.2222222222222222,\"#7201a8\"],[0.3333333333333333,\"#9c179e\"],[0.4444444444444444,\"#bd3786\"],[0.5555555555555556,\"#d8576b\"],[0.6666666666666666,\"#ed7953\"],[0.7777777777777778,\"#fb9f3a\"],[0.8888888888888888,\"#fdca26\"],[1.0,\"#f0f921\"]],\"sequentialminus\":[[0.0,\"#0d0887\"],[0.1111111111111111,\"#46039f\"],[0.2222222222222222,\"#7201a8\"],[0.3333333333333333,\"#9c179e\"],[0.4444444444444444,\"#bd3786\"],[0.5555555555555556,\"#d8576b\"],[0.6666666666666666,\"#ed7953\"],[0.7777777777777778,\"#fb9f3a\"],[0.8888888888888888,\"#fdca26\"],[1.0,\"#f0f921\"]],\"diverging\":[[0,\"#8e0152\"],[0.1,\"#c51b7d\"],[0.2,\"#de77ae\"],[0.3,\"#f1b6da\"],[0.4,\"#fde0ef\"],[0.5,\"#f7f7f7\"],[0.6,\"#e6f5d0\"],[0.7,\"#b8e186\"],[0.8,\"#7fbc41\"],[0.9,\"#4d9221\"],[1,\"#276419\"]]},\"xaxis\":{\"gridcolor\":\"#EBF0F8\",\"linecolor\":\"#EBF0F8\",\"ticks\":\"\",\"title\":{\"standoff\":15},\"zerolinecolor\":\"#EBF0F8\",\"automargin\":true,\"zerolinewidth\":2},\"yaxis\":{\"gridcolor\":\"#EBF0F8\",\"linecolor\":\"#EBF0F8\",\"ticks\":\"\",\"title\":{\"standoff\":15},\"zerolinecolor\":\"#EBF0F8\",\"automargin\":true,\"zerolinewidth\":2},\"scene\":{\"xaxis\":{\"backgroundcolor\":\"white\",\"gridcolor\":\"#DFE8F3\",\"linecolor\":\"#EBF0F8\",\"showbackground\":true,\"ticks\":\"\",\"zerolinecolor\":\"#EBF0F8\",\"gridwidth\":2},\"yaxis\":{\"backgroundcolor\":\"white\",\"gridcolor\":\"#DFE8F3\",\"linecolor\":\"#EBF0F8\",\"showbackground\":true,\"ticks\":\"\",\"zerolinecolor\":\"#EBF0F8\",\"gridwidth\":2},\"zaxis\":{\"backgroundcolor\":\"white\",\"gridcolor\":\"#DFE8F3\",\"linecolor\":\"#EBF0F8\",\"showbackground\":true,\"ticks\":\"\",\"zerolinecolor\":\"#EBF0F8\",\"gridwidth\":2}},\"shapedefaults\":{\"line\":{\"color\":\"#2a3f5f\"}},\"annotationdefaults\":{\"arrowcolor\":\"#2a3f5f\",\"arrowhead\":0,\"arrowwidth\":1},\"geo\":{\"bgcolor\":\"white\",\"landcolor\":\"white\",\"subunitcolor\":\"#C8D4E3\",\"showland\":true,\"showlakes\":true,\"lakecolor\":\"white\"},\"title\":{\"x\":0.05},\"mapbox\":{\"style\":\"light\"}}},\"xaxis\":{\"anchor\":\"y\",\"domain\":[0.0,1.0],\"title\":{\"text\":\"Replacement Ratio 1\"}},\"yaxis\":{\"anchor\":\"x\",\"domain\":[0.0,1.0],\"title\":{\"text\":\"Recipiency Rate\"}},\"legend\":{\"tracegroupgap\":0},\"margin\":{\"t\":0,\"r\":0,\"l\":0,\"b\":0},\"height\":300,\"width\":500},                        {\"responsive\": true}                    ).then(function(){\n",
       "                            \n",
       "var gd = document.getElementById('7c5e25b9-578f-41e3-84f0-5084ac3d8ba5');\n",
       "var x = new MutationObserver(function (mutations, observer) {{\n",
       "        var display = window.getComputedStyle(gd).display;\n",
       "        if (!display || display === 'none') {{\n",
       "            console.log([gd, 'removed!']);\n",
       "            Plotly.purge(gd);\n",
       "            observer.disconnect();\n",
       "        }}\n",
       "}});\n",
       "\n",
       "// Listen for the removal of the full notebook cells\n",
       "var notebookContainer = gd.closest('#notebook-container');\n",
       "if (notebookContainer) {{\n",
       "    x.observe(notebookContainer, {childList: true});\n",
       "}}\n",
       "\n",
       "// Listen for the clearing of the current output cell\n",
       "var outputEl = gd.closest('.output');\n",
       "if (outputEl) {{\n",
       "    x.observe(outputEl, {childList: true});\n",
       "}}\n",
       "\n",
       "                        })                };                });            </script>        </div>"
      ]
     },
     "metadata": {},
     "output_type": "display_data"
    }
   ],
   "source": [
    "fig = px.scatter(data_frame = rec_repl,\n",
    "                 x = 'Replacement Ratio 1',\n",
    "                 y = 'Recipiency Rate',\n",
    "                 width = 500,\n",
    "                 height = 300,\n",
    "                 hover_data = ['State'],\n",
    "                 trendline='ols')\n",
    "\n",
    "fig.update_layout(margin={\"r\":0,\"t\":0,\"l\":0,\"b\":0})\n",
    "fig.show()"
   ]
  },
  {
   "cell_type": "code",
   "execution_count": 155,
   "id": "a3ee3e9f-f425-457b-87b4-f4839f993d68",
   "metadata": {},
   "outputs": [
    {
     "data": {
      "application/vnd.plotly.v1+json": {
       "config": {
        "plotlyServerURL": "https://plot.ly"
       },
       "data": [
        {
         "hovertemplate": "Real Maximum WBA (regional, 2023 base)=%{x}<br>Recipiency Rate=%{y}<extra></extra>",
         "legendgroup": "",
         "marker": {
          "color": "#636efa",
          "symbol": "circle"
         },
         "mode": "markers",
         "name": "",
         "showlegend": false,
         "type": "scattergl",
         "x": [
          459.44,
          336.84,
          547.81,
          379.78,
          426.1,
          624.33,
          633.17,
          547.81,
          558.45,
          487.54,
          468.03,
          674.35,
          441.87,
          505.76,
          477.15,
          423.38,
          490.59,
          475.13,
          381.16,
          703.13,
          443.21,
          444.27,
          504.03,
          556.11,
          369.62,
          336.84,
          470.56,
          570.86,
          475.47,
          346.1,
          526.47,
          711.88,
          455.74,
          494.64,
          638.42,
          468.75,
          489.31,
          666.94,
          655.91,
          232.63,
          669.9,
          421.94,
          359.54,
          452.08,
          508.81,
          552.07,
          407.76,
          501.99,
          817,
          498.99,
          563.77,
          483.53,
          443.22,
          329.17,
          556.12,
          366.37,
          411.05,
          639.8,
          675.56,
          535.33,
          545.72,
          476.42,
          474.69,
          684.48,
          446.72,
          529,
          515.45,
          471.27,
          523.63,
          569.98,
          446.97,
          811.69,
          485.09,
          450.94,
          490.9,
          541.63,
          409.09,
          329.17,
          470.02,
          649.67,
          479.45,
          412.36,
          512.2,
          730.01,
          477.17,
          520.06,
          689.17,
          495.81,
          504.14,
          671.97,
          731.71,
          675.56,
          448.7,
          366.54,
          441.77,
          509.34,
          634.44,
          464.3,
          507.09,
          788.14,
          512.18,
          566.51,
          484.32,
          434.82,
          324.99,
          569.58,
          359.43,
          578.59,
          683.79,
          676.92,
          528.53,
          564.45,
          470.38,
          485.77,
          692.55,
          457.52,
          552.29,
          527.04,
          504.41,
          538.36,
          562.74,
          441.3,
          853.66,
          478.93,
          453.51,
          485.01,
          730.75,
          404.17,
          342.09,
          501.44,
          677.34,
          468.84,
          423.57,
          551.88,
          743.62,
          485.66,
          527.74,
          675.26,
          497.94,
          519.98,
          701.32,
          716.94,
          221.75,
          691.93,
          458.4,
          378.31,
          470.38,
          545.64,
          639.95,
          458.4,
          520.2,
          869.64,
          523.81,
          578.13,
          496.18,
          425.83,
          351.09,
          576.79,
          351.99,
          635.31,
          683.38,
          666.49,
          516.61,
          535,
          459.76,
          493.2,
          678.23,
          463.07,
          542.59,
          516.99,
          532.85,
          547.12,
          550.04,
          431.34,
          822.17,
          518.28,
          458.92,
          574.08,
          740.6,
          396.47,
          351.09,
          509.96,
          682.12,
          459.9,
          415.5,
          603.25,
          770.28,
          475.62,
          530.57,
          656.76,
          499.55,
          506.58,
          695.4,
          731.36,
          215.68,
          692.44,
          464.78,
          382.19,
          459.76,
          548.37,
          626.72,
          531.65,
          569.19,
          851.65,
          521.75,
          586.83,
          508.24,
          416.12,
          342.4,
          562.52,
          343.97,
          687.94,
          667.8,
          672.4,
          503.82,
          538.06,
          448.38,
          489.15,
          699.68,
          464.56,
          530.22,
          504.82,
          538.89,
          543.53,
          595.13,
          420.66,
          796.22,
          505.45,
          457.67,
          560.56,
          740.19,
          387.13,
          342.4,
          541.96,
          678.28,
          483.14,
          433.59,
          583.06,
          768.01,
          486.59,
          531.89,
          634.78,
          500.17,
          448.38,
          687.94,
          722.55,
          208.46,
          691.21,
          453.27,
          384.03,
          448.38,
          534.8,
          632.57,
          515.23,
          562.68,
          832.24,
          509.46,
          583.71,
          513.44,
          403.77,
          346.32,
          543.1,
          390.75,
          732.66,
          662.65,
          675.96,
          565.14,
          519.49,
          432.91,
          472.26,
          709.86,
          465.26,
          529.14,
          504.29,
          553.81,
          538.8,
          574.58,
          406.14,
          798.45,
          488,
          456.69,
          543.31,
          739.92,
          375.21,
          330.58,
          545.42,
          670.61,
          486.28,
          432.24,
          562.55,
          760.65,
          488.44,
          535.65,
          612.45,
          496.78,
          459.67,
          682.18,
          722.84,
          201.13,
          698.65,
          459.67,
          384.22,
          432.91,
          528.93,
          604.03,
          513.19,
          561.03,
          807.55,
          493.78,
          576.16,
          514.49,
          390.43,
          334.94,
          581.58,
          377.83,
          708.44,
          662.78,
          678.65,
          546.56,
          502.41,
          418.68,
          456.74,
          722.6,
          474.69,
          506.93,
          512.78,
          571.38,
          546.47,
          555.7,
          392.79,
          770.6,
          517.63,
          456.81,
          530.36,
          754.52,
          395.57,
          319.72,
          544.71,
          672.93,
          498.13,
          421.94,
          542.92,
          760.38,
          491.18,
          544.71,
          591.09,
          502.52,
          482.62,
          683.25,
          725.36,
          194.11,
          696.17,
          461.3,
          389.71,
          418.68,
          511.54,
          602.96,
          502.41,
          561.9,
          780.85,
          499.59,
          578.53,
          519.52,
          378.41,
          340.27,
          584.38,
          366.21,
          686.64,
          663.75,
          687.3,
          531.12,
          488.22,
          406.85,
          473.42,
          724.79,
          476.68,
          515.74,
          523.78,
          556.61,
          550.9,
          593.26,
          381.7,
          818.22,
          503.01,
          455.36,
          516.64,
          743.57,
          399.61,
          310.68,
          552.36,
          676.1,
          500.95,
          411.03,
          529.35,
          762.72,
          497.43,
          552.36,
          576.31,
          506.65,
          505.97,
          679.01,
          739.95,
          189.26,
          700.11,
          448.27,
          391.05,
          406.85,
          538.52,
          619.5,
          513.37,
          560.66,
          756.83,
          506.65,
          578.46,
          532.53,
          365.64,
          333.81,
          580.97,
          353.84,
          663.46,
          608.9,
          685.58,
          509.94,
          468.75,
          390.63,
          454.55,
          771.08,
          477.73,
          536.66,
          508.02,
          536.93,
          560.34,
          589.49,
          366.48,
          821.05,
          539.77,
          452.95,
          498.38,
          740.69,
          440.56,
          298.3,
          569.1,
          649.15,
          530.05,
          410.27,
          584.31,
          766.31,
          523.39,
          533.71,
          554.21,
          502.51,
          556.82,
          682.62,
          737.58,
          182,
          702,
          463.07,
          392.37,
          390.63,
          536.93,
          629.55,
          515.63,
          559.68,
          759.29,
          488.75,
          579.55,
          570.57,
          547.56,
          363.67,
          614.68,
          355.18,
          665.95,
          637.84,
          710.09,
          511.99,
          470.64,
          392.2,
          470.64,
          806.54,
          500.22,
          535.72,
          533.47,
          540.4,
          586.13,
          591.86,
          405.03,
          859.23,
          541.94,
          470.66,
          501.6,
          486.36,
          443.41,
          328.02,
          602.32,
          704.53,
          562.57,
          426.78,
          584.22,
          799.03,
          531.28,
          581.6,
          554.12,
          515.46,
          583.3,
          713.31,
          763.45,
          181.97,
          722.41,
          464.93,
          412.92,
          392.2,
          559.06,
          657.07,
          539.09,
          581.48,
          800.62,
          502.99,
          604.7,
          614.16,
          541.67,
          371.69,
          618.55,
          351.35,
          658.79,
          648.54,
          720.51,
          503.53,
          462.86,
          385.71,
          462.86,
          818.36,
          508.31,
          488.97,
          523.26,
          530.06,
          592.58,
          582.08,
          346.44,
          843.94,
          575.06,
          477.65,
          492,
          512.39,
          434.92,
          329.61,
          617.79,
          708.31,
          585.78,
          432.2,
          572.92,
          805.03,
          623.65,
          585.59,
          543.4,
          509.67,
          603.12,
          721.74,
          756.73,
          178.45,
          732.58,
          457.25,
          419.97,
          385.71,
          569.45,
          660.25,
          530.18,
          570.23,
          819.82,
          493.36,
          594.7,
          641.22,
          526.71,
          359.31,
          611.51,
          341.65,
          640.59,
          590.77,
          722.63,
          486.76,
          447.44,
          372.87,
          447.44,
          781.52,
          495.09,
          478.31,
          510.89,
          513.53,
          572.78,
          562.69,
          334.9,
          813.77,
          583.03,
          467.43,
          476.66,
          489.83,
          421.36,
          318.63,
          599.31,
          686.08,
          582,
          458.22,
          555.97,
          778.62,
          549.49,
          566.57,
          527.32,
          509.58,
          485.41,
          706.08,
          746.06,
          173.17,
          717.42,
          442.02,
          413.46,
          372.87,
          562.69,
          643.44,
          512.53,
          553.36,
          811.42,
          477.98,
          574.9,
          612.12,
          515.62,
          351.87,
          606.81,
          334.46,
          627.11,
          632.68,
          731.79,
          476.68,
          438.18,
          365.15,
          438.18,
          728.84,
          496.86,
          478,
          520.09,
          503.32,
          573.01,
          551.04,
          327.97,
          833.96,
          570.96,
          467.43,
          467.18,
          496.86,
          412.98,
          312.03,
          600.63,
          693.11,
          606.56,
          456.86,
          545.33,
          780.32,
          553.25,
          551.86,
          517.23,
          516.22,
          488.63,
          706.54,
          731.79,
          169.86,
          722.85,
          432.86,
          416.85,
          365.15,
          565.65,
          650.8,
          501.91,
          542.78,
          812.46,
          468.47,
          562.99,
          618.75,
          508.08,
          346.47,
          589.65,
          329.57,
          617.94,
          639.91,
          744.66,
          469.37,
          431.45,
          359.54,
          431.45,
          733.29,
          504,
          490.23,
          525.63,
          496.36,
          580.36,
          542.58,
          322.94,
          849.23,
          562.2,
          468.72,
          460.72,
          500.18,
          407.27,
          307.25,
          612.45,
          699.48,
          656.72,
          460.72,
          538.02,
          786.24,
          558.89,
          552.03,
          510.3,
          525.63,
          504.67,
          719.56,
          721.98,
          167.58,
          713.16,
          426.22,
          423.82,
          359.54,
          575.27,
          657.76,
          494.21,
          535.5,
          829.41,
          462,
          554.35,
          630.3,
          498.8,
          340.71,
          579.85,
          323.54,
          606.65,
          648.44,
          733.31,
          461.57,
          424.28,
          424.28,
          733.37,
          511.77,
          516.32,
          524.31,
          489.19,
          588.29,
          533.57,
          317.57,
          843.93,
          552.85,
          469.82,
          454.07,
          508.01,
          401.39,
          302.14,
          625.52,
          450,
          714.97,
          466.62,
          530.72,
          790.48,
          547.33,
          548.68,
          503.37,
          524.31,
          565.71,
          725.28,
          712.18,
          165.31,
          703.48,
          419.14,
          432.75,
          353.57,
          583.71,
          656.53,
          486,
          528.23,
          841.21,
          464.11,
          545.14,
          634.96,
          493.05,
          341.31,
          580.87,
          319.82,
          599.66,
          644.96,
          739.1,
          462.38,
          425.03,
          354.19,
          425.03,
          734.24,
          524.63,
          530.36,
          537.25,
          491.84,
          597.78,
          534.51,
          318.13,
          868.5,
          553.83,
          480.29,
          456.53,
          519.59,
          403.56,
          302.67,
          627.64,
          450.79,
          749.12,
          479.23,
          531.3,
          803.8,
          549.02,
          549.02,
          522.59,
          534.72,
          631.1,
          731.58,
          712.97,
          165.49,
          704.26,
          419.88,
          443.92,
          354.19,
          598.91,
          660.95,
          486.85,
          542.5,
          848.85,
          466.62,
          546.1,
          632.97,
          483.71,
          337.58,
          574.52,
          313.76,
          588.3,
          656.28,
          736.29,
          457.32,
          420.38,
          350.32,
          420.38,
          743.87,
          538.97,
          536.01,
          546.47,
          487.7,
          592.74,
          528.66,
          314.65,
          888.97,
          547.77,
          488.81,
          452.69,
          530.22,
          400.16,
          299.36,
          636.67,
          445.86,
          791.58,
          490.2,
          525.75,
          808.94,
          553,
          545.16,
          517.13,
          543.97,
          643.31,
          717.73,
          705.51,
          163.76,
          696.89,
          415.29,
          457.69,
          350.32,
          610.19,
          665.43,
          481.53,
          549.14,
          868.07,
          462.69,
          540.13,
          641.9,
          470.36,
          330.81,
          562.99,
          305.1,
          572.06,
          655.96,
          744.75,
          530.54,
          411.95,
          343.29,
          411.95,
          752.58,
          549.84,
          521.21,
          552.3,
          479.73,
          583.05,
          518.05,
          308.34,
          897.09,
          536.78,
          495.7,
          445.28,
          541.23,
          393.62,
          293.36,
          648.33,
          436.91,
          774.94,
          482.19,
          516.25,
          818.5,
          540.28,
          541.55,
          513.83,
          535.08,
          636.65,
          750.03,
          678.26,
          160.8,
          684.3,
          406.95,
          467.42,
          343.29,
          615.42,
          666.13,
          471.87,
          553.73,
          865.72,
          455.12,
          529.29,
          621.64,
          455.13,
          323.61,
          550.75,
          295.22,
          553.54,
          639.64,
          725.47,
          527.54,
          402.98,
          335.82,
          402.98,
          761.42,
          549.13,
          498.18,
          552.75,
          470.68,
          572.06,
          547.08,
          301.63,
          910.09,
          525.1,
          494.69,
          436.89,
          539.48,
          386.2,
          286.97,
          637.18,
          427.41,
          731.37,
          499.65,
          505.34,
          805.95,
          532.62,
          540,
          508.9,
          534.65,
          617.91,
          742.97,
          663.93,
          157.4,
          669.85,
          398.1,
          470.68,
          335.82,
          603.26,
          667.93,
          461.6,
          551.5,
          877.05,
          446.55,
          517.77,
          584.29,
          443.2,
          318.97,
          542.86,
          287.48,
          539.02,
          649.23,
          734.98,
          527.21,
          397.21,
          331.01,
          397.21,
          754.63,
          555.35,
          495.9,
          560.11,
          463.78,
          563.67,
          604.24,
          297.31,
          926.01,
          517.58,
          502.03,
          430.49,
          549.4,
          380.54,
          282.86,
          631.26,
          421.28,
          707.57,
          506.59,
          497.37,
          810.7,
          529.44,
          539.02,
          524.16,
          526.81,
          625.91,
          747.45,
          653.45,
          154.92,
          670.92,
          392.4,
          478.05,
          331.01,
          594.61,
          670.79,
          454.99,
          580.07,
          897.18,
          440,
          510.36,
          585.74,
          435.61,
          327.85,
          537.67,
          282.56,
          529.8,
          660.48,
          746.21,
          529.33,
          476.87,
          327.85,
          435.15,
          762.91,
          566.6,
          527.45,
          570.14,
          459.41,
          574.85,
          658.08,
          294.47,
          946.27,
          512.64,
          511.66,
          426.43,
          544.22,
          376.95,
          280.16,
          649.89,
          417.26,
          727.99,
          518.31,
          490.96,
          819.8,
          542.75,
          552.17,
          579.49,
          565.43,
          642.58,
          762.91,
          657.68,
          218.46,
          673.78,
          388.65,
          487.68,
          327.85,
          621.12,
          682.85,
          450.64,
          589.84,
          930.09,
          435.85,
          505.48,
          598.09,
          416.77,
          312.01,
          511.7,
          270.34,
          506.88,
          664.58,
          738.11,
          503.76,
          453.84,
          312.01,
          414.13,
          719.77,
          552.65,
          521.52,
          566.1,
          437.18,
          563.86,
          645.58,
          280.24,
          946.15,
          487.87,
          511.25,
          405.8,
          550.4,
          358.72,
          266.63,
          644.3,
          397.11,
          717.43,
          511.17,
          472.52,
          808.93,
          545.18,
          544.05,
          557.73,
          558.25,
          523.05,
          758.07,
          645.15,
          265.59,
          662.86,
          369.88,
          479.78,
          312.01,
          607.01,
          694.99,
          428.88,
          587.61,
          950.68,
          414.77,
          481.07,
          592.49,
          385.88,
          287.37,
          471.28,
          250.3,
          469.31,
          663.29,
          708.64,
          463.97,
          417.99,
          287.37,
          381.41,
          724.82,
          551.19,
          520.41,
          562.61,
          404.83,
          560.54,
          594.59,
          287.37,
          1007.61,
          449.34,
          528.63,
          375.77,
          549.12,
          332.17,
          245.57,
          644.52,
          365.74,
          681.98,
          508.63,
          441.73,
          831.74,
          536.06,
          555.87,
          521.39,
          550.16,
          497.4,
          764.46,
          614.5,
          248.28,
          683.81,
          340.66,
          483.72,
          287.37,
          573.69,
          689.37,
          395,
          603.12,
          968.87,
          384.07,
          443.07,
          555.87,
          370,
          275,
          451,
          320,
          450,
          675,
          703,
          444,
          400,
          275,
          365,
          763,
          551,
          532,
          578,
          390,
          560,
          626,
          275,
          1015,
          430,
          538,
          362,
          552,
          320,
          235,
          657,
          350,
          673,
          514,
          427,
          830,
          542,
          562,
          504,
          561,
          493,
          783,
          605,
          240,
          680,
          326,
          487,
          275,
          563,
          712,
          378,
          668,
          999,
          370,
          630,
          560
         ],
         "xaxis": "x",
         "y": [
          0.60879994588987,
          0.29208564615296,
          0.45345821793852,
          0.2057091472626,
          0.40979121129037,
          0.2339362942664,
          0.76407753368998,
          0.32272032363013,
          0.39749550753952,
          0.23813360315712,
          0.23394513674957,
          0.32693588065572,
          0.45167644061341,
          0.39239063104112,
          0.36003996748824,
          0.33647482755853,
          0.29631998635453,
          0.31319400553123,
          0.22960018070207,
          0.63767645663563,
          0.29183831429671,
          0.39376441773702,
          0.43419663349932,
          0.36875455106639,
          0.41440965750913,
          0.28074094154518,
          0.34374940839161,
          0.35139831313921,
          0.37992504555138,
          0.27919640463366,
          0.17083107868171,
          0.5404465583471,
          0.2230286994157,
          0.44269884063201,
          0.35402092081706,
          0.30207674334253,
          0.24648669913636,
          0.43759912044289,
          0.51380108612948,
          0.37749750670894,
          0.5603153700822,
          0.37098396769276,
          0.19696253321244,
          0.38294352303659,
          0.23696587840243,
          0.27608623178484,
          0.27144093890694,
          0.51010862789092,
          0.44711973985973,
          0.52601543142193,
          0.31523877984263,
          0.28743637084559,
          0.60441529601667,
          0.34817207720034,
          0.57650058087208,
          0.26575380964847,
          0.46511343491664,
          0.29734339973012,
          0.75692441468047,
          0.30198758664916,
          0.48287279918814,
          0.28626364693671,
          0.35297323058366,
          0.44034873473098,
          0.52276912574339,
          0.48103241045735,
          0.42875063410904,
          0.41236952118633,
          0.35359914664387,
          0.35822422426079,
          0.24656190477587,
          0.69684323662163,
          0.32642459712195,
          0.43046045234698,
          0.50966797511033,
          0.46194718362468,
          0.41239468073583,
          0.37687931041779,
          0.40614117409818,
          0.38831813748201,
          0.42642011479324,
          0.347422093457,
          0.27154104064941,
          0.59828537377144,
          0.27387545954054,
          0.47139349379205,
          0.46744773380303,
          0.44393662008408,
          0.30461154313702,
          0.52222885191366,
          0.60202504434611,
          0.57810739986653,
          0.43829887012159,
          0.23714189869171,
          0.46830016284655,
          0.28981408446544,
          0.30846389813089,
          0.29095022872841,
          0.53421505160262,
          0.50459986998262,
          0.58001959377898,
          0.3539433103465,
          0.28440415879064,
          0.60106542625236,
          0.33066732382202,
          0.5382424169135,
          0.27003631676307,
          0.45893317318848,
          0.29754713533264,
          0.65687248479669,
          0.34551799786564,
          0.48534493972261,
          0.31841505161422,
          0.31873306885862,
          0.50064075158888,
          0.48328007964041,
          0.48762540940273,
          0.44981572922375,
          0.38299581501901,
          0.39355722667002,
          0.36631087600788,
          0.30236332046595,
          0.64840932110575,
          0.35170478703885,
          0.42533780877974,
          0.48425903265664,
          0.48063673609901,
          0.41707387725739,
          0.33554121242136,
          0.43942595662603,
          0.37199812417536,
          0.3947474330359,
          0.3735538780738,
          0.31601050476069,
          0.53640424961809,
          0.31250122109212,
          0.48794562820549,
          0.43537188387834,
          0.39248663355346,
          0.3263732348198,
          0.49711180929023,
          0.60400606296627,
          0.32933536199192,
          0.51700874181462,
          0.39630070429851,
          0.25827549443264,
          0.41214036038444,
          0.29517067007696,
          0.30692252461235,
          0.3228457317497,
          0.62123129446895,
          0.51399978989941,
          0.56536766388348,
          0.34960108501303,
          0.31791873997858,
          0.55852347183433,
          0.30743589777213,
          0.47132214879175,
          0.30232129225633,
          0.44683838931872,
          0.27187373333935,
          0.54725394371336,
          0.32578067265197,
          0.52796431232922,
          0.33115795742372,
          0.30809788549839,
          0.43954055929478,
          0.44235480938852,
          0.50455380368885,
          0.42983467063836,
          0.38953051972136,
          0.38602540930886,
          0.32624537484356,
          0.28827863678088,
          0.55093066846896,
          0.35002992276634,
          0.37066602199049,
          0.43393639190948,
          0.43788376261095,
          0.40636920255547,
          0.32965059039153,
          0.44561487814448,
          0.3661089206931,
          0.3719823501619,
          0.37666429576719,
          0.30124294019478,
          0.52371910549857,
          0.28495584322094,
          0.45919737464205,
          0.40424775050496,
          0.35416738459313,
          0.31190611725041,
          0.46356499736451,
          0.6159715619689,
          0.29104250313597,
          0.46298004119914,
          0.33768271541296,
          0.23722605184652,
          0.36180533933234,
          0.27062419385722,
          0.27521442323004,
          0.30755354889661,
          0.55368916970291,
          0.45287664027687,
          0.53399329791978,
          0.36771519421521,
          0.34501393943078,
          0.53722752351838,
          0.26475232463148,
          0.40765475221172,
          0.27184678254679,
          0.39573426956194,
          0.22089945977732,
          0.48368309113513,
          0.22059305408653,
          0.50550538284819,
          0.34933534222323,
          0.25225070890474,
          0.4080753139672,
          0.36461128507546,
          0.45108094519859,
          0.39573947341777,
          0.32719119457174,
          0.29250041001651,
          0.30913861199345,
          0.29382190428575,
          0.5318027995849,
          0.30407718435885,
          0.35660264547012,
          0.41013136102711,
          0.37513791190474,
          0.33660931273223,
          0.27535163947266,
          0.38711087844952,
          0.33054895056744,
          0.31068781389694,
          0.34081607291854,
          0.27411413498801,
          0.5792460821838,
          0.2735017245958,
          0.42898446460682,
          0.376126573469,
          0.29978461274002,
          0.27671727316046,
          0.38729993019549,
          0.54750820736635,
          0.29055191084676,
          0.45920888996837,
          0.26849741631664,
          0.19619447807214,
          0.30228639063952,
          0.23477463570759,
          0.21902140748407,
          0.23255251390649,
          0.5129514212751,
          0.38199976561605,
          0.51842393878567,
          0.33735899350331,
          0.32611881979901,
          0.52099693011956,
          0.29342298069038,
          0.39511266742726,
          0.21840945128933,
          0.38404316434126,
          0.19345670769012,
          0.45878631545087,
          0.20378717928526,
          0.41701600994066,
          0.35939946318339,
          0.20514866746842,
          0.35400150784766,
          0.34926289561727,
          0.45349526872965,
          0.37238608230344,
          0.31266983543322,
          0.26988392192613,
          0.25927564192525,
          0.44206990956907,
          0.50504175890414,
          0.27304783080027,
          0.31325464028946,
          0.40537380632011,
          0.39495097565045,
          0.30896559417949,
          0.28799887592417,
          0.3752048665323,
          0.31549990197273,
          0.29395584977921,
          0.32344677099006,
          0.24777762123571,
          0.58436659477965,
          0.24938300458769,
          0.36330967530688,
          0.40631062737649,
          0.28790306679513,
          0.22718660290302,
          0.3986980074674,
          0.53670346676219,
          0.27596653302562,
          0.42899419372738,
          0.25397015909245,
          0.17001086237522,
          0.27240182936824,
          0.20927235296792,
          0.20465406687551,
          0.20875627308445,
          0.51365040795387,
          0.32165866848259,
          0.5050018822445,
          0.32209177423635,
          0.28164467518558,
          0.50462805859801,
          0.30790329864451,
          0.39554787844274,
          0.1959439093722,
          0.39471564861644,
          0.20717789925514,
          0.48280095674556,
          0.21077766698954,
          0.45387557640883,
          0.3728712320929,
          0.21974795589087,
          0.38763782470566,
          0.3984721410976,
          0.42807669044816,
          0.41652972836477,
          0.33497180744805,
          0.26859676792794,
          0.26338806822635,
          0.31958706752667,
          0.4911550170155,
          0.27072120177003,
          0.30166590460254,
          0.4184127075068,
          0.3927532002135,
          0.31193273992688,
          0.27231795942699,
          0.4290428373741,
          0.32846942762919,
          0.30501299387796,
          0.35324219284103,
          0.26530546144727,
          0.52997733574976,
          0.27008780176793,
          0.35897902104594,
          0.41410413077739,
          0.30581505659579,
          0.21611285093499,
          0.40422613139997,
          0.55351311100496,
          0.26967030683498,
          0.40232096876336,
          0.25110801089628,
          0.17149504500868,
          0.25387299966811,
          0.18599678765827,
          0.21472170504117,
          0.23162766262474,
          0.49171635845098,
          0.31372010386485,
          0.50043243831869,
          0.310684504027,
          0.2688182646202,
          0.47908050534138,
          0.315676534697,
          0.40892920995652,
          0.26508566503552,
          0.39162306519665,
          0.23057634703749,
          0.46815044558569,
          0.22492085047253,
          0.53769763392612,
          0.36798155672388,
          0.24006966397789,
          0.38894383824994,
          0.40020413580896,
          0.53466034658822,
          0.3905218150223,
          0.37635912995245,
          0.27820301694506,
          0.2830522646399,
          0.24612940618193,
          0.52513043863683,
          0.33075170268312,
          0.31914336667016,
          0.39724156321599,
          0.38516548838944,
          0.30202689793678,
          0.24569786548892,
          0.42694257331171,
          0.33523277241594,
          0.31420435991313,
          0.33996955667041,
          0.29007338721711,
          0.6078529018427,
          0.34480161462331,
          0.40471370559039,
          0.41194303871013,
          0.2920749507487,
          0.21101677422133,
          0.44320300482212,
          0.5680564861001,
          0.26262744538197,
          0.46183620017719,
          0.29567413442914,
          0.17038723171018,
          0.28942983422878,
          0.18790327535761,
          0.2271404591736,
          0.24149031280745,
          0.47333106446088,
          0.31397979764573,
          0.51023747260697,
          0.34583678939251,
          0.31390407915791,
          0.47766806632849,
          0.29373475471789,
          0.46667269271868,
          0.26588578864302,
          0.37999242647157,
          0.22707992264168,
          0.44914881670307,
          0.22403577070181,
          0.46225074906633,
          0.34129885432331,
          0.25580409257397,
          0.45415127202252,
          0.41951048976113,
          0.50567921224049,
          0.3721219795743,
          0.3871855253792,
          0.3220214425838,
          0.30220359719654,
          0.27244158895819,
          0.52301987539236,
          0.3653817609156,
          0.33701080619587,
          0.40747520421231,
          0.37692411844955,
          0.31032237603346,
          0.29225904311196,
          0.40180473649924,
          0.38438828538191,
          0.32252717522749,
          0.33570980368483,
          0.36587958591231,
          0.54764263363537,
          0.35082983294321,
          0.42341409454204,
          0.40199142935476,
          0.32365216429706,
          0.26895430667511,
          0.51040687606087,
          0.56644908808706,
          0.27743806512339,
          0.36709298120932,
          0.3390710099264,
          0.16908620741071,
          0.26972567283192,
          0.21284494456897,
          0.31702698466179,
          0.24572729053127,
          0.4946922833459,
          0.3717974024506,
          0.57295579570088,
          0.39061648530408,
          0.32922909132656,
          0.4980761794039,
          0.32647967502932,
          0.54643677130144,
          0.33119324677108,
          0.36809979673372,
          0.32433392584424,
          0.53242988013477,
          0.20530786982525,
          0.4257064827155,
          0.33734783201808,
          0.31114288336532,
          0.47868517257748,
          0.4874299201598,
          0.50459239242563,
          0.41795072174759,
          0.37533120913539,
          0.45706860640501,
          0.32724565144168,
          0.38597966049175,
          0.51355610254853,
          0.36375268011866,
          0.36281489684671,
          0.41270130455251,
          0.4560041172406,
          0.35968467627193,
          0.36817007642608,
          0.5266423224406,
          0.40124810156571,
          0.44754798571943,
          0.42662719747338,
          0.49364819348901,
          0.4929035509371,
          0.43804021420171,
          0.44890931934992,
          0.42687719731482,
          0.38145461432668,
          0.35934124622985,
          0.51320637562978,
          0.6445562015932,
          0.29780950769595,
          0.33753388119388,
          0.37999062929456,
          0.27624237602926,
          0.32128242898866,
          0.28828922975323,
          0.34834964461753,
          0.29182930835041,
          0.5831486557961,
          0.48229963973966,
          0.56722976017394,
          0.40518539026574,
          0.43883724528112,
          0.47070573148165,
          0.23198592128899,
          0.41214593702724,
          0.24843872373575,
          0.28578781206235,
          0.25731659647905,
          0.36643226519592,
          0.15549309907146,
          0.34893967081457,
          0.22675241530174,
          0.232795920796,
          0.3903637282854,
          0.39427405926187,
          0.39565187929793,
          0.31744986677567,
          0.24530776706427,
          0.35060432224135,
          0.23388634484955,
          0.35292313368808,
          0.41300989037122,
          0.3009845248741,
          0.30693035118407,
          0.27557410651419,
          0.36929175791232,
          0.25960622083167,
          0.27285938003263,
          0.46890152648908,
          0.31355991239572,
          0.36909388338826,
          0.4027238808627,
          0.40287426623673,
          0.37561038028885,
          0.34865004333093,
          0.28655305489189,
          0.34577767710978,
          0.23883997721389,
          0.29797364507243,
          0.38746716583811,
          0.50696757436992,
          0.26254057838711,
          0.26699823204092,
          0.28755590352387,
          0.20345725327857,
          0.22462967487014,
          0.21472117327015,
          0.25775271660841,
          0.20216478098768,
          0.45045936976669,
          0.34450379148435,
          0.46335784016046,
          0.30574477129709,
          0.32784812102856,
          0.45212386011349,
          0.20515408417013,
          0.34878242838844,
          0.2226487329302,
          0.24954086913857,
          0.21760653368368,
          0.33268291036762,
          0.16495848779061,
          0.3251137641893,
          0.17840466103248,
          0.2112814199272,
          0.31460030995244,
          0.34137273596491,
          0.33731415180248,
          0.28429581194902,
          0.21791687471004,
          0.30523283706765,
          0.20872539282928,
          0.29126455304091,
          0.3912174823591,
          0.27570991670369,
          0.29293843618813,
          0.26362175613923,
          0.33860160989056,
          0.23285288613517,
          0.23192086545068,
          0.40612439800612,
          0.24300663168626,
          0.3179906644997,
          0.36837950988282,
          0.29930485459871,
          0.34217695441391,
          0.3307441135692,
          0.22280027833986,
          0.33074453878592,
          0.21995443183835,
          0.26730634955354,
          0.33986095162704,
          0.4613728440459,
          0.21466775163848,
          0.25983286755898,
          0.24221353098539,
          0.16661918772548,
          0.18893184404903,
          0.17849062734301,
          0.21937241401735,
          0.18339796138917,
          0.40623294516227,
          0.29278657557348,
          0.41775118279915,
          0.26765664581219,
          0.2688003116609,
          0.47570789952988,
          0.2046433522086,
          0.33497017360283,
          0.20200894983416,
          0.25823685735169,
          0.20370763059117,
          0.3525365366484,
          0.16345459297908,
          0.31420655567488,
          0.16442226845339,
          0.18594813344053,
          0.33103425153153,
          0.34117172619336,
          0.30667876264716,
          0.2663452557943,
          0.20665630129009,
          0.3180344091447,
          0.21421057641141,
          0.24417520308339,
          0.41268644759065,
          0.28191148499806,
          0.2878164175717,
          0.25765040254522,
          0.35059223545073,
          0.2421427830781,
          0.22936931674614,
          0.4068584280742,
          0.23830527120208,
          0.30340136806162,
          0.34572681240971,
          0.27153394954832,
          0.32724508381203,
          0.28840213303789,
          0.22210443287585,
          0.31217490616324,
          0.22803777106096,
          0.25451910233925,
          0.3289555134005,
          0.428805149727,
          0.20419451125927,
          0.25567676933994,
          0.20582956152372,
          0.15917341613658,
          0.17257144244537,
          0.19291251388478,
          0.25630578697631,
          0.18449731690121,
          0.40046708695217,
          0.29460868128025,
          0.41411248387297,
          0.30820558601268,
          0.26598722463006,
          0.47007446704771,
          0.20789416110215,
          0.30681955345916,
          0.16748825856095,
          0.27595312853868,
          0.21258953404007,
          0.34380165788557,
          0.17075524132402,
          0.30572594969803,
          0.15625548517455,
          0.16087684070166,
          0.36675736585065,
          0.33448265397997,
          0.25833945835925,
          0.25488840498501,
          0.19546791510121,
          0.29914226692794,
          0.20580361083207,
          0.18948456027448,
          0.37024035816275,
          0.27962469237208,
          0.2783136895744,
          0.22509365429013,
          0.36749302079312,
          0.23127439833218,
          0.21607158585031,
          0.39604975378804,
          0.24451175903364,
          0.32714472418674,
          0.28831679207351,
          0.22587936288439,
          0.35187876644149,
          0.25393044178381,
          0.22902475479077,
          0.31053021487796,
          0.19912713946085,
          0.21818970855635,
          0.31535438421972,
          0.39739933700484,
          0.22369129996893,
          0.24136357844163,
          0.18816014959999,
          0.15672135819323,
          0.17308785673215,
          0.19257093794736,
          0.25841308903543,
          0.18030320838483,
          0.39540381615265,
          0.29518917229272,
          0.37263001154709,
          0.31977643943914,
          0.28224198118307,
          0.43368771767563,
          0.19192626296445,
          0.30774321755234,
          0.17749918787425,
          0.30776556260808,
          0.25232252450412,
          0.38071775491524,
          0.16318237727587,
          0.32618040750708,
          0.14297575816449,
          0.34779385380927,
          0.33170497625756,
          0.3216817705212,
          0.28676806853174,
          0.18825733920894,
          0.28344603027204,
          0.21471015518539,
          0.15678282912745,
          0.40413860237972,
          0.29158505898301,
          0.29472205066884,
          0.24515397027341,
          0.40683110142953,
          0.21669176057216,
          0.20082208178641,
          0.37561809231414,
          0.18576507359145,
          0.3106900795459,
          0.26689301213722,
          0.23537866888509,
          0.42070533397017,
          0.23965990062577,
          0.26547645058652,
          0.33126528210987,
          0.22000782487325,
          0.2115631960038,
          0.3012767063455,
          0.42761932374134,
          0.19361589514351,
          0.27478711071133,
          0.15244985779224,
          0.14816655937312,
          0.15600124434427,
          0.2117559051806,
          0.24131695899639,
          0.16698514762085,
          0.39638617033738,
          0.28789781320408,
          0.38664006852104,
          0.30670014483795,
          0.23423693078617,
          0.38370249942348,
          0.17827950086679,
          0.32558105692832,
          0.1659534492664,
          0.31960249674051,
          0.2846853636132,
          0.38465627064088,
          0.1516138598661,
          0.31941366362334,
          0.11670956889217,
          0.13626388656816,
          0.33165236162251,
          0.36379449946712,
          0.28603427744282,
          0.30159045123344,
          0.180677529222,
          0.24895763576788,
          0.22861627756581,
          0.16307423299055,
          0.4194319661739,
          0.27458362121992,
          0.29632486434446,
          0.2595233021335,
          0.39997457099545,
          0.21695689977745,
          0.17355278669865,
          0.37571270704817,
          0.12785449490698,
          0.39274938318668,
          0.23948780065755,
          0.20173254252124,
          0.433698039737,
          0.20878651900445,
          0.27720820080945,
          0.34804678226475,
          0.23151174598947,
          0.25972681597306,
          0.31031864904404,
          0.41264693244644,
          0.20059674138128,
          0.3072185981872,
          0.13126055442435,
          0.14588007160043,
          0.15572552118436,
          0.27054218965563,
          0.21117960017337,
          0.15717000902161,
          0.40006991009018,
          0.27257659486066,
          0.36845836274783,
          0.30394802444894,
          0.32192133749452,
          0.39585981365744,
          0.17086842933577,
          0.32263835819226,
          0.17157688399113,
          0.34599202330523,
          0.3077287950927,
          0.42459458083803,
          0.15580754281635,
          0.30294752882662,
          0.099619172423711,
          0.12337427236406,
          0.35690616967213,
          0.36776433899111,
          0.26870086950112,
          0.2999637749135,
          0.18571512966146,
          0.22935896670745,
          0.2242122293317,
          0.12160858469756,
          0.46771674050116,
          0.2838313049269,
          0.28634437776828,
          0.26413178406277,
          0.38905396180676,
          0.20404520645292,
          0.17565539180624,
          0.36798211893986,
          0.10885239316572,
          0.44405975241129,
          0.18410258334258,
          0.20548390486072,
          0.46890857878697,
          0.20123342223624,
          0.28672339051695,
          0.34606070757259,
          0.2182806808914,
          0.24851090969338,
          0.30931621530353,
          0.39621697734707,
          0.17386257790391,
          0.33123615377269,
          0.14687997604615,
          0.1478177185892,
          0.13381851792753,
          0.27960833692615,
          0.2131738317757,
          0.1648655500935,
          0.43398921137462,
          0.26392810439829,
          0.33766672443819,
          0.34413817608055,
          0.33307172541038,
          0.36031233440814,
          0.1819330696416,
          0.27972585962045,
          0.1742296746832,
          0.38095097699506,
          0.30276099373333,
          0.4440500120535,
          0.16808507846498,
          0.27353281109542,
          0.10422989258981,
          0.12236042823129,
          0.49566863905325,
          0.39996515098601,
          0.28575983369065,
          0.33414342036517,
          0.20240040799077,
          0.21241806793588,
          0.20006298977308,
          0.16581997219201,
          0.47011814822044,
          0.27521935047939,
          0.27329570435891,
          0.26541394863422,
          0.3968012286505,
          0.23715197342247,
          0.16898998597758,
          0.35717026163671,
          0.10348772170893,
          0.40537823099227,
          0.1866773423796,
          0.18347850732054,
          0.48459497516021,
          0.18725893887191,
          0.30357205922623,
          0.33931052357648,
          0.20521962529938,
          0.20245301551139,
          0.33683682765155,
          0.38105627694162,
          0.22734739491646,
          0.35670155978265,
          0.16875385392238,
          0.14303391597692,
          0.13953866685289,
          0.25017094545843,
          0.19491146568006,
          0.15547895964639,
          0.3966064424569,
          0.28042637008048,
          0.34499212152968,
          0.28095270440102,
          0.25405979524511,
          0.33464333646701,
          0.18889062170346,
          0.24585030112743,
          0.15734762161125,
          0.40123554888831,
          0.21530378031238,
          0.46702440586575,
          0.19422431657665,
          0.29859525581031,
          0.10728713690723,
          0.13305421185994,
          0.42230303741438,
          0.44162566798168,
          0.26034227592309,
          0.34279577697015,
          0.1823503219035,
          0.19701267519553,
          0.21436455958657,
          0.13174621212789,
          0.47243481351285,
          0.24470411395126,
          0.25182604020541,
          0.26321964788738,
          0.44748132476837,
          0.24466757100158,
          0.13953242993969,
          0.35255697189573,
          0.10367969658403,
          0.38549234510929,
          0.17046773926906,
          0.18051903259246,
          0.51480775063842,
          0.19408855293152,
          0.29913678371571,
          0.3469404430286,
          0.2014977996128,
          0.20815534731497,
          0.32306564617057,
          0.39147349486827,
          0.19356529740327,
          0.37800091107993,
          0.20916412011156,
          0.14010903083259,
          0.14042738878774,
          0.22360733898248,
          0.18571505678393,
          0.16087479095325,
          0.42986258032192,
          0.26504306254671,
          0.34235095726731,
          0.24252582853206,
          0.20030714171972,
          0.30910645367743,
          0.21690463077852,
          0.24474020690457,
          0.13816271519481,
          0.4054291906759,
          0.22393914955073,
          0.46436505186785,
          0.24876381619319,
          0.28875637235052,
          0.10884826014576,
          0.14020077331218,
          0.39017855819263,
          0.41755675526976,
          0.24392935320849,
          0.36377092421075,
          0.17710905766053,
          0.18555925915634,
          0.20489977879747,
          0.12449892908341,
          0.4925691636301,
          0.237732457503,
          0.26787988372413,
          0.26643849823032,
          0.39127151014375,
          0.21218662371968,
          0.11973273594183,
          0.35112460058091,
          0.094795305200953,
          0.37776739120181,
          0.13174809747735,
          0.16167468372643,
          0.56268291715061,
          0.18273250632562,
          0.28335997951012,
          0.34940469509109,
          0.20425377194039,
          0.23744928875624,
          0.34693713726486,
          0.38143055854626,
          0.17131125435427,
          0.41152638316408,
          0.22714908096186,
          0.13588614902734,
          0.14035816153581,
          0.24145671543935,
          0.2003490060687,
          0.15527111800026,
          0.48818423910256,
          0.27715668454639,
          0.31060165182792,
          0.27210524198074,
          0.19610773173376,
          0.83332899654687,
          0.5125840777555,
          0.6257617280757,
          0.49035665131835,
          0.95196301571311,
          0.6502833132135,
          0.97417064331191,
          1.2895650733843,
          0.72167940159084,
          0.43467262029246,
          1.2062303393088,
          0.93342694161494,
          0.92723482083573,
          0.45619588644736,
          0.66896794751188,
          0.61591722219979,
          0.67796935657346,
          0.80209370265565,
          0.91770723877532,
          0.89903045638892,
          0.64565424842932,
          1.1599810235283,
          0.78111644666346,
          1.0546150028833,
          0.58607530588876,
          0.81930289958799,
          0.81087497970338,
          0.45667768477637,
          0.78209996833821,
          0.60405127051167,
          0.66144383076629,
          0.71681231724382,
          0.77832543868529,
          0.84868301540043,
          1.0234679673733,
          0.61136985266935,
          0.7082283594411,
          0.84078556458856,
          0.87503215858905,
          1.1634893745907,
          0.76797650899521,
          0.76490824767948,
          0.47420867780227,
          0.56678540037861,
          0.66400580263381,
          0.53631511922319,
          0.67582733506757,
          1.2988424823891,
          0.71891477821181,
          0.7407936880207,
          0.70427197150859,
          0.50631343185882,
          0.40828243352112,
          0.19795207855625,
          0.33161013079936,
          0.22975105874546,
          0.42866496341158,
          0.31133048516548,
          0.42003027898729,
          0.63622287776463,
          0.33837293514108,
          0.20357189251709,
          0.51045773722947,
          0.4064677235148,
          0.36890202901848,
          0.22083362989684,
          0.47526671939412,
          0.34423155053115,
          0.34429568895669,
          0.41204866536548,
          0.34723262484844,
          0.42777951181386,
          0.25355248916307,
          0.32167871159758,
          0.3674544602956,
          0.65685332323007,
          0.30859849301198,
          0.30496064185102,
          0.43655251246448,
          0.15707550581594,
          0.35081387961517,
          0.26406472557427,
          0.27274056648603,
          0.39053993210514,
          0.3169164828617,
          0.50224756329433,
          0.43751997613245,
          0.28949695674058,
          0.34913952829835,
          0.44449592448006,
          0.47308261953493,
          0.33006245650372,
          0.48124103923839,
          0.33964930778935,
          0.18850846271224,
          0.25457781488838,
          0.25951524934183,
          0.25049612295235,
          0.28126026163146,
          0.58099768699917,
          0.37210333424177,
          0.51973687225711,
          0.34092149037786,
          0.22871300884546,
          0.28033838637558,
          0.090730472695192,
          0.18236476056299,
          0.12529229951183,
          0.41830460101615,
          0.21974750804164,
          0.27461583986161,
          0.18820669893595,
          0.16974636055435,
          0.11512414105984,
          0.23061997605203,
          0.2919394327317,
          0.23451217549722,
          0.17976596465677,
          0.25024074592849,
          0.19956393549573,
          0.1729547894111,
          0.12081587940605,
          0.13932711141895,
          0.37935467530428,
          0.18509677016646,
          0.24249706754713,
          0.21398061552013,
          0.52065359507675,
          0.19175565318682,
          0.11618501197934,
          0.3214099118151,
          0.084201531455066,
          0.30611363767198,
          0.15342057588563,
          0.11174902006499,
          0.49274506062489,
          0.21570613812055,
          0.19439675119233,
          0.35029301597454,
          0.1633311868169,
          0.19887792313093,
          0.26564920102093,
          0.27364428374826,
          0.20197248133036,
          0.40223637050101,
          0.14720352735054,
          0.14221309052208,
          0.10360677793638,
          0.17310871487806,
          0.18220987369731,
          0.10695091342028,
          0.30926801465685,
          0.2329863993855,
          0.27706521352059,
          0.21670947458743,
          0.16803516323839,
          0.25752923948659,
          0.16210600732159,
          0.20962315528437,
          0.18118094005813,
          0.4235679889213,
          0.27155905557038,
          0.42514165481209,
          0.24739332133091,
          0.22770352778857,
          0.11610048131653,
          0.18944505176572,
          0.40693757605572,
          0.22440258284942,
          0.20798658228967,
          0.30555431054552,
          0.19771153187605,
          0.14750693614766,
          0.097575256283041,
          0.16008499231876,
          0.51304773515204,
          0.29437003375761,
          0.30127152242365,
          0.24651651297538,
          0.55288703200763,
          0.18568680767517,
          0.17186748962066,
          0.35636816054959,
          0.11373596610024,
          0.30544531512995,
          0.17740860754393,
          0.15501435193426,
          0.48211088897557,
          0.26376097161896,
          0.24853935473963,
          0.40865145769532,
          0.21002240571024,
          0.16520451337306,
          0.37720415668878,
          0.36616635082676,
          0.22908648382616,
          0.51528415060516,
          0.18792345826592,
          0.17064642919526,
          0.13896056199153,
          0.21630053153701,
          0.24425713825883,
          0.13264553484314,
          0.4057876226322,
          0.31116331373749,
          0.28729058154534,
          0.23856081560381,
          0.20977543697187
         ],
         "yaxis": "y"
        },
        {
         "hovertemplate": "<b>OLS trendline</b><br>Recipiency Rate = 0.000362542 * Real Maximum WBA (regional, 2023 base) + 0.14525<br>R<sup>2</sup>=0.115557<br><br>Real Maximum WBA (regional, 2023 base)=%{x}<br>Recipiency Rate=%{y} <b>(trend)</b><extra></extra>",
         "legendgroup": "",
         "marker": {
          "color": "#636efa",
          "symbol": "circle"
         },
         "mode": "lines",
         "name": "",
         "showlegend": false,
         "type": "scattergl",
         "x": [
          154.92,
          157.4,
          160.8,
          163.76,
          165.31,
          165.49,
          167.58,
          169.86,
          173.17,
          178.45,
          181.97,
          182,
          189.26,
          194.11,
          201.13,
          208.46,
          215.68,
          218.46,
          221.75,
          232.63,
          235,
          240,
          245.57,
          248.28,
          250.3,
          265.59,
          266.63,
          270.34,
          275,
          275,
          275,
          275,
          280.16,
          280.24,
          282.56,
          282.86,
          286.97,
          287.37,
          287.37,
          287.37,
          287.37,
          287.48,
          293.36,
          294.47,
          295.22,
          297.31,
          298.3,
          299.36,
          301.63,
          302.14,
          302.67,
          305.1,
          307.25,
          308.34,
          310.68,
          312.01,
          312.01,
          312.01,
          312.03,
          313.76,
          314.65,
          317.57,
          318.13,
          318.63,
          318.97,
          319.72,
          319.82,
          320,
          320,
          322.94,
          323.54,
          323.61,
          324.99,
          326,
          327.85,
          327.85,
          327.85,
          327.97,
          328.02,
          329.17,
          329.17,
          329.57,
          329.61,
          330.58,
          330.81,
          331.01,
          331.01,
          332.17,
          333.81,
          334.46,
          334.9,
          334.94,
          335.82,
          335.82,
          336.84,
          336.84,
          337.58,
          340.27,
          340.66,
          340.71,
          341.31,
          341.65,
          342.09,
          342.4,
          342.4,
          343.29,
          343.29,
          343.97,
          346.1,
          346.32,
          346.44,
          346.47,
          350,
          350.32,
          350.32,
          351.09,
          351.09,
          351.35,
          351.87,
          351.99,
          353.57,
          353.84,
          354.19,
          354.19,
          355.18,
          358.72,
          359.31,
          359.43,
          359.54,
          359.54,
          359.54,
          362,
          363.67,
          365,
          365.15,
          365.15,
          365.64,
          365.74,
          366.21,
          366.37,
          366.48,
          366.54,
          369.62,
          369.88,
          370,
          370,
          371.69,
          372.87,
          372.87,
          375.21,
          375.77,
          376.95,
          377.83,
          378,
          378.31,
          378.41,
          379.78,
          380.54,
          381.16,
          381.41,
          381.7,
          382.19,
          384.03,
          384.07,
          384.22,
          385.71,
          385.71,
          385.88,
          386.2,
          387.13,
          388.65,
          389.71,
          390,
          390.43,
          390.63,
          390.63,
          390.75,
          391.05,
          392.2,
          392.2,
          392.37,
          392.4,
          392.79,
          393.62,
          395,
          395.57,
          396.47,
          397.11,
          397.21,
          397.21,
          398.1,
          399.61,
          400,
          400.16,
          401.39,
          402.98,
          402.98,
          403.56,
          403.77,
          404.17,
          404.83,
          405.03,
          405.8,
          406.14,
          406.85,
          406.85,
          406.95,
          407.27,
          407.76,
          409.09,
          410.27,
          411.03,
          411.05,
          411.95,
          411.95,
          412.36,
          412.92,
          412.98,
          413.46,
          414.13,
          414.77,
          415.29,
          415.5,
          416.12,
          416.77,
          416.85,
          417.26,
          417.99,
          418.68,
          418.68,
          419.14,
          419.88,
          419.97,
          420.38,
          420.38,
          420.66,
          421.28,
          421.36,
          421.94,
          421.94,
          423.38,
          423.57,
          423.82,
          424.28,
          424.28,
          425.03,
          425.03,
          425.83,
          426.1,
          426.22,
          426.43,
          426.78,
          427,
          427.41,
          428.88,
          430,
          430.49,
          431.34,
          431.45,
          431.45,
          432.2,
          432.24,
          432.75,
          432.86,
          432.91,
          432.91,
          433.59,
          434.82,
          434.92,
          435.15,
          435.61,
          435.85,
          436.89,
          436.91,
          437.18,
          438.18,
          438.18,
          440,
          440.56,
          441.3,
          441.73,
          441.77,
          441.87,
          442.02,
          443.07,
          443.2,
          443.21,
          443.22,
          443.41,
          443.92,
          444,
          444.27,
          445.28,
          445.86,
          446.55,
          446.72,
          446.97,
          447.44,
          447.44,
          448.27,
          448.38,
          448.38,
          448.38,
          448.7,
          449.34,
          450,
          450,
          450.64,
          450.79,
          450.94,
          451,
          452.08,
          452.69,
          452.95,
          453.27,
          453.51,
          453.84,
          454.07,
          454.55,
          454.99,
          455.12,
          455.13,
          455.36,
          455.74,
          456.53,
          456.69,
          456.74,
          456.81,
          456.86,
          457.25,
          457.32,
          457.52,
          457.67,
          457.69,
          458.22,
          458.4,
          458.4,
          458.92,
          459.41,
          459.44,
          459.67,
          459.67,
          459.76,
          459.76,
          459.9,
          460.72,
          460.72,
          461.3,
          461.57,
          461.6,
          462,
          462.38,
          462.69,
          462.86,
          462.86,
          463.07,
          463.07,
          463.78,
          463.97,
          464.11,
          464.3,
          464.56,
          464.78,
          464.93,
          465.26,
          466.62,
          466.62,
          467.18,
          467.42,
          467.43,
          467.43,
          468.03,
          468.47,
          468.72,
          468.75,
          468.75,
          468.84,
          469.31,
          469.37,
          469.82,
          470.02,
          470.36,
          470.38,
          470.38,
          470.56,
          470.64,
          470.64,
          470.66,
          470.68,
          470.68,
          471.27,
          471.28,
          471.87,
          472.26,
          472.52,
          473.42,
          474.69,
          474.69,
          475.13,
          475.47,
          475.62,
          476.42,
          476.66,
          476.68,
          476.68,
          476.87,
          477.15,
          477.17,
          477.65,
          477.73,
          477.98,
          478,
          478.05,
          478.31,
          478.93,
          479.23,
          479.45,
          479.73,
          479.78,
          480.29,
          481.07,
          481.53,
          482.19,
          482.62,
          483.14,
          483.53,
          483.71,
          483.72,
          484.32,
          485.01,
          485.09,
          485.41,
          485.66,
          485.77,
          486,
          486.28,
          486.36,
          486.59,
          486.76,
          486.85,
          487,
          487.54,
          487.68,
          487.7,
          487.87,
          488,
          488.22,
          488.44,
          488.63,
          488.75,
          488.81,
          488.97,
          489.15,
          489.19,
          489.31,
          489.83,
          490.2,
          490.23,
          490.59,
          490.9,
          490.96,
          491.18,
          491.84,
          492,
          493,
          493.05,
          493.2,
          493.36,
          493.78,
          494.21,
          494.64,
          494.69,
          495.09,
          495.7,
          495.81,
          495.9,
          496.18,
          496.36,
          496.78,
          496.86,
          496.86,
          497.37,
          497.4,
          497.43,
          497.94,
          498.13,
          498.18,
          498.38,
          498.8,
          498.99,
          499.55,
          499.59,
          499.65,
          500.17,
          500.18,
          500.22,
          500.95,
          501.44,
          501.6,
          501.91,
          501.99,
          502.03,
          502.41,
          502.41,
          502.51,
          502.52,
          502.99,
          503.01,
          503.32,
          503.37,
          503.53,
          503.76,
          503.82,
          504,
          504,
          504.03,
          504.14,
          504.29,
          504.41,
          504.67,
          504.82,
          505.34,
          505.45,
          505.48,
          505.76,
          505.97,
          506.58,
          506.59,
          506.65,
          506.65,
          506.88,
          506.93,
          507.09,
          508.01,
          508.02,
          508.08,
          508.24,
          508.31,
          508.63,
          508.81,
          508.9,
          509.34,
          509.46,
          509.58,
          509.67,
          509.94,
          509.96,
          510.3,
          510.36,
          510.89,
          511.17,
          511.25,
          511.54,
          511.66,
          511.7,
          511.77,
          511.99,
          512.18,
          512.2,
          512.39,
          512.53,
          512.64,
          512.78,
          513.19,
          513.37,
          513.44,
          513.53,
          513.83,
          514,
          514.49,
          515.23,
          515.45,
          515.46,
          515.62,
          515.63,
          515.74,
          516.22,
          516.25,
          516.32,
          516.61,
          516.64,
          516.99,
          517.13,
          517.23,
          517.58,
          517.63,
          517.77,
          518.05,
          518.28,
          518.31,
          519.49,
          519.52,
          519.59,
          519.98,
          520.06,
          520.09,
          520.2,
          520.41,
          521.21,
          521.39,
          521.52,
          521.75,
          522.59,
          523.05,
          523.26,
          523.39,
          523.63,
          523.78,
          523.81,
          524.16,
          524.31,
          524.31,
          524.63,
          525.1,
          525.63,
          525.63,
          525.75,
          526.47,
          526.71,
          526.81,
          527.04,
          527.21,
          527.32,
          527.45,
          527.54,
          527.74,
          528.23,
          528.53,
          528.63,
          528.66,
          528.93,
          529,
          529.14,
          529.29,
          529.33,
          529.35,
          529.44,
          529.8,
          530.05,
          530.06,
          530.18,
          530.22,
          530.22,
          530.36,
          530.36,
          530.54,
          530.57,
          530.72,
          531.12,
          531.28,
          531.3,
          531.65,
          531.89,
          532,
          532.53,
          532.62,
          532.85,
          533.47,
          533.57,
          533.71,
          534.51,
          534.65,
          534.72,
          534.8,
          535,
          535.08,
          535.33,
          535.5,
          535.65,
          535.72,
          536.01,
          536.06,
          536.66,
          536.78,
          536.93,
          536.93,
          537.25,
          537.67,
          538,
          538.02,
          538.06,
          538.36,
          538.52,
          538.8,
          538.89,
          538.97,
          539.02,
          539.02,
          539.09,
          539.48,
          539.77,
          540,
          540.13,
          540.28,
          540.4,
          541.23,
          541.55,
          541.63,
          541.67,
          541.94,
          541.96,
          542,
          542.5,
          542.58,
          542.59,
          542.75,
          542.78,
          542.86,
          542.92,
          543.1,
          543.31,
          543.4,
          543.53,
          543.97,
          544.05,
          544.22,
          544.71,
          544.71,
          545.14,
          545.16,
          545.18,
          545.33,
          545.42,
          545.64,
          545.72,
          546.1,
          546.47,
          546.47,
          546.56,
          547.08,
          547.12,
          547.33,
          547.56,
          547.77,
          547.81,
          547.81,
          548.37,
          548.68,
          549.02,
          549.02,
          549.12,
          549.13,
          549.14,
          549.4,
          549.49,
          549.84,
          550.04,
          550.16,
          550.4,
          550.75,
          550.9,
          551,
          551.04,
          551.19,
          551.5,
          551.86,
          551.88,
          552,
          552.03,
          552.07,
          552.17,
          552.29,
          552.3,
          552.36,
          552.36,
          552.65,
          552.75,
          552.85,
          553,
          553.25,
          553.36,
          553.54,
          553.73,
          553.81,
          553.83,
          554.12,
          554.21,
          554.35,
          555.35,
          555.7,
          555.87,
          555.87,
          555.97,
          556.11,
          556.12,
          556.61,
          556.82,
          557.73,
          558.25,
          558.45,
          558.89,
          559.06,
          559.68,
          560,
          560,
          560.11,
          560.34,
          560.54,
          560.56,
          560.66,
          561,
          561.03,
          561.9,
          562,
          562.2,
          562.52,
          562.55,
          562.57,
          562.61,
          562.68,
          562.69,
          562.69,
          562.74,
          562.99,
          562.99,
          563,
          563.67,
          563.77,
          563.86,
          564.45,
          565.14,
          565.43,
          565.65,
          565.71,
          566.1,
          566.51,
          566.57,
          566.6,
          569.1,
          569.19,
          569.45,
          569.58,
          569.98,
          570.14,
          570.23,
          570.57,
          570.86,
          570.96,
          571.38,
          572.06,
          572.06,
          572.78,
          572.92,
          573.01,
          573.69,
          574.08,
          574.52,
          574.58,
          574.85,
          574.9,
          575.06,
          575.27,
          576.16,
          576.31,
          576.79,
          578,
          578.13,
          578.46,
          578.53,
          578.59,
          579.49,
          579.55,
          579.85,
          580.07,
          580.36,
          580.87,
          580.97,
          581.48,
          581.58,
          581.6,
          582,
          582.08,
          583.03,
          583.05,
          583.06,
          583.3,
          583.71,
          583.71,
          584.22,
          584.29,
          584.31,
          584.38,
          585.59,
          585.74,
          585.78,
          586.13,
          586.83,
          587.61,
          588.29,
          588.3,
          589.49,
          589.65,
          589.84,
          590.77,
          591.09,
          591.86,
          592.49,
          592.58,
          592.74,
          593.26,
          594.59,
          594.61,
          594.7,
          595.13,
          597.78,
          598.09,
          598.91,
          599.31,
          599.66,
          600.63,
          602.32,
          602.96,
          603.12,
          603.12,
          603.25,
          603.26,
          604.03,
          604.24,
          604.7,
          605,
          606.56,
          606.65,
          606.81,
          607.01,
          608.9,
          610.19,
          611.51,
          612.12,
          612.45,
          612.45,
          614.16,
          614.5,
          614.68,
          615.42,
          617.79,
          617.91,
          617.94,
          618.55,
          618.75,
          619.5,
          621.12,
          621.64,
          623.65,
          624.33,
          625.52,
          625.91,
          626,
          626.72,
          627.11,
          627.64,
          629.55,
          630,
          630.3,
          631.1,
          631.26,
          632.57,
          632.68,
          632.97,
          633.17,
          634.44,
          634.78,
          634.96,
          635.31,
          636.65,
          636.67,
          637.18,
          637.84,
          638.42,
          639.64,
          639.8,
          639.91,
          639.95,
          640.59,
          641.22,
          641.9,
          642.58,
          643.31,
          643.44,
          644.3,
          644.52,
          644.96,
          645.15,
          645.58,
          648.33,
          648.44,
          648.54,
          649.15,
          649.23,
          649.67,
          649.89,
          650.8,
          653.45,
          655.91,
          655.96,
          656.28,
          656.53,
          656.72,
          656.76,
          657,
          657.07,
          657.68,
          657.76,
          658.08,
          658.79,
          660.25,
          660.48,
          660.95,
          662.65,
          662.78,
          662.86,
          663.29,
          663.46,
          663.75,
          663.93,
          664.58,
          665.43,
          665.95,
          666.13,
          666.49,
          666.94,
          667.8,
          667.93,
          668,
          669.85,
          669.9,
          670.61,
          670.79,
          670.92,
          671.97,
          672.4,
          672.93,
          673,
          673.78,
          674.35,
          675,
          675.26,
          675.56,
          675.56,
          675.96,
          676.1,
          676.92,
          677.34,
          678.23,
          678.26,
          678.28,
          678.65,
          679.01,
          680,
          681.98,
          682.12,
          682.18,
          682.62,
          682.85,
          683.25,
          683.38,
          683.79,
          683.81,
          684.3,
          684.48,
          685.58,
          686.08,
          686.64,
          687.3,
          687.94,
          687.94,
          689.17,
          689.37,
          691.21,
          691.93,
          692.44,
          692.55,
          693.11,
          694.99,
          695.4,
          696.17,
          696.89,
          698.65,
          699.48,
          699.68,
          700.11,
          701.32,
          702,
          703,
          703.13,
          703.48,
          704.26,
          704.53,
          705.51,
          706.08,
          706.54,
          707.57,
          708.31,
          708.44,
          708.64,
          709.86,
          710.09,
          711.88,
          712,
          712.18,
          712.97,
          713.16,
          713.31,
          714.97,
          716.94,
          717.42,
          717.43,
          717.73,
          719.56,
          719.77,
          720.51,
          721.74,
          721.98,
          722.41,
          722.55,
          722.6,
          722.63,
          722.84,
          722.85,
          724.79,
          724.82,
          725.28,
          725.36,
          725.47,
          727.99,
          728.84,
          730.01,
          730.75,
          731.36,
          731.37,
          731.58,
          731.71,
          731.79,
          731.79,
          732.58,
          732.66,
          733.29,
          733.31,
          733.37,
          734.24,
          734.98,
          736.29,
          737.58,
          738.11,
          739.1,
          739.92,
          739.95,
          740.19,
          740.6,
          740.69,
          742.97,
          743.57,
          743.62,
          743.87,
          744.66,
          744.75,
          746.06,
          746.21,
          747.45,
          749.12,
          750.03,
          752.58,
          754.52,
          754.63,
          756.73,
          756.83,
          758.07,
          759.29,
          760.38,
          760.65,
          761.42,
          762.72,
          762.91,
          762.91,
          763,
          763.45,
          764.46,
          766.31,
          768.01,
          770.28,
          770.6,
          771.08,
          774.94,
          778.62,
          780.32,
          780.85,
          781.52,
          783,
          786.24,
          788.14,
          790.48,
          791.58,
          796.22,
          798.45,
          799.03,
          800.62,
          803.8,
          805.03,
          805.95,
          806.54,
          807.55,
          808.93,
          808.94,
          810.7,
          811.42,
          811.69,
          812.46,
          813.77,
          817,
          818.22,
          818.36,
          818.5,
          819.8,
          819.82,
          821.05,
          822.17,
          829.41,
          830,
          831.74,
          832.24,
          833.96,
          841.21,
          843.93,
          843.94,
          848.85,
          849.23,
          851.65,
          853.66,
          859.23,
          865.72,
          868.07,
          868.5,
          869.64,
          877.05,
          888.97,
          897.09,
          897.18,
          910.09,
          926.01,
          930.09,
          946.15,
          946.27,
          950.68,
          968.87,
          999,
          1007.61,
          1015
         ],
         "xaxis": "x",
         "y": [
          0.2014146974002683,
          0.20231380236424107,
          0.20354644626646184,
          0.20461957154604224,
          0.20518151214852523,
          0.2052467697668781,
          0.20600448322441967,
          0.20683107972355594,
          0.20803109481660026,
          0.20994531828828422,
          0.21122146726940688,
          0.2112323435391324,
          0.21386440081269786,
          0.21562273108498334,
          0.218167778200745,
          0.22082521343700326,
          0.22344276901760146,
          0.224450636678829,
          0.22564340092538965,
          0.22958786141249604,
          0.23044708672080877,
          0.2322597983417216,
          0.23427915908741853,
          0.23526164878595332,
          0.23599398428080212,
          0.24153725641755364,
          0.24191430043470352,
          0.24325933245742087,
          0.24494877968811168,
          0.24494877968811168,
          0.24494877968811168,
          0.24494877968811168,
          0.24681949808089376,
          0.24684850146682835,
          0.24768959965893195,
          0.2477983623561867,
          0.2492884113085771,
          0.2494334282382501,
          0.2494334282382501,
          0.2494334282382501,
          0.2494334282382501,
          0.2494733078939102,
          0.2516050567601037,
          0.2520074787399464,
          0.2522793854830833,
          0.25303709894062487,
          0.2533960158415656,
          0.2537803107051992,
          0.2546032817810936,
          0.2547881783664267,
          0.2549803257982435,
          0.2558613036460071,
          0.25664076964299964,
          0.25703594077635866,
          0.2578842898149459,
          0.2583664711061087,
          0.2583664711061087,
          0.2583664711061087,
          0.25837372195259234,
          0.25900092017342824,
          0.2593235828419507,
          0.2603822064285638,
          0.26058523013010604,
          0.26076650129219736,
          0.26088976568241945,
          0.2611616724255564,
          0.2611979266579746,
          0.26126318427632744,
          0.26126318427632744,
          0.26232905870942425,
          0.2625465841039338,
          0.2625719620666266,
          0.2630722704739985,
          0.2634384382214229,
          0.26410914152116066,
          0.26410914152116066,
          0.26410914152116066,
          0.2641526466000626,
          0.26417077371627173,
          0.26458769738908167,
          0.26458769738908167,
          0.26473271431875467,
          0.264747216011722,
          0.2650988820661791,
          0.2651822668007411,
          0.2652547752655776,
          0.2652547752655776,
          0.2656753243616294,
          0.2662698937732888,
          0.26650554628400747,
          0.2666650649066478,
          0.2666795665996151,
          0.26699860384489577,
          0.26699860384489577,
          0.267368397015562,
          0.267368397015562,
          0.2676366783354571,
          0.2686119171875082,
          0.26875330869393943,
          0.26877143581014856,
          0.2689889612046581,
          0.2691122255948802,
          0.2692717442175205,
          0.2693841323380171,
          0.2693841323380171,
          0.2697067950065396,
          0.2697067950065396,
          0.2699533237869838,
          0.2707255389374926,
          0.27080529824881283,
          0.2708488033277147,
          0.2708596795974402,
          0.27213945400180467,
          0.2722554675455431,
          0.2722554675455431,
          0.2725346251351637,
          0.2725346251351637,
          0.27262888613945113,
          0.2728174081480261,
          0.27286091322692796,
          0.2734337300991364,
          0.27353161652666574,
          0.27365850634012967,
          0.27365850634012967,
          0.27401742324107037,
          0.2753008230686767,
          0.2755147230399444,
          0.27555822811884634,
          0.27559810777450644,
          0.27559810777450644,
          0.27559810777450644,
          0.27648996189199554,
          0.27709540757338047,
          0.27757758886454326,
          0.27763197021317065,
          0.27763197021317065,
          0.27780961595202014,
          0.2778458701844384,
          0.27801626507680416,
          0.2780742718486734,
          0.2781141515043335,
          0.2781359040437844,
          0.2792525344022667,
          0.2793467954065542,
          0.2793903004854561,
          0.2793903004854561,
          0.28000299701332465,
          0.28043079695586015,
          0.28043079695586015,
          0.28127914599444737,
          0.2814821696959896,
          0.281909969638525,
          0.2822290068838057,
          0.2822906390789167,
          0.28240302719941335,
          0.2824392814318316,
          0.2829359644159617,
          0.28321149658234046,
          0.2834362728233336,
          0.28352690840437933,
          0.28363204567839223,
          0.28380969141724166,
          0.2844767692937376,
          0.2844912709867049,
          0.28454565233533236,
          0.2850858403983644,
          0.2850858403983644,
          0.2851474725934754,
          0.2852634861372138,
          0.2856006504987036,
          0.28615171483146107,
          0.28653600969509463,
          0.2866411469691076,
          0.2867970401685061,
          0.2868695486333426,
          0.2868695486333426,
          0.2869130537122445,
          0.2870218164094993,
          0.28743874008230924,
          0.28743874008230924,
          0.2875003722774203,
          0.28751124854714577,
          0.28765264005357694,
          0.2879535501826485,
          0.2884538585900205,
          0.28866050771480456,
          0.28898679580656883,
          0.28921882289404566,
          0.2892550771264639,
          0.2892550771264639,
          0.28957773979498647,
          0.29012517870450216,
          0.29026657021093333,
          0.29032457698280256,
          0.2907705040415471,
          0.2913469463369974,
          0.2913469463369974,
          0.2915572208850233,
          0.2916333547731016,
          0.29177837170277465,
          0.29201764963673515,
          0.2920901581015717,
          0.2923693156911923,
          0.2924925800814143,
          0.29274998513158396,
          0.29274998513158396,
          0.29278623936400217,
          0.29290225290774063,
          0.2930798986465901,
          0.2935620799377529,
          0.29398987988028835,
          0.2942654120466671,
          0.2942726628931508,
          0.29459895098491506,
          0.29459895098491506,
          0.29474759333782996,
          0.2949506170393722,
          0.2949723695788231,
          0.29514638989443076,
          0.2953892932516331,
          0.2956213203391099,
          0.29580984234768487,
          0.2958859762357632,
          0.2961107524767564,
          0.29634640498747505,
          0.2963754083734097,
          0.29652405072632454,
          0.29678870662297785,
          0.29703886082666375,
          0.29703886082666375,
          0.2972056302957877,
          0.2974739116156829,
          0.29750654042485936,
          0.29765518277777414,
          0.29765518277777414,
          0.29775669462854526,
          0.29798147086953847,
          0.2980104742554731,
          0.29822074880349897,
          0.29822074880349897,
          0.29874280975032186,
          0.29881169279191655,
          0.2989023283729622,
          0.2990690978420862,
          0.2990690978420862,
          0.2993410045852231,
          0.2993410045852231,
          0.2996310384445692,
          0.29972892487209846,
          0.2997724299510004,
          0.29984856383907876,
          0.29997545365254263,
          0.3000552129638628,
          0.3002038553167776,
          0.300736792533326,
          0.30114283993641056,
          0.30132048567526,
          0.3016286466508151,
          0.3016685263064752,
          0.3016685263064752,
          0.30194043304961216,
          0.3019549347425795,
          0.30213983132791256,
          0.30217971098357266,
          0.30219783809978185,
          0.30219783809978185,
          0.3024443668802259,
          0.3028902939389705,
          0.30292654817138875,
          0.3030099329059508,
          0.30317670237507477,
          0.30326371253287854,
          0.3036407565500284,
          0.3036480073965121,
          0.3037458938240414,
          0.30410843614822397,
          0.30410843614822397,
          0.30476826317823624,
          0.3049712868797785,
          0.30523956819967357,
          0.30539546139907214,
          0.3054099630920394,
          0.30544621732445765,
          0.30550059867308504,
          0.3058812681134767,
          0.3059283986156205,
          0.3059320240388623,
          0.30593564946210416,
          0.30600453250369886,
          0.3061894290890319,
          0.30621843247496655,
          0.30631631890249583,
          0.30668248664992026,
          0.3068927611979461,
          0.3071429154016321,
          0.30720454759674315,
          0.3072951831777888,
          0.3074655780701546,
          0.3074655780701546,
          0.30776648819922614,
          0.30780636785488624,
          0.30780636785488624,
          0.30780636785488624,
          0.3079223813986246,
          0.3081544084861015,
          0.308393686420062,
          0.308393686420062,
          0.3086257135075388,
          0.3086800948561662,
          0.3087344762047936,
          0.3087562287442446,
          0.3091477744543617,
          0.3093689252721131,
          0.30946318627640057,
          0.309579199820139,
          0.3096662099779428,
          0.30978584894492306,
          0.30986923367948505,
          0.3100432539950927,
          0.310202772617733,
          0.31024990311987677,
          0.3102535285431186,
          0.31033691327768054,
          0.3104746793608699,
          0.3107610877969742,
          0.3108190945688434,
          0.3108372216850525,
          0.3108625996477453,
          0.3108807267639544,
          0.3110221182703856,
          0.3110474962330784,
          0.3111200046979149,
          0.31117438604654235,
          0.31118163689302597,
          0.31137378432484275,
          0.3114390419431956,
          0.3114390419431956,
          0.31162756395177055,
          0.31180520969062,
          0.3118160859603455,
          0.3118994706949075,
          0.3118994706949075,
          0.31193209950408385,
          0.31193209950408385,
          0.31198285542946946,
          0.31228014013529914,
          0.31228014013529914,
          0.31249041468332506,
          0.31258830111085434,
          0.31259917738057985,
          0.31274419431025285,
          0.31288196039344224,
          0.3129943485139388,
          0.3130559807090499,
          0.3130559807090499,
          0.3131321145971282,
          0.3131321145971282,
          0.31338951964729783,
          0.3134584026888925,
          0.3135091586142781,
          0.3135780416558728,
          0.3136723026601602,
          0.3137520619714804,
          0.31380644332010776,
          0.31392608228708807,
          0.3144191398479763,
          0.3144191398479763,
          0.31462216354951855,
          0.31470917370732243,
          0.31471279913056427,
          0.31471279913056427,
          0.31493032452507375,
          0.31508984314771415,
          0.31518047872875976,
          0.3151913549984852,
          0.3151913549984852,
          0.31522398380766165,
          0.31539437870002746,
          0.3154161312394784,
          0.31557927528536056,
          0.3156517837501971,
          0.3157750481404192,
          0.3157822989869028,
          0.3157822989869028,
          0.31584755660525565,
          0.31587655999119024,
          0.31587655999119024,
          0.3158838108376739,
          0.3158910616841576,
          0.3158910616841576,
          0.31610496165542534,
          0.3161085870786671,
          0.3163224870499348,
          0.31646387855636604,
          0.3165581395606535,
          0.31688442765241787,
          0.3173448564041297,
          0.3173448564041297,
          0.31750437502677004,
          0.3176276394169921,
          0.31768202076561947,
          0.3179720546249656,
          0.31805906478276935,
          0.318066315629253,
          0.318066315629253,
          0.3181351986708477,
          0.31823671052161884,
          0.3182439613681025,
          0.3184179816837101,
          0.31844698506964475,
          0.31853762065069036,
          0.31854487149717403,
          0.31856299861338316,
          0.31865725961767066,
          0.3188820358586638,
          0.3189907985559186,
          0.31907055786723876,
          0.3191720697180099,
          0.319190196834219,
          0.3193750934195521,
          0.3196578764324145,
          0.3198246459015385,
          0.320063923835499,
          0.32021981703489755,
          0.32040833904347243,
          0.32054973054990366,
          0.3206149881682565,
          0.32061861359149835,
          0.3208361389860079,
          0.32108629318969384,
          0.32111529657562843,
          0.3212313101193669,
          0.3213219457004125,
          0.3213618253560726,
          0.32144521009063465,
          0.3215467219414057,
          0.32157572532734036,
          0.3216591100619023,
          0.32172074225701336,
          0.32175337106618984,
          0.3218077524148172,
          0.32200352526987575,
          0.32205428119526136,
          0.322061532041745,
          0.32212316423685605,
          0.3221702947389997,
          0.3222500540503199,
          0.3223298133616401,
          0.32239869640323476,
          0.32244220148213665,
          0.3224639540215877,
          0.32252196079345685,
          0.3225872184118097,
          0.32260172010477706,
          0.32264522518367894,
          0.3228337471922539,
          0.32296788785220143,
          0.32297876412192694,
          0.32310927935863265,
          0.32322166747912917,
          0.3232434200185802,
          0.32332317932990035,
          0.3235624572638608,
          0.3236204640357301,
          0.3239830063599126,
          0.32400113347612175,
          0.32405551482474915,
          0.3241135215966183,
          0.32426578937277506,
          0.3244216825721735,
          0.32457757577157204,
          0.32459570288778117,
          0.3247407198174542,
          0.32496187063520554,
          0.32500175029086564,
          0.32503437910004207,
          0.3251358909508132,
          0.32520114856916604,
          0.3253534163453228,
          0.32538241973125737,
          0.32538241973125737,
          0.32556731631659047,
          0.32557819258631593,
          0.32558906885604144,
          0.3257739654413745,
          0.3258428484829692,
          0.32586097559917837,
          0.3259334840640149,
          0.3260857518401715,
          0.3261546348817662,
          0.32635765858330845,
          0.3263721602762758,
          0.3263939128157267,
          0.3265824348243017,
          0.3265860602475435,
          0.3266005619405108,
          0.32686521783716405,
          0.32704286357601353,
          0.32710087034788277,
          0.32721325846837934,
          0.32724226185431393,
          0.3272567635472813,
          0.32739452963047067,
          0.32739452963047067,
          0.32743078386288893,
          0.3274344092861307,
          0.3276048041784965,
          0.32761205502498014,
          0.3277244431454768,
          0.3277425702616859,
          0.32780057703355514,
          0.32788396176811707,
          0.3279057143075681,
          0.32797097192592095,
          0.32797097192592095,
          0.32798184819564635,
          0.32802172785130645,
          0.3280761091999339,
          0.3281196142788358,
          0.3282138752831233,
          0.32826825663175063,
          0.3284567786403256,
          0.3284966582959856,
          0.32850753456571113,
          0.32860904641648225,
          0.3286851803045606,
          0.32890633112231193,
          0.32890995654555377,
          0.32893170908500474,
          0.32893170908500474,
          0.32901509381956673,
          0.32903322093577586,
          0.3290912277076451,
          0.32942476664589304,
          0.3294283920691349,
          0.3294501446085858,
          0.329508151380455,
          0.32953352934314784,
          0.32964954288688625,
          0.3297148005052391,
          0.32974742931441553,
          0.3299069479370559,
          0.32995045301595777,
          0.32999395809485965,
          0.33002658690403613,
          0.3301244733315654,
          0.33013172417804904,
          0.3302549885682712,
          0.3302767411077221,
          0.3304688885395388,
          0.33057040039031,
          0.3305994037762446,
          0.33070454105025754,
          0.3307480461291594,
          0.3307625478221268,
          0.3307879257848195,
          0.33086768509613973,
          0.33093656813773437,
          0.33094381898421804,
          0.3310127020258127,
          0.3310634579511983,
          0.3311033376068584,
          0.3311540935322439,
          0.3313027358851588,
          0.33136799350351165,
          0.3313933714662044,
          0.3314260002753808,
          0.3315347629726356,
          0.33159639516774664,
          0.3317740409065961,
          0.3320423222264912,
          0.3321220815378114,
          0.33212570696105326,
          0.33218371373292244,
          0.3321873391561643,
          0.3322272188118244,
          0.33240123912743197,
          0.3324121153971574,
          0.33243749335985023,
          0.3325426306338632,
          0.33255350690358865,
          0.3326803967170525,
          0.33273115264243813,
          0.3327674068748564,
          0.33289429668832027,
          0.3329124238045294,
          0.33296317972991496,
          0.3330646915806861,
          0.33314807631524807,
          0.3331589525849735,
          0.333586752527509,
          0.3335976287972344,
          0.3336230067599273,
          0.33376439826635845,
          0.33379340165229304,
          0.3338042779220185,
          0.3338441575776786,
          0.33392029146575697,
          0.33421032532510303,
          0.33427558294345583,
          0.3343227134455996,
          0.3344060981801616,
          0.334710633732475,
          0.3348774032015989,
          0.3349535370896773,
          0.335000667591821,
          0.33508767774962483,
          0.33514205909825223,
          0.3351529353679777,
          0.3352798251814416,
          0.33533420653006896,
          0.33533420653006896,
          0.3354502200738074,
          0.33562061496617324,
          0.33581276239798996,
          0.33581276239798996,
          0.3358562674768919,
          0.3361172979503033,
          0.3362043081081072,
          0.3362405623405254,
          0.3363239470750874,
          0.33638557927019846,
          0.3364254589258585,
          0.3364725894280023,
          0.3365052182371787,
          0.33657772670201525,
          0.3367553724408647,
          0.3368641351381194,
          0.3369003893705377,
          0.3369112656402632,
          0.3370091520677925,
          0.3370345300304852,
          0.33708528595587084,
          0.3371396673044982,
          0.33715416899746553,
          0.33716141984394915,
          0.33719404865312563,
          0.3373245638898313,
          0.33741519947087695,
          0.3374188248941188,
          0.33746232997302067,
          0.33747683166598796,
          0.33747683166598796,
          0.3375275875913736,
          0.3375275875913736,
          0.33759284520972643,
          0.33760372147945195,
          0.3376581028280793,
          0.33780311975775235,
          0.3378611265296215,
          0.33786837737610514,
          0.33799526718956907,
          0.3380822773473729,
          0.33812215700303294,
          0.3383143044348497,
          0.3383469332440262,
          0.33843031797858814,
          0.3386550942195814,
          0.33869134845199966,
          0.33874210437738517,
          0.33903213823673123,
          0.3390828941621168,
          0.3391082721248096,
          0.33913727551074413,
          0.33920978397558066,
          0.3392387873615153,
          0.33932942294256097,
          0.339391055137672,
          0.3394454364862993,
          0.3394708144489922,
          0.3395759517230051,
          0.3395940788392142,
          0.33981160423372375,
          0.33985510931262564,
          0.33990949066125303,
          0.33990949066125303,
          0.34002550420499145,
          0.3401777719811482,
          0.3402974109481284,
          0.34030466179461205,
          0.34031916348757935,
          0.34042792618483414,
          0.3404859329567034,
          0.3405874448074745,
          0.3406200736166509,
          0.3406490770025855,
          0.34066720411879464,
          0.34066720411879464,
          0.34069258208148745,
          0.3408339735879186,
          0.34093911086193157,
          0.34102249559649356,
          0.3410696260986373,
          0.3411240074472647,
          0.3411675125261666,
          0.34146842265523814,
          0.3415844361989765,
          0.34161343958491114,
          0.34162794127787843,
          0.34172582770540777,
          0.3417330785518914,
          0.34174758024485874,
          0.34192885140694995,
          0.34195785479288465,
          0.34196148021612643,
          0.34201948698799567,
          0.34203036325772107,
          0.3420593666436557,
          0.3420811191831067,
          0.34214637680145954,
          0.34222251068953785,
          0.34225513949871433,
          0.342302270000858,
          0.3424617886234984,
          0.342490792009433,
          0.342552424204544,
          0.3427300699433935,
          0.3427300699433935,
          0.34288596314279196,
          0.34289321398927564,
          0.3429004648357593,
          0.34295484618438665,
          0.3429874749935631,
          0.3430672343048833,
          0.3430962376908179,
          0.34323400377400726,
          0.3433681444339548,
          0.3433681444339548,
          0.34340077324313123,
          0.34358929525170623,
          0.34360379694467347,
          0.34367993083275183,
          0.34376331556731377,
          0.34383944945539213,
          0.3438539511483594,
          0.3438539511483594,
          0.3440569748499017,
          0.34416936297039824,
          0.3442926273606204,
          0.3442926273606204,
          0.34432888159303865,
          0.3443325070162805,
          0.34433613243952227,
          0.34443039344380977,
          0.3444630222529862,
          0.34458991206645007,
          0.3446624205312866,
          0.3447059256101885,
          0.3447929357679923,
          0.34491982558145623,
          0.3449742069300836,
          0.3450104611625019,
          0.34502496285546913,
          0.3450793442040966,
          0.34519173232459316,
          0.3453222475612989,
          0.3453294984077825,
          0.3453730034866844,
          0.34538387975640994,
          0.34539838144937723,
          0.34543463568179544,
          0.3454781407606974,
          0.3454817661839392,
          0.34550351872339014,
          0.34550351872339014,
          0.3456086559974031,
          0.34564491022982136,
          0.3456811644622396,
          0.345735545810867,
          0.3458261813919127,
          0.3458660610475728,
          0.3459313186659256,
          0.3460002017075203,
          0.34602920509345486,
          0.3460364559399386,
          0.3461415932139515,
          0.346174222023128,
          0.3462249779485135,
          0.34658752027269607,
          0.34671441008616,
          0.346776042281271,
          0.346776042281271,
          0.3468122965136893,
          0.3468630524390748,
          0.3468666778623166,
          0.3470443236011661,
          0.34712045748924447,
          0.3474503710042506,
          0.3476388930128255,
          0.34771140147766205,
          0.34787092010030235,
          0.3479325522954134,
          0.3481573285364066,
          0.34827334208014504,
          0.34827334208014504,
          0.34831322173580515,
          0.3483966064703671,
          0.3484691149352036,
          0.3484763657816873,
          0.34851262001410555,
          0.3486358844043276,
          0.3486467606740531,
          0.3489621724960919,
          0.34899842672851017,
          0.3490709351933467,
          0.3491869487370851,
          0.34919782500681057,
          0.34920507585329424,
          0.34921957754626154,
          0.3492449555089543,
          0.34924858093219613,
          0.34924858093219613,
          0.3492667080484053,
          0.3493573436294509,
          0.3493573436294509,
          0.34936096905269276,
          0.34960387240989504,
          0.3496401266423133,
          0.3496727554514898,
          0.3498866554227575,
          0.35013680962644345,
          0.3502419469004564,
          0.35032170621177655,
          0.3503434587512275,
          0.35048485025765874,
          0.3506334926105736,
          0.35065524515002455,
          0.35066612141975,
          0.35157247723020646,
          0.3516051060393829,
          0.35169936704367033,
          0.3517464975458141,
          0.3518915144754871,
          0.35194952124735635,
          0.35198215005653277,
          0.3521054144467548,
          0.35221055172076776,
          0.352246805953186,
          0.3523990737293427,
          0.3526456025097868,
          0.3526456025097868,
          0.3529066329831983,
          0.35295738890858386,
          0.3529900177177603,
          0.35323654649820446,
          0.3533779380046357,
          0.353537456627276,
          0.35355920916672695,
          0.35365709559425623,
          0.35367522271046536,
          0.35373322948233454,
          0.3538093633704129,
          0.3541320260389354,
          0.3541864073875628,
          0.35436042770317044,
          0.35479910391543135,
          0.35484623441757507,
          0.3549658733845553,
          0.35499125134724807,
          0.3550130038866991,
          0.35533929197846337,
          0.3553610445179143,
          0.3554698072151691,
          0.3555495665264893,
          0.35565470380050224,
          0.3558396003858353,
          0.35587585461825355,
          0.3560607512035867,
          0.356097005436005,
          0.35610425628248865,
          0.3562492732121616,
          0.35627827659809624,
          0.35662269180606965,
          0.3566299426525533,
          0.35663356807579516,
          0.35672057823359893,
          0.3568692205865138,
          0.3568692205865138,
          0.357054117171847,
          0.35707949513453974,
          0.35708674598102336,
          0.35711212394371616,
          0.35755080015597707,
          0.35760518150460446,
          0.35761968319757176,
          0.35774657301103563,
          0.3580003526379635,
          0.35828313565082587,
          0.35852966443127,
          0.3585332898545118,
          0.3589647152202891,
          0.35902272199215834,
          0.35909160503375304,
          0.3594287693952428,
          0.35954478293898123,
          0.3598239405286018,
          0.3600523421928368,
          0.3600849710020133,
          0.3601429777738825,
          0.3603314997824574,
          0.3608136810736202,
          0.3608209319201039,
          0.3608535607292803,
          0.3610094539286788,
          0.3619701910877626,
          0.36208257920825926,
          0.36237986391408894,
          0.36252488084376194,
          0.36265177065722587,
          0.363003436711683,
          0.36361613323955155,
          0.3638481603270284,
          0.36390616709889756,
          0.36390616709889756,
          0.36395329760104134,
          0.3639569230242831,
          0.36423608061390367,
          0.36431221450198203,
          0.36447898397110606,
          0.3645877466683608,
          0.3651533126940856,
          0.36518594150326206,
          0.3652439482751313,
          0.3653164567399678,
          0.36600166173267284,
          0.3664693413308684,
          0.3669478971987894,
          0.3671690480165407,
          0.367288686983521,
          0.367288686983521,
          0.36790863435787313,
          0.3680318987480953,
          0.36809715636644813,
          0.3683654376863432,
          0.36922466299465595,
          0.36926816807355783,
          0.3692790443432833,
          0.36950019516103466,
          0.3695727036258712,
          0.3698446103690081,
          0.37043192893418386,
          0.37062045094275886,
          0.37134916101436577,
          0.37159568979480995,
          0.3720271151605872,
          0.3721685066670184,
          0.3722011354761948,
          0.37246216594960635,
          0.3726035574560375,
          0.3727957048878543,
          0.37348816072704294,
          0.37365130477292513,
          0.37376006747017987,
          0.374050101329526,
          0.37410810810139516,
          0.37458303854607433,
          0.37462291820173443,
          0.3747280554757474,
          0.3748005639405839,
          0.3752609926922958,
          0.3753842570825178,
          0.37544951470087073,
          0.3755764045143346,
          0.3760622112287393,
          0.37606946207522285,
          0.376254358660556,
          0.3764936365945165,
          0.3767039111425424,
          0.37714621277804516,
          0.37720421954991434,
          0.37724409920557445,
          0.3772586008985418,
          0.3774906279860186,
          0.3777190296502536,
          0.3779655584306978,
          0.37821208721114197,
          0.37847674310779517,
          0.37852387360993894,
          0.3788356600087359,
          0.3789154193200561,
          0.3790749379426964,
          0.3791438209842911,
          0.3792997141836897,
          0.3802967055751917,
          0.3803365852308518,
          0.38037283946327005,
          0.3805939902810214,
          0.38062299366695607,
          0.38078251228959636,
          0.3808622716009165,
          0.3811921851159227,
          0.3821529222750065,
          0.38304477639249557,
          0.38306290350870476,
          0.3831789170524431,
          0.38326955263348883,
          0.3833384356750835,
          0.38335293736805076,
          0.38343994752585464,
          0.3834653254885474,
          0.3836864763062987,
          0.3837154796922334,
          0.3838314932359718,
          0.3840888982861414,
          0.38461821007944796,
          0.38470159481401,
          0.3848719897063758,
          0.38548831165748615,
          0.38553544215962987,
          0.38556444554556446,
          0.385720338744963,
          0.38578197094007405,
          0.385887108214087,
          0.38595236583243986,
          0.3861880183431585,
          0.3864961793187137,
          0.38668470132728866,
          0.3867499589456415,
          0.3868804741823473,
          0.3870436182282294,
          0.3873554046270264,
          0.3874025351291701,
          0.3874279130918629,
          0.3880986163916007,
          0.3881167435078098,
          0.38837414855797947,
          0.3884394061763323,
          0.388486536678476,
          0.3888672061188677,
          0.38902309931826623,
          0.389215246750083,
          0.38924062471277576,
          0.3895234077256382,
          0.3897300568504223,
          0.38996570936114094,
          0.3900599703654284,
          0.3901687330626832,
          0.3901687330626832,
          0.39031374999235624,
          0.39036450591774174,
          0.3906617906235714,
          0.39081405839972816,
          0.39113672106825065,
          0.3911475973379761,
          0.3911548481844598,
          0.3912889888444073,
          0.39141950408111303,
          0.3917784209820538,
          0.3924962547839353,
          0.39254701070932085,
          0.39256876324877177,
          0.3927282818714122,
          0.3928116666059741,
          0.39295668353564717,
          0.3930038140377909,
          0.39315245639070573,
          0.3931597072371894,
          0.39333735297603883,
          0.39340261059439174,
          0.39380140715099254,
          0.39398267831308387,
          0.3941857020146261,
          0.3944249799485866,
          0.39465700703606343,
          0.39465700703606343,
          0.395102934094808,
          0.39517544255964454,
          0.39584252043614043,
          0.3961035509095519,
          0.396288447494885,
          0.39632832715054506,
          0.39653135085208735,
          0.3972129304215506,
          0.39736157277446543,
          0.397640730364086,
          0.39790176083749745,
          0.39853983532805876,
          0.39884074545713033,
          0.3989132539219668,
          0.3990691471213654,
          0.3995078233336263,
          0.3997543521140704,
          0.400116894438253,
          0.4001640249403967,
          0.40029091475386064,
          0.400573697766723,
          0.4006715841942523,
          0.4010268756719512,
          0.4012335247967353,
          0.40140029426585927,
          0.4017737128597674,
          0.4020419941796624,
          0.4020891246818062,
          0.40216163314664266,
          0.40260393478214546,
          0.40268731951670744,
          0.4033362702769942,
          0.40337977535589614,
          0.403445032974249,
          0.4037314414103532,
          0.4038003244519479,
          0.4038547058005753,
          0.4044565260587184,
          0.40517073443735807,
          0.40534475475296566,
          0.4053483801762075,
          0.4054571428734623,
          0.40612059532671635,
          0.4061967292147947,
          0.4064650105346898,
          0.4069109375934344,
          0.4069979477512382,
          0.4071538409506367,
          0.4072045968760223,
          0.4072227239922314,
          0.4072336002619569,
          0.40730973415003524,
          0.4073133595732771,
          0.40801669168219123,
          0.40802756795191675,
          0.4081943374210407,
          0.4082233408069753,
          0.4082632204626354,
          0.4091768271195755,
          0.4094849880951307,
          0.4099091626144243,
          0.4101774439343194,
          0.41039859475207074,
          0.4104022201753126,
          0.41047835406339095,
          0.41052548456553467,
          0.41055448795146926,
          0.41055448795146926,
          0.4108408963875735,
          0.4108698997735081,
          0.4110983014377431,
          0.41110555228422674,
          0.4111273048236777,
          0.4114427166457166,
          0.41171099796561167,
          0.41218592841029084,
          0.4126536080084864,
          0.4128457554403031,
          0.41320467234124386,
          0.41350195704707354,
          0.41351283331679906,
          0.4135998434746029,
          0.4137484858275177,
          0.4137811146366942,
          0.41460771113583045,
          0.41482523653034,
          0.4148433636465491,
          0.4149339992275947,
          0.41522040766369894,
          0.4152530364728754,
          0.41572796691755454,
          0.415782348266182,
          0.41623190074816835,
          0.4168373464295533,
          0.4171672599445594,
          0.41809174287122497,
          0.4187950749801391,
          0.41883495463579923,
          0.4195962935165826,
          0.4196325477490009,
          0.4200821002309873,
          0.42052440186649,
          0.420919572999849,
          0.42101745942737834,
          0.4212966170169989,
          0.42176792203843627,
          0.4218368050800309,
          0.4218368050800309,
          0.4218694338892074,
          0.4220325779350895,
          0.42239874568251395,
          0.4230694489822517,
          0.42368577093336207,
          0.4245087420092565,
          0.42462475555299495,
          0.4247987758686026,
          0.4261981892399473,
          0.4275323449929392,
          0.42814866694404957,
          0.4283408143758663,
          0.42858371773306864,
          0.4291202803728588,
          0.43029491750321036,
          0.4309837479191573,
          0.4318320969577445,
          0.43223089351434535,
          0.4339130898985525,
          0.4347215592814796,
          0.43493183382950545,
          0.4355082761249558,
          0.4366611607158563,
          0.4371070877746009,
          0.4374406267128489,
          0.4376545266841166,
          0.43802069443154096,
          0.43852100283891293,
          0.4385246282621548,
          0.4391627027527161,
          0.43942373322612754,
          0.4395216196536569,
          0.43980077724327743,
          0.4402757076879566,
          0.4414467193950663,
          0.44188902103056904,
          0.4419397769559546,
          0.44199053288134016,
          0.4424618379027775,
          0.4424690887492612,
          0.44291501580800574,
          0.4433210632110902,
          0.44594586963817207,
          0.44615976960943976,
          0.44679059325351744,
          0.4469718644156087,
          0.4475954372132028,
          0.4502238690635264,
          0.451209984185303,
          0.45121360960854484,
          0.45299369242028126,
          0.45313145850347064,
          0.45400881092799245,
          0.4547375209995994,
          0.4567568817452964,
          0.4591097814292413,
          0.45996175589107036,
          0.4601176490904688,
          0.46053094734003697,
          0.46321738596222983,
          0.4675388904664861,
          0.4704827341388486,
          0.47051536294802504,
          0.4751957843532221,
          0.4809674581542086,
          0.4824466308368735,
          0.48826906056324565,
          0.48831256564214753,
          0.4899113772917927,
          0.4965060221686737,
          0.5074294223962946,
          0.5105509118075067,
          0.5132300995832157
         ],
         "yaxis": "y"
        }
       ],
       "layout": {
        "height": 300,
        "legend": {
         "tracegroupgap": 0
        },
        "margin": {
         "b": 0,
         "l": 0,
         "r": 0,
         "t": 0
        },
        "template": {
         "data": {
          "bar": [
           {
            "error_x": {
             "color": "#2a3f5f"
            },
            "error_y": {
             "color": "#2a3f5f"
            },
            "marker": {
             "line": {
              "color": "white",
              "width": 0.5
             },
             "pattern": {
              "fillmode": "overlay",
              "size": 10,
              "solidity": 0.2
             }
            },
            "type": "bar"
           }
          ],
          "barpolar": [
           {
            "marker": {
             "line": {
              "color": "white",
              "width": 0.5
             },
             "pattern": {
              "fillmode": "overlay",
              "size": 10,
              "solidity": 0.2
             }
            },
            "type": "barpolar"
           }
          ],
          "carpet": [
           {
            "aaxis": {
             "endlinecolor": "#2a3f5f",
             "gridcolor": "#C8D4E3",
             "linecolor": "#C8D4E3",
             "minorgridcolor": "#C8D4E3",
             "startlinecolor": "#2a3f5f"
            },
            "baxis": {
             "endlinecolor": "#2a3f5f",
             "gridcolor": "#C8D4E3",
             "linecolor": "#C8D4E3",
             "minorgridcolor": "#C8D4E3",
             "startlinecolor": "#2a3f5f"
            },
            "type": "carpet"
           }
          ],
          "choropleth": [
           {
            "colorbar": {
             "outlinewidth": 0,
             "ticks": ""
            },
            "type": "choropleth"
           }
          ],
          "contour": [
           {
            "colorbar": {
             "outlinewidth": 0,
             "ticks": ""
            },
            "colorscale": [
             [
              0,
              "#0d0887"
             ],
             [
              0.1111111111111111,
              "#46039f"
             ],
             [
              0.2222222222222222,
              "#7201a8"
             ],
             [
              0.3333333333333333,
              "#9c179e"
             ],
             [
              0.4444444444444444,
              "#bd3786"
             ],
             [
              0.5555555555555556,
              "#d8576b"
             ],
             [
              0.6666666666666666,
              "#ed7953"
             ],
             [
              0.7777777777777778,
              "#fb9f3a"
             ],
             [
              0.8888888888888888,
              "#fdca26"
             ],
             [
              1,
              "#f0f921"
             ]
            ],
            "type": "contour"
           }
          ],
          "contourcarpet": [
           {
            "colorbar": {
             "outlinewidth": 0,
             "ticks": ""
            },
            "type": "contourcarpet"
           }
          ],
          "heatmap": [
           {
            "colorbar": {
             "outlinewidth": 0,
             "ticks": ""
            },
            "colorscale": [
             [
              0,
              "#0d0887"
             ],
             [
              0.1111111111111111,
              "#46039f"
             ],
             [
              0.2222222222222222,
              "#7201a8"
             ],
             [
              0.3333333333333333,
              "#9c179e"
             ],
             [
              0.4444444444444444,
              "#bd3786"
             ],
             [
              0.5555555555555556,
              "#d8576b"
             ],
             [
              0.6666666666666666,
              "#ed7953"
             ],
             [
              0.7777777777777778,
              "#fb9f3a"
             ],
             [
              0.8888888888888888,
              "#fdca26"
             ],
             [
              1,
              "#f0f921"
             ]
            ],
            "type": "heatmap"
           }
          ],
          "heatmapgl": [
           {
            "colorbar": {
             "outlinewidth": 0,
             "ticks": ""
            },
            "colorscale": [
             [
              0,
              "#0d0887"
             ],
             [
              0.1111111111111111,
              "#46039f"
             ],
             [
              0.2222222222222222,
              "#7201a8"
             ],
             [
              0.3333333333333333,
              "#9c179e"
             ],
             [
              0.4444444444444444,
              "#bd3786"
             ],
             [
              0.5555555555555556,
              "#d8576b"
             ],
             [
              0.6666666666666666,
              "#ed7953"
             ],
             [
              0.7777777777777778,
              "#fb9f3a"
             ],
             [
              0.8888888888888888,
              "#fdca26"
             ],
             [
              1,
              "#f0f921"
             ]
            ],
            "type": "heatmapgl"
           }
          ],
          "histogram": [
           {
            "marker": {
             "pattern": {
              "fillmode": "overlay",
              "size": 10,
              "solidity": 0.2
             }
            },
            "type": "histogram"
           }
          ],
          "histogram2d": [
           {
            "colorbar": {
             "outlinewidth": 0,
             "ticks": ""
            },
            "colorscale": [
             [
              0,
              "#0d0887"
             ],
             [
              0.1111111111111111,
              "#46039f"
             ],
             [
              0.2222222222222222,
              "#7201a8"
             ],
             [
              0.3333333333333333,
              "#9c179e"
             ],
             [
              0.4444444444444444,
              "#bd3786"
             ],
             [
              0.5555555555555556,
              "#d8576b"
             ],
             [
              0.6666666666666666,
              "#ed7953"
             ],
             [
              0.7777777777777778,
              "#fb9f3a"
             ],
             [
              0.8888888888888888,
              "#fdca26"
             ],
             [
              1,
              "#f0f921"
             ]
            ],
            "type": "histogram2d"
           }
          ],
          "histogram2dcontour": [
           {
            "colorbar": {
             "outlinewidth": 0,
             "ticks": ""
            },
            "colorscale": [
             [
              0,
              "#0d0887"
             ],
             [
              0.1111111111111111,
              "#46039f"
             ],
             [
              0.2222222222222222,
              "#7201a8"
             ],
             [
              0.3333333333333333,
              "#9c179e"
             ],
             [
              0.4444444444444444,
              "#bd3786"
             ],
             [
              0.5555555555555556,
              "#d8576b"
             ],
             [
              0.6666666666666666,
              "#ed7953"
             ],
             [
              0.7777777777777778,
              "#fb9f3a"
             ],
             [
              0.8888888888888888,
              "#fdca26"
             ],
             [
              1,
              "#f0f921"
             ]
            ],
            "type": "histogram2dcontour"
           }
          ],
          "mesh3d": [
           {
            "colorbar": {
             "outlinewidth": 0,
             "ticks": ""
            },
            "type": "mesh3d"
           }
          ],
          "parcoords": [
           {
            "line": {
             "colorbar": {
              "outlinewidth": 0,
              "ticks": ""
             }
            },
            "type": "parcoords"
           }
          ],
          "pie": [
           {
            "automargin": true,
            "type": "pie"
           }
          ],
          "scatter": [
           {
            "fillpattern": {
             "fillmode": "overlay",
             "size": 10,
             "solidity": 0.2
            },
            "type": "scatter"
           }
          ],
          "scatter3d": [
           {
            "line": {
             "colorbar": {
              "outlinewidth": 0,
              "ticks": ""
             }
            },
            "marker": {
             "colorbar": {
              "outlinewidth": 0,
              "ticks": ""
             }
            },
            "type": "scatter3d"
           }
          ],
          "scattercarpet": [
           {
            "marker": {
             "colorbar": {
              "outlinewidth": 0,
              "ticks": ""
             }
            },
            "type": "scattercarpet"
           }
          ],
          "scattergeo": [
           {
            "marker": {
             "colorbar": {
              "outlinewidth": 0,
              "ticks": ""
             }
            },
            "type": "scattergeo"
           }
          ],
          "scattergl": [
           {
            "marker": {
             "colorbar": {
              "outlinewidth": 0,
              "ticks": ""
             }
            },
            "type": "scattergl"
           }
          ],
          "scattermapbox": [
           {
            "marker": {
             "colorbar": {
              "outlinewidth": 0,
              "ticks": ""
             }
            },
            "type": "scattermapbox"
           }
          ],
          "scatterpolar": [
           {
            "marker": {
             "colorbar": {
              "outlinewidth": 0,
              "ticks": ""
             }
            },
            "type": "scatterpolar"
           }
          ],
          "scatterpolargl": [
           {
            "marker": {
             "colorbar": {
              "outlinewidth": 0,
              "ticks": ""
             }
            },
            "type": "scatterpolargl"
           }
          ],
          "scatterternary": [
           {
            "marker": {
             "colorbar": {
              "outlinewidth": 0,
              "ticks": ""
             }
            },
            "type": "scatterternary"
           }
          ],
          "surface": [
           {
            "colorbar": {
             "outlinewidth": 0,
             "ticks": ""
            },
            "colorscale": [
             [
              0,
              "#0d0887"
             ],
             [
              0.1111111111111111,
              "#46039f"
             ],
             [
              0.2222222222222222,
              "#7201a8"
             ],
             [
              0.3333333333333333,
              "#9c179e"
             ],
             [
              0.4444444444444444,
              "#bd3786"
             ],
             [
              0.5555555555555556,
              "#d8576b"
             ],
             [
              0.6666666666666666,
              "#ed7953"
             ],
             [
              0.7777777777777778,
              "#fb9f3a"
             ],
             [
              0.8888888888888888,
              "#fdca26"
             ],
             [
              1,
              "#f0f921"
             ]
            ],
            "type": "surface"
           }
          ],
          "table": [
           {
            "cells": {
             "fill": {
              "color": "#EBF0F8"
             },
             "line": {
              "color": "white"
             }
            },
            "header": {
             "fill": {
              "color": "#C8D4E3"
             },
             "line": {
              "color": "white"
             }
            },
            "type": "table"
           }
          ]
         },
         "layout": {
          "annotationdefaults": {
           "arrowcolor": "#2a3f5f",
           "arrowhead": 0,
           "arrowwidth": 1
          },
          "autotypenumbers": "strict",
          "coloraxis": {
           "colorbar": {
            "outlinewidth": 0,
            "ticks": ""
           }
          },
          "colorscale": {
           "diverging": [
            [
             0,
             "#8e0152"
            ],
            [
             0.1,
             "#c51b7d"
            ],
            [
             0.2,
             "#de77ae"
            ],
            [
             0.3,
             "#f1b6da"
            ],
            [
             0.4,
             "#fde0ef"
            ],
            [
             0.5,
             "#f7f7f7"
            ],
            [
             0.6,
             "#e6f5d0"
            ],
            [
             0.7,
             "#b8e186"
            ],
            [
             0.8,
             "#7fbc41"
            ],
            [
             0.9,
             "#4d9221"
            ],
            [
             1,
             "#276419"
            ]
           ],
           "sequential": [
            [
             0,
             "#0d0887"
            ],
            [
             0.1111111111111111,
             "#46039f"
            ],
            [
             0.2222222222222222,
             "#7201a8"
            ],
            [
             0.3333333333333333,
             "#9c179e"
            ],
            [
             0.4444444444444444,
             "#bd3786"
            ],
            [
             0.5555555555555556,
             "#d8576b"
            ],
            [
             0.6666666666666666,
             "#ed7953"
            ],
            [
             0.7777777777777778,
             "#fb9f3a"
            ],
            [
             0.8888888888888888,
             "#fdca26"
            ],
            [
             1,
             "#f0f921"
            ]
           ],
           "sequentialminus": [
            [
             0,
             "#0d0887"
            ],
            [
             0.1111111111111111,
             "#46039f"
            ],
            [
             0.2222222222222222,
             "#7201a8"
            ],
            [
             0.3333333333333333,
             "#9c179e"
            ],
            [
             0.4444444444444444,
             "#bd3786"
            ],
            [
             0.5555555555555556,
             "#d8576b"
            ],
            [
             0.6666666666666666,
             "#ed7953"
            ],
            [
             0.7777777777777778,
             "#fb9f3a"
            ],
            [
             0.8888888888888888,
             "#fdca26"
            ],
            [
             1,
             "#f0f921"
            ]
           ]
          },
          "colorway": [
           "#636efa",
           "#EF553B",
           "#00cc96",
           "#ab63fa",
           "#FFA15A",
           "#19d3f3",
           "#FF6692",
           "#B6E880",
           "#FF97FF",
           "#FECB52"
          ],
          "font": {
           "color": "#2a3f5f"
          },
          "geo": {
           "bgcolor": "white",
           "lakecolor": "white",
           "landcolor": "white",
           "showlakes": true,
           "showland": true,
           "subunitcolor": "#C8D4E3"
          },
          "hoverlabel": {
           "align": "left"
          },
          "hovermode": "closest",
          "mapbox": {
           "style": "light"
          },
          "paper_bgcolor": "white",
          "plot_bgcolor": "white",
          "polar": {
           "angularaxis": {
            "gridcolor": "#EBF0F8",
            "linecolor": "#EBF0F8",
            "ticks": ""
           },
           "bgcolor": "white",
           "radialaxis": {
            "gridcolor": "#EBF0F8",
            "linecolor": "#EBF0F8",
            "ticks": ""
           }
          },
          "scene": {
           "xaxis": {
            "backgroundcolor": "white",
            "gridcolor": "#DFE8F3",
            "gridwidth": 2,
            "linecolor": "#EBF0F8",
            "showbackground": true,
            "ticks": "",
            "zerolinecolor": "#EBF0F8"
           },
           "yaxis": {
            "backgroundcolor": "white",
            "gridcolor": "#DFE8F3",
            "gridwidth": 2,
            "linecolor": "#EBF0F8",
            "showbackground": true,
            "ticks": "",
            "zerolinecolor": "#EBF0F8"
           },
           "zaxis": {
            "backgroundcolor": "white",
            "gridcolor": "#DFE8F3",
            "gridwidth": 2,
            "linecolor": "#EBF0F8",
            "showbackground": true,
            "ticks": "",
            "zerolinecolor": "#EBF0F8"
           }
          },
          "shapedefaults": {
           "line": {
            "color": "#2a3f5f"
           }
          },
          "ternary": {
           "aaxis": {
            "gridcolor": "#DFE8F3",
            "linecolor": "#A2B1C6",
            "ticks": ""
           },
           "baxis": {
            "gridcolor": "#DFE8F3",
            "linecolor": "#A2B1C6",
            "ticks": ""
           },
           "bgcolor": "white",
           "caxis": {
            "gridcolor": "#DFE8F3",
            "linecolor": "#A2B1C6",
            "ticks": ""
           }
          },
          "title": {
           "x": 0.05
          },
          "xaxis": {
           "automargin": true,
           "gridcolor": "#EBF0F8",
           "linecolor": "#EBF0F8",
           "ticks": "",
           "title": {
            "standoff": 15
           },
           "zerolinecolor": "#EBF0F8",
           "zerolinewidth": 2
          },
          "yaxis": {
           "automargin": true,
           "gridcolor": "#EBF0F8",
           "linecolor": "#EBF0F8",
           "ticks": "",
           "title": {
            "standoff": 15
           },
           "zerolinecolor": "#EBF0F8",
           "zerolinewidth": 2
          }
         }
        },
        "width": 500,
        "xaxis": {
         "anchor": "y",
         "autorange": true,
         "domain": [
          0,
          1
         ],
         "range": [
          98.22318407960198,
          1071.696815920398
         ],
         "title": {
          "text": "Real Maximum WBA (regional, 2023 base)"
         },
         "type": "linear"
        },
        "yaxis": {
         "anchor": "x",
         "autorange": true,
         "domain": [
          0,
          1
         ],
         "range": [
          -0.005712049575955155,
          1.3887560634201213
         ],
         "title": {
          "text": "Recipiency Rate"
         },
         "type": "linear"
        }
       }
      },
      "image/png": "[encoded data removed]",
      "text/html": [
       "<div>                            <div id=\"a1b76c70-3d3d-44c9-83d9-e8cfa2f2c48f\" class=\"plotly-graph-div\" style=\"height:300px; width:500px;\"></div>            <script type=\"text/javascript\">                require([\"plotly\"], function(Plotly) {                    window.PLOTLYENV=window.PLOTLYENV || {};                                    if (document.getElementById(\"a1b76c70-3d3d-44c9-83d9-e8cfa2f2c48f\")) {                    Plotly.newPlot(                        \"a1b76c70-3d3d-44c9-83d9-e8cfa2f2c48f\",                        [{\"hovertemplate\":\"Real Maximum WBA (regional, 2023 base)=%{x}\\u003cbr\\u003eRecipiency Rate=%{y}\\u003cextra\\u003e\\u003c\\u002fextra\\u003e\",\"legendgroup\":\"\",\"marker\":{\"color\":\"#636efa\",\"symbol\":\"circle\"},\"mode\":\"markers\",\"name\":\"\",\"showlegend\":false,\"x\":[459.44,336.84,547.81,379.78,426.1,624.33,633.17,547.81,558.45,487.54,468.03,674.35,441.87,505.76,477.15,423.38,490.59,475.13,381.16,703.13,443.21,444.27,504.03,556.11,369.62,336.84,470.56,570.86,475.47,346.1,526.47,711.88,455.74,494.64,638.42,468.75,489.31,666.94,655.91,232.63,669.9,421.94,359.54,452.08,508.81,552.07,407.76,501.99,817.0,498.99,563.77,483.53,443.22,329.17,556.12,366.37,411.05,639.8,675.56,535.33,545.72,476.42,474.69,684.48,446.72,529.0,515.45,471.27,523.63,569.98,446.97,811.69,485.09,450.94,490.9,541.63,409.09,329.17,470.02,649.67,479.45,412.36,512.2,730.01,477.17,520.06,689.17,495.81,504.14,671.97,731.71,675.56,448.7,366.54,441.77,509.34,634.44,464.3,507.09,788.14,512.18,566.51,484.32,434.82,324.99,569.58,359.43,578.59,683.79,676.92,528.53,564.45,470.38,485.77,692.55,457.52,552.29,527.04,504.41,538.36,562.74,441.3,853.66,478.93,453.51,485.01,730.75,404.17,342.09,501.44,677.34,468.84,423.57,551.88,743.62,485.66,527.74,675.26,497.94,519.98,701.32,716.94,221.75,691.93,458.4,378.31,470.38,545.64,639.95,458.4,520.2,869.64,523.81,578.13,496.18,425.83,351.09,576.79,351.99,635.31,683.38,666.49,516.61,535.0,459.76,493.2,678.23,463.07,542.59,516.99,532.85,547.12,550.04,431.34,822.17,518.28,458.92,574.08,740.6,396.47,351.09,509.96,682.12,459.9,415.5,603.25,770.28,475.62,530.57,656.76,499.55,506.58,695.4,731.36,215.68,692.44,464.78,382.19,459.76,548.37,626.72,531.65,569.19,851.65,521.75,586.83,508.24,416.12,342.4,562.52,343.97,687.94,667.8,672.4,503.82,538.06,448.38,489.15,699.68,464.56,530.22,504.82,538.89,543.53,595.13,420.66,796.22,505.45,457.67,560.56,740.19,387.13,342.4,541.96,678.28,483.14,433.59,583.06,768.01,486.59,531.89,634.78,500.17,448.38,687.94,722.55,208.46,691.21,453.27,384.03,448.38,534.8,632.57,515.23,562.68,832.24,509.46,583.71,513.44,403.77,346.32,543.1,390.75,732.66,662.65,675.96,565.14,519.49,432.91,472.26,709.86,465.26,529.14,504.29,553.81,538.8,574.58,406.14,798.45,488.0,456.69,543.31,739.92,375.21,330.58,545.42,670.61,486.28,432.24,562.55,760.65,488.44,535.65,612.45,496.78,459.67,682.18,722.84,201.13,698.65,459.67,384.22,432.91,528.93,604.03,513.19,561.03,807.55,493.78,576.16,514.49,390.43,334.94,581.58,377.83,708.44,662.78,678.65,546.56,502.41,418.68,456.74,722.6,474.69,506.93,512.78,571.38,546.47,555.7,392.79,770.6,517.63,456.81,530.36,754.52,395.57,319.72,544.71,672.93,498.13,421.94,542.92,760.38,491.18,544.71,591.09,502.52,482.62,683.25,725.36,194.11,696.17,461.3,389.71,418.68,511.54,602.96,502.41,561.9,780.85,499.59,578.53,519.52,378.41,340.27,584.38,366.21,686.64,663.75,687.3,531.12,488.22,406.85,473.42,724.79,476.68,515.74,523.78,556.61,550.9,593.26,381.7,818.22,503.01,455.36,516.64,743.57,399.61,310.68,552.36,676.1,500.95,411.03,529.35,762.72,497.43,552.36,576.31,506.65,505.97,679.01,739.95,189.26,700.11,448.27,391.05,406.85,538.52,619.5,513.37,560.66,756.83,506.65,578.46,532.53,365.64,333.81,580.97,353.84,663.46,608.9,685.58,509.94,468.75,390.63,454.55,771.08,477.73,536.66,508.02,536.93,560.34,589.49,366.48,821.05,539.77,452.95,498.38,740.69,440.56,298.3,569.1,649.15,530.05,410.27,584.31,766.31,523.39,533.71,554.21,502.51,556.82,682.62,737.58,182.0,702.0,463.07,392.37,390.63,536.93,629.55,515.63,559.68,759.29,488.75,579.55,570.57,547.56,363.67,614.68,355.18,665.95,637.84,710.09,511.99,470.64,392.2,470.64,806.54,500.22,535.72,533.47,540.4,586.13,591.86,405.03,859.23,541.94,470.66,501.6,486.36,443.41,328.02,602.32,704.53,562.57,426.78,584.22,799.03,531.28,581.6,554.12,515.46,583.3,713.31,763.45,181.97,722.41,464.93,412.92,392.2,559.06,657.07,539.09,581.48,800.62,502.99,604.7,614.16,541.67,371.69,618.55,351.35,658.79,648.54,720.51,503.53,462.86,385.71,462.86,818.36,508.31,488.97,523.26,530.06,592.58,582.08,346.44,843.94,575.06,477.65,492.0,512.39,434.92,329.61,617.79,708.31,585.78,432.2,572.92,805.03,623.65,585.59,543.4,509.67,603.12,721.74,756.73,178.45,732.58,457.25,419.97,385.71,569.45,660.25,530.18,570.23,819.82,493.36,594.7,641.22,526.71,359.31,611.51,341.65,640.59,590.77,722.63,486.76,447.44,372.87,447.44,781.52,495.09,478.31,510.89,513.53,572.78,562.69,334.9,813.77,583.03,467.43,476.66,489.83,421.36,318.63,599.31,686.08,582.0,458.22,555.97,778.62,549.49,566.57,527.32,509.58,485.41,706.08,746.06,173.17,717.42,442.02,413.46,372.87,562.69,643.44,512.53,553.36,811.42,477.98,574.9,612.12,515.62,351.87,606.81,334.46,627.11,632.68,731.79,476.68,438.18,365.15,438.18,728.84,496.86,478.0,520.09,503.32,573.01,551.04,327.97,833.96,570.96,467.43,467.18,496.86,412.98,312.03,600.63,693.11,606.56,456.86,545.33,780.32,553.25,551.86,517.23,516.22,488.63,706.54,731.79,169.86,722.85,432.86,416.85,365.15,565.65,650.8,501.91,542.78,812.46,468.47,562.99,618.75,508.08,346.47,589.65,329.57,617.94,639.91,744.66,469.37,431.45,359.54,431.45,733.29,504.0,490.23,525.63,496.36,580.36,542.58,322.94,849.23,562.2,468.72,460.72,500.18,407.27,307.25,612.45,699.48,656.72,460.72,538.02,786.24,558.89,552.03,510.3,525.63,504.67,719.56,721.98,167.58,713.16,426.22,423.82,359.54,575.27,657.76,494.21,535.5,829.41,462.0,554.35,630.3,498.8,340.71,579.85,323.54,606.65,648.44,733.31,461.57,424.28,424.28,733.37,511.77,516.32,524.31,489.19,588.29,533.57,317.57,843.93,552.85,469.82,454.07,508.01,401.39,302.14,625.52,450.0,714.97,466.62,530.72,790.48,547.33,548.68,503.37,524.31,565.71,725.28,712.18,165.31,703.48,419.14,432.75,353.57,583.71,656.53,486.0,528.23,841.21,464.11,545.14,634.96,493.05,341.31,580.87,319.82,599.66,644.96,739.1,462.38,425.03,354.19,425.03,734.24,524.63,530.36,537.25,491.84,597.78,534.51,318.13,868.5,553.83,480.29,456.53,519.59,403.56,302.67,627.64,450.79,749.12,479.23,531.3,803.8,549.02,549.02,522.59,534.72,631.1,731.58,712.97,165.49,704.26,419.88,443.92,354.19,598.91,660.95,486.85,542.5,848.85,466.62,546.1,632.97,483.71,337.58,574.52,313.76,588.3,656.28,736.29,457.32,420.38,350.32,420.38,743.87,538.97,536.01,546.47,487.7,592.74,528.66,314.65,888.97,547.77,488.81,452.69,530.22,400.16,299.36,636.67,445.86,791.58,490.2,525.75,808.94,553.0,545.16,517.13,543.97,643.31,717.73,705.51,163.76,696.89,415.29,457.69,350.32,610.19,665.43,481.53,549.14,868.07,462.69,540.13,641.9,470.36,330.81,562.99,305.1,572.06,655.96,744.75,530.54,411.95,343.29,411.95,752.58,549.84,521.21,552.3,479.73,583.05,518.05,308.34,897.09,536.78,495.7,445.28,541.23,393.62,293.36,648.33,436.91,774.94,482.19,516.25,818.5,540.28,541.55,513.83,535.08,636.65,750.03,678.26,160.8,684.3,406.95,467.42,343.29,615.42,666.13,471.87,553.73,865.72,455.12,529.29,621.64,455.13,323.61,550.75,295.22,553.54,639.64,725.47,527.54,402.98,335.82,402.98,761.42,549.13,498.18,552.75,470.68,572.06,547.08,301.63,910.09,525.1,494.69,436.89,539.48,386.2,286.97,637.18,427.41,731.37,499.65,505.34,805.95,532.62,540.0,508.9,534.65,617.91,742.97,663.93,157.4,669.85,398.1,470.68,335.82,603.26,667.93,461.6,551.5,877.05,446.55,517.77,584.29,443.2,318.97,542.86,287.48,539.02,649.23,734.98,527.21,397.21,331.01,397.21,754.63,555.35,495.9,560.11,463.78,563.67,604.24,297.31,926.01,517.58,502.03,430.49,549.4,380.54,282.86,631.26,421.28,707.57,506.59,497.37,810.7,529.44,539.02,524.16,526.81,625.91,747.45,653.45,154.92,670.92,392.4,478.05,331.01,594.61,670.79,454.99,580.07,897.18,440.0,510.36,585.74,435.61,327.85,537.67,282.56,529.8,660.48,746.21,529.33,476.87,327.85,435.15,762.91,566.6,527.45,570.14,459.41,574.85,658.08,294.47,946.27,512.64,511.66,426.43,544.22,376.95,280.16,649.89,417.26,727.99,518.31,490.96,819.8,542.75,552.17,579.49,565.43,642.58,762.91,657.68,218.46,673.78,388.65,487.68,327.85,621.12,682.85,450.64,589.84,930.09,435.85,505.48,598.09,416.77,312.01,511.7,270.34,506.88,664.58,738.11,503.76,453.84,312.01,414.13,719.77,552.65,521.52,566.1,437.18,563.86,645.58,280.24,946.15,487.87,511.25,405.8,550.4,358.72,266.63,644.3,397.11,717.43,511.17,472.52,808.93,545.18,544.05,557.73,558.25,523.05,758.07,645.15,265.59,662.86,369.88,479.78,312.01,607.01,694.99,428.88,587.61,950.68,414.77,481.07,592.49,385.88,287.37,471.28,250.3,469.31,663.29,708.64,463.97,417.99,287.37,381.41,724.82,551.19,520.41,562.61,404.83,560.54,594.59,287.37,1007.61,449.34,528.63,375.77,549.12,332.17,245.57,644.52,365.74,681.98,508.63,441.73,831.74,536.06,555.87,521.39,550.16,497.4,764.46,614.5,248.28,683.81,340.66,483.72,287.37,573.69,689.37,395.0,603.12,968.87,384.07,443.07,555.87,370.0,275.0,451.0,320.0,450.0,675.0,703.0,444.0,400.0,275.0,365.0,763.0,551.0,532.0,578.0,390.0,560.0,626.0,275.0,1015.0,430.0,538.0,362.0,552.0,320.0,235.0,657.0,350.0,673.0,514.0,427.0,830.0,542.0,562.0,504.0,561.0,493.0,783.0,605.0,240.0,680.0,326.0,487.0,275.0,563.0,712.0,378.0,668.0,999.0,370.0,630.0,560.0],\"xaxis\":\"x\",\"y\":[0.60879994588987,0.29208564615296,0.45345821793852,0.2057091472626,0.40979121129037,0.2339362942664,0.76407753368998,0.32272032363013,0.39749550753952,0.23813360315712,0.23394513674957,0.32693588065572,0.45167644061341,0.39239063104112,0.36003996748824,0.33647482755853,0.29631998635453,0.31319400553123,0.22960018070207,0.63767645663563,0.29183831429671,0.39376441773702,0.43419663349932,0.36875455106639,0.41440965750913,0.28074094154518,0.34374940839161,0.35139831313921,0.37992504555138,0.27919640463366,0.17083107868171,0.5404465583471,0.2230286994157,0.44269884063201,0.35402092081706,0.30207674334253,0.24648669913636,0.43759912044289,0.51380108612948,0.37749750670894,0.5603153700822,0.37098396769276,0.19696253321244,0.38294352303659,0.23696587840243,0.27608623178484,0.27144093890694,0.51010862789092,0.44711973985973,0.52601543142193,0.31523877984263,0.28743637084559,0.60441529601667,0.34817207720034,0.57650058087208,0.26575380964847,0.46511343491664,0.29734339973012,0.75692441468047,0.30198758664916,0.48287279918814,0.28626364693671,0.35297323058366,0.44034873473098,0.52276912574339,0.48103241045735,0.42875063410904,0.41236952118633,0.35359914664387,0.35822422426079,0.24656190477587,0.69684323662163,0.32642459712195,0.43046045234698,0.50966797511033,0.46194718362468,0.41239468073583,0.37687931041779,0.40614117409818,0.38831813748201,0.42642011479324,0.347422093457,0.27154104064941,0.59828537377144,0.27387545954054,0.47139349379205,0.46744773380303,0.44393662008408,0.30461154313702,0.52222885191366,0.60202504434611,0.57810739986653,0.43829887012159,0.23714189869171,0.46830016284655,0.28981408446544,0.30846389813089,0.29095022872841,0.53421505160262,0.50459986998262,0.58001959377898,0.3539433103465,0.28440415879064,0.60106542625236,0.33066732382202,0.5382424169135,0.27003631676307,0.45893317318848,0.29754713533264,0.65687248479669,0.34551799786564,0.48534493972261,0.31841505161422,0.31873306885862,0.50064075158888,0.48328007964041,0.48762540940273,0.44981572922375,0.38299581501901,0.39355722667002,0.36631087600788,0.30236332046595,0.64840932110575,0.35170478703885,0.42533780877974,0.48425903265664,0.48063673609901,0.41707387725739,0.33554121242136,0.43942595662603,0.37199812417536,0.3947474330359,0.3735538780738,0.31601050476069,0.53640424961809,0.31250122109212,0.48794562820549,0.43537188387834,0.39248663355346,0.3263732348198,0.49711180929023,0.60400606296627,0.32933536199192,0.51700874181462,0.39630070429851,0.25827549443264,0.41214036038444,0.29517067007696,0.30692252461235,0.3228457317497,0.62123129446895,0.51399978989941,0.56536766388348,0.34960108501303,0.31791873997858,0.55852347183433,0.30743589777213,0.47132214879175,0.30232129225633,0.44683838931872,0.27187373333935,0.54725394371336,0.32578067265197,0.52796431232922,0.33115795742372,0.30809788549839,0.43954055929478,0.44235480938852,0.50455380368885,0.42983467063836,0.38953051972136,0.38602540930886,0.32624537484356,0.28827863678088,0.55093066846896,0.35002992276634,0.37066602199049,0.43393639190948,0.43788376261095,0.40636920255547,0.32965059039153,0.44561487814448,0.3661089206931,0.3719823501619,0.37666429576719,0.30124294019478,0.52371910549857,0.28495584322094,0.45919737464205,0.40424775050496,0.35416738459313,0.31190611725041,0.46356499736451,0.6159715619689,0.29104250313597,0.46298004119914,0.33768271541296,0.23722605184652,0.36180533933234,0.27062419385722,0.27521442323004,0.30755354889661,0.55368916970291,0.45287664027687,0.53399329791978,0.36771519421521,0.34501393943078,0.53722752351838,0.26475232463148,0.40765475221172,0.27184678254679,0.39573426956194,0.22089945977732,0.48368309113513,0.22059305408653,0.50550538284819,0.34933534222323,0.25225070890474,0.4080753139672,0.36461128507546,0.45108094519859,0.39573947341777,0.32719119457174,0.29250041001651,0.30913861199345,0.29382190428575,0.5318027995849,0.30407718435885,0.35660264547012,0.41013136102711,0.37513791190474,0.33660931273223,0.27535163947266,0.38711087844952,0.33054895056744,0.31068781389694,0.34081607291854,0.27411413498801,0.5792460821838,0.2735017245958,0.42898446460682,0.376126573469,0.29978461274002,0.27671727316046,0.38729993019549,0.54750820736635,0.29055191084676,0.45920888996837,0.26849741631664,0.19619447807214,0.30228639063952,0.23477463570759,0.21902140748407,0.23255251390649,0.5129514212751,0.38199976561605,0.51842393878567,0.33735899350331,0.32611881979901,0.52099693011956,0.29342298069038,0.39511266742726,0.21840945128933,0.38404316434126,0.19345670769012,0.45878631545087,0.20378717928526,0.41701600994066,0.35939946318339,0.20514866746842,0.35400150784766,0.34926289561727,0.45349526872965,0.37238608230344,0.31266983543322,0.26988392192613,0.25927564192525,0.44206990956907,0.50504175890414,0.27304783080027,0.31325464028946,0.40537380632011,0.39495097565045,0.30896559417949,0.28799887592417,0.3752048665323,0.31549990197273,0.29395584977921,0.32344677099006,0.24777762123571,0.58436659477965,0.24938300458769,0.36330967530688,0.40631062737649,0.28790306679513,0.22718660290302,0.3986980074674,0.53670346676219,0.27596653302562,0.42899419372738,0.25397015909245,0.17001086237522,0.27240182936824,0.20927235296792,0.20465406687551,0.20875627308445,0.51365040795387,0.32165866848259,0.5050018822445,0.32209177423635,0.28164467518558,0.50462805859801,0.30790329864451,0.39554787844274,0.1959439093722,0.39471564861644,0.20717789925514,0.48280095674556,0.21077766698954,0.45387557640883,0.3728712320929,0.21974795589087,0.38763782470566,0.3984721410976,0.42807669044816,0.41652972836477,0.33497180744805,0.26859676792794,0.26338806822635,0.31958706752667,0.4911550170155,0.27072120177003,0.30166590460254,0.4184127075068,0.3927532002135,0.31193273992688,0.27231795942699,0.4290428373741,0.32846942762919,0.30501299387796,0.35324219284103,0.26530546144727,0.52997733574976,0.27008780176793,0.35897902104594,0.41410413077739,0.30581505659579,0.21611285093499,0.40422613139997,0.55351311100496,0.26967030683498,0.40232096876336,0.25110801089628,0.17149504500868,0.25387299966811,0.18599678765827,0.21472170504117,0.23162766262474,0.49171635845098,0.31372010386485,0.50043243831869,0.310684504027,0.2688182646202,0.47908050534138,0.315676534697,0.40892920995652,0.26508566503552,0.39162306519665,0.23057634703749,0.46815044558569,0.22492085047253,0.53769763392612,0.36798155672388,0.24006966397789,0.38894383824994,0.40020413580896,0.53466034658822,0.3905218150223,0.37635912995245,0.27820301694506,0.2830522646399,0.24612940618193,0.52513043863683,0.33075170268312,0.31914336667016,0.39724156321599,0.38516548838944,0.30202689793678,0.24569786548892,0.42694257331171,0.33523277241594,0.31420435991313,0.33996955667041,0.29007338721711,0.6078529018427,0.34480161462331,0.40471370559039,0.41194303871013,0.2920749507487,0.21101677422133,0.44320300482212,0.5680564861001,0.26262744538197,0.46183620017719,0.29567413442914,0.17038723171018,0.28942983422878,0.18790327535761,0.2271404591736,0.24149031280745,0.47333106446088,0.31397979764573,0.51023747260697,0.34583678939251,0.31390407915791,0.47766806632849,0.29373475471789,0.46667269271868,0.26588578864302,0.37999242647157,0.22707992264168,0.44914881670307,0.22403577070181,0.46225074906633,0.34129885432331,0.25580409257397,0.45415127202252,0.41951048976113,0.50567921224049,0.3721219795743,0.3871855253792,0.3220214425838,0.30220359719654,0.27244158895819,0.52301987539236,0.3653817609156,0.33701080619587,0.40747520421231,0.37692411844955,0.31032237603346,0.29225904311196,0.40180473649924,0.38438828538191,0.32252717522749,0.33570980368483,0.36587958591231,0.54764263363537,0.35082983294321,0.42341409454204,0.40199142935476,0.32365216429706,0.26895430667511,0.51040687606087,0.56644908808706,0.27743806512339,0.36709298120932,0.3390710099264,0.16908620741071,0.26972567283192,0.21284494456897,0.31702698466179,0.24572729053127,0.4946922833459,0.3717974024506,0.57295579570088,0.39061648530408,0.32922909132656,0.4980761794039,0.32647967502932,0.54643677130144,0.33119324677108,0.36809979673372,0.32433392584424,0.53242988013477,0.20530786982525,0.4257064827155,0.33734783201808,0.31114288336532,0.47868517257748,0.4874299201598,0.50459239242563,0.41795072174759,0.37533120913539,0.45706860640501,0.32724565144168,0.38597966049175,0.51355610254853,0.36375268011866,0.36281489684671,0.41270130455251,0.4560041172406,0.35968467627193,0.36817007642608,0.5266423224406,0.40124810156571,0.44754798571943,0.42662719747338,0.49364819348901,0.4929035509371,0.43804021420171,0.44890931934992,0.42687719731482,0.38145461432668,0.35934124622985,0.51320637562978,0.6445562015932,0.29780950769595,0.33753388119388,0.37999062929456,0.27624237602926,0.32128242898866,0.28828922975323,0.34834964461753,0.29182930835041,0.5831486557961,0.48229963973966,0.56722976017394,0.40518539026574,0.43883724528112,0.47070573148165,0.23198592128899,0.41214593702724,0.24843872373575,0.28578781206235,0.25731659647905,0.36643226519592,0.15549309907146,0.34893967081457,0.22675241530174,0.232795920796,0.3903637282854,0.39427405926187,0.39565187929793,0.31744986677567,0.24530776706427,0.35060432224135,0.23388634484955,0.35292313368808,0.41300989037122,0.3009845248741,0.30693035118407,0.27557410651419,0.36929175791232,0.25960622083167,0.27285938003263,0.46890152648908,0.31355991239572,0.36909388338826,0.4027238808627,0.40287426623673,0.37561038028885,0.34865004333093,0.28655305489189,0.34577767710978,0.23883997721389,0.29797364507243,0.38746716583811,0.50696757436992,0.26254057838711,0.26699823204092,0.28755590352387,0.20345725327857,0.22462967487014,0.21472117327015,0.25775271660841,0.20216478098768,0.45045936976669,0.34450379148435,0.46335784016046,0.30574477129709,0.32784812102856,0.45212386011349,0.20515408417013,0.34878242838844,0.2226487329302,0.24954086913857,0.21760653368368,0.33268291036762,0.16495848779061,0.3251137641893,0.17840466103248,0.2112814199272,0.31460030995244,0.34137273596491,0.33731415180248,0.28429581194902,0.21791687471004,0.30523283706765,0.20872539282928,0.29126455304091,0.3912174823591,0.27570991670369,0.29293843618813,0.26362175613923,0.33860160989056,0.23285288613517,0.23192086545068,0.40612439800612,0.24300663168626,0.3179906644997,0.36837950988282,0.29930485459871,0.34217695441391,0.3307441135692,0.22280027833986,0.33074453878592,0.21995443183835,0.26730634955354,0.33986095162704,0.4613728440459,0.21466775163848,0.25983286755898,0.24221353098539,0.16661918772548,0.18893184404903,0.17849062734301,0.21937241401735,0.18339796138917,0.40623294516227,0.29278657557348,0.41775118279915,0.26765664581219,0.2688003116609,0.47570789952988,0.2046433522086,0.33497017360283,0.20200894983416,0.25823685735169,0.20370763059117,0.3525365366484,0.16345459297908,0.31420655567488,0.16442226845339,0.18594813344053,0.33103425153153,0.34117172619336,0.30667876264716,0.2663452557943,0.20665630129009,0.3180344091447,0.21421057641141,0.24417520308339,0.41268644759065,0.28191148499806,0.2878164175717,0.25765040254522,0.35059223545073,0.2421427830781,0.22936931674614,0.4068584280742,0.23830527120208,0.30340136806162,0.34572681240971,0.27153394954832,0.32724508381203,0.28840213303789,0.22210443287585,0.31217490616324,0.22803777106096,0.25451910233925,0.3289555134005,0.428805149727,0.20419451125927,0.25567676933994,0.20582956152372,0.15917341613658,0.17257144244537,0.19291251388478,0.25630578697631,0.18449731690121,0.40046708695217,0.29460868128025,0.41411248387297,0.30820558601268,0.26598722463006,0.47007446704771,0.20789416110215,0.30681955345916,0.16748825856095,0.27595312853868,0.21258953404007,0.34380165788557,0.17075524132402,0.30572594969803,0.15625548517455,0.16087684070166,0.36675736585065,0.33448265397997,0.25833945835925,0.25488840498501,0.19546791510121,0.29914226692794,0.20580361083207,0.18948456027448,0.37024035816275,0.27962469237208,0.2783136895744,0.22509365429013,0.36749302079312,0.23127439833218,0.21607158585031,0.39604975378804,0.24451175903364,0.32714472418674,0.28831679207351,0.22587936288439,0.35187876644149,0.25393044178381,0.22902475479077,0.31053021487796,0.19912713946085,0.21818970855635,0.31535438421972,0.39739933700484,0.22369129996893,0.24136357844163,0.18816014959999,0.15672135819323,0.17308785673215,0.19257093794736,0.25841308903543,0.18030320838483,0.39540381615265,0.29518917229272,0.37263001154709,0.31977643943914,0.28224198118307,0.43368771767563,0.19192626296445,0.30774321755234,0.17749918787425,0.30776556260808,0.25232252450412,0.38071775491524,0.16318237727587,0.32618040750708,0.14297575816449,0.34779385380927,0.33170497625756,0.3216817705212,0.28676806853174,0.18825733920894,0.28344603027204,0.21471015518539,0.15678282912745,0.40413860237972,0.29158505898301,0.29472205066884,0.24515397027341,0.40683110142953,0.21669176057216,0.20082208178641,0.37561809231414,0.18576507359145,0.3106900795459,0.26689301213722,0.23537866888509,0.42070533397017,0.23965990062577,0.26547645058652,0.33126528210987,0.22000782487325,0.2115631960038,0.3012767063455,0.42761932374134,0.19361589514351,0.27478711071133,0.15244985779224,0.14816655937312,0.15600124434427,0.2117559051806,0.24131695899639,0.16698514762085,0.39638617033738,0.28789781320408,0.38664006852104,0.30670014483795,0.23423693078617,0.38370249942348,0.17827950086679,0.32558105692832,0.1659534492664,0.31960249674051,0.2846853636132,0.38465627064088,0.1516138598661,0.31941366362334,0.11670956889217,0.13626388656816,0.33165236162251,0.36379449946712,0.28603427744282,0.30159045123344,0.180677529222,0.24895763576788,0.22861627756581,0.16307423299055,0.4194319661739,0.27458362121992,0.29632486434446,0.2595233021335,0.39997457099545,0.21695689977745,0.17355278669865,0.37571270704817,0.12785449490698,0.39274938318668,0.23948780065755,0.20173254252124,0.433698039737,0.20878651900445,0.27720820080945,0.34804678226475,0.23151174598947,0.25972681597306,0.31031864904404,0.41264693244644,0.20059674138128,0.3072185981872,0.13126055442435,0.14588007160043,0.15572552118436,0.27054218965563,0.21117960017337,0.15717000902161,0.40006991009018,0.27257659486066,0.36845836274783,0.30394802444894,0.32192133749452,0.39585981365744,0.17086842933577,0.32263835819226,0.17157688399113,0.34599202330523,0.3077287950927,0.42459458083803,0.15580754281635,0.30294752882662,0.099619172423711,0.12337427236406,0.35690616967213,0.36776433899111,0.26870086950112,0.2999637749135,0.18571512966146,0.22935896670745,0.2242122293317,0.12160858469756,0.46771674050116,0.2838313049269,0.28634437776828,0.26413178406277,0.38905396180676,0.20404520645292,0.17565539180624,0.36798211893986,0.10885239316572,0.44405975241129,0.18410258334258,0.20548390486072,0.46890857878697,0.20123342223624,0.28672339051695,0.34606070757259,0.2182806808914,0.24851090969338,0.30931621530353,0.39621697734707,0.17386257790391,0.33123615377269,0.14687997604615,0.1478177185892,0.13381851792753,0.27960833692615,0.2131738317757,0.1648655500935,0.43398921137462,0.26392810439829,0.33766672443819,0.34413817608055,0.33307172541038,0.36031233440814,0.1819330696416,0.27972585962045,0.1742296746832,0.38095097699506,0.30276099373333,0.4440500120535,0.16808507846498,0.27353281109542,0.10422989258981,0.12236042823129,0.49566863905325,0.39996515098601,0.28575983369065,0.33414342036517,0.20240040799077,0.21241806793588,0.20006298977308,0.16581997219201,0.47011814822044,0.27521935047939,0.27329570435891,0.26541394863422,0.3968012286505,0.23715197342247,0.16898998597758,0.35717026163671,0.10348772170893,0.40537823099227,0.1866773423796,0.18347850732054,0.48459497516021,0.18725893887191,0.30357205922623,0.33931052357648,0.20521962529938,0.20245301551139,0.33683682765155,0.38105627694162,0.22734739491646,0.35670155978265,0.16875385392238,0.14303391597692,0.13953866685289,0.25017094545843,0.19491146568006,0.15547895964639,0.3966064424569,0.28042637008048,0.34499212152968,0.28095270440102,0.25405979524511,0.33464333646701,0.18889062170346,0.24585030112743,0.15734762161125,0.40123554888831,0.21530378031238,0.46702440586575,0.19422431657665,0.29859525581031,0.10728713690723,0.13305421185994,0.42230303741438,0.44162566798168,0.26034227592309,0.34279577697015,0.1823503219035,0.19701267519553,0.21436455958657,0.13174621212789,0.47243481351285,0.24470411395126,0.25182604020541,0.26321964788738,0.44748132476837,0.24466757100158,0.13953242993969,0.35255697189573,0.10367969658403,0.38549234510929,0.17046773926906,0.18051903259246,0.51480775063842,0.19408855293152,0.29913678371571,0.3469404430286,0.2014977996128,0.20815534731497,0.32306564617057,0.39147349486827,0.19356529740327,0.37800091107993,0.20916412011156,0.14010903083259,0.14042738878774,0.22360733898248,0.18571505678393,0.16087479095325,0.42986258032192,0.26504306254671,0.34235095726731,0.24252582853206,0.20030714171972,0.30910645367743,0.21690463077852,0.24474020690457,0.13816271519481,0.4054291906759,0.22393914955073,0.46436505186785,0.24876381619319,0.28875637235052,0.10884826014576,0.14020077331218,0.39017855819263,0.41755675526976,0.24392935320849,0.36377092421075,0.17710905766053,0.18555925915634,0.20489977879747,0.12449892908341,0.4925691636301,0.237732457503,0.26787988372413,0.26643849823032,0.39127151014375,0.21218662371968,0.11973273594183,0.35112460058091,0.094795305200953,0.37776739120181,0.13174809747735,0.16167468372643,0.56268291715061,0.18273250632562,0.28335997951012,0.34940469509109,0.20425377194039,0.23744928875624,0.34693713726486,0.38143055854626,0.17131125435427,0.41152638316408,0.22714908096186,0.13588614902734,0.14035816153581,0.24145671543935,0.2003490060687,0.15527111800026,0.48818423910256,0.27715668454639,0.31060165182792,0.27210524198074,0.19610773173376,0.83332899654687,0.5125840777555,0.6257617280757,0.49035665131835,0.95196301571311,0.6502833132135,0.97417064331191,1.2895650733843,0.72167940159084,0.43467262029246,1.2062303393088,0.93342694161494,0.92723482083573,0.45619588644736,0.66896794751188,0.61591722219979,0.67796935657346,0.80209370265565,0.91770723877532,0.89903045638892,0.64565424842932,1.1599810235283,0.78111644666346,1.0546150028833,0.58607530588876,0.81930289958799,0.81087497970338,0.45667768477637,0.78209996833821,0.60405127051167,0.66144383076629,0.71681231724382,0.77832543868529,0.84868301540043,1.0234679673733,0.61136985266935,0.7082283594411,0.84078556458856,0.87503215858905,1.1634893745907,0.76797650899521,0.76490824767948,0.47420867780227,0.56678540037861,0.66400580263381,0.53631511922319,0.67582733506757,1.2988424823891,0.71891477821181,0.7407936880207,0.70427197150859,0.50631343185882,0.40828243352112,0.19795207855625,0.33161013079936,0.22975105874546,0.42866496341158,0.31133048516548,0.42003027898729,0.63622287776463,0.33837293514108,0.20357189251709,0.51045773722947,0.4064677235148,0.36890202901848,0.22083362989684,0.47526671939412,0.34423155053115,0.34429568895669,0.41204866536548,0.34723262484844,0.42777951181386,0.25355248916307,0.32167871159758,0.3674544602956,0.65685332323007,0.30859849301198,0.30496064185102,0.43655251246448,0.15707550581594,0.35081387961517,0.26406472557427,0.27274056648603,0.39053993210514,0.3169164828617,0.50224756329433,0.43751997613245,0.28949695674058,0.34913952829835,0.44449592448006,0.47308261953493,0.33006245650372,0.48124103923839,0.33964930778935,0.18850846271224,0.25457781488838,0.25951524934183,0.25049612295235,0.28126026163146,0.58099768699917,0.37210333424177,0.51973687225711,0.34092149037786,0.22871300884546,0.28033838637558,0.090730472695192,0.18236476056299,0.12529229951183,0.41830460101615,0.21974750804164,0.27461583986161,0.18820669893595,0.16974636055435,0.11512414105984,0.23061997605203,0.2919394327317,0.23451217549722,0.17976596465677,0.25024074592849,0.19956393549573,0.1729547894111,0.12081587940605,0.13932711141895,0.37935467530428,0.18509677016646,0.24249706754713,0.21398061552013,0.52065359507675,0.19175565318682,0.11618501197934,0.3214099118151,0.084201531455066,0.30611363767198,0.15342057588563,0.11174902006499,0.49274506062489,0.21570613812055,0.19439675119233,0.35029301597454,0.1633311868169,0.19887792313093,0.26564920102093,0.27364428374826,0.20197248133036,0.40223637050101,0.14720352735054,0.14221309052208,0.10360677793638,0.17310871487806,0.18220987369731,0.10695091342028,0.30926801465685,0.2329863993855,0.27706521352059,0.21670947458743,0.16803516323839,0.25752923948659,0.16210600732159,0.20962315528437,0.18118094005813,0.4235679889213,0.27155905557038,0.42514165481209,0.24739332133091,0.22770352778857,0.11610048131653,0.18944505176572,0.40693757605572,0.22440258284942,0.20798658228967,0.30555431054552,0.19771153187605,0.14750693614766,0.097575256283041,0.16008499231876,0.51304773515204,0.29437003375761,0.30127152242365,0.24651651297538,0.55288703200763,0.18568680767517,0.17186748962066,0.35636816054959,0.11373596610024,0.30544531512995,0.17740860754393,0.15501435193426,0.48211088897557,0.26376097161896,0.24853935473963,0.40865145769532,0.21002240571024,0.16520451337306,0.37720415668878,0.36616635082676,0.22908648382616,0.51528415060516,0.18792345826592,0.17064642919526,0.13896056199153,0.21630053153701,0.24425713825883,0.13264553484314,0.4057876226322,0.31116331373749,0.28729058154534,0.23856081560381,0.20977543697187],\"yaxis\":\"y\",\"type\":\"scattergl\"},{\"hovertemplate\":\"\\u003cb\\u003eOLS trendline\\u003c\\u002fb\\u003e\\u003cbr\\u003eRecipiency Rate = 0.000362542 * Real Maximum WBA (regional, 2023 base) + 0.14525\\u003cbr\\u003eR\\u003csup\\u003e2\\u003c\\u002fsup\\u003e=0.115557\\u003cbr\\u003e\\u003cbr\\u003eReal Maximum WBA (regional, 2023 base)=%{x}\\u003cbr\\u003eRecipiency Rate=%{y} \\u003cb\\u003e(trend)\\u003c\\u002fb\\u003e\\u003cextra\\u003e\\u003c\\u002fextra\\u003e\",\"legendgroup\":\"\",\"marker\":{\"color\":\"#636efa\",\"symbol\":\"circle\"},\"mode\":\"lines\",\"name\":\"\",\"showlegend\":false,\"x\":[154.92,157.4,160.8,163.76,165.31,165.49,167.58,169.86,173.17,178.45,181.97,182.0,189.26,194.11,201.13,208.46,215.68,218.46,221.75,232.63,235.0,240.0,245.57,248.28,250.3,265.59,266.63,270.34,275.0,275.0,275.0,275.0,280.16,280.24,282.56,282.86,286.97,287.37,287.37,287.37,287.37,287.48,293.36,294.47,295.22,297.31,298.3,299.36,301.63,302.14,302.67,305.1,307.25,308.34,310.68,312.01,312.01,312.01,312.03,313.76,314.65,317.57,318.13,318.63,318.97,319.72,319.82,320.0,320.0,322.94,323.54,323.61,324.99,326.0,327.85,327.85,327.85,327.97,328.02,329.17,329.17,329.57,329.61,330.58,330.81,331.01,331.01,332.17,333.81,334.46,334.9,334.94,335.82,335.82,336.84,336.84,337.58,340.27,340.66,340.71,341.31,341.65,342.09,342.4,342.4,343.29,343.29,343.97,346.1,346.32,346.44,346.47,350.0,350.32,350.32,351.09,351.09,351.35,351.87,351.99,353.57,353.84,354.19,354.19,355.18,358.72,359.31,359.43,359.54,359.54,359.54,362.0,363.67,365.0,365.15,365.15,365.64,365.74,366.21,366.37,366.48,366.54,369.62,369.88,370.0,370.0,371.69,372.87,372.87,375.21,375.77,376.95,377.83,378.0,378.31,378.41,379.78,380.54,381.16,381.41,381.7,382.19,384.03,384.07,384.22,385.71,385.71,385.88,386.2,387.13,388.65,389.71,390.0,390.43,390.63,390.63,390.75,391.05,392.2,392.2,392.37,392.4,392.79,393.62,395.0,395.57,396.47,397.11,397.21,397.21,398.1,399.61,400.0,400.16,401.39,402.98,402.98,403.56,403.77,404.17,404.83,405.03,405.8,406.14,406.85,406.85,406.95,407.27,407.76,409.09,410.27,411.03,411.05,411.95,411.95,412.36,412.92,412.98,413.46,414.13,414.77,415.29,415.5,416.12,416.77,416.85,417.26,417.99,418.68,418.68,419.14,419.88,419.97,420.38,420.38,420.66,421.28,421.36,421.94,421.94,423.38,423.57,423.82,424.28,424.28,425.03,425.03,425.83,426.1,426.22,426.43,426.78,427.0,427.41,428.88,430.0,430.49,431.34,431.45,431.45,432.2,432.24,432.75,432.86,432.91,432.91,433.59,434.82,434.92,435.15,435.61,435.85,436.89,436.91,437.18,438.18,438.18,440.0,440.56,441.3,441.73,441.77,441.87,442.02,443.07,443.2,443.21,443.22,443.41,443.92,444.0,444.27,445.28,445.86,446.55,446.72,446.97,447.44,447.44,448.27,448.38,448.38,448.38,448.7,449.34,450.0,450.0,450.64,450.79,450.94,451.0,452.08,452.69,452.95,453.27,453.51,453.84,454.07,454.55,454.99,455.12,455.13,455.36,455.74,456.53,456.69,456.74,456.81,456.86,457.25,457.32,457.52,457.67,457.69,458.22,458.4,458.4,458.92,459.41,459.44,459.67,459.67,459.76,459.76,459.9,460.72,460.72,461.3,461.57,461.6,462.0,462.38,462.69,462.86,462.86,463.07,463.07,463.78,463.97,464.11,464.3,464.56,464.78,464.93,465.26,466.62,466.62,467.18,467.42,467.43,467.43,468.03,468.47,468.72,468.75,468.75,468.84,469.31,469.37,469.82,470.02,470.36,470.38,470.38,470.56,470.64,470.64,470.66,470.68,470.68,471.27,471.28,471.87,472.26,472.52,473.42,474.69,474.69,475.13,475.47,475.62,476.42,476.66,476.68,476.68,476.87,477.15,477.17,477.65,477.73,477.98,478.0,478.05,478.31,478.93,479.23,479.45,479.73,479.78,480.29,481.07,481.53,482.19,482.62,483.14,483.53,483.71,483.72,484.32,485.01,485.09,485.41,485.66,485.77,486.0,486.28,486.36,486.59,486.76,486.85,487.0,487.54,487.68,487.7,487.87,488.0,488.22,488.44,488.63,488.75,488.81,488.97,489.15,489.19,489.31,489.83,490.2,490.23,490.59,490.9,490.96,491.18,491.84,492.0,493.0,493.05,493.2,493.36,493.78,494.21,494.64,494.69,495.09,495.7,495.81,495.9,496.18,496.36,496.78,496.86,496.86,497.37,497.4,497.43,497.94,498.13,498.18,498.38,498.8,498.99,499.55,499.59,499.65,500.17,500.18,500.22,500.95,501.44,501.6,501.91,501.99,502.03,502.41,502.41,502.51,502.52,502.99,503.01,503.32,503.37,503.53,503.76,503.82,504.0,504.0,504.03,504.14,504.29,504.41,504.67,504.82,505.34,505.45,505.48,505.76,505.97,506.58,506.59,506.65,506.65,506.88,506.93,507.09,508.01,508.02,508.08,508.24,508.31,508.63,508.81,508.9,509.34,509.46,509.58,509.67,509.94,509.96,510.3,510.36,510.89,511.17,511.25,511.54,511.66,511.7,511.77,511.99,512.18,512.2,512.39,512.53,512.64,512.78,513.19,513.37,513.44,513.53,513.83,514.0,514.49,515.23,515.45,515.46,515.62,515.63,515.74,516.22,516.25,516.32,516.61,516.64,516.99,517.13,517.23,517.58,517.63,517.77,518.05,518.28,518.31,519.49,519.52,519.59,519.98,520.06,520.09,520.2,520.41,521.21,521.39,521.52,521.75,522.59,523.05,523.26,523.39,523.63,523.78,523.81,524.16,524.31,524.31,524.63,525.1,525.63,525.63,525.75,526.47,526.71,526.81,527.04,527.21,527.32,527.45,527.54,527.74,528.23,528.53,528.63,528.66,528.93,529.0,529.14,529.29,529.33,529.35,529.44,529.8,530.05,530.06,530.18,530.22,530.22,530.36,530.36,530.54,530.57,530.72,531.12,531.28,531.3,531.65,531.89,532.0,532.53,532.62,532.85,533.47,533.57,533.71,534.51,534.65,534.72,534.8,535.0,535.08,535.33,535.5,535.65,535.72,536.01,536.06,536.66,536.78,536.93,536.93,537.25,537.67,538.0,538.02,538.06,538.36,538.52,538.8,538.89,538.97,539.02,539.02,539.09,539.48,539.77,540.0,540.13,540.28,540.4,541.23,541.55,541.63,541.67,541.94,541.96,542.0,542.5,542.58,542.59,542.75,542.78,542.86,542.92,543.1,543.31,543.4,543.53,543.97,544.05,544.22,544.71,544.71,545.14,545.16,545.18,545.33,545.42,545.64,545.72,546.1,546.47,546.47,546.56,547.08,547.12,547.33,547.56,547.77,547.81,547.81,548.37,548.68,549.02,549.02,549.12,549.13,549.14,549.4,549.49,549.84,550.04,550.16,550.4,550.75,550.9,551.0,551.04,551.19,551.5,551.86,551.88,552.0,552.03,552.07,552.17,552.29,552.3,552.36,552.36,552.65,552.75,552.85,553.0,553.25,553.36,553.54,553.73,553.81,553.83,554.12,554.21,554.35,555.35,555.7,555.87,555.87,555.97,556.11,556.12,556.61,556.82,557.73,558.25,558.45,558.89,559.06,559.68,560.0,560.0,560.11,560.34,560.54,560.56,560.66,561.0,561.03,561.9,562.0,562.2,562.52,562.55,562.57,562.61,562.68,562.69,562.69,562.74,562.99,562.99,563.0,563.67,563.77,563.86,564.45,565.14,565.43,565.65,565.71,566.1,566.51,566.57,566.6,569.1,569.19,569.45,569.58,569.98,570.14,570.23,570.57,570.86,570.96,571.38,572.06,572.06,572.78,572.92,573.01,573.69,574.08,574.52,574.58,574.85,574.9,575.06,575.27,576.16,576.31,576.79,578.0,578.13,578.46,578.53,578.59,579.49,579.55,579.85,580.07,580.36,580.87,580.97,581.48,581.58,581.6,582.0,582.08,583.03,583.05,583.06,583.3,583.71,583.71,584.22,584.29,584.31,584.38,585.59,585.74,585.78,586.13,586.83,587.61,588.29,588.3,589.49,589.65,589.84,590.77,591.09,591.86,592.49,592.58,592.74,593.26,594.59,594.61,594.7,595.13,597.78,598.09,598.91,599.31,599.66,600.63,602.32,602.96,603.12,603.12,603.25,603.26,604.03,604.24,604.7,605.0,606.56,606.65,606.81,607.01,608.9,610.19,611.51,612.12,612.45,612.45,614.16,614.5,614.68,615.42,617.79,617.91,617.94,618.55,618.75,619.5,621.12,621.64,623.65,624.33,625.52,625.91,626.0,626.72,627.11,627.64,629.55,630.0,630.3,631.1,631.26,632.57,632.68,632.97,633.17,634.44,634.78,634.96,635.31,636.65,636.67,637.18,637.84,638.42,639.64,639.8,639.91,639.95,640.59,641.22,641.9,642.58,643.31,643.44,644.3,644.52,644.96,645.15,645.58,648.33,648.44,648.54,649.15,649.23,649.67,649.89,650.8,653.45,655.91,655.96,656.28,656.53,656.72,656.76,657.0,657.07,657.68,657.76,658.08,658.79,660.25,660.48,660.95,662.65,662.78,662.86,663.29,663.46,663.75,663.93,664.58,665.43,665.95,666.13,666.49,666.94,667.8,667.93,668.0,669.85,669.9,670.61,670.79,670.92,671.97,672.4,672.93,673.0,673.78,674.35,675.0,675.26,675.56,675.56,675.96,676.1,676.92,677.34,678.23,678.26,678.28,678.65,679.01,680.0,681.98,682.12,682.18,682.62,682.85,683.25,683.38,683.79,683.81,684.3,684.48,685.58,686.08,686.64,687.3,687.94,687.94,689.17,689.37,691.21,691.93,692.44,692.55,693.11,694.99,695.4,696.17,696.89,698.65,699.48,699.68,700.11,701.32,702.0,703.0,703.13,703.48,704.26,704.53,705.51,706.08,706.54,707.57,708.31,708.44,708.64,709.86,710.09,711.88,712.0,712.18,712.97,713.16,713.31,714.97,716.94,717.42,717.43,717.73,719.56,719.77,720.51,721.74,721.98,722.41,722.55,722.6,722.63,722.84,722.85,724.79,724.82,725.28,725.36,725.47,727.99,728.84,730.01,730.75,731.36,731.37,731.58,731.71,731.79,731.79,732.58,732.66,733.29,733.31,733.37,734.24,734.98,736.29,737.58,738.11,739.1,739.92,739.95,740.19,740.6,740.69,742.97,743.57,743.62,743.87,744.66,744.75,746.06,746.21,747.45,749.12,750.03,752.58,754.52,754.63,756.73,756.83,758.07,759.29,760.38,760.65,761.42,762.72,762.91,762.91,763.0,763.45,764.46,766.31,768.01,770.28,770.6,771.08,774.94,778.62,780.32,780.85,781.52,783.0,786.24,788.14,790.48,791.58,796.22,798.45,799.03,800.62,803.8,805.03,805.95,806.54,807.55,808.93,808.94,810.7,811.42,811.69,812.46,813.77,817.0,818.22,818.36,818.5,819.8,819.82,821.05,822.17,829.41,830.0,831.74,832.24,833.96,841.21,843.93,843.94,848.85,849.23,851.65,853.66,859.23,865.72,868.07,868.5,869.64,877.05,888.97,897.09,897.18,910.09,926.01,930.09,946.15,946.27,950.68,968.87,999.0,1007.61,1015.0],\"xaxis\":\"x\",\"y\":[0.2014146974002683,0.20231380236424107,0.20354644626646184,0.20461957154604224,0.20518151214852523,0.2052467697668781,0.20600448322441967,0.20683107972355594,0.20803109481660026,0.20994531828828422,0.21122146726940688,0.2112323435391324,0.21386440081269786,0.21562273108498334,0.218167778200745,0.22082521343700326,0.22344276901760146,0.224450636678829,0.22564340092538965,0.22958786141249604,0.23044708672080877,0.2322597983417216,0.23427915908741853,0.23526164878595332,0.23599398428080212,0.24153725641755364,0.24191430043470352,0.24325933245742087,0.24494877968811168,0.24494877968811168,0.24494877968811168,0.24494877968811168,0.24681949808089376,0.24684850146682835,0.24768959965893195,0.2477983623561867,0.2492884113085771,0.2494334282382501,0.2494334282382501,0.2494334282382501,0.2494334282382501,0.2494733078939102,0.2516050567601037,0.2520074787399464,0.2522793854830833,0.25303709894062487,0.2533960158415656,0.2537803107051992,0.2546032817810936,0.2547881783664267,0.2549803257982435,0.2558613036460071,0.25664076964299964,0.25703594077635866,0.2578842898149459,0.2583664711061087,0.2583664711061087,0.2583664711061087,0.25837372195259234,0.25900092017342824,0.2593235828419507,0.2603822064285638,0.26058523013010604,0.26076650129219736,0.26088976568241945,0.2611616724255564,0.2611979266579746,0.26126318427632744,0.26126318427632744,0.26232905870942425,0.2625465841039338,0.2625719620666266,0.2630722704739985,0.2634384382214229,0.26410914152116066,0.26410914152116066,0.26410914152116066,0.2641526466000626,0.26417077371627173,0.26458769738908167,0.26458769738908167,0.26473271431875467,0.264747216011722,0.2650988820661791,0.2651822668007411,0.2652547752655776,0.2652547752655776,0.2656753243616294,0.2662698937732888,0.26650554628400747,0.2666650649066478,0.2666795665996151,0.26699860384489577,0.26699860384489577,0.267368397015562,0.267368397015562,0.2676366783354571,0.2686119171875082,0.26875330869393943,0.26877143581014856,0.2689889612046581,0.2691122255948802,0.2692717442175205,0.2693841323380171,0.2693841323380171,0.2697067950065396,0.2697067950065396,0.2699533237869838,0.2707255389374926,0.27080529824881283,0.2708488033277147,0.2708596795974402,0.27213945400180467,0.2722554675455431,0.2722554675455431,0.2725346251351637,0.2725346251351637,0.27262888613945113,0.2728174081480261,0.27286091322692796,0.2734337300991364,0.27353161652666574,0.27365850634012967,0.27365850634012967,0.27401742324107037,0.2753008230686767,0.2755147230399444,0.27555822811884634,0.27559810777450644,0.27559810777450644,0.27559810777450644,0.27648996189199554,0.27709540757338047,0.27757758886454326,0.27763197021317065,0.27763197021317065,0.27780961595202014,0.2778458701844384,0.27801626507680416,0.2780742718486734,0.2781141515043335,0.2781359040437844,0.2792525344022667,0.2793467954065542,0.2793903004854561,0.2793903004854561,0.28000299701332465,0.28043079695586015,0.28043079695586015,0.28127914599444737,0.2814821696959896,0.281909969638525,0.2822290068838057,0.2822906390789167,0.28240302719941335,0.2824392814318316,0.2829359644159617,0.28321149658234046,0.2834362728233336,0.28352690840437933,0.28363204567839223,0.28380969141724166,0.2844767692937376,0.2844912709867049,0.28454565233533236,0.2850858403983644,0.2850858403983644,0.2851474725934754,0.2852634861372138,0.2856006504987036,0.28615171483146107,0.28653600969509463,0.2866411469691076,0.2867970401685061,0.2868695486333426,0.2868695486333426,0.2869130537122445,0.2870218164094993,0.28743874008230924,0.28743874008230924,0.2875003722774203,0.28751124854714577,0.28765264005357694,0.2879535501826485,0.2884538585900205,0.28866050771480456,0.28898679580656883,0.28921882289404566,0.2892550771264639,0.2892550771264639,0.28957773979498647,0.29012517870450216,0.29026657021093333,0.29032457698280256,0.2907705040415471,0.2913469463369974,0.2913469463369974,0.2915572208850233,0.2916333547731016,0.29177837170277465,0.29201764963673515,0.2920901581015717,0.2923693156911923,0.2924925800814143,0.29274998513158396,0.29274998513158396,0.29278623936400217,0.29290225290774063,0.2930798986465901,0.2935620799377529,0.29398987988028835,0.2942654120466671,0.2942726628931508,0.29459895098491506,0.29459895098491506,0.29474759333782996,0.2949506170393722,0.2949723695788231,0.29514638989443076,0.2953892932516331,0.2956213203391099,0.29580984234768487,0.2958859762357632,0.2961107524767564,0.29634640498747505,0.2963754083734097,0.29652405072632454,0.29678870662297785,0.29703886082666375,0.29703886082666375,0.2972056302957877,0.2974739116156829,0.29750654042485936,0.29765518277777414,0.29765518277777414,0.29775669462854526,0.29798147086953847,0.2980104742554731,0.29822074880349897,0.29822074880349897,0.29874280975032186,0.29881169279191655,0.2989023283729622,0.2990690978420862,0.2990690978420862,0.2993410045852231,0.2993410045852231,0.2996310384445692,0.29972892487209846,0.2997724299510004,0.29984856383907876,0.29997545365254263,0.3000552129638628,0.3002038553167776,0.300736792533326,0.30114283993641056,0.30132048567526,0.3016286466508151,0.3016685263064752,0.3016685263064752,0.30194043304961216,0.3019549347425795,0.30213983132791256,0.30217971098357266,0.30219783809978185,0.30219783809978185,0.3024443668802259,0.3028902939389705,0.30292654817138875,0.3030099329059508,0.30317670237507477,0.30326371253287854,0.3036407565500284,0.3036480073965121,0.3037458938240414,0.30410843614822397,0.30410843614822397,0.30476826317823624,0.3049712868797785,0.30523956819967357,0.30539546139907214,0.3054099630920394,0.30544621732445765,0.30550059867308504,0.3058812681134767,0.3059283986156205,0.3059320240388623,0.30593564946210416,0.30600453250369886,0.3061894290890319,0.30621843247496655,0.30631631890249583,0.30668248664992026,0.3068927611979461,0.3071429154016321,0.30720454759674315,0.3072951831777888,0.3074655780701546,0.3074655780701546,0.30776648819922614,0.30780636785488624,0.30780636785488624,0.30780636785488624,0.3079223813986246,0.3081544084861015,0.308393686420062,0.308393686420062,0.3086257135075388,0.3086800948561662,0.3087344762047936,0.3087562287442446,0.3091477744543617,0.3093689252721131,0.30946318627640057,0.309579199820139,0.3096662099779428,0.30978584894492306,0.30986923367948505,0.3100432539950927,0.310202772617733,0.31024990311987677,0.3102535285431186,0.31033691327768054,0.3104746793608699,0.3107610877969742,0.3108190945688434,0.3108372216850525,0.3108625996477453,0.3108807267639544,0.3110221182703856,0.3110474962330784,0.3111200046979149,0.31117438604654235,0.31118163689302597,0.31137378432484275,0.3114390419431956,0.3114390419431956,0.31162756395177055,0.31180520969062,0.3118160859603455,0.3118994706949075,0.3118994706949075,0.31193209950408385,0.31193209950408385,0.31198285542946946,0.31228014013529914,0.31228014013529914,0.31249041468332506,0.31258830111085434,0.31259917738057985,0.31274419431025285,0.31288196039344224,0.3129943485139388,0.3130559807090499,0.3130559807090499,0.3131321145971282,0.3131321145971282,0.31338951964729783,0.3134584026888925,0.3135091586142781,0.3135780416558728,0.3136723026601602,0.3137520619714804,0.31380644332010776,0.31392608228708807,0.3144191398479763,0.3144191398479763,0.31462216354951855,0.31470917370732243,0.31471279913056427,0.31471279913056427,0.31493032452507375,0.31508984314771415,0.31518047872875976,0.3151913549984852,0.3151913549984852,0.31522398380766165,0.31539437870002746,0.3154161312394784,0.31557927528536056,0.3156517837501971,0.3157750481404192,0.3157822989869028,0.3157822989869028,0.31584755660525565,0.31587655999119024,0.31587655999119024,0.3158838108376739,0.3158910616841576,0.3158910616841576,0.31610496165542534,0.3161085870786671,0.3163224870499348,0.31646387855636604,0.3165581395606535,0.31688442765241787,0.3173448564041297,0.3173448564041297,0.31750437502677004,0.3176276394169921,0.31768202076561947,0.3179720546249656,0.31805906478276935,0.318066315629253,0.318066315629253,0.3181351986708477,0.31823671052161884,0.3182439613681025,0.3184179816837101,0.31844698506964475,0.31853762065069036,0.31854487149717403,0.31856299861338316,0.31865725961767066,0.3188820358586638,0.3189907985559186,0.31907055786723876,0.3191720697180099,0.319190196834219,0.3193750934195521,0.3196578764324145,0.3198246459015385,0.320063923835499,0.32021981703489755,0.32040833904347243,0.32054973054990366,0.3206149881682565,0.32061861359149835,0.3208361389860079,0.32108629318969384,0.32111529657562843,0.3212313101193669,0.3213219457004125,0.3213618253560726,0.32144521009063465,0.3215467219414057,0.32157572532734036,0.3216591100619023,0.32172074225701336,0.32175337106618984,0.3218077524148172,0.32200352526987575,0.32205428119526136,0.322061532041745,0.32212316423685605,0.3221702947389997,0.3222500540503199,0.3223298133616401,0.32239869640323476,0.32244220148213665,0.3224639540215877,0.32252196079345685,0.3225872184118097,0.32260172010477706,0.32264522518367894,0.3228337471922539,0.32296788785220143,0.32297876412192694,0.32310927935863265,0.32322166747912917,0.3232434200185802,0.32332317932990035,0.3235624572638608,0.3236204640357301,0.3239830063599126,0.32400113347612175,0.32405551482474915,0.3241135215966183,0.32426578937277506,0.3244216825721735,0.32457757577157204,0.32459570288778117,0.3247407198174542,0.32496187063520554,0.32500175029086564,0.32503437910004207,0.3251358909508132,0.32520114856916604,0.3253534163453228,0.32538241973125737,0.32538241973125737,0.32556731631659047,0.32557819258631593,0.32558906885604144,0.3257739654413745,0.3258428484829692,0.32586097559917837,0.3259334840640149,0.3260857518401715,0.3261546348817662,0.32635765858330845,0.3263721602762758,0.3263939128157267,0.3265824348243017,0.3265860602475435,0.3266005619405108,0.32686521783716405,0.32704286357601353,0.32710087034788277,0.32721325846837934,0.32724226185431393,0.3272567635472813,0.32739452963047067,0.32739452963047067,0.32743078386288893,0.3274344092861307,0.3276048041784965,0.32761205502498014,0.3277244431454768,0.3277425702616859,0.32780057703355514,0.32788396176811707,0.3279057143075681,0.32797097192592095,0.32797097192592095,0.32798184819564635,0.32802172785130645,0.3280761091999339,0.3281196142788358,0.3282138752831233,0.32826825663175063,0.3284567786403256,0.3284966582959856,0.32850753456571113,0.32860904641648225,0.3286851803045606,0.32890633112231193,0.32890995654555377,0.32893170908500474,0.32893170908500474,0.32901509381956673,0.32903322093577586,0.3290912277076451,0.32942476664589304,0.3294283920691349,0.3294501446085858,0.329508151380455,0.32953352934314784,0.32964954288688625,0.3297148005052391,0.32974742931441553,0.3299069479370559,0.32995045301595777,0.32999395809485965,0.33002658690403613,0.3301244733315654,0.33013172417804904,0.3302549885682712,0.3302767411077221,0.3304688885395388,0.33057040039031,0.3305994037762446,0.33070454105025754,0.3307480461291594,0.3307625478221268,0.3307879257848195,0.33086768509613973,0.33093656813773437,0.33094381898421804,0.3310127020258127,0.3310634579511983,0.3311033376068584,0.3311540935322439,0.3313027358851588,0.33136799350351165,0.3313933714662044,0.3314260002753808,0.3315347629726356,0.33159639516774664,0.3317740409065961,0.3320423222264912,0.3321220815378114,0.33212570696105326,0.33218371373292244,0.3321873391561643,0.3322272188118244,0.33240123912743197,0.3324121153971574,0.33243749335985023,0.3325426306338632,0.33255350690358865,0.3326803967170525,0.33273115264243813,0.3327674068748564,0.33289429668832027,0.3329124238045294,0.33296317972991496,0.3330646915806861,0.33314807631524807,0.3331589525849735,0.333586752527509,0.3335976287972344,0.3336230067599273,0.33376439826635845,0.33379340165229304,0.3338042779220185,0.3338441575776786,0.33392029146575697,0.33421032532510303,0.33427558294345583,0.3343227134455996,0.3344060981801616,0.334710633732475,0.3348774032015989,0.3349535370896773,0.335000667591821,0.33508767774962483,0.33514205909825223,0.3351529353679777,0.3352798251814416,0.33533420653006896,0.33533420653006896,0.3354502200738074,0.33562061496617324,0.33581276239798996,0.33581276239798996,0.3358562674768919,0.3361172979503033,0.3362043081081072,0.3362405623405254,0.3363239470750874,0.33638557927019846,0.3364254589258585,0.3364725894280023,0.3365052182371787,0.33657772670201525,0.3367553724408647,0.3368641351381194,0.3369003893705377,0.3369112656402632,0.3370091520677925,0.3370345300304852,0.33708528595587084,0.3371396673044982,0.33715416899746553,0.33716141984394915,0.33719404865312563,0.3373245638898313,0.33741519947087695,0.3374188248941188,0.33746232997302067,0.33747683166598796,0.33747683166598796,0.3375275875913736,0.3375275875913736,0.33759284520972643,0.33760372147945195,0.3376581028280793,0.33780311975775235,0.3378611265296215,0.33786837737610514,0.33799526718956907,0.3380822773473729,0.33812215700303294,0.3383143044348497,0.3383469332440262,0.33843031797858814,0.3386550942195814,0.33869134845199966,0.33874210437738517,0.33903213823673123,0.3390828941621168,0.3391082721248096,0.33913727551074413,0.33920978397558066,0.3392387873615153,0.33932942294256097,0.339391055137672,0.3394454364862993,0.3394708144489922,0.3395759517230051,0.3395940788392142,0.33981160423372375,0.33985510931262564,0.33990949066125303,0.33990949066125303,0.34002550420499145,0.3401777719811482,0.3402974109481284,0.34030466179461205,0.34031916348757935,0.34042792618483414,0.3404859329567034,0.3405874448074745,0.3406200736166509,0.3406490770025855,0.34066720411879464,0.34066720411879464,0.34069258208148745,0.3408339735879186,0.34093911086193157,0.34102249559649356,0.3410696260986373,0.3411240074472647,0.3411675125261666,0.34146842265523814,0.3415844361989765,0.34161343958491114,0.34162794127787843,0.34172582770540777,0.3417330785518914,0.34174758024485874,0.34192885140694995,0.34195785479288465,0.34196148021612643,0.34201948698799567,0.34203036325772107,0.3420593666436557,0.3420811191831067,0.34214637680145954,0.34222251068953785,0.34225513949871433,0.342302270000858,0.3424617886234984,0.342490792009433,0.342552424204544,0.3427300699433935,0.3427300699433935,0.34288596314279196,0.34289321398927564,0.3429004648357593,0.34295484618438665,0.3429874749935631,0.3430672343048833,0.3430962376908179,0.34323400377400726,0.3433681444339548,0.3433681444339548,0.34340077324313123,0.34358929525170623,0.34360379694467347,0.34367993083275183,0.34376331556731377,0.34383944945539213,0.3438539511483594,0.3438539511483594,0.3440569748499017,0.34416936297039824,0.3442926273606204,0.3442926273606204,0.34432888159303865,0.3443325070162805,0.34433613243952227,0.34443039344380977,0.3444630222529862,0.34458991206645007,0.3446624205312866,0.3447059256101885,0.3447929357679923,0.34491982558145623,0.3449742069300836,0.3450104611625019,0.34502496285546913,0.3450793442040966,0.34519173232459316,0.3453222475612989,0.3453294984077825,0.3453730034866844,0.34538387975640994,0.34539838144937723,0.34543463568179544,0.3454781407606974,0.3454817661839392,0.34550351872339014,0.34550351872339014,0.3456086559974031,0.34564491022982136,0.3456811644622396,0.345735545810867,0.3458261813919127,0.3458660610475728,0.3459313186659256,0.3460002017075203,0.34602920509345486,0.3460364559399386,0.3461415932139515,0.346174222023128,0.3462249779485135,0.34658752027269607,0.34671441008616,0.346776042281271,0.346776042281271,0.3468122965136893,0.3468630524390748,0.3468666778623166,0.3470443236011661,0.34712045748924447,0.3474503710042506,0.3476388930128255,0.34771140147766205,0.34787092010030235,0.3479325522954134,0.3481573285364066,0.34827334208014504,0.34827334208014504,0.34831322173580515,0.3483966064703671,0.3484691149352036,0.3484763657816873,0.34851262001410555,0.3486358844043276,0.3486467606740531,0.3489621724960919,0.34899842672851017,0.3490709351933467,0.3491869487370851,0.34919782500681057,0.34920507585329424,0.34921957754626154,0.3492449555089543,0.34924858093219613,0.34924858093219613,0.3492667080484053,0.3493573436294509,0.3493573436294509,0.34936096905269276,0.34960387240989504,0.3496401266423133,0.3496727554514898,0.3498866554227575,0.35013680962644345,0.3502419469004564,0.35032170621177655,0.3503434587512275,0.35048485025765874,0.3506334926105736,0.35065524515002455,0.35066612141975,0.35157247723020646,0.3516051060393829,0.35169936704367033,0.3517464975458141,0.3518915144754871,0.35194952124735635,0.35198215005653277,0.3521054144467548,0.35221055172076776,0.352246805953186,0.3523990737293427,0.3526456025097868,0.3526456025097868,0.3529066329831983,0.35295738890858386,0.3529900177177603,0.35323654649820446,0.3533779380046357,0.353537456627276,0.35355920916672695,0.35365709559425623,0.35367522271046536,0.35373322948233454,0.3538093633704129,0.3541320260389354,0.3541864073875628,0.35436042770317044,0.35479910391543135,0.35484623441757507,0.3549658733845553,0.35499125134724807,0.3550130038866991,0.35533929197846337,0.3553610445179143,0.3554698072151691,0.3555495665264893,0.35565470380050224,0.3558396003858353,0.35587585461825355,0.3560607512035867,0.356097005436005,0.35610425628248865,0.3562492732121616,0.35627827659809624,0.35662269180606965,0.3566299426525533,0.35663356807579516,0.35672057823359893,0.3568692205865138,0.3568692205865138,0.357054117171847,0.35707949513453974,0.35708674598102336,0.35711212394371616,0.35755080015597707,0.35760518150460446,0.35761968319757176,0.35774657301103563,0.3580003526379635,0.35828313565082587,0.35852966443127,0.3585332898545118,0.3589647152202891,0.35902272199215834,0.35909160503375304,0.3594287693952428,0.35954478293898123,0.3598239405286018,0.3600523421928368,0.3600849710020133,0.3601429777738825,0.3603314997824574,0.3608136810736202,0.3608209319201039,0.3608535607292803,0.3610094539286788,0.3619701910877626,0.36208257920825926,0.36237986391408894,0.36252488084376194,0.36265177065722587,0.363003436711683,0.36361613323955155,0.3638481603270284,0.36390616709889756,0.36390616709889756,0.36395329760104134,0.3639569230242831,0.36423608061390367,0.36431221450198203,0.36447898397110606,0.3645877466683608,0.3651533126940856,0.36518594150326206,0.3652439482751313,0.3653164567399678,0.36600166173267284,0.3664693413308684,0.3669478971987894,0.3671690480165407,0.367288686983521,0.367288686983521,0.36790863435787313,0.3680318987480953,0.36809715636644813,0.3683654376863432,0.36922466299465595,0.36926816807355783,0.3692790443432833,0.36950019516103466,0.3695727036258712,0.3698446103690081,0.37043192893418386,0.37062045094275886,0.37134916101436577,0.37159568979480995,0.3720271151605872,0.3721685066670184,0.3722011354761948,0.37246216594960635,0.3726035574560375,0.3727957048878543,0.37348816072704294,0.37365130477292513,0.37376006747017987,0.374050101329526,0.37410810810139516,0.37458303854607433,0.37462291820173443,0.3747280554757474,0.3748005639405839,0.3752609926922958,0.3753842570825178,0.37544951470087073,0.3755764045143346,0.3760622112287393,0.37606946207522285,0.376254358660556,0.3764936365945165,0.3767039111425424,0.37714621277804516,0.37720421954991434,0.37724409920557445,0.3772586008985418,0.3774906279860186,0.3777190296502536,0.3779655584306978,0.37821208721114197,0.37847674310779517,0.37852387360993894,0.3788356600087359,0.3789154193200561,0.3790749379426964,0.3791438209842911,0.3792997141836897,0.3802967055751917,0.3803365852308518,0.38037283946327005,0.3805939902810214,0.38062299366695607,0.38078251228959636,0.3808622716009165,0.3811921851159227,0.3821529222750065,0.38304477639249557,0.38306290350870476,0.3831789170524431,0.38326955263348883,0.3833384356750835,0.38335293736805076,0.38343994752585464,0.3834653254885474,0.3836864763062987,0.3837154796922334,0.3838314932359718,0.3840888982861414,0.38461821007944796,0.38470159481401,0.3848719897063758,0.38548831165748615,0.38553544215962987,0.38556444554556446,0.385720338744963,0.38578197094007405,0.385887108214087,0.38595236583243986,0.3861880183431585,0.3864961793187137,0.38668470132728866,0.3867499589456415,0.3868804741823473,0.3870436182282294,0.3873554046270264,0.3874025351291701,0.3874279130918629,0.3880986163916007,0.3881167435078098,0.38837414855797947,0.3884394061763323,0.388486536678476,0.3888672061188677,0.38902309931826623,0.389215246750083,0.38924062471277576,0.3895234077256382,0.3897300568504223,0.38996570936114094,0.3900599703654284,0.3901687330626832,0.3901687330626832,0.39031374999235624,0.39036450591774174,0.3906617906235714,0.39081405839972816,0.39113672106825065,0.3911475973379761,0.3911548481844598,0.3912889888444073,0.39141950408111303,0.3917784209820538,0.3924962547839353,0.39254701070932085,0.39256876324877177,0.3927282818714122,0.3928116666059741,0.39295668353564717,0.3930038140377909,0.39315245639070573,0.3931597072371894,0.39333735297603883,0.39340261059439174,0.39380140715099254,0.39398267831308387,0.3941857020146261,0.3944249799485866,0.39465700703606343,0.39465700703606343,0.395102934094808,0.39517544255964454,0.39584252043614043,0.3961035509095519,0.396288447494885,0.39632832715054506,0.39653135085208735,0.3972129304215506,0.39736157277446543,0.397640730364086,0.39790176083749745,0.39853983532805876,0.39884074545713033,0.3989132539219668,0.3990691471213654,0.3995078233336263,0.3997543521140704,0.400116894438253,0.4001640249403967,0.40029091475386064,0.400573697766723,0.4006715841942523,0.4010268756719512,0.4012335247967353,0.40140029426585927,0.4017737128597674,0.4020419941796624,0.4020891246818062,0.40216163314664266,0.40260393478214546,0.40268731951670744,0.4033362702769942,0.40337977535589614,0.403445032974249,0.4037314414103532,0.4038003244519479,0.4038547058005753,0.4044565260587184,0.40517073443735807,0.40534475475296566,0.4053483801762075,0.4054571428734623,0.40612059532671635,0.4061967292147947,0.4064650105346898,0.4069109375934344,0.4069979477512382,0.4071538409506367,0.4072045968760223,0.4072227239922314,0.4072336002619569,0.40730973415003524,0.4073133595732771,0.40801669168219123,0.40802756795191675,0.4081943374210407,0.4082233408069753,0.4082632204626354,0.4091768271195755,0.4094849880951307,0.4099091626144243,0.4101774439343194,0.41039859475207074,0.4104022201753126,0.41047835406339095,0.41052548456553467,0.41055448795146926,0.41055448795146926,0.4108408963875735,0.4108698997735081,0.4110983014377431,0.41110555228422674,0.4111273048236777,0.4114427166457166,0.41171099796561167,0.41218592841029084,0.4126536080084864,0.4128457554403031,0.41320467234124386,0.41350195704707354,0.41351283331679906,0.4135998434746029,0.4137484858275177,0.4137811146366942,0.41460771113583045,0.41482523653034,0.4148433636465491,0.4149339992275947,0.41522040766369894,0.4152530364728754,0.41572796691755454,0.415782348266182,0.41623190074816835,0.4168373464295533,0.4171672599445594,0.41809174287122497,0.4187950749801391,0.41883495463579923,0.4195962935165826,0.4196325477490009,0.4200821002309873,0.42052440186649,0.420919572999849,0.42101745942737834,0.4212966170169989,0.42176792203843627,0.4218368050800309,0.4218368050800309,0.4218694338892074,0.4220325779350895,0.42239874568251395,0.4230694489822517,0.42368577093336207,0.4245087420092565,0.42462475555299495,0.4247987758686026,0.4261981892399473,0.4275323449929392,0.42814866694404957,0.4283408143758663,0.42858371773306864,0.4291202803728588,0.43029491750321036,0.4309837479191573,0.4318320969577445,0.43223089351434535,0.4339130898985525,0.4347215592814796,0.43493183382950545,0.4355082761249558,0.4366611607158563,0.4371070877746009,0.4374406267128489,0.4376545266841166,0.43802069443154096,0.43852100283891293,0.4385246282621548,0.4391627027527161,0.43942373322612754,0.4395216196536569,0.43980077724327743,0.4402757076879566,0.4414467193950663,0.44188902103056904,0.4419397769559546,0.44199053288134016,0.4424618379027775,0.4424690887492612,0.44291501580800574,0.4433210632110902,0.44594586963817207,0.44615976960943976,0.44679059325351744,0.4469718644156087,0.4475954372132028,0.4502238690635264,0.451209984185303,0.45121360960854484,0.45299369242028126,0.45313145850347064,0.45400881092799245,0.4547375209995994,0.4567568817452964,0.4591097814292413,0.45996175589107036,0.4601176490904688,0.46053094734003697,0.46321738596222983,0.4675388904664861,0.4704827341388486,0.47051536294802504,0.4751957843532221,0.4809674581542086,0.4824466308368735,0.48826906056324565,0.48831256564214753,0.4899113772917927,0.4965060221686737,0.5074294223962946,0.5105509118075067,0.5132300995832157],\"yaxis\":\"y\",\"type\":\"scattergl\"}],                        {\"template\":{\"data\":{\"histogram2dcontour\":[{\"type\":\"histogram2dcontour\",\"colorbar\":{\"outlinewidth\":0,\"ticks\":\"\"},\"colorscale\":[[0.0,\"#0d0887\"],[0.1111111111111111,\"#46039f\"],[0.2222222222222222,\"#7201a8\"],[0.3333333333333333,\"#9c179e\"],[0.4444444444444444,\"#bd3786\"],[0.5555555555555556,\"#d8576b\"],[0.6666666666666666,\"#ed7953\"],[0.7777777777777778,\"#fb9f3a\"],[0.8888888888888888,\"#fdca26\"],[1.0,\"#f0f921\"]]}],\"choropleth\":[{\"type\":\"choropleth\",\"colorbar\":{\"outlinewidth\":0,\"ticks\":\"\"}}],\"histogram2d\":[{\"type\":\"histogram2d\",\"colorbar\":{\"outlinewidth\":0,\"ticks\":\"\"},\"colorscale\":[[0.0,\"#0d0887\"],[0.1111111111111111,\"#46039f\"],[0.2222222222222222,\"#7201a8\"],[0.3333333333333333,\"#9c179e\"],[0.4444444444444444,\"#bd3786\"],[0.5555555555555556,\"#d8576b\"],[0.6666666666666666,\"#ed7953\"],[0.7777777777777778,\"#fb9f3a\"],[0.8888888888888888,\"#fdca26\"],[1.0,\"#f0f921\"]]}],\"heatmap\":[{\"type\":\"heatmap\",\"colorbar\":{\"outlinewidth\":0,\"ticks\":\"\"},\"colorscale\":[[0.0,\"#0d0887\"],[0.1111111111111111,\"#46039f\"],[0.2222222222222222,\"#7201a8\"],[0.3333333333333333,\"#9c179e\"],[0.4444444444444444,\"#bd3786\"],[0.5555555555555556,\"#d8576b\"],[0.6666666666666666,\"#ed7953\"],[0.7777777777777778,\"#fb9f3a\"],[0.8888888888888888,\"#fdca26\"],[1.0,\"#f0f921\"]]}],\"heatmapgl\":[{\"type\":\"heatmapgl\",\"colorbar\":{\"outlinewidth\":0,\"ticks\":\"\"},\"colorscale\":[[0.0,\"#0d0887\"],[0.1111111111111111,\"#46039f\"],[0.2222222222222222,\"#7201a8\"],[0.3333333333333333,\"#9c179e\"],[0.4444444444444444,\"#bd3786\"],[0.5555555555555556,\"#d8576b\"],[0.6666666666666666,\"#ed7953\"],[0.7777777777777778,\"#fb9f3a\"],[0.8888888888888888,\"#fdca26\"],[1.0,\"#f0f921\"]]}],\"contourcarpet\":[{\"type\":\"contourcarpet\",\"colorbar\":{\"outlinewidth\":0,\"ticks\":\"\"}}],\"contour\":[{\"type\":\"contour\",\"colorbar\":{\"outlinewidth\":0,\"ticks\":\"\"},\"colorscale\":[[0.0,\"#0d0887\"],[0.1111111111111111,\"#46039f\"],[0.2222222222222222,\"#7201a8\"],[0.3333333333333333,\"#9c179e\"],[0.4444444444444444,\"#bd3786\"],[0.5555555555555556,\"#d8576b\"],[0.6666666666666666,\"#ed7953\"],[0.7777777777777778,\"#fb9f3a\"],[0.8888888888888888,\"#fdca26\"],[1.0,\"#f0f921\"]]}],\"surface\":[{\"type\":\"surface\",\"colorbar\":{\"outlinewidth\":0,\"ticks\":\"\"},\"colorscale\":[[0.0,\"#0d0887\"],[0.1111111111111111,\"#46039f\"],[0.2222222222222222,\"#7201a8\"],[0.3333333333333333,\"#9c179e\"],[0.4444444444444444,\"#bd3786\"],[0.5555555555555556,\"#d8576b\"],[0.6666666666666666,\"#ed7953\"],[0.7777777777777778,\"#fb9f3a\"],[0.8888888888888888,\"#fdca26\"],[1.0,\"#f0f921\"]]}],\"mesh3d\":[{\"type\":\"mesh3d\",\"colorbar\":{\"outlinewidth\":0,\"ticks\":\"\"}}],\"scatter\":[{\"fillpattern\":{\"fillmode\":\"overlay\",\"size\":10,\"solidity\":0.2},\"type\":\"scatter\"}],\"parcoords\":[{\"type\":\"parcoords\",\"line\":{\"colorbar\":{\"outlinewidth\":0,\"ticks\":\"\"}}}],\"scatterpolargl\":[{\"type\":\"scatterpolargl\",\"marker\":{\"colorbar\":{\"outlinewidth\":0,\"ticks\":\"\"}}}],\"bar\":[{\"error_x\":{\"color\":\"#2a3f5f\"},\"error_y\":{\"color\":\"#2a3f5f\"},\"marker\":{\"line\":{\"color\":\"white\",\"width\":0.5},\"pattern\":{\"fillmode\":\"overlay\",\"size\":10,\"solidity\":0.2}},\"type\":\"bar\"}],\"scattergeo\":[{\"type\":\"scattergeo\",\"marker\":{\"colorbar\":{\"outlinewidth\":0,\"ticks\":\"\"}}}],\"scatterpolar\":[{\"type\":\"scatterpolar\",\"marker\":{\"colorbar\":{\"outlinewidth\":0,\"ticks\":\"\"}}}],\"histogram\":[{\"marker\":{\"pattern\":{\"fillmode\":\"overlay\",\"size\":10,\"solidity\":0.2}},\"type\":\"histogram\"}],\"scattergl\":[{\"type\":\"scattergl\",\"marker\":{\"colorbar\":{\"outlinewidth\":0,\"ticks\":\"\"}}}],\"scatter3d\":[{\"type\":\"scatter3d\",\"line\":{\"colorbar\":{\"outlinewidth\":0,\"ticks\":\"\"}},\"marker\":{\"colorbar\":{\"outlinewidth\":0,\"ticks\":\"\"}}}],\"scattermapbox\":[{\"type\":\"scattermapbox\",\"marker\":{\"colorbar\":{\"outlinewidth\":0,\"ticks\":\"\"}}}],\"scatterternary\":[{\"type\":\"scatterternary\",\"marker\":{\"colorbar\":{\"outlinewidth\":0,\"ticks\":\"\"}}}],\"scattercarpet\":[{\"type\":\"scattercarpet\",\"marker\":{\"colorbar\":{\"outlinewidth\":0,\"ticks\":\"\"}}}],\"carpet\":[{\"aaxis\":{\"endlinecolor\":\"#2a3f5f\",\"gridcolor\":\"#C8D4E3\",\"linecolor\":\"#C8D4E3\",\"minorgridcolor\":\"#C8D4E3\",\"startlinecolor\":\"#2a3f5f\"},\"baxis\":{\"endlinecolor\":\"#2a3f5f\",\"gridcolor\":\"#C8D4E3\",\"linecolor\":\"#C8D4E3\",\"minorgridcolor\":\"#C8D4E3\",\"startlinecolor\":\"#2a3f5f\"},\"type\":\"carpet\"}],\"table\":[{\"cells\":{\"fill\":{\"color\":\"#EBF0F8\"},\"line\":{\"color\":\"white\"}},\"header\":{\"fill\":{\"color\":\"#C8D4E3\"},\"line\":{\"color\":\"white\"}},\"type\":\"table\"}],\"barpolar\":[{\"marker\":{\"line\":{\"color\":\"white\",\"width\":0.5},\"pattern\":{\"fillmode\":\"overlay\",\"size\":10,\"solidity\":0.2}},\"type\":\"barpolar\"}],\"pie\":[{\"automargin\":true,\"type\":\"pie\"}]},\"layout\":{\"autotypenumbers\":\"strict\",\"colorway\":[\"#636efa\",\"#EF553B\",\"#00cc96\",\"#ab63fa\",\"#FFA15A\",\"#19d3f3\",\"#FF6692\",\"#B6E880\",\"#FF97FF\",\"#FECB52\"],\"font\":{\"color\":\"#2a3f5f\"},\"hovermode\":\"closest\",\"hoverlabel\":{\"align\":\"left\"},\"paper_bgcolor\":\"white\",\"plot_bgcolor\":\"white\",\"polar\":{\"bgcolor\":\"white\",\"angularaxis\":{\"gridcolor\":\"#EBF0F8\",\"linecolor\":\"#EBF0F8\",\"ticks\":\"\"},\"radialaxis\":{\"gridcolor\":\"#EBF0F8\",\"linecolor\":\"#EBF0F8\",\"ticks\":\"\"}},\"ternary\":{\"bgcolor\":\"white\",\"aaxis\":{\"gridcolor\":\"#DFE8F3\",\"linecolor\":\"#A2B1C6\",\"ticks\":\"\"},\"baxis\":{\"gridcolor\":\"#DFE8F3\",\"linecolor\":\"#A2B1C6\",\"ticks\":\"\"},\"caxis\":{\"gridcolor\":\"#DFE8F3\",\"linecolor\":\"#A2B1C6\",\"ticks\":\"\"}},\"coloraxis\":{\"colorbar\":{\"outlinewidth\":0,\"ticks\":\"\"}},\"colorscale\":{\"sequential\":[[0.0,\"#0d0887\"],[0.1111111111111111,\"#46039f\"],[0.2222222222222222,\"#7201a8\"],[0.3333333333333333,\"#9c179e\"],[0.4444444444444444,\"#bd3786\"],[0.5555555555555556,\"#d8576b\"],[0.6666666666666666,\"#ed7953\"],[0.7777777777777778,\"#fb9f3a\"],[0.8888888888888888,\"#fdca26\"],[1.0,\"#f0f921\"]],\"sequentialminus\":[[0.0,\"#0d0887\"],[0.1111111111111111,\"#46039f\"],[0.2222222222222222,\"#7201a8\"],[0.3333333333333333,\"#9c179e\"],[0.4444444444444444,\"#bd3786\"],[0.5555555555555556,\"#d8576b\"],[0.6666666666666666,\"#ed7953\"],[0.7777777777777778,\"#fb9f3a\"],[0.8888888888888888,\"#fdca26\"],[1.0,\"#f0f921\"]],\"diverging\":[[0,\"#8e0152\"],[0.1,\"#c51b7d\"],[0.2,\"#de77ae\"],[0.3,\"#f1b6da\"],[0.4,\"#fde0ef\"],[0.5,\"#f7f7f7\"],[0.6,\"#e6f5d0\"],[0.7,\"#b8e186\"],[0.8,\"#7fbc41\"],[0.9,\"#4d9221\"],[1,\"#276419\"]]},\"xaxis\":{\"gridcolor\":\"#EBF0F8\",\"linecolor\":\"#EBF0F8\",\"ticks\":\"\",\"title\":{\"standoff\":15},\"zerolinecolor\":\"#EBF0F8\",\"automargin\":true,\"zerolinewidth\":2},\"yaxis\":{\"gridcolor\":\"#EBF0F8\",\"linecolor\":\"#EBF0F8\",\"ticks\":\"\",\"title\":{\"standoff\":15},\"zerolinecolor\":\"#EBF0F8\",\"automargin\":true,\"zerolinewidth\":2},\"scene\":{\"xaxis\":{\"backgroundcolor\":\"white\",\"gridcolor\":\"#DFE8F3\",\"linecolor\":\"#EBF0F8\",\"showbackground\":true,\"ticks\":\"\",\"zerolinecolor\":\"#EBF0F8\",\"gridwidth\":2},\"yaxis\":{\"backgroundcolor\":\"white\",\"gridcolor\":\"#DFE8F3\",\"linecolor\":\"#EBF0F8\",\"showbackground\":true,\"ticks\":\"\",\"zerolinecolor\":\"#EBF0F8\",\"gridwidth\":2},\"zaxis\":{\"backgroundcolor\":\"white\",\"gridcolor\":\"#DFE8F3\",\"linecolor\":\"#EBF0F8\",\"showbackground\":true,\"ticks\":\"\",\"zerolinecolor\":\"#EBF0F8\",\"gridwidth\":2}},\"shapedefaults\":{\"line\":{\"color\":\"#2a3f5f\"}},\"annotationdefaults\":{\"arrowcolor\":\"#2a3f5f\",\"arrowhead\":0,\"arrowwidth\":1},\"geo\":{\"bgcolor\":\"white\",\"landcolor\":\"white\",\"subunitcolor\":\"#C8D4E3\",\"showland\":true,\"showlakes\":true,\"lakecolor\":\"white\"},\"title\":{\"x\":0.05},\"mapbox\":{\"style\":\"light\"}}},\"xaxis\":{\"anchor\":\"y\",\"domain\":[0.0,1.0],\"title\":{\"text\":\"Real Maximum WBA (regional, 2023 base)\"}},\"yaxis\":{\"anchor\":\"x\",\"domain\":[0.0,1.0],\"title\":{\"text\":\"Recipiency Rate\"}},\"legend\":{\"tracegroupgap\":0},\"margin\":{\"t\":0,\"r\":0,\"l\":0,\"b\":0},\"height\":300,\"width\":500},                        {\"responsive\": true}                    ).then(function(){\n",
       "                            \n",
       "var gd = document.getElementById('a1b76c70-3d3d-44c9-83d9-e8cfa2f2c48f');\n",
       "var x = new MutationObserver(function (mutations, observer) {{\n",
       "        var display = window.getComputedStyle(gd).display;\n",
       "        if (!display || display === 'none') {{\n",
       "            console.log([gd, 'removed!']);\n",
       "            Plotly.purge(gd);\n",
       "            observer.disconnect();\n",
       "        }}\n",
       "}});\n",
       "\n",
       "// Listen for the removal of the full notebook cells\n",
       "var notebookContainer = gd.closest('#notebook-container');\n",
       "if (notebookContainer) {{\n",
       "    x.observe(notebookContainer, {childList: true});\n",
       "}}\n",
       "\n",
       "// Listen for the clearing of the current output cell\n",
       "var outputEl = gd.closest('.output');\n",
       "if (outputEl) {{\n",
       "    x.observe(outputEl, {childList: true});\n",
       "}}\n",
       "\n",
       "                        })                };                });            </script>        </div>"
      ]
     },
     "metadata": {},
     "output_type": "display_data"
    }
   ],
   "source": [
    "fig = px.scatter(data_frame = master,\n",
    "                 x = 'Real Maximum WBA (regional, 2023 base)',\n",
    "                 y = 'Recipiency Rate',\n",
    "                 width = 500,\n",
    "                 height = 300,\n",
    "                 trendline='ols')\n",
    "\n",
    "fig.update_layout(margin={\"r\":0,\"t\":0,\"l\":0,\"b\":0})\n",
    "fig.show()"
   ]
  },
  {
   "cell_type": "code",
   "execution_count": null,
   "id": "7e28dfd2-ce84-4507-886d-6d9d37164b95",
   "metadata": {},
   "outputs": [],
   "source": [
    "# changes in nominal wba against changes in recipiency rate "
   ]
  }
 ],
 "metadata": {
  "kernelspec": {
   "display_name": "Python 3 (ipykernel)",
   "language": "python",
   "name": "python3"
  },
  "language_info": {
   "codemirror_mode": {
    "name": "ipython",
    "version": 3
   },
   "file_extension": ".py",
   "mimetype": "text/x-python",
   "name": "python",
   "nbconvert_exporter": "python",
   "pygments_lexer": "ipython3",
   "version": "3.11.6"
  }
 },
 "nbformat": 4,
 "nbformat_minor": 5
}
